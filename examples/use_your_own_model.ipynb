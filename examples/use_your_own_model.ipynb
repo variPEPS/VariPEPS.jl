{
 "cells": [
  {
   "cell_type": "code",
   "execution_count": 1,
   "metadata": {},
   "outputs": [
    {
     "name": "stderr",
     "output_type": "stream",
     "text": [
      "WARNING: using ChainRulesCore.add!! in module KrylovKit conflicts with an existing identifier.\n"
     ]
    }
   ],
   "source": [
    "using VariPEPS\n",
    "using TensorKit\n",
    "using OptimKit\n"
   ]
  },
  {
   "cell_type": "markdown",
   "metadata": {},
   "source": [
    "In this notebook we show how to import your own model to be used in the `VariPEPS.jl` code. This will allow you to calculate expectation values as well as the gradient for variational optimization.\\\n",
    "For a basic introduction into the functions used in this notebook, first take a look at the `basic_functionality.ipynb` notebook."
   ]
  },
  {
   "cell_type": "markdown",
   "metadata": {},
   "source": [
    "Specify the Bond-dimension `d`, the environment-bond-dimension `χ`. "
   ]
  },
  {
   "cell_type": "code",
   "execution_count": 2,
   "metadata": {},
   "outputs": [],
   "source": [
    "χ = 8\n",
    "d = 2;"
   ]
  },
  {
   "cell_type": "markdown",
   "metadata": {},
   "source": [
    "Here specify the unit cell. For this we define an array \"Pattern_arr\" that represents the unit cell structure.\\\n",
    "The structure is [x-coodinate, y-coordinate].\\\n",
    "If two positions within the Pattern_arr are filled with the same number, we assume the tensors at these positions to be identical.\\\n",
    "The choice below corresponds to a unit cell like:   \n",
    "A   B \\\n",
    "B   A"
   ]
  },
  {
   "cell_type": "code",
   "execution_count": 3,
   "metadata": {},
   "outputs": [],
   "source": [
    "Pattern_arr = Array{Any}(undef,2,2)\n",
    "\n",
    "Pattern_arr[1,1] = 1\n",
    "Pattern_arr[2,1] = 2\n",
    "Pattern_arr[1,2] = 2\n",
    "Pattern_arr[2,2] = 1;"
   ]
  },
  {
   "cell_type": "markdown",
   "metadata": {},
   "source": [
    "As an example we wish to use the J1J2-model. This model is already implemented in the code but we pretend here that we need to import it.\n",
    "\n",
    "Importing a model works via the keyword **model**. We can pass an array of functions that are then used for the calculation of the energy expectation value and for the calculation of observables of interest. \n",
    "Ham_parameters = ?\n",
    "\n",
    "\n",
    "\n",
    "Regarding the other keywords:\\\n",
    "**lattice**: tells us which lattice we use.\\\n",
    "**Projector_type**: During the CTMRG algorithm we need projectors. These can be choosen in different ways. Here we choose the :half option. An other more expensive choice would be :fullfishman.\\\n",
    "**Space_type**: Here we use ℂ.\n",
    "\n"
   ]
  },
  {
   "cell_type": "markdown",
   "metadata": {},
   "source": [
    "Now the user needs to create functions that create all the terms in the Hamiltonian that we want.\\\n",
    "The function `create_spin_onehalf_operators(; Space_type = ℂ)` just creates the local spin operators.\\\n",
    "\n",
    "The function `use_J1J2model_square_lattice(Ham_parameters, loc, pattern_arr; Space_type = ℂ)` takes several inputs:\n",
    "1. The Hamiltonian parameters that we have in the model in question. Here we have `J1` & `J2` which are the couplings of neighbors and next-neighbors.\\\n",
    "Further we have `h` and `dir` which can be specified in case we want to include an external magnetic field in a certain direction. The Hamiltonian parameters need to be passed in a `named tuple`- see below.\n",
    "2. We pass the local PEPS tensors. This is done in order that the model can automatically adjust itself to dimension of the local Hilbert space. Here we don't need it explicitly but for some other models (e.g. Bosons where one might want to limit the number of bosons per site) this is useful.\n",
    "3. The Pattern array of the PEPS ansatz we are making. This is used such that we could choose a Hamiltonian that differs on every site in our unit cell. Here we do not have such a case.\\\n",
    "\n",
    "Now after defining all the terms we want to use we pass them into an arrays. As we have multiple terms for every distinct tensor in our unit cell we again pass them together as a `named tuple`. For a local term we give the name `loc`. For the horizontal exchange term we have the name `hor`, for the vertiacal one `vert`, for the diagonal one in the up-right direction we have `diag_ur` while we have `diag_dr` for the diagonal term in the down-right direction. As mentioned above we create an array that gets contains such a named tuple for every distict tensor in the unit cell of our PEPS ansatz, such that they could in priniple be different.\n",
    "\n",
    "The function `observables_Heisenberg_model_square(ham_parameters, loc, pattern_arr; Space_type = ℂ)` creates some operators of which we want to get the expectation value for our state.\n"
   ]
  },
  {
   "cell_type": "code",
   "execution_count": 4,
   "metadata": {},
   "outputs": [
    {
     "data": {
      "text/plain": [
       "observables_Heisenberg_model_square (generic function with 1 method)"
      ]
     },
     "metadata": {},
     "output_type": "display_data"
    }
   ],
   "source": [
    "function create_spin_onehalf_operators(; Space_type = ℂ)\n",
    "    Dim_loc = 2\n",
    "    space_loc = Space_type^Dim_loc\n",
    "    \n",
    "    σ_p_mat =  [0 1 ; 0 0]\n",
    "    σ_m_mat =  [0 0 ; 1 0]\n",
    "    σ_z_mat =  0.5 * [1 0 ; 0 -1]\n",
    "    σ_y_mat =  0.5* [0 -1im ; 1im 0]\n",
    "    σ_x_mat =  0.5* [0 1 ; 1 0]\n",
    "    \n",
    "    σ_p = TensorMap(σ_p_mat, space_loc ← space_loc)\n",
    "    σ_m = TensorMap(σ_m_mat, space_loc ← space_loc)\n",
    "    σ_z = TensorMap(σ_z_mat, space_loc ← space_loc)\n",
    "    σ_y = TensorMap(σ_y_mat, space_loc ← space_loc)\n",
    "    σ_x = TensorMap(σ_x_mat, space_loc ← space_loc)\n",
    "    \n",
    "\n",
    "    return σ_x, σ_y, σ_z, σ_p, σ_m\n",
    "end\n",
    "\n",
    "function use_J1J2model_square_lattice(Ham_parameters, loc, pattern_arr; Space_type = ℂ)\n",
    "\n",
    "    h = Ham_parameters.h\n",
    "    J1 = Ham_parameters.J1\n",
    "    J2 = Ham_parameters.J2\n",
    "    dir = Ham_parameters.dir\n",
    "\n",
    "    σ_x, σ_y, σ_z, σ_p, σ_m = create_spin_onehalf_operators(; Space_type = Space_type)\n",
    "\n",
    "    #in this way the tensor is real valued.\n",
    "    @tensor int_term[(i, j);(k, l)] :=  (σ_p[i,k] * σ_m[j, l] + σ_m[i,k] * σ_p[j,l])/2 + (σ_z[i,k] * σ_z[j,l])\n",
    "\n",
    "    #add a local magnetic field if wanted\n",
    "    loc_term = h * (dir[1] *  σ_x + dir[2] * σ_y + dir[3] * σ_z)\n",
    "\n",
    "    vertical_term = J1 * int_term\n",
    "\n",
    "    horizontal_term = J1 * int_term\n",
    "\n",
    "    diag_ur_term = J2 * int_term\n",
    "\n",
    "    diag_dr_term = J2 * int_term\n",
    "\n",
    "    ham_term_arr = []\n",
    "\n",
    "    for i in minimum(pattern_arr):maximum(pattern_arr)\n",
    "        push!(ham_term_arr, (loc = loc_term, hor = horizontal_term, vert = vertical_term, diag_ur = diag_ur_term, diag_dr = diag_dr_term))\n",
    "    end\n",
    "\n",
    "    return ham_term_arr\n",
    "end\n",
    "\n",
    "function observables_Heisenberg_model_square(ham_parameters, loc, pattern_arr; Space_type = ℂ)\n",
    "\n",
    "    #here we build the creation an annihilation operators for the truncated local Hilbert spoace of the Bosons\n",
    "    σ_x, σ_y, σ_z, σ_p, σ_m = create_spin_onehalf_operators(; Space_type = Space_type);\n",
    "\n",
    "    #=\n",
    "    here we create an array of the local terms that we want to evaluate for every site in the unit cell.\n",
    "    =#\n",
    "\n",
    "    local_obs = [σ_x, σ_y, σ_z]\n",
    "                         \n",
    "    local_obs_arr = []\n",
    "\n",
    "    for i in minimum(pattern_arr):maximum(pattern_arr)\n",
    "        push!(local_obs_arr, (loc = local_obs))\n",
    "    end\n",
    "\n",
    "    return local_obs_arr\n",
    "end"
   ]
  },
  {
   "cell_type": "markdown",
   "metadata": {},
   "source": [
    "As illustrated below we just pass the two functions as elements in an array for the keyword **model**."
   ]
  },
  {
   "cell_type": "code",
   "execution_count": 5,
   "metadata": {},
   "outputs": [
    {
     "data": {
      "text/plain": [
       "(lattice = :square, model = Function[use_J1J2model_square_lattice, observables_Heisenberg_model_square], Ham_parameters = (J1 = 1, J2 = 0.1, h = 0, dir = [0, 0, 0]), Projector_type = :half, Space_type = ℂ)"
      ]
     },
     "metadata": {},
     "output_type": "display_data"
    }
   ],
   "source": [
    "keywords = (lattice = :square, model = [use_J1J2model_square_lattice, observables_Heisenberg_model_square], Ham_parameters = (J1 = 1, J2 = 0.1, h = 0 , dir = [0,0,0]), Projector_type = :half, Space_type = ℂ)"
   ]
  },
  {
   "cell_type": "markdown",
   "metadata": {},
   "source": [
    "We initialize some PEPS"
   ]
  },
  {
   "cell_type": "code",
   "execution_count": 6,
   "metadata": {},
   "outputs": [],
   "source": [
    "loc_in = initialize_PEPS(d, 2, 2; seed = 1234, lattice = :square, Number_type = Float64, Space_type = ℂ); "
   ]
  },
  {
   "cell_type": "markdown",
   "metadata": {},
   "source": [
    "We can perform the ctmrg-algorithm. If we put `observ = true` we are getting the obersables we specified in the function `observables_Heisenberg_model_square()` above."
   ]
  },
  {
   "cell_type": "code",
   "execution_count": 7,
   "metadata": {},
   "outputs": [
    {
     "data": {
      "text/plain": [
       "(0.05503212233854634, Any[-0.09524823091670581 + 8.99290180336417e-20im, -3.613908504600495e-18 + 3.857567655684017e-17im, -0.07208749549113916 + 6.31833571631044e-20im, -0.06682629773073238 + 4.29383991935067e-20im, 1.2728166167830716e-18 - 2.812288837594631e-17im, -0.0938684714159903 - 1.4810548251617073e-20im])"
      ]
     },
     "metadata": {},
     "output_type": "display_data"
    }
   ],
   "source": [
    "ctmrg_res = ctmrg(loc_in, χ, Pattern_arr; keywords..., observ = true, conv_info = false)"
   ]
  },
  {
   "cell_type": "markdown",
   "metadata": {},
   "source": [
    "the function energy_and_gradient is needed for the variational optimization. It calculates the gradient at the fixed point of the CTM-RG iteration.\\\n",
    "It takes the same basic arguments as the function `ctmrg()`.\\\n",
    "It returns the the energy of the state as well as the gradient."
   ]
  },
  {
   "cell_type": "code",
   "execution_count": 8,
   "metadata": {},
   "outputs": [
    {
     "name": "stdout",
     "output_type": "stream",
     "text": [
      "Info: it took 17 CTMRG steps to converge the SV to 1.0e-6\n",
      "Info: it took 20 CTMRG steps to converge the environments element wise to 1e-6\n"
     ]
    },
    {
     "data": {
      "text/plain": [
       "(0.05503212131596593, TrivialTensorMap{ComplexSpace, 2, 3, Matrix{ComplexF64}}[TensorMap((ℂ^2 ⊗ ℂ^2) ← (ℂ^2 ⊗ ℂ^2 ⊗ (ℂ^2)')):\n",
       "[:, :, 1, 1, 1] =\n",
       " 0.022092388434419328 + 3.7430091939084497e-17im  …  -0.031810890875525334 - 2.0159031647367335e-17im\n",
       " 0.003847168088645914 - 4.195594476493727e-17im       -0.03689075400097619 + 1.2602700088835234e-16im\n",
       "\n",
       "[:, :, 2, 1, 1] =\n",
       " 0.005985911856981742 - 8.0825857045982e-17im    …  0.0031911906225355535 - 3.362662242062536e-17im\n",
       " 0.014130083399787906 - 3.067551678044346e-17im     -0.007886607780129349 + 7.845653153473242e-17im\n",
       "\n",
       "[:, :, 1, 2, 1] =\n",
       "  -0.012832979399945061 - 3.072231547042756e-17im  …   -0.02779826323412252 - 1.3750480956583178e-16im\n",
       " -0.0073605045010415515 + 8.68432710206598e-17im      -0.023201728323446063 - 5.1995991521752334e-17im\n",
       "\n",
       "[:, :, 2, 2, 1] =\n",
       "  0.002692020003974966 + 2.4803340791666508e-17im  …  -0.012217745988709615 - 8.660244967290019e-17im\n",
       " -0.009480838380660602 + 4.482512836780202e-17im      0.0068759666156520014 + 1.423755712209369e-17im\n",
       "\n",
       "[:, :, 1, 1, 2] =\n",
       "  0.028744712728437788 - 6.836172319358182e-18im  …  -0.036419462676424354 - 1.4044574856130935e-16im\n",
       " -0.002586179917186417 + 2.614229520120637e-16im      0.028984724395990872 - 7.648077159743969e-17im\n",
       "\n",
       "[:, :, 2, 1, 2] =\n",
       " 0.014675068449254626 + 3.005786932622875e-17im  …  -0.009614755220788711 - 6.765042179744163e-17im\n",
       " 0.009865180945209712 + 5.627648121888055e-17im     -0.030674152427674465 + 5.909266374038786e-17im\n",
       "\n",
       "[:, :, 1, 2, 2] =\n",
       " 0.025930928676294103 + 7.06437282602331e-17im   …   -0.06499892377861648 - 2.203714761998253e-16im\n",
       "  0.01031206319425287 - 6.908481198491267e-17im     -0.012255749138363099 + 2.4304096950867127e-17im\n",
       "\n",
       "[:, :, 2, 2, 2] =\n",
       " 0.00691349528214394 - 1.2829206749589864e-18im  …  -0.026019164554970293 - 8.548365469446875e-17im\n",
       " 0.00798332956876016 + 3.102191030162008e-17im      -0.013252345329342196 - 5.228665729756173e-18im\n",
       ", TensorMap((ℂ^2 ⊗ ℂ^2) ← (ℂ^2 ⊗ ℂ^2 ⊗ (ℂ^2)')):\n",
       "[:, :, 1, 1, 1] =\n",
       "   0.029482475173468803 - 7.792963874660596e-17im   …    0.07512578839280028 + 4.7561733969384065e-17im\n",
       " -0.0011314508937369215 + 5.0373585879814726e-17im     -0.014978630222018813 + 8.690853305844237e-17im\n",
       "\n",
       "[:, :, 2, 1, 1] =\n",
       "  0.0019776190206334233 + 1.4442842831427021e-16im  …   0.05754694643621389 - 2.594000228194423e-17im\n",
       " -0.0049430699623354574 - 1.2392477666879405e-16im     0.010773159706108608 + 1.8204040346271086e-16im\n",
       "\n",
       "[:, :, 1, 2, 1] =\n",
       " 0.0006372034567312001 + 2.10323619240998e-17im    …  -0.004492413862296123 + 3.0280938303806627e-17im\n",
       "   0.03466306469363797 - 1.8896829453764187e-17im      0.008302129887364406 + 2.9697141044511426e-17im\n",
       "\n",
       "[:, :, 2, 2, 1] =\n",
       "  0.008993737377207265 - 1.810387037535307e-17im   …  0.0003940486224743996 - 5.150375842036017e-17im\n",
       " -0.007974771836169115 - 1.1044806090777732e-18im      0.021083415077394838 - 9.038799393435733e-17im\n",
       "\n",
       "[:, :, 1, 1, 2] =\n",
       " -0.015476142310477461 + 3.2652045159185407e-17im  …  -0.04924817876012494 - 1.0546381854849348e-16im\n",
       "  0.014474182302816467 - 1.1333834672716075e-16im     0.004812600987409292 - 1.522632238731013e-16im\n",
       "\n",
       "[:, :, 2, 1, 2] =\n",
       " -0.01022919004373457 - 4.353269975179418e-17im  …  -0.01748090985937782 + 1.6723602158261215e-17im\n",
       "  0.03159677451421993 + 9.716523677855894e-17im      0.07012774661895904 + 1.5155743942016052e-17im\n",
       "\n",
       "[:, :, 1, 2, 2] =\n",
       " -0.014623898082066001 - 5.027850157306161e-17im   …  -0.0015083021985004058 - 5.90242107732043e-17im\n",
       "  0.011335718854936484 - 2.3154237088839594e-17im       0.002600881340030146 + 2.2452798153846577e-18im\n",
       "\n",
       "[:, :, 2, 2, 2] =\n",
       "   -0.01095824680707803 - 7.178133548529218e-18im  …     0.02265733626596484 - 9.53427487229899e-18im\n",
       " -0.0033341811123709006 - 4.686619920768245e-17im     -0.0053455607347907145 + 1.504117681906746e-17im\n",
       "], nothing, 20.0)"
      ]
     },
     "metadata": {},
     "output_type": "display_data"
    }
   ],
   "source": [
    "e, gr = energy_and_gradient(loc_in, χ, Pattern_arr; keywords...)"
   ]
  }
 ],
 "metadata": {
  "kernelspec": {
   "display_name": "Julia 1.10.2",
   "language": "julia",
   "name": "julia-1.10"
  },
  "language_info": {
   "file_extension": ".jl",
   "mimetype": "application/julia",
   "name": "julia",
   "version": "1.10.2"
  }
 },
 "nbformat": 4,
 "nbformat_minor": 4
}
