{
 "cells": [
  {
   "cell_type": "code",
   "execution_count": 3,
   "metadata": {},
   "outputs": [],
   "source": [
    "using VariPEPS\n",
    "using TensorKit\n",
    "using OptimKit\n",
    "#using JLD2 #needed?"
   ]
  },
  {
   "cell_type": "markdown",
   "metadata": {},
   "source": [
    "In this notebook we show the very basic functionality of the workhorse funtions of the `VariPEPS.jl` code"
   ]
  },
  {
   "cell_type": "markdown",
   "metadata": {},
   "source": [
    "Specify the Bond-dimension `d`, the environment-bond-dimension `χ`. "
   ]
  },
  {
   "cell_type": "code",
   "execution_count": 19,
   "metadata": {},
   "outputs": [
    {
     "data": {
      "text/plain": [
       "(lattice = :square, model = :Heisenberg_square, Ham_parameters = (J = 1, h = 0, dir = [0, 0, 0]), Projector_type = :half, Space_type = ℝ)"
      ]
     },
     "metadata": {},
     "output_type": "display_data"
    }
   ],
   "source": [
    "χ = 8\n",
    "d = 2"
   ]
  },
  {
   "cell_type": "markdown",
   "metadata": {},
   "source": [
    "Here specify the unit cell. For this we define an array \"Pattern_arr\" that represents the unit cell structure.\\\n",
    "The structure is [x-coodinate, y-coordinate].\\\n",
    "If two positions within the Pattern_arr are filled with the same number, we assume the tensors at these positions to be identical.\\\n",
    "The choice below corresponds to a unit cell like:   \n",
    "A   B \\\n",
    "B   A"
   ]
  },
  {
   "cell_type": "code",
   "execution_count": 24,
   "metadata": {},
   "outputs": [],
   "source": [
    "Pattern_arr = Array{Any}(undef,2,2)\n",
    "\n",
    "Pattern_arr[1,1] = 1\n",
    "Pattern_arr[2,1] = 2\n",
    "Pattern_arr[1,2] = 2\n",
    "Pattern_arr[2,2] = 1;"
   ]
  },
  {
   "cell_type": "markdown",
   "metadata": {},
   "source": [
    "For our first example we are going to look at the Heisenberg-antiferromagnet on the square lattice.\\\n",
    "Here we specify the keywords corresponding to this choice of model and lattice on in a tuple.\n",
    "\n",
    "Regarding the keywords:\\\n",
    "**lattice**: tells us which lattice we use.\\\n",
    "**model**: which Hamiltonian are we using.\\\n",
    "**Ham_parameters**: Give values for the parameters in the Hamiltonian. Here we choose an anti-ferromagnetic model (J=1) with no magnetic field term (h = 0) which points in no direction (dir = [0,0,0])\\\n",
    "**Projector_type**: During the CTMRG algorithm we need projectors. These can be choosen in different ways. Here we choose the :half option. An other more expensive choice would be :fullfishman.\\\n",
    "**Space_type**: This tells us what the basic vector space is that we want to work with. As we have a TRS model here we can choose a real wavefunction so we choose ℝ. Otherwise choose ℂ.\\"
   ]
  },
  {
   "cell_type": "code",
   "execution_count": 25,
   "metadata": {},
   "outputs": [
    {
     "data": {
      "text/plain": [
       "(lattice = :square, model = :Heisenberg_square, Ham_parameters = (J = 1, h = 0, dir = [0, 0, 0]), Projector_type = :half, Space_type = ℝ)"
      ]
     },
     "metadata": {},
     "output_type": "display_data"
    }
   ],
   "source": [
    "keywords = (lattice = :square, model = :Heisenberg_square, Ham_parameters = (J = 1, h = 0 , dir = [0,0,0]), Projector_type = :half, Space_type = ℝ)"
   ]
  },
  {
   "cell_type": "markdown",
   "metadata": {},
   "source": [
    "The functiion \n",
    "```\n",
    "initialize_PEPS()\n",
    "```\n",
    "initializes the PEPS-tensors. It takes 3 basic inputs:\n",
    "1. The first input is the Bond dimension, \n",
    "2. the second input is the dimension of the local Hilbert space, --> This is 2 in the current example, as we are dealing with a spin 1/2 system.\n",
    "3. the third one specified how many tensors need to be generated. --> In this example 2 since we have two inequivalent tensors in the unit cell.\n",
    "The additional keywords can be used to specify some addtional options.\n",
    "\n",
    "What is created here is just an array of TensorMaps with the right number of legs with the desired dimensionality.\n",
    "\n",
    "Note that we can also enforce local symmetries and only optimize on the parametes for the local tensors that have this symmetry. --> Add mini example later."
   ]
  },
  {
   "cell_type": "code",
   "execution_count": 26,
   "metadata": {},
   "outputs": [],
   "source": [
    "loc_in = initialize_PEPS(d, 2, 2; seed = 1234, lattice = :square, Number_type = Float64, Space_type = ℝ); "
   ]
  },
  {
   "cell_type": "markdown",
   "metadata": {},
   "source": [
    "The ctmrg function performs a CTM-RG algorithm. This means it calculates environment tensors and that uses those to calculate the energy density.\n",
    "If we put the option \n",
    "```\n",
    "conv_info = true\n",
    "```\n",
    "The function shows some output that idicates the status of the algorithm. \n",
    "\n",
    "The function takes as input the objects we created above: A set of local PEPS tensors (loc_in) as well as some information on the unit cell (Pattern_arr).\n",
    "It can also be used to evaluate some list of observables. For the Heisenberg model these are by default the spin matrices. However the user can also specify a list of alternative observables to calculate. *this works analogously to specifying your own model and is explained in a seperate notebook*. Note that if we want to get the expectation values of the spin matrices we need to choose Space_type = ℂ above as they are complex matrices.\n"
   ]
  },
  {
   "cell_type": "code",
   "execution_count": 27,
   "metadata": {},
   "outputs": [],
   "source": [
    "ctmrg_res = ctmrg(loc_in, χ, Pattern_arr; keywords..., observ = false, conv_info = false);"
   ]
  },
  {
   "cell_type": "markdown",
   "metadata": {},
   "source": [
    "Some comments on additional options (skip on first reading): \n",
    "\n",
    "1. With the option svd_type = :GKL one can enable the iterative calculation of the singular values in the CTMRG algorithm.\n",
    "This can be substantially faster for larger bond dimensions.\n",
    "Note that in some cases, the GKL algorithm, that can be used for the SVD in the calculation of the projectors finds invariant subspaces and fails. \n",
    "In these cases the code will fall back to conventional SVD algorithms.\n",
    "\n",
    "2. In the \"energy_and_gradient\" function as well as in the \"ctmrg\" function we have a keyword \"adjust_χ\" which is by default set to false. In that case the \n",
    "function works normally. However if we do not set the keyword to false but give instead a tuple, during the CTMRG routine the algorithm automatically increases the bond dimension\n",
    "up to a maximal value \"χ_max\". This happens whenever the truncation error \"err_trunc\" that we obtain in the creation of the projectors is larger than a choosen tolerance err_tol.\n",
    "Thus we set the keyword to \"adjust_χ = (err_tol, χ_max)\" in case we want the bond dimension to be increased during the optimization.\n",
    "\n",
    "3. You can also return the environment tensors, if you want to use them further. For this just pass the keyword `return_envs = true`. This will return an array of environments, one for every distinct tensor in your unit cell. The environments themselves are `named tuples` and the enviornments are named after their direction (l - left, d- down, r- right, u- up).\n",
    "\n",
    "For a state, obtained after a few optimization steps of the Heisenberg model we look at the truncation errors as \n",
    "a function of the bond dimension - with the corresponding energy. The upper block is for the \"fullfishman\"-projectors\n",
    "while the lower block is for the \"half\"-projectors. We conclude from the convergence of the energy-expectation values\n",
    "that a maximal trunctation error of ~10^-3 is a reasonable starting point. It can always be chosen more stricly.\n",
    "\n",
    "```E = -0.6603737287187401 @ χ = 80, maximum(trunc_sv_arr) = 5.975686042268443e-5 \n",
    "E = -0.6603737358938596 @ χ = 60, maximum(trunc_sv_arr) = 0.00012481759922763688\n",
    "E = -0.6603737799922393 @ χ = 40, maximum(trunc_sv_arr) = 0.00031194042937930866\n",
    "E = -0.6603736187795066 @ χ = 30, maximum(trunc_sv_arr) = 0.0006405720791402293\n",
    "E = -0.6603724597506875 @ χ = 26, maximum(trunc_sv_arr) = 0.0009362616891090525\n",
    "E = -0.6603639207050201 @ χ = 20, maximum(trunc_sv_arr) = 0.0020002907780533145\n",
    "E = -0.6603793732337668 @ χ = 16, maximum(trunc_sv_arr) = 0.003927764975811235\n",
    "\n",
    "\n",
    "E = -0.6603737141782002 @ χ = 80, maximum(trunc_sv_arr) = 8.859010589321488e-5\n",
    "E = -0.6603736039935315 @ χ = 60, maximum(trunc_sv_arr) = 0.00018689030517925998\n",
    "E = -0.6603739415374238 @ χ = 40, maximum(trunc_sv_arr) = 0.0004921465970557896\n",
    "E = -0.6603749442733124 @ χ = 30, maximum(trunc_sv_arr) = 0.0011953646129798726\n",
    "E = -0.6603675868543281 @ χ = 26, maximum(trunc_sv_arr) = 0.00172234383475717\n",
    "E = -0.6603589442727148 @ χ = 20, maximum(trunc_sv_arr) = 0.003446092986088426\n",
    "E = -0.6603566068572576 @ χ = 16, maximum(trunc_sv_arr) = 0.005807880961672133\n"
   ]
  },
  {
   "cell_type": "markdown",
   "metadata": {},
   "source": [
    "the function energy_and_gradient is needed for the variational optimization. It calculates the gradient at the fixed point of the CTM-RG iteration.\\\n",
    "It takes the same basic arguments as the function `ctmrg()`.\\\n",
    "It returns the the energy of the state as well as the gradient."
   ]
  },
  {
   "cell_type": "code",
   "execution_count": 29,
   "metadata": {},
   "outputs": [
    {
     "name": "stdout",
     "output_type": "stream",
     "text": [
      "Info: it took 17 CTMRG steps to converge the SV to 1.0e-6\n",
      "Info: it took 20 CTMRG steps to converge the environments element wise to 1e-6\n"
     ]
    },
    {
     "data": {
      "text/plain": [
       "(0.05392016652206766, TrivialTensorMap{CartesianSpace, 2, 3, Matrix{Float64}}[TensorMap((ℝ^2 ⊗ ℝ^2) ← (ℝ^2 ⊗ ℝ^2 ⊗ ℝ^2)):\n",
       "[:, :, 1, 1, 1] =\n",
       " -0.026745182795378804  0.03910334593294938\n",
       " -0.004844009175627444  0.03407857055761933\n",
       "\n",
       "[:, :, 2, 1, 1] =\n",
       " -0.007606129082713214  5.305578663837516e-5\n",
       " -0.00990158589415915   0.00318728623575104\n",
       "\n",
       "[:, :, 1, 2, 1] =\n",
       " 0.007464403167266437  0.03388851063106857\n",
       " 0.005249441385840623  0.024904563565411243\n",
       "\n",
       "[:, :, 2, 2, 1] =\n",
       " -0.005153846069420455   0.013650871126941197\n",
       "  0.011288042099019424  -0.006899707623968266\n",
       "\n",
       "[:, :, 1, 1, 2] =\n",
       " -0.024687418030581776   0.03194581365098644\n",
       "  0.002149564315433666  -0.029645506399048126\n",
       "\n",
       "[:, :, 2, 1, 2] =\n",
       " -0.012501424313207391  0.009147182632397843\n",
       " -0.008509595292237462  0.02765772783824432\n",
       "\n",
       "[:, :, 1, 2, 2] =\n",
       " -0.023499629673838143  0.056109219084534104\n",
       " -0.010050037362084733  0.010607865918429228\n",
       "\n",
       "[:, :, 2, 2, 2] =\n",
       " -0.005361656082292074  0.022449102892922786\n",
       " -0.006924499012987135  0.012874212813396263\n",
       ", TensorMap((ℝ^2 ⊗ ℝ^2) ← (ℝ^2 ⊗ ℝ^2 ⊗ ℝ^2)):\n",
       "[:, :, 1, 1, 1] =\n",
       "  0.02954255004209306     0.07163840623747396\n",
       " -0.0026912480945028485  -0.015586639809362375\n",
       "\n",
       "[:, :, 2, 1, 1] =\n",
       "  0.003330364119035767  0.05550612670355568\n",
       " -0.007935208066656322  0.004511059441350801\n",
       "\n",
       "[:, :, 1, 2, 1] =\n",
       " 0.0016059125180805582  -0.0035454322444611126\n",
       " 0.0327148024652315      0.008124510605309408\n",
       "\n",
       "[:, :, 2, 2, 1] =\n",
       "  0.007438255056145256  0.0011466410848733758\n",
       " -0.008342559227067019  0.019351601730902782\n",
       "\n",
       "[:, :, 1, 1, 2] =\n",
       " -0.011527126531660178  -0.040415098850660976\n",
       "  0.011991474575078494   0.006883834094277608\n",
       "\n",
       "[:, :, 2, 1, 2] =\n",
       " -0.007814116891784092  -0.014868281341563623\n",
       "  0.028204989128374672   0.06916977851248074\n",
       "\n",
       "[:, :, 1, 2, 2] =\n",
       " -0.014079106857029337  -0.004083785890939419\n",
       "  0.009434733324556141   0.002812077350445256\n",
       "\n",
       "[:, :, 2, 2, 2] =\n",
       " -0.012508377152194395    0.02078634761171363\n",
       " -0.0032729279482107605  -0.005200534533527443\n",
       "], nothing, 20.0)"
      ]
     },
     "metadata": {},
     "output_type": "display_data"
    }
   ],
   "source": [
    "e, gr = energy_and_gradient(loc_in, χ, Pattern_arr; keywords...)"
   ]
  },
  {
   "cell_type": "markdown",
   "metadata": {},
   "source": [
    "Some additional notes (skip on first reading):\n",
    "\n",
    "1. With the option svd_type = :GKL one can enable the iterative calculation of the singular values during the CTMRG algorithm.\n",
    "This can be substantially faster for larger bond dimensions.\n",
    "Note that in some cases, the GKL algorithm, that can be used for the SVD in the calculation of the projectors finds invariant subspaces and fails. \n",
    "In these cases the code will fall back to conventional SVD algorithms.\n",
    "\n",
    "In the \"energy_and_gradient\" function as well as in the \"ctmrg\" function we have a keyword \"adjust_χ\" which is by default set to false. In that case the \n",
    "function works normally. However if we do not set the keyword to false but give instead a tuple, during the CTMRG routine the algorithm automatically increases the bond dimension\n",
    "up to a maximal value \"χ_max\". This happens whenever the truncation error \"err_trunc\" that we obtain in the creation of the projectors is larger than a choosen tolerance err_tol.\n",
    "Thus we set the keyword to \"adjust_χ = (err_tol, χ_max)\" in case we want the bond dimension to be increased during the optimization.\n",
    "\n",
    "Now there are two ways to call the \"energy_and_gradient\" function.\\\n",
    "you can use:\\\n",
    "1. e, gr = energy_and_gradient(loc_in, χ, Pattern_arr; keywords...)\\\n",
    "This version is the standart version. It takes a (local PEPS, environment bond dimension, a pattern array for the unit cell; a bunch of keywords)\n",
    "\n",
    "2. e, gr = energy_and_gradient(loc_in, χ, Pattern_arr, keywords; adjust_χ = false)\\\n",
    "In this version the only thing to be specified by keyword is \"adjust_χ\" which is either false of (max_χ, tol)\\\n",
    "TWO IMPORTANT CAVEATS:\\\n",
    "a) in this case χ needs to be an array as [χ]. This is needed for dynamical increase of χ (it needs to be a mutable type e.g. array)\\\n",
    "b) We can still specify the options that were previously specified by keywords. We just pass a tuple (named tuple actually) that contains the keywords we want\\\n",
    "to specify.\\\n",
    "THE SECOND OPTION IS JUST A WRAPPER AROUND THE FIRST VERSION WHICH RETURNS THE ADJUSTED χ VALUE IF IT IS INCREASED. THIS IS NEEDED FOR DYNAMICAL χ INCREASE.\\\n"
   ]
  },
  {
   "cell_type": "markdown",
   "metadata": {},
   "source": [
    "Now we should the above functions to variationally find the best d=2 approximation to the ground state of the Heisenberg antiferromagnet.\n",
    "\n",
    "For this we can use gradient based optimizers like L-BFGS. They are implemented in different packages, here we use OptimKit.jl. (an alternative would be Optim.jl)\\\n",
    "for the optimization we need the following two functions:"
   ]
  },
  {
   "cell_type": "code",
   "execution_count": 34,
   "metadata": {},
   "outputs": [
    {
     "data": {
      "text/plain": [
       "_inner (generic function with 1 method)"
      ]
     },
     "metadata": {},
     "output_type": "display_data"
    }
   ],
   "source": [
    "function _finalize!(x,f,g, numiter)\n",
    "    \n",
    "    \n",
    "    flush(stdout) #this just makes it so the output does not appear all at once.\n",
    "    flush(stderr)\n",
    "\n",
    "    \n",
    "    #here we could save e.g. intermediate output.\n",
    "    \n",
    "    return x, f, g\n",
    "end\n",
    "\n",
    "function _inner(x, ξ_1, ξ_2)\n",
    "    return dot(real(ξ_1), real(ξ_2)) + dot(imag(ξ_1), imag(ξ_2))\n",
    "end"
   ]
  },
  {
   "cell_type": "markdown",
   "metadata": {},
   "source": [
    "we specify the parameters that are used in the optimization. "
   ]
  },
  {
   "cell_type": "code",
   "execution_count": 37,
   "metadata": {},
   "outputs": [
    {
     "data": {
      "text/plain": [
       "(finalize! = _finalize!, inner = _inner)"
      ]
     },
     "metadata": {},
     "output_type": "display_data"
    }
   ],
   "source": [
    "optimparas1 = (gradtol = 1e-5, verbosity = 2, maxiter = 100, linesearch = HagerZhangLineSearch(; c₁ = 1e-4, c₂ = 0.9, maxiter = 40))\n",
    "kwargs = (finalize! = _finalize!, inner = _inner)"
   ]
  },
  {
   "cell_type": "markdown",
   "metadata": {},
   "source": [
    "Here we call the function that optimizes based on our gradient function.\\\n",
    "This function returns the approximation to the ground state `x` found in this procedure, the ground state energy `e` as well as information on the convergence.\\\n",
    "Below we plot some of the results."
   ]
  },
  {
   "cell_type": "code",
   "execution_count": 41,
   "metadata": {},
   "outputs": [
    {
     "name": "stdout",
     "output_type": "stream",
     "text": [
      "Info: it took 17 CTMRG steps to converge the SV to 1.0e-6\n",
      "Info: it took 20 CTMRG steps to converge the environments element wise to 1e-6\n"
     ]
    },
    {
     "name": "stderr",
     "output_type": "stream",
     "text": [
      "┌ Info: LBFGS: initializing with f = 0.053920166522, ‖∇f‖ = 1.8419e-01\n",
      "└ @ OptimKit /home/elw/.julia/packages/OptimKit/xpmbV/src/lbfgs.jl:35\n"
     ]
    },
    {
     "name": "stdout",
     "output_type": "stream",
     "text": [
      "Info: it took 15 CTMRG steps to converge the SV to 1.0e-6\n",
      "Info: it took 19 CTMRG steps to converge the environments element wise to 1e-6\n"
     ]
    },
    {
     "name": "stderr",
     "output_type": "stream",
     "text": [
      "┌ Info: LBFGS: iter    1: f = -0.106304007309, ‖∇f‖ = 2.9021e-01, α = 1.00e+00, m = 0, nfg = 1\n",
      "└ @ OptimKit /home/elw/.julia/packages/OptimKit/xpmbV/src/lbfgs.jl:76\n"
     ]
    },
    {
     "name": "stdout",
     "output_type": "stream",
     "text": [
      "Info: it took 13 CTMRG steps to converge the SV to 1.0e-6\n",
      "Info: it took 16 CTMRG steps to converge the environments element wise to 1e-6\n",
      "Info: it took 9 CTMRG steps to converge the SV to 1.0e-6\n",
      "Info: it took 12 CTMRG steps to converge the environments element wise to 1e-6\n"
     ]
    },
    {
     "name": "stderr",
     "output_type": "stream",
     "text": [
      "┌ Info: LBFGS: iter    2: f = -0.455631941256, ‖∇f‖ = 3.3219e-01, α = 1.00e+00, m = 1, nfg = 1\n",
      "└ @ OptimKit /home/elw/.julia/packages/OptimKit/xpmbV/src/lbfgs.jl:76\n"
     ]
    },
    {
     "name": "stdout",
     "output_type": "stream",
     "text": [
      "Info: it took 10 CTMRG steps to converge the SV to 1.0e-6\n",
      "Info: it took 12 CTMRG steps to converge the environments element wise to 1e-6\n"
     ]
    },
    {
     "name": "stderr",
     "output_type": "stream",
     "text": [
      "┌ Info: LBFGS: iter    3: f = -0.482478846914, ‖∇f‖ = 1.4418e-01, α = 1.00e+00, m = 2, nfg = 1\n",
      "└ @ OptimKit /home/elw/.julia/packages/OptimKit/xpmbV/src/lbfgs.jl:76\n"
     ]
    },
    {
     "name": "stdout",
     "output_type": "stream",
     "text": [
      "Info: it took 10 CTMRG steps to converge the SV to 1.0e-6\n",
      "Info: it took 13 CTMRG steps to converge the environments element wise to 1e-6\n"
     ]
    },
    {
     "name": "stderr",
     "output_type": "stream",
     "text": [
      "┌ Info: LBFGS: iter    4: f = -0.550754442519, ‖∇f‖ = 5.2274e-02, α = 1.00e+00, m = 3, nfg = 1\n",
      "└ @ OptimKit /home/elw/.julia/packages/OptimKit/xpmbV/src/lbfgs.jl:76\n"
     ]
    },
    {
     "name": "stdout",
     "output_type": "stream",
     "text": [
      "Info: it took 10 CTMRG steps to converge the SV to 1.0e-6\n",
      "Info: it took 12 CTMRG steps to converge the environments element wise to 1e-6\n"
     ]
    },
    {
     "name": "stderr",
     "output_type": "stream",
     "text": [
      "┌ Info: LBFGS: iter    5: f = -0.567339406854, ‖∇f‖ = 3.5640e-02, α = 1.00e+00, m = 4, nfg = 1\n",
      "└ @ OptimKit /home/elw/.julia/packages/OptimKit/xpmbV/src/lbfgs.jl:76\n"
     ]
    },
    {
     "name": "stdout",
     "output_type": "stream",
     "text": [
      "Info: it took 9 CTMRG steps to converge the SV to 1.0e-6\n",
      "Info: it took 11 CTMRG steps to converge the environments element wise to 1e-6\n"
     ]
    },
    {
     "name": "stderr",
     "output_type": "stream",
     "text": [
      "┌ Info: LBFGS: iter    6: f = -0.579901683573, ‖∇f‖ = 3.6374e-02, α = 1.00e+00, m = 5, nfg = 1\n",
      "└ @ OptimKit /home/elw/.julia/packages/OptimKit/xpmbV/src/lbfgs.jl:76\n"
     ]
    },
    {
     "name": "stdout",
     "output_type": "stream",
     "text": [
      "Info: it took 8 CTMRG steps to converge the SV to 1.0e-6\n"
     ]
    },
    {
     "name": "stderr",
     "output_type": "stream",
     "text": [
      "┌ Info: LBFGS: iter    7: f = -0.595473084173, ‖∇f‖ = 3.5882e-02, α = 1.00e+00, m = 6, nfg = 1\n",
      "└ @ OptimKit /home/elw/.julia/packages/OptimKit/xpmbV/src/lbfgs.jl:76\n"
     ]
    },
    {
     "name": "stdout",
     "output_type": "stream",
     "text": [
      "Info: it took 12 CTMRG steps to converge the environments element wise to 1e-6\n",
      "Info: it took 9 CTMRG steps to converge the SV to 1.0e-6\n",
      "Info: it took 12 CTMRG steps to converge the environments element wise to 1e-6\n"
     ]
    },
    {
     "name": "stderr",
     "output_type": "stream",
     "text": [
      "┌ Info: LBFGS: iter    8: f = -0.611055003303, ‖∇f‖ = 4.1346e-02, α = 1.00e+00, m = 7, nfg = 1\n",
      "└ @ OptimKit /home/elw/.julia/packages/OptimKit/xpmbV/src/lbfgs.jl:76\n"
     ]
    },
    {
     "name": "stdout",
     "output_type": "stream",
     "text": [
      "Info: it took 8 CTMRG steps to converge the SV to 1.0e-6\n",
      "Info: it took 11 CTMRG steps to converge the environments element wise to 1e-6\n"
     ]
    },
    {
     "name": "stderr",
     "output_type": "stream",
     "text": [
      "┌ Info: LBFGS: iter    9: f = -0.624842137266, ‖∇f‖ = 3.6961e-02, α = 1.00e+00, m = 8, nfg = 1\n",
      "└ @ OptimKit /home/elw/.julia/packages/OptimKit/xpmbV/src/lbfgs.jl:76\n"
     ]
    },
    {
     "name": "stdout",
     "output_type": "stream",
     "text": [
      "Info: it took 8 CTMRG steps to converge the SV to 1.0e-6\n"
     ]
    },
    {
     "name": "stderr",
     "output_type": "stream",
     "text": [
      "┌ Info: LBFGS: iter   10: f = -0.637769496867, ‖∇f‖ = 2.5932e-02, α = 1.00e+00, m = 9, nfg = 1\n",
      "└ @ OptimKit /home/elw/.julia/packages/OptimKit/xpmbV/src/lbfgs.jl:76\n"
     ]
    },
    {
     "name": "stdout",
     "output_type": "stream",
     "text": [
      "Info: it took 10 CTMRG steps to converge the environments element wise to 1e-6\n",
      "Info: it took 7 CTMRG steps to converge the SV to 1.0e-6\n",
      "Info: it took 9 CTMRG steps to converge the environments element wise to 1e-6\n"
     ]
    },
    {
     "name": "stderr",
     "output_type": "stream",
     "text": [
      "┌ Info: LBFGS: iter   11: f = -0.644761625713, ‖∇f‖ = 1.7367e-02, α = 1.00e+00, m = 10, nfg = 1\n",
      "└ @ OptimKit /home/elw/.julia/packages/OptimKit/xpmbV/src/lbfgs.jl:76\n"
     ]
    },
    {
     "name": "stdout",
     "output_type": "stream",
     "text": [
      "Info: it took 7 CTMRG steps to converge the SV to 1.0e-6\n",
      "Info: it took 9 CTMRG steps to converge the environments element wise to 1e-6\n"
     ]
    },
    {
     "name": "stderr",
     "output_type": "stream",
     "text": [
      "┌ Info: LBFGS: iter   12: f = -0.649377047060, ‖∇f‖ = 1.0188e-02, α = 1.00e+00, m = 11, nfg = 1\n",
      "└ @ OptimKit /home/elw/.julia/packages/OptimKit/xpmbV/src/lbfgs.jl:76\n"
     ]
    },
    {
     "name": "stdout",
     "output_type": "stream",
     "text": [
      "Info: it took 7 CTMRG steps to converge the SV to 1.0e-6\n",
      "Info: it took 8 CTMRG steps to converge the environments element wise to 1e-6\n"
     ]
    },
    {
     "name": "stderr",
     "output_type": "stream",
     "text": [
      "┌ Info: LBFGS: iter   13: f = -0.652226196109, ‖∇f‖ = 7.9556e-03, α = 1.00e+00, m = 12, nfg = 1\n",
      "└ @ OptimKit /home/elw/.julia/packages/OptimKit/xpmbV/src/lbfgs.jl:76\n"
     ]
    },
    {
     "name": "stdout",
     "output_type": "stream",
     "text": [
      "Info: it took 7 CTMRG steps to converge the SV to 1.0e-6\n",
      "Info: it took 9 CTMRG steps to converge the environments element wise to 1e-6\n"
     ]
    },
    {
     "name": "stderr",
     "output_type": "stream",
     "text": [
      "┌ Info: LBFGS: iter   14: f = -0.655358184376, ‖∇f‖ = 5.8175e-03, α = 1.00e+00, m = 13, nfg = 1\n",
      "└ @ OptimKit /home/elw/.julia/packages/OptimKit/xpmbV/src/lbfgs.jl:76\n"
     ]
    },
    {
     "name": "stdout",
     "output_type": "stream",
     "text": [
      "Info: it took 7 CTMRG steps to converge the SV to 1.0e-6\n",
      "Info: it took 10 CTMRG steps to converge the environments element wise to 1e-6\n"
     ]
    },
    {
     "name": "stderr",
     "output_type": "stream",
     "text": [
      "┌ Info: LBFGS: iter   15: f = -0.657005274109, ‖∇f‖ = 3.7773e-03, α = 1.00e+00, m = 14, nfg = 1\n",
      "└ @ OptimKit /home/elw/.julia/packages/OptimKit/xpmbV/src/lbfgs.jl:76\n"
     ]
    },
    {
     "name": "stdout",
     "output_type": "stream",
     "text": [
      "Info: it took 6 CTMRG steps to converge the SV to 1.0e-6\n",
      "Info: it took 10 CTMRG steps to converge the environments element wise to 1e-6\n"
     ]
    },
    {
     "name": "stderr",
     "output_type": "stream",
     "text": [
      "┌ Info: LBFGS: iter   16: f = -0.657688523572, ‖∇f‖ = 6.2259e-03, α = 1.00e+00, m = 15, nfg = 1\n",
      "└ @ OptimKit /home/elw/.julia/packages/OptimKit/xpmbV/src/lbfgs.jl:76\n"
     ]
    },
    {
     "name": "stdout",
     "output_type": "stream",
     "text": [
      "Info: it took 6 CTMRG steps to converge the SV to 1.0e-6\n",
      "Info: it took 9 CTMRG steps to converge the environments element wise to 1e-6\n"
     ]
    },
    {
     "name": "stderr",
     "output_type": "stream",
     "text": [
      "┌ Info: LBFGS: iter   17: f = -0.658424793267, ‖∇f‖ = 2.5945e-03, α = 1.00e+00, m = 15, nfg = 1\n",
      "└ @ OptimKit /home/elw/.julia/packages/OptimKit/xpmbV/src/lbfgs.jl:76\n"
     ]
    },
    {
     "name": "stdout",
     "output_type": "stream",
     "text": [
      "Info: it took 7 CTMRG steps to converge the SV to 1.0e-6\n",
      "Info: it took 9 CTMRG steps to converge the environments element wise to 1e-6\n"
     ]
    },
    {
     "name": "stderr",
     "output_type": "stream",
     "text": [
      "┌ Info: LBFGS: iter   18: f = -0.658762753401, ‖∇f‖ = 2.4668e-03, α = 1.00e+00, m = 15, nfg = 1\n",
      "└ @ OptimKit /home/elw/.julia/packages/OptimKit/xpmbV/src/lbfgs.jl:76\n"
     ]
    },
    {
     "name": "stdout",
     "output_type": "stream",
     "text": [
      "Info: it took 7 CTMRG steps to converge the SV to 1.0e-6\n",
      "Info: it took 9 CTMRG steps to converge the environments element wise to 1e-6\n"
     ]
    },
    {
     "name": "stderr",
     "output_type": "stream",
     "text": [
      "┌ Info: LBFGS: iter   19: f = -0.659104370843, ‖∇f‖ = 2.1589e-03, α = 1.00e+00, m = 15, nfg = 1\n",
      "└ @ OptimKit /home/elw/.julia/packages/OptimKit/xpmbV/src/lbfgs.jl:76\n"
     ]
    },
    {
     "name": "stdout",
     "output_type": "stream",
     "text": [
      "Info: it took 8 CTMRG steps to converge the SV to 1.0e-6\n",
      "Info: it took 9 CTMRG steps to converge the environments element wise to 1e-6\n"
     ]
    },
    {
     "name": "stderr",
     "output_type": "stream",
     "text": [
      "┌ Info: LBFGS: iter   20: f = -0.659401811556, ‖∇f‖ = 4.4613e-03, α = 1.00e+00, m = 15, nfg = 1\n",
      "└ @ OptimKit /home/elw/.julia/packages/OptimKit/xpmbV/src/lbfgs.jl:76\n"
     ]
    },
    {
     "name": "stdout",
     "output_type": "stream",
     "text": [
      "Info: it took 8 CTMRG steps to converge the SV to 1.0e-6\n",
      "Info: it took 10 CTMRG steps to converge the environments element wise to 1e-6\n"
     ]
    },
    {
     "name": "stderr",
     "output_type": "stream",
     "text": [
      "┌ Info: LBFGS: iter   21: f = -0.659714382824, ‖∇f‖ = 1.7310e-03, α = 1.00e+00, m = 15, nfg = 1\n",
      "└ @ OptimKit /home/elw/.julia/packages/OptimKit/xpmbV/src/lbfgs.jl:76\n"
     ]
    },
    {
     "name": "stdout",
     "output_type": "stream",
     "text": [
      "Info: it took 8 CTMRG steps to converge the SV to 1.0e-6\n",
      "Info: it took 10 CTMRG steps to converge the environments element wise to 1e-6\n"
     ]
    },
    {
     "name": "stderr",
     "output_type": "stream",
     "text": [
      "┌ Info: LBFGS: iter   22: f = -0.659901238993, ‖∇f‖ = 2.0603e-03, α = 1.00e+00, m = 15, nfg = 1\n",
      "└ @ OptimKit /home/elw/.julia/packages/OptimKit/xpmbV/src/lbfgs.jl:76\n"
     ]
    },
    {
     "name": "stdout",
     "output_type": "stream",
     "text": [
      "Info: it took 8 CTMRG steps to converge the SV to 1.0e-6\n",
      "Info: it took 10 CTMRG steps to converge the environments element wise to 1e-6\n"
     ]
    },
    {
     "name": "stderr",
     "output_type": "stream",
     "text": [
      "┌ Info: LBFGS: iter   23: f = -0.660213444672, ‖∇f‖ = 2.5602e-03, α = 1.00e+00, m = 15, nfg = 1\n",
      "└ @ OptimKit /home/elw/.julia/packages/OptimKit/xpmbV/src/lbfgs.jl:76\n"
     ]
    },
    {
     "name": "stdout",
     "output_type": "stream",
     "text": [
      "Info: it took 8 CTMRG steps to converge the SV to 1.0e-6\n",
      "Info: it took 10 CTMRG steps to converge the environments element wise to 1e-6\n"
     ]
    },
    {
     "name": "stderr",
     "output_type": "stream",
     "text": [
      "┌ Info: LBFGS: iter   24: f = -0.660597096154, ‖∇f‖ = 2.1643e-03, α = 1.00e+00, m = 15, nfg = 1\n",
      "└ @ OptimKit /home/elw/.julia/packages/OptimKit/xpmbV/src/lbfgs.jl:76\n"
     ]
    },
    {
     "name": "stdout",
     "output_type": "stream",
     "text": [
      "Info: it took 8 CTMRG steps to converge the SV to 1.0e-6\n",
      "Info: it took 10 CTMRG steps to converge the environments element wise to 1e-6\n",
      "Info: it took 8 CTMRG steps to converge the SV to 1.0e-6\n",
      "Info: it took 10 CTMRG steps to converge the environments element wise to 1e-6\n"
     ]
    },
    {
     "name": "stderr",
     "output_type": "stream",
     "text": [
      "┌ Info: LBFGS: iter   25: f = -0.660707064223, ‖∇f‖ = 1.8077e-03, α = 4.10e-01, m = 15, nfg = 2\n",
      "└ @ OptimKit /home/elw/.julia/packages/OptimKit/xpmbV/src/lbfgs.jl:76\n"
     ]
    },
    {
     "name": "stdout",
     "output_type": "stream",
     "text": [
      "Info: it took 8 CTMRG steps to converge the SV to 1.0e-6\n",
      "Info: it took 10 CTMRG steps to converge the environments element wise to 1e-6\n"
     ]
    },
    {
     "name": "stderr",
     "output_type": "stream",
     "text": [
      "┌ Info: LBFGS: iter   26: f = -0.660811480742, ‖∇f‖ = 1.0295e-03, α = 1.00e+00, m = 15, nfg = 1\n",
      "└ @ OptimKit /home/elw/.julia/packages/OptimKit/xpmbV/src/lbfgs.jl:76\n"
     ]
    },
    {
     "name": "stdout",
     "output_type": "stream",
     "text": [
      "Info: it took 8 CTMRG steps to converge the SV to 1.0e-6\n",
      "Info: it took 10 CTMRG steps to converge the environments element wise to 1e-6\n"
     ]
    },
    {
     "name": "stderr",
     "output_type": "stream",
     "text": [
      "┌ Info: LBFGS: iter   27: f = -0.660889071076, ‖∇f‖ = 1.2349e-03, α = 1.00e+00, m = 15, nfg = 1\n",
      "└ @ OptimKit /home/elw/.julia/packages/OptimKit/xpmbV/src/lbfgs.jl:76\n",
      "┌ Info: LBFGS: iter   28: f = -0.660992009704, ‖∇f‖ = 1.5534e-03, α = 1.00e+00, m = 15, nfg = 1\n",
      "└ @ OptimKit /home/elw/.julia/packages/OptimKit/xpmbV/src/lbfgs.jl:76\n"
     ]
    },
    {
     "name": "stdout",
     "output_type": "stream",
     "text": [
      "Info: it took 8 CTMRG steps to converge the SV to 1.0e-6\n",
      "Info: it took 11 CTMRG steps to converge the environments element wise to 1e-6\n",
      "Info: it took 8 CTMRG steps to converge the SV to 1.0e-6\n",
      "Info: it took 12 CTMRG steps to converge the environments element wise to 1e-6\n"
     ]
    },
    {
     "name": "stderr",
     "output_type": "stream",
     "text": [
      "┌ Info: LBFGS: iter   29: f = -0.661087433211, ‖∇f‖ = 1.5417e-03, α = 1.00e+00, m = 15, nfg = 1\n",
      "└ @ OptimKit /home/elw/.julia/packages/OptimKit/xpmbV/src/lbfgs.jl:76\n"
     ]
    },
    {
     "name": "stdout",
     "output_type": "stream",
     "text": [
      "Info: it took 8 CTMRG steps to converge the SV to 1.0e-6\n",
      "Info: it took 11 CTMRG steps to converge the environments element wise to 1e-6\n"
     ]
    },
    {
     "name": "stderr",
     "output_type": "stream",
     "text": [
      "┌ Info: LBFGS: iter   30: f = -0.661122882063, ‖∇f‖ = 1.4107e-03, α = 1.00e+00, m = 15, nfg = 1\n",
      "└ @ OptimKit /home/elw/.julia/packages/OptimKit/xpmbV/src/lbfgs.jl:76\n"
     ]
    },
    {
     "name": "stdout",
     "output_type": "stream",
     "text": [
      "Info: it took 8 CTMRG steps to converge the SV to 1.0e-6\n"
     ]
    },
    {
     "name": "stderr",
     "output_type": "stream",
     "text": [
      "┌ Info: LBFGS: iter   31: f = -0.661184325673, ‖∇f‖ = 5.3300e-04, α = 1.00e+00, m = 15, nfg = 1\n",
      "└ @ OptimKit /home/elw/.julia/packages/OptimKit/xpmbV/src/lbfgs.jl:76\n"
     ]
    },
    {
     "name": "stdout",
     "output_type": "stream",
     "text": [
      "Info: it took 11 CTMRG steps to converge the environments element wise to 1e-6\n",
      "Info: it took 8 CTMRG steps to converge the SV to 1.0e-6\n",
      "Info: it took 11 CTMRG steps to converge the environments element wise to 1e-6\n"
     ]
    },
    {
     "name": "stderr",
     "output_type": "stream",
     "text": [
      "┌ Info: LBFGS: iter   32: f = -0.661206168049, ‖∇f‖ = 5.9202e-04, α = 1.00e+00, m = 15, nfg = 1\n",
      "└ @ OptimKit /home/elw/.julia/packages/OptimKit/xpmbV/src/lbfgs.jl:76\n"
     ]
    },
    {
     "name": "stdout",
     "output_type": "stream",
     "text": [
      "Info: it took 9 CTMRG steps to converge the SV to 1.0e-6\n",
      "Info: it took 12 CTMRG steps to converge the environments element wise to 1e-6\n"
     ]
    },
    {
     "name": "stderr",
     "output_type": "stream",
     "text": [
      "┌ Info: LBFGS: iter   33: f = -0.661231178290, ‖∇f‖ = 6.1712e-04, α = 1.00e+00, m = 15, nfg = 1\n",
      "└ @ OptimKit /home/elw/.julia/packages/OptimKit/xpmbV/src/lbfgs.jl:76\n"
     ]
    },
    {
     "name": "stdout",
     "output_type": "stream",
     "text": [
      "Info: it took 9 CTMRG steps to converge the SV to 1.0e-6\n"
     ]
    },
    {
     "name": "stderr",
     "output_type": "stream",
     "text": [
      "┌ Info: LBFGS: iter   34: f = -0.661246524575, ‖∇f‖ = 1.3498e-03, α = 1.00e+00, m = 15, nfg = 1\n",
      "└ @ OptimKit /home/elw/.julia/packages/OptimKit/xpmbV/src/lbfgs.jl:76\n"
     ]
    },
    {
     "name": "stdout",
     "output_type": "stream",
     "text": [
      "Info: it took 12 CTMRG steps to converge the environments element wise to 1e-6\n",
      "Info: it took 9 CTMRG steps to converge the SV to 1.0e-6\n",
      "Info: it took 12 CTMRG steps to converge the environments element wise to 1e-6\n"
     ]
    },
    {
     "name": "stderr",
     "output_type": "stream",
     "text": [
      "┌ Info: LBFGS: iter   35: f = -0.661273579757, ‖∇f‖ = 4.9329e-04, α = 1.00e+00, m = 15, nfg = 1\n",
      "└ @ OptimKit /home/elw/.julia/packages/OptimKit/xpmbV/src/lbfgs.jl:76\n"
     ]
    },
    {
     "name": "stdout",
     "output_type": "stream",
     "text": [
      "Info: it took 9 CTMRG steps to converge the SV to 1.0e-6\n",
      "Info: it took 12 CTMRG steps to converge the environments element wise to 1e-6\n"
     ]
    },
    {
     "name": "stderr",
     "output_type": "stream",
     "text": [
      "┌ Info: LBFGS: iter   36: f = -0.661288083290, ‖∇f‖ = 5.1703e-04, α = 1.00e+00, m = 15, nfg = 1\n",
      "└ @ OptimKit /home/elw/.julia/packages/OptimKit/xpmbV/src/lbfgs.jl:76\n"
     ]
    },
    {
     "name": "stdout",
     "output_type": "stream",
     "text": [
      "Info: it took 8 CTMRG steps to converge the SV to 1.0e-6\n",
      "Info: it took 12 CTMRG steps to converge the environments element wise to 1e-6\n"
     ]
    },
    {
     "name": "stderr",
     "output_type": "stream",
     "text": [
      "┌ Info: LBFGS: iter   37: f = -0.661305191037, ‖∇f‖ = 7.0630e-04, α = 1.00e+00, m = 15, nfg = 1\n",
      "└ @ OptimKit /home/elw/.julia/packages/OptimKit/xpmbV/src/lbfgs.jl:76\n"
     ]
    },
    {
     "name": "stdout",
     "output_type": "stream",
     "text": [
      "Info: it took 9 CTMRG steps to converge the SV to 1.0e-6\n",
      "Info: it took 14 CTMRG steps to converge the environments element wise to 1e-6\n"
     ]
    },
    {
     "name": "stderr",
     "output_type": "stream",
     "text": [
      "┌ Info: LBFGS: iter   38: f = -0.661341925871, ‖∇f‖ = 1.0765e-03, α = 1.00e+00, m = 15, nfg = 1\n",
      "└ @ OptimKit /home/elw/.julia/packages/OptimKit/xpmbV/src/lbfgs.jl:76\n"
     ]
    },
    {
     "name": "stdout",
     "output_type": "stream",
     "text": [
      "Info: it took 9 CTMRG steps to converge the SV to 1.0e-6\n",
      "Info: it took 13 CTMRG steps to converge the environments element wise to 1e-6\n"
     ]
    },
    {
     "name": "stderr",
     "output_type": "stream",
     "text": [
      "┌ Info: LBFGS: iter   39: f = -0.661349482107, ‖∇f‖ = 2.4379e-03, α = 1.00e+00, m = 15, nfg = 1\n",
      "└ @ OptimKit /home/elw/.julia/packages/OptimKit/xpmbV/src/lbfgs.jl:76\n"
     ]
    },
    {
     "name": "stdout",
     "output_type": "stream",
     "text": [
      "Info: it took 9 CTMRG steps to converge the SV to 1.0e-6\n"
     ]
    },
    {
     "name": "stderr",
     "output_type": "stream",
     "text": [
      "┌ Info: LBFGS: iter   40: f = -0.661438973371, ‖∇f‖ = 9.8437e-04, α = 1.00e+00, m = 15, nfg = 1\n",
      "└ @ OptimKit /home/elw/.julia/packages/OptimKit/xpmbV/src/lbfgs.jl:76\n"
     ]
    },
    {
     "name": "stdout",
     "output_type": "stream",
     "text": [
      "Info: it took 13 CTMRG steps to converge the environments element wise to 1e-6\n",
      "Info: it took 10 CTMRG steps to converge the SV to 1.0e-6\n",
      "Info: it took 13 CTMRG steps to converge the environments element wise to 1e-6\n"
     ]
    },
    {
     "name": "stderr",
     "output_type": "stream",
     "text": [
      "┌ Info: LBFGS: iter   41: f = -0.661489253741, ‖∇f‖ = 8.8184e-04, α = 1.00e+00, m = 15, nfg = 1\n",
      "└ @ OptimKit /home/elw/.julia/packages/OptimKit/xpmbV/src/lbfgs.jl:76\n"
     ]
    },
    {
     "name": "stdout",
     "output_type": "stream",
     "text": [
      "Info: it took 11 CTMRG steps to converge the SV to 1.0e-6\n"
     ]
    },
    {
     "name": "stderr",
     "output_type": "stream",
     "text": [
      "┌ Info: LBFGS: iter   42: f = -0.661611023848, ‖∇f‖ = 1.4093e-03, α = 1.00e+00, m = 15, nfg = 1\n",
      "└ @ OptimKit /home/elw/.julia/packages/OptimKit/xpmbV/src/lbfgs.jl:76\n"
     ]
    },
    {
     "name": "stdout",
     "output_type": "stream",
     "text": [
      "Info: it took 46 CTMRG steps to converge the environments element wise to 1e-6\n",
      "Info: it took 11 CTMRG steps to converge the SV to 1.0e-6\n",
      "Info: it took 14 CTMRG steps to converge the environments element wise to 1e-6\n"
     ]
    },
    {
     "name": "stderr",
     "output_type": "stream",
     "text": [
      "┌ Info: LBFGS: iter   43: f = -0.661735381895, ‖∇f‖ = 2.1577e-03, α = 1.00e+00, m = 15, nfg = 1\n",
      "└ @ OptimKit /home/elw/.julia/packages/OptimKit/xpmbV/src/lbfgs.jl:76\n"
     ]
    },
    {
     "name": "stdout",
     "output_type": "stream",
     "text": [
      "Info: it took 11 CTMRG steps to converge the SV to 1.0e-6\n",
      "Info: it took 15 CTMRG steps to converge the environments element wise to 1e-6\n"
     ]
    },
    {
     "name": "stderr",
     "output_type": "stream",
     "text": [
      "┌ Info: LBFGS: iter   44: f = -0.661887747132, ‖∇f‖ = 1.8957e-03, α = 1.00e+00, m = 15, nfg = 1\n",
      "└ @ OptimKit /home/elw/.julia/packages/OptimKit/xpmbV/src/lbfgs.jl:76\n"
     ]
    },
    {
     "name": "stdout",
     "output_type": "stream",
     "text": [
      "Info: it took 11 CTMRG steps to converge the SV to 1.0e-6\n",
      "Info: it took 15 CTMRG steps to converge the environments element wise to 1e-6\n"
     ]
    },
    {
     "name": "stderr",
     "output_type": "stream",
     "text": [
      "┌ Info: LBFGS: iter   45: f = -0.662040449514, ‖∇f‖ = 1.3372e-03, α = 1.00e+00, m = 15, nfg = 1\n",
      "└ @ OptimKit /home/elw/.julia/packages/OptimKit/xpmbV/src/lbfgs.jl:76\n"
     ]
    },
    {
     "name": "stdout",
     "output_type": "stream",
     "text": [
      "Info: it took 11 CTMRG steps to converge the SV to 1.0e-6\n",
      "Info: it took 14 CTMRG steps to converge the environments element wise to 1e-6\n"
     ]
    },
    {
     "name": "stderr",
     "output_type": "stream",
     "text": [
      "┌ Info: LBFGS: iter   46: f = -0.662139821643, ‖∇f‖ = 2.7800e-03, α = 1.00e+00, m = 15, nfg = 1\n",
      "└ @ OptimKit /home/elw/.julia/packages/OptimKit/xpmbV/src/lbfgs.jl:76\n"
     ]
    },
    {
     "name": "stdout",
     "output_type": "stream",
     "text": [
      "Info: it took 11 CTMRG steps to converge the SV to 1.0e-6\n",
      "Info: it took 14 CTMRG steps to converge the environments element wise to 1e-6\n"
     ]
    },
    {
     "name": "stderr",
     "output_type": "stream",
     "text": [
      "┌ Info: LBFGS: iter   47: f = -0.662262962456, ‖∇f‖ = 1.7474e-03, α = 1.00e+00, m = 15, nfg = 1\n",
      "└ @ OptimKit /home/elw/.julia/packages/OptimKit/xpmbV/src/lbfgs.jl:76\n"
     ]
    },
    {
     "name": "stdout",
     "output_type": "stream",
     "text": [
      "Info: it took 11 CTMRG steps to converge the SV to 1.0e-6\n",
      "Info: it took 15 CTMRG steps to converge the environments element wise to 1e-6\n"
     ]
    },
    {
     "name": "stderr",
     "output_type": "stream",
     "text": [
      "┌ Info: LBFGS: iter   48: f = -0.662320542114, ‖∇f‖ = 7.5594e-04, α = 1.00e+00, m = 15, nfg = 1\n",
      "└ @ OptimKit /home/elw/.julia/packages/OptimKit/xpmbV/src/lbfgs.jl:76\n",
      "┌ Info: LBFGS: iter   49: f = -0.662353517441, ‖∇f‖ = 5.8946e-04, α = 1.00e+00, m = 15, nfg = 1\n",
      "└ @ OptimKit /home/elw/.julia/packages/OptimKit/xpmbV/src/lbfgs.jl:76\n"
     ]
    },
    {
     "name": "stdout",
     "output_type": "stream",
     "text": [
      "Info: it took 11 CTMRG steps to converge the SV to 1.0e-6\n",
      "Info: it took 15 CTMRG steps to converge the environments element wise to 1e-6\n"
     ]
    },
    {
     "name": "stderr",
     "output_type": "stream",
     "text": [
      "┌ Info: LBFGS: iter   50: f = -0.662390576298, ‖∇f‖ = 7.0519e-04, α = 1.00e+00, m = 15, nfg = 1\n",
      "└ @ OptimKit /home/elw/.julia/packages/OptimKit/xpmbV/src/lbfgs.jl:76\n"
     ]
    },
    {
     "name": "stdout",
     "output_type": "stream",
     "text": [
      "Info: it took 11 CTMRG steps to converge the SV to 1.0e-6\n",
      "Info: it took 14 CTMRG steps to converge the environments element wise to 1e-6\n",
      "Info: it took 11 CTMRG steps to converge the SV to 1.0e-6\n"
     ]
    },
    {
     "name": "stderr",
     "output_type": "stream",
     "text": [
      "┌ Info: LBFGS: iter   51: f = -0.662407217966, ‖∇f‖ = 1.2039e-03, α = 1.00e+00, m = 15, nfg = 1\n",
      "└ @ OptimKit /home/elw/.julia/packages/OptimKit/xpmbV/src/lbfgs.jl:76\n"
     ]
    },
    {
     "name": "stdout",
     "output_type": "stream",
     "text": [
      "Info: it took 14 CTMRG steps to converge the environments element wise to 1e-6\n",
      "Info: it took 11 CTMRG steps to converge the SV to 1.0e-6\n"
     ]
    },
    {
     "name": "stderr",
     "output_type": "stream",
     "text": [
      "┌ Info: LBFGS: iter   52: f = -0.662431683277, ‖∇f‖ = 5.0790e-04, α = 1.00e+00, m = 15, nfg = 1\n",
      "└ @ OptimKit /home/elw/.julia/packages/OptimKit/xpmbV/src/lbfgs.jl:76\n"
     ]
    },
    {
     "name": "stdout",
     "output_type": "stream",
     "text": [
      "Info: it took 14 CTMRG steps to converge the environments element wise to 1e-6\n"
     ]
    },
    {
     "name": "stderr",
     "output_type": "stream",
     "text": [
      "┌ Info: LBFGS: iter   53: f = -0.662446915664, ‖∇f‖ = 4.0445e-04, α = 1.00e+00, m = 15, nfg = 1\n",
      "└ @ OptimKit /home/elw/.julia/packages/OptimKit/xpmbV/src/lbfgs.jl:76\n"
     ]
    },
    {
     "name": "stdout",
     "output_type": "stream",
     "text": [
      "Info: it took 11 CTMRG steps to converge the SV to 1.0e-6\n",
      "Info: it took 14 CTMRG steps to converge the environments element wise to 1e-6\n",
      "Info: it took 11 CTMRG steps to converge the SV to 1.0e-6\n"
     ]
    },
    {
     "name": "stderr",
     "output_type": "stream",
     "text": [
      "┌ Info: LBFGS: iter   54: f = -0.662457534471, ‖∇f‖ = 3.6697e-04, α = 1.00e+00, m = 15, nfg = 1\n",
      "└ @ OptimKit /home/elw/.julia/packages/OptimKit/xpmbV/src/lbfgs.jl:76\n"
     ]
    },
    {
     "name": "stdout",
     "output_type": "stream",
     "text": [
      "Info: it took 15 CTMRG steps to converge the environments element wise to 1e-6\n",
      "Info: it took 11 CTMRG steps to converge the SV to 1.0e-6\n"
     ]
    },
    {
     "name": "stderr",
     "output_type": "stream",
     "text": [
      "┌ Info: LBFGS: iter   55: f = -0.662469815909, ‖∇f‖ = 3.8322e-04, α = 1.00e+00, m = 15, nfg = 1\n",
      "└ @ OptimKit /home/elw/.julia/packages/OptimKit/xpmbV/src/lbfgs.jl:76\n"
     ]
    },
    {
     "name": "stdout",
     "output_type": "stream",
     "text": [
      "Info: it took 15 CTMRG steps to converge the environments element wise to 1e-6\n",
      "Info: it took 11 CTMRG steps to converge the SV to 1.0e-6\n",
      "Info: it took 15 CTMRG steps to converge the environments element wise to 1e-6\n"
     ]
    },
    {
     "name": "stderr",
     "output_type": "stream",
     "text": [
      "┌ Info: LBFGS: iter   56: f = -0.662471964891, ‖∇f‖ = 6.1396e-04, α = 1.00e+00, m = 15, nfg = 1\n",
      "└ @ OptimKit /home/elw/.julia/packages/OptimKit/xpmbV/src/lbfgs.jl:76\n"
     ]
    },
    {
     "name": "stdout",
     "output_type": "stream",
     "text": [
      "Info: it took 11 CTMRG steps to converge the SV to 1.0e-6\n",
      "Info: it took 15 CTMRG steps to converge the environments element wise to 1e-6\n"
     ]
    },
    {
     "name": "stderr",
     "output_type": "stream",
     "text": [
      "┌ Info: LBFGS: iter   57: f = -0.662476793204, ‖∇f‖ = 2.4996e-04, α = 1.00e+00, m = 15, nfg = 1\n",
      "└ @ OptimKit /home/elw/.julia/packages/OptimKit/xpmbV/src/lbfgs.jl:76\n",
      "┌ Info: LBFGS: iter   58: f = -0.662478298335, ‖∇f‖ = 1.5928e-04, α = 1.00e+00, m = 15, nfg = 1\n",
      "└ @ OptimKit /home/elw/.julia/packages/OptimKit/xpmbV/src/lbfgs.jl:76\n"
     ]
    },
    {
     "name": "stdout",
     "output_type": "stream",
     "text": [
      "Info: it took 11 CTMRG steps to converge the SV to 1.0e-6\n",
      "Info: it took 15 CTMRG steps to converge the environments element wise to 1e-6\n"
     ]
    },
    {
     "name": "stderr",
     "output_type": "stream",
     "text": [
      "┌ Info: LBFGS: iter   59: f = -0.662481000021, ‖∇f‖ = 1.4991e-04, α = 1.00e+00, m = 15, nfg = 1\n",
      "└ @ OptimKit /home/elw/.julia/packages/OptimKit/xpmbV/src/lbfgs.jl:76\n"
     ]
    },
    {
     "name": "stdout",
     "output_type": "stream",
     "text": [
      "Info: it took 11 CTMRG steps to converge the SV to 1.0e-6\n",
      "Info: it took 15 CTMRG steps to converge the environments element wise to 1e-6\n"
     ]
    },
    {
     "name": "stderr",
     "output_type": "stream",
     "text": [
      "┌ Info: LBFGS: iter   60: f = -0.662484445734, ‖∇f‖ = 2.5726e-04, α = 1.00e+00, m = 15, nfg = 1\n",
      "└ @ OptimKit /home/elw/.julia/packages/OptimKit/xpmbV/src/lbfgs.jl:76\n"
     ]
    },
    {
     "name": "stdout",
     "output_type": "stream",
     "text": [
      "Info: it took 11 CTMRG steps to converge the SV to 1.0e-6\n",
      "Info: it took 15 CTMRG steps to converge the environments element wise to 1e-6\n",
      "Info: it took 11 CTMRG steps to converge the SV to 1.0e-6\n"
     ]
    },
    {
     "name": "stderr",
     "output_type": "stream",
     "text": [
      "┌ Info: LBFGS: iter   61: f = -0.662486439475, ‖∇f‖ = 1.5274e-04, α = 1.00e+00, m = 15, nfg = 1\n",
      "└ @ OptimKit /home/elw/.julia/packages/OptimKit/xpmbV/src/lbfgs.jl:76\n"
     ]
    },
    {
     "name": "stdout",
     "output_type": "stream",
     "text": [
      "Info: it took 15 CTMRG steps to converge the environments element wise to 1e-6\n"
     ]
    },
    {
     "name": "stderr",
     "output_type": "stream",
     "text": [
      "┌ Info: LBFGS: iter   62: f = -0.662487667881, ‖∇f‖ = 1.2714e-04, α = 1.00e+00, m = 15, nfg = 1\n",
      "└ @ OptimKit /home/elw/.julia/packages/OptimKit/xpmbV/src/lbfgs.jl:76\n"
     ]
    },
    {
     "name": "stdout",
     "output_type": "stream",
     "text": [
      "Info: it took 11 CTMRG steps to converge the SV to 1.0e-6\n",
      "Info: it took 15 CTMRG steps to converge the environments element wise to 1e-6\n"
     ]
    },
    {
     "name": "stderr",
     "output_type": "stream",
     "text": [
      "┌ Info: LBFGS: iter   63: f = -0.662489860835, ‖∇f‖ = 1.4879e-04, α = 1.00e+00, m = 15, nfg = 1\n",
      "└ @ OptimKit /home/elw/.julia/packages/OptimKit/xpmbV/src/lbfgs.jl:76\n"
     ]
    },
    {
     "name": "stdout",
     "output_type": "stream",
     "text": [
      "Info: it took 11 CTMRG steps to converge the SV to 1.0e-6\n",
      "Info: it took 15 CTMRG steps to converge the environments element wise to 1e-6\n",
      "Info: it took 11 CTMRG steps to converge the SV to 1.0e-6\n",
      "Info: it took 15 CTMRG steps to converge the environments element wise to 1e-6\n",
      "Info: it took 11 CTMRG steps to converge the SV to 1.0e-6\n"
     ]
    },
    {
     "name": "stderr",
     "output_type": "stream",
     "text": [
      "┌ Info: LBFGS: iter   64: f = -0.662490562792, ‖∇f‖ = 1.2966e-04, α = 4.68e-01, m = 15, nfg = 2\n",
      "└ @ OptimKit /home/elw/.julia/packages/OptimKit/xpmbV/src/lbfgs.jl:76\n"
     ]
    },
    {
     "name": "stdout",
     "output_type": "stream",
     "text": [
      "Info: it took 15 CTMRG steps to converge the environments element wise to 1e-6\n",
      "Info: it took 11 CTMRG steps to converge the SV to 1.0e-6\n",
      "Info: it took 15 CTMRG steps to converge the environments element wise to 1e-6\n"
     ]
    },
    {
     "name": "stderr",
     "output_type": "stream",
     "text": [
      "┌ Info: LBFGS: iter   65: f = -0.662491139587, ‖∇f‖ = 9.8750e-05, α = 1.00e+00, m = 15, nfg = 1\n",
      "└ @ OptimKit /home/elw/.julia/packages/OptimKit/xpmbV/src/lbfgs.jl:76\n"
     ]
    },
    {
     "name": "stdout",
     "output_type": "stream",
     "text": [
      "Info: it took 11 CTMRG steps to converge the SV to 1.0e-6\n",
      "Info: it took 15 CTMRG steps to converge the environments element wise to 1e-6\n"
     ]
    },
    {
     "name": "stderr",
     "output_type": "stream",
     "text": [
      "┌ Info: LBFGS: iter   66: f = -0.662492416100, ‖∇f‖ = 1.2832e-04, α = 1.00e+00, m = 15, nfg = 1\n",
      "└ @ OptimKit /home/elw/.julia/packages/OptimKit/xpmbV/src/lbfgs.jl:76\n"
     ]
    },
    {
     "name": "stdout",
     "output_type": "stream",
     "text": [
      "Info: it took 11 CTMRG steps to converge the SV to 1.0e-6\n",
      "Info: it took 15 CTMRG steps to converge the environments element wise to 1e-6\n"
     ]
    },
    {
     "name": "stderr",
     "output_type": "stream",
     "text": [
      "┌ Info: LBFGS: iter   67: f = -0.662493280602, ‖∇f‖ = 2.1085e-04, α = 1.00e+00, m = 15, nfg = 1\n",
      "└ @ OptimKit /home/elw/.julia/packages/OptimKit/xpmbV/src/lbfgs.jl:76\n"
     ]
    },
    {
     "name": "stdout",
     "output_type": "stream",
     "text": [
      "Info: it took 11 CTMRG steps to converge the SV to 1.0e-6\n",
      "Info: it took 15 CTMRG steps to converge the environments element wise to 1e-6\n"
     ]
    },
    {
     "name": "stderr",
     "output_type": "stream",
     "text": [
      "┌ Info: LBFGS: iter   68: f = -0.662494281526, ‖∇f‖ = 1.3755e-04, α = 1.00e+00, m = 15, nfg = 1\n",
      "└ @ OptimKit /home/elw/.julia/packages/OptimKit/xpmbV/src/lbfgs.jl:76\n"
     ]
    },
    {
     "name": "stdout",
     "output_type": "stream",
     "text": [
      "Info: it took 11 CTMRG steps to converge the SV to 1.0e-6\n",
      "Info: it took 15 CTMRG steps to converge the environments element wise to 1e-6\n"
     ]
    },
    {
     "name": "stderr",
     "output_type": "stream",
     "text": [
      "┌ Info: LBFGS: iter   69: f = -0.662495700431, ‖∇f‖ = 1.0177e-04, α = 1.00e+00, m = 15, nfg = 1\n",
      "└ @ OptimKit /home/elw/.julia/packages/OptimKit/xpmbV/src/lbfgs.jl:76\n"
     ]
    },
    {
     "name": "stdout",
     "output_type": "stream",
     "text": [
      "Info: it took 11 CTMRG steps to converge the SV to 1.0e-6\n",
      "Info: it took 15 CTMRG steps to converge the environments element wise to 1e-6\n"
     ]
    },
    {
     "name": "stderr",
     "output_type": "stream",
     "text": [
      "┌ Info: LBFGS: iter   70: f = -0.662496430853, ‖∇f‖ = 1.5098e-04, α = 1.00e+00, m = 15, nfg = 1\n",
      "└ @ OptimKit /home/elw/.julia/packages/OptimKit/xpmbV/src/lbfgs.jl:76\n"
     ]
    },
    {
     "name": "stdout",
     "output_type": "stream",
     "text": [
      "Info: it took 11 CTMRG steps to converge the SV to 1.0e-6\n",
      "Info: it took 15 CTMRG steps to converge the environments element wise to 1e-6\n"
     ]
    },
    {
     "name": "stderr",
     "output_type": "stream",
     "text": [
      "┌ Info: LBFGS: iter   71: f = -0.662497512606, ‖∇f‖ = 1.5322e-04, α = 1.00e+00, m = 15, nfg = 1\n",
      "└ @ OptimKit /home/elw/.julia/packages/OptimKit/xpmbV/src/lbfgs.jl:76\n"
     ]
    },
    {
     "name": "stdout",
     "output_type": "stream",
     "text": [
      "Info: it took 11 CTMRG steps to converge the SV to 1.0e-6\n",
      "Info: it took 14 CTMRG steps to converge the environments element wise to 1e-6\n"
     ]
    },
    {
     "name": "stderr",
     "output_type": "stream",
     "text": [
      "┌ Info: LBFGS: iter   72: f = -0.662500922217, ‖∇f‖ = 1.9006e-04, α = 1.00e+00, m = 15, nfg = 1\n",
      "└ @ OptimKit /home/elw/.julia/packages/OptimKit/xpmbV/src/lbfgs.jl:76\n"
     ]
    },
    {
     "name": "stdout",
     "output_type": "stream",
     "text": [
      "Info: it took 11 CTMRG steps to converge the SV to 1.0e-6\n",
      "Info: it took 14 CTMRG steps to converge the environments element wise to 1e-6\n"
     ]
    },
    {
     "name": "stderr",
     "output_type": "stream",
     "text": [
      "┌ Info: LBFGS: iter   73: f = -0.662501699227, ‖∇f‖ = 5.4855e-04, α = 1.00e+00, m = 15, nfg = 1\n",
      "└ @ OptimKit /home/elw/.julia/packages/OptimKit/xpmbV/src/lbfgs.jl:76\n"
     ]
    },
    {
     "name": "stdout",
     "output_type": "stream",
     "text": [
      "Info: it took 11 CTMRG steps to converge the SV to 1.0e-6\n",
      "Info: it took 14 CTMRG steps to converge the environments element wise to 1e-6\n"
     ]
    },
    {
     "name": "stderr",
     "output_type": "stream",
     "text": [
      "┌ Info: LBFGS: iter   74: f = -0.662505271335, ‖∇f‖ = 1.4155e-04, α = 1.00e+00, m = 15, nfg = 1\n",
      "└ @ OptimKit /home/elw/.julia/packages/OptimKit/xpmbV/src/lbfgs.jl:76\n"
     ]
    },
    {
     "name": "stdout",
     "output_type": "stream",
     "text": [
      "Info: it took 10 CTMRG steps to converge the SV to 1.0e-6\n",
      "Info: it took 14 CTMRG steps to converge the environments element wise to 1e-6\n"
     ]
    },
    {
     "name": "stderr",
     "output_type": "stream",
     "text": [
      "┌ Info: LBFGS: iter   75: f = -0.662506044722, ‖∇f‖ = 1.0856e-04, α = 1.00e+00, m = 15, nfg = 1\n",
      "└ @ OptimKit /home/elw/.julia/packages/OptimKit/xpmbV/src/lbfgs.jl:76\n"
     ]
    },
    {
     "name": "stdout",
     "output_type": "stream",
     "text": [
      "Info: it took 10 CTMRG steps to converge the SV to 1.0e-6\n",
      "Info: it took 14 CTMRG steps to converge the environments element wise to 1e-6\n"
     ]
    },
    {
     "name": "stderr",
     "output_type": "stream",
     "text": [
      "┌ Info: LBFGS: iter   76: f = -0.662507790262, ‖∇f‖ = 1.2830e-04, α = 1.00e+00, m = 15, nfg = 1\n",
      "└ @ OptimKit /home/elw/.julia/packages/OptimKit/xpmbV/src/lbfgs.jl:76\n"
     ]
    },
    {
     "name": "stdout",
     "output_type": "stream",
     "text": [
      "Info: it took 10 CTMRG steps to converge the SV to 1.0e-6\n",
      "Info: it took 14 CTMRG steps to converge the environments element wise to 1e-6\n",
      "Info: it took 10 CTMRG steps to converge the SV to 1.0e-6\n",
      "Info: it took 14 CTMRG steps to converge the environments element wise to 1e-6\n"
     ]
    },
    {
     "name": "stderr",
     "output_type": "stream",
     "text": [
      "┌ Info: LBFGS: iter   77: f = -0.662508456268, ‖∇f‖ = 1.6484e-04, α = 3.39e-01, m = 15, nfg = 2\n",
      "└ @ OptimKit /home/elw/.julia/packages/OptimKit/xpmbV/src/lbfgs.jl:76\n"
     ]
    },
    {
     "name": "stdout",
     "output_type": "stream",
     "text": [
      "Info: it took 10 CTMRG steps to converge the SV to 1.0e-6\n",
      "Info: it took 14 CTMRG steps to converge the environments element wise to 1e-6\n"
     ]
    },
    {
     "name": "stderr",
     "output_type": "stream",
     "text": [
      "┌ Info: LBFGS: iter   78: f = -0.662509222394, ‖∇f‖ = 1.0126e-04, α = 1.00e+00, m = 15, nfg = 1\n",
      "└ @ OptimKit /home/elw/.julia/packages/OptimKit/xpmbV/src/lbfgs.jl:76\n"
     ]
    },
    {
     "name": "stdout",
     "output_type": "stream",
     "text": [
      "Info: it took 10 CTMRG steps to converge the SV to 1.0e-6\n",
      "Info: it took 14 CTMRG steps to converge the environments element wise to 1e-6\n"
     ]
    },
    {
     "name": "stderr",
     "output_type": "stream",
     "text": [
      "┌ Info: LBFGS: iter   79: f = -0.662509882378, ‖∇f‖ = 6.8928e-05, α = 1.00e+00, m = 15, nfg = 1\n",
      "└ @ OptimKit /home/elw/.julia/packages/OptimKit/xpmbV/src/lbfgs.jl:76\n"
     ]
    },
    {
     "name": "stdout",
     "output_type": "stream",
     "text": [
      "Info: it took 10 CTMRG steps to converge the SV to 1.0e-6\n",
      "Info: it took 14 CTMRG steps to converge the environments element wise to 1e-6\n"
     ]
    },
    {
     "name": "stderr",
     "output_type": "stream",
     "text": [
      "┌ Info: LBFGS: iter   80: f = -0.662510377425, ‖∇f‖ = 9.7776e-05, α = 1.00e+00, m = 15, nfg = 1\n",
      "└ @ OptimKit /home/elw/.julia/packages/OptimKit/xpmbV/src/lbfgs.jl:76\n"
     ]
    },
    {
     "name": "stdout",
     "output_type": "stream",
     "text": [
      "Info: it took 10 CTMRG steps to converge the SV to 1.0e-6\n"
     ]
    },
    {
     "name": "stderr",
     "output_type": "stream",
     "text": [
      "┌ Info: LBFGS: iter   81: f = -0.662510853976, ‖∇f‖ = 8.6549e-05, α = 1.00e+00, m = 15, nfg = 1\n",
      "└ @ OptimKit /home/elw/.julia/packages/OptimKit/xpmbV/src/lbfgs.jl:76\n"
     ]
    },
    {
     "name": "stdout",
     "output_type": "stream",
     "text": [
      "Info: it took 14 CTMRG steps to converge the environments element wise to 1e-6\n",
      "Info: it took 10 CTMRG steps to converge the SV to 1.0e-6\n",
      "Info: it took 14 CTMRG steps to converge the environments element wise to 1e-6\n"
     ]
    },
    {
     "name": "stderr",
     "output_type": "stream",
     "text": [
      "┌ Info: LBFGS: iter   82: f = -0.662511316416, ‖∇f‖ = 6.8684e-05, α = 1.00e+00, m = 15, nfg = 1\n",
      "└ @ OptimKit /home/elw/.julia/packages/OptimKit/xpmbV/src/lbfgs.jl:76\n"
     ]
    },
    {
     "name": "stdout",
     "output_type": "stream",
     "text": [
      "Info: it took 10 CTMRG steps to converge the SV to 1.0e-6\n",
      "Info: it took 14 CTMRG steps to converge the environments element wise to 1e-6\n"
     ]
    },
    {
     "name": "stderr",
     "output_type": "stream",
     "text": [
      "┌ Info: LBFGS: iter   83: f = -0.662511733955, ‖∇f‖ = 6.1600e-05, α = 1.00e+00, m = 15, nfg = 1\n",
      "└ @ OptimKit /home/elw/.julia/packages/OptimKit/xpmbV/src/lbfgs.jl:76\n"
     ]
    },
    {
     "name": "stdout",
     "output_type": "stream",
     "text": [
      "Info: it took 10 CTMRG steps to converge the SV to 1.0e-6\n",
      "Info: it took 14 CTMRG steps to converge the environments element wise to 1e-6\n"
     ]
    },
    {
     "name": "stderr",
     "output_type": "stream",
     "text": [
      "┌ Info: LBFGS: iter   84: f = -0.662512086910, ‖∇f‖ = 5.6526e-05, α = 1.00e+00, m = 15, nfg = 1\n",
      "└ @ OptimKit /home/elw/.julia/packages/OptimKit/xpmbV/src/lbfgs.jl:76\n"
     ]
    },
    {
     "name": "stdout",
     "output_type": "stream",
     "text": [
      "Info: it took 10 CTMRG steps to converge the SV to 1.0e-6\n",
      "Info: it took 14 CTMRG steps to converge the environments element wise to 1e-6\n"
     ]
    },
    {
     "name": "stderr",
     "output_type": "stream",
     "text": [
      "┌ Info: LBFGS: iter   85: f = -0.662512424131, ‖∇f‖ = 7.6238e-05, α = 1.00e+00, m = 15, nfg = 1\n",
      "└ @ OptimKit /home/elw/.julia/packages/OptimKit/xpmbV/src/lbfgs.jl:76\n"
     ]
    },
    {
     "name": "stdout",
     "output_type": "stream",
     "text": [
      "Info: it took 10 CTMRG steps to converge the SV to 1.0e-6\n",
      "Info: it took 14 CTMRG steps to converge the environments element wise to 1e-6\n"
     ]
    },
    {
     "name": "stderr",
     "output_type": "stream",
     "text": [
      "┌ Info: LBFGS: iter   86: f = -0.662512658679, ‖∇f‖ = 8.3421e-05, α = 1.00e+00, m = 15, nfg = 1\n",
      "└ @ OptimKit /home/elw/.julia/packages/OptimKit/xpmbV/src/lbfgs.jl:76\n"
     ]
    },
    {
     "name": "stdout",
     "output_type": "stream",
     "text": [
      "Info: it took 10 CTMRG steps to converge the SV to 1.0e-6\n",
      "Info: it took 14 CTMRG steps to converge the environments element wise to 1e-6\n"
     ]
    },
    {
     "name": "stderr",
     "output_type": "stream",
     "text": [
      "┌ Info: LBFGS: iter   87: f = -0.662512874401, ‖∇f‖ = 4.8077e-05, α = 1.00e+00, m = 15, nfg = 1\n",
      "└ @ OptimKit /home/elw/.julia/packages/OptimKit/xpmbV/src/lbfgs.jl:76\n"
     ]
    },
    {
     "name": "stdout",
     "output_type": "stream",
     "text": [
      "Info: it took 10 CTMRG steps to converge the SV to 1.0e-6\n",
      "Info: it took 14 CTMRG steps to converge the environments element wise to 1e-6\n"
     ]
    },
    {
     "name": "stderr",
     "output_type": "stream",
     "text": [
      "┌ Info: LBFGS: iter   88: f = -0.662513117596, ‖∇f‖ = 4.9107e-05, α = 1.00e+00, m = 15, nfg = 1\n",
      "└ @ OptimKit /home/elw/.julia/packages/OptimKit/xpmbV/src/lbfgs.jl:76\n"
     ]
    },
    {
     "name": "stdout",
     "output_type": "stream",
     "text": [
      "Info: it took 10 CTMRG steps to converge the SV to 1.0e-6\n",
      "Info: it took 14 CTMRG steps to converge the environments element wise to 1e-6\n"
     ]
    },
    {
     "name": "stderr",
     "output_type": "stream",
     "text": [
      "┌ Info: LBFGS: iter   89: f = -0.662513291862, ‖∇f‖ = 6.4953e-05, α = 1.00e+00, m = 15, nfg = 1\n",
      "└ @ OptimKit /home/elw/.julia/packages/OptimKit/xpmbV/src/lbfgs.jl:76\n"
     ]
    },
    {
     "name": "stdout",
     "output_type": "stream",
     "text": [
      "Info: it took 10 CTMRG steps to converge the SV to 1.0e-6\n",
      "Info: it took 14 CTMRG steps to converge the environments element wise to 1e-6\n"
     ]
    },
    {
     "name": "stderr",
     "output_type": "stream",
     "text": [
      "┌ Info: LBFGS: iter   90: f = -0.662513405754, ‖∇f‖ = 1.3603e-04, α = 1.00e+00, m = 15, nfg = 1\n",
      "└ @ OptimKit /home/elw/.julia/packages/OptimKit/xpmbV/src/lbfgs.jl:76\n"
     ]
    },
    {
     "name": "stdout",
     "output_type": "stream",
     "text": [
      "Info: it took 10 CTMRG steps to converge the SV to 1.0e-6\n",
      "Info: it took 14 CTMRG steps to converge the environments element wise to 1e-6\n"
     ]
    },
    {
     "name": "stderr",
     "output_type": "stream",
     "text": [
      "┌ Info: LBFGS: iter   91: f = -0.662513627871, ‖∇f‖ = 4.5544e-05, α = 1.00e+00, m = 15, nfg = 1\n",
      "└ @ OptimKit /home/elw/.julia/packages/OptimKit/xpmbV/src/lbfgs.jl:76\n"
     ]
    },
    {
     "name": "stdout",
     "output_type": "stream",
     "text": [
      "Info: it took 10 CTMRG steps to converge the SV to 1.0e-6\n",
      "Info: it took 14 CTMRG steps to converge the environments element wise to 1e-6\n"
     ]
    },
    {
     "name": "stderr",
     "output_type": "stream",
     "text": [
      "┌ Info: LBFGS: iter   92: f = -0.662513692090, ‖∇f‖ = 3.7151e-05, α = 1.00e+00, m = 15, nfg = 1\n",
      "└ @ OptimKit /home/elw/.julia/packages/OptimKit/xpmbV/src/lbfgs.jl:76\n"
     ]
    },
    {
     "name": "stdout",
     "output_type": "stream",
     "text": [
      "Info: it took 10 CTMRG steps to converge the SV to 1.0e-6\n",
      "Info: it took 14 CTMRG steps to converge the environments element wise to 1e-6\n"
     ]
    },
    {
     "name": "stderr",
     "output_type": "stream",
     "text": [
      "┌ Info: LBFGS: iter   93: f = -0.662513844670, ‖∇f‖ = 4.6532e-05, α = 1.00e+00, m = 15, nfg = 1\n",
      "└ @ OptimKit /home/elw/.julia/packages/OptimKit/xpmbV/src/lbfgs.jl:76\n"
     ]
    },
    {
     "name": "stdout",
     "output_type": "stream",
     "text": [
      "Info: it took 10 CTMRG steps to converge the SV to 1.0e-6\n",
      "Info: it took 14 CTMRG steps to converge the environments element wise to 1e-6\n",
      "Info: it took 10 CTMRG steps to converge the SV to 1.0e-6\n",
      "Info: it took 14 CTMRG steps to converge the environments element wise to 1e-6\n"
     ]
    },
    {
     "name": "stderr",
     "output_type": "stream",
     "text": [
      "┌ Info: LBFGS: iter   94: f = -0.662513974525, ‖∇f‖ = 7.2419e-05, α = 4.99e-01, m = 15, nfg = 2\n",
      "└ @ OptimKit /home/elw/.julia/packages/OptimKit/xpmbV/src/lbfgs.jl:76\n"
     ]
    },
    {
     "name": "stdout",
     "output_type": "stream",
     "text": [
      "Info: it took 10 CTMRG steps to converge the SV to 1.0e-6\n",
      "Info: it took 14 CTMRG steps to converge the environments element wise to 1e-6\n"
     ]
    },
    {
     "name": "stderr",
     "output_type": "stream",
     "text": [
      "┌ Info: LBFGS: iter   95: f = -0.662514125248, ‖∇f‖ = 4.5252e-05, α = 1.00e+00, m = 15, nfg = 1\n",
      "└ @ OptimKit /home/elw/.julia/packages/OptimKit/xpmbV/src/lbfgs.jl:76\n"
     ]
    },
    {
     "name": "stdout",
     "output_type": "stream",
     "text": [
      "Info: it took 10 CTMRG steps to converge the SV to 1.0e-6\n",
      "Info: it took 14 CTMRG steps to converge the environments element wise to 1e-6\n"
     ]
    },
    {
     "name": "stderr",
     "output_type": "stream",
     "text": [
      "┌ Info: LBFGS: iter   96: f = -0.662514296160, ‖∇f‖ = 3.6614e-05, α = 1.00e+00, m = 15, nfg = 1\n",
      "└ @ OptimKit /home/elw/.julia/packages/OptimKit/xpmbV/src/lbfgs.jl:76\n"
     ]
    },
    {
     "name": "stdout",
     "output_type": "stream",
     "text": [
      "Info: it took 10 CTMRG steps to converge the SV to 1.0e-6\n",
      "Info: it took 14 CTMRG steps to converge the environments element wise to 1e-6\n"
     ]
    },
    {
     "name": "stderr",
     "output_type": "stream",
     "text": [
      "┌ Info: LBFGS: iter   97: f = -0.662514470203, ‖∇f‖ = 4.2457e-05, α = 1.00e+00, m = 15, nfg = 1\n",
      "└ @ OptimKit /home/elw/.julia/packages/OptimKit/xpmbV/src/lbfgs.jl:76\n"
     ]
    },
    {
     "name": "stdout",
     "output_type": "stream",
     "text": [
      "Info: it took 10 CTMRG steps to converge the SV to 1.0e-6\n"
     ]
    },
    {
     "name": "stderr",
     "output_type": "stream",
     "text": [
      "┌ Info: LBFGS: iter   98: f = -0.662514732978, ‖∇f‖ = 5.4501e-05, α = 1.00e+00, m = 15, nfg = 1\n",
      "└ @ OptimKit /home/elw/.julia/packages/OptimKit/xpmbV/src/lbfgs.jl:76\n"
     ]
    },
    {
     "name": "stdout",
     "output_type": "stream",
     "text": [
      "Info: it took 14 CTMRG steps to converge the environments element wise to 1e-6\n",
      "Info: it took 10 CTMRG steps to converge the SV to 1.0e-6\n",
      "Info: it took 14 CTMRG steps to converge the environments element wise to 1e-6\n"
     ]
    },
    {
     "name": "stderr",
     "output_type": "stream",
     "text": [
      "┌ Info: LBFGS: iter   99: f = -0.662514759810, ‖∇f‖ = 1.5685e-04, α = 1.00e+00, m = 15, nfg = 1\n",
      "└ @ OptimKit /home/elw/.julia/packages/OptimKit/xpmbV/src/lbfgs.jl:76\n",
      "┌ Warning: LBFGS: not converged to requested tol: f = -0.662515193483, ‖∇f‖ = 4.4696e-05\n",
      "└ @ OptimKit /home/elw/.julia/packages/OptimKit/xpmbV/src/lbfgs.jl:141\n"
     ]
    },
    {
     "data": {
      "text/plain": [
       "(TrivialTensorMap{CartesianSpace, 2, 3, Matrix{Float64}}[TensorMap((ℝ^2 ⊗ ℝ^2) ← (ℝ^2 ⊗ ℝ^2 ⊗ ℝ^2)):\n",
       "[:, :, 1, 1, 1] =\n",
       " 0.6576411220886315  -2.297930014351282\n",
       " 0.7506915600736248  -0.6226755890054101\n",
       "\n",
       "[:, :, 2, 1, 1] =\n",
       " 0.494044748231191   -0.34729484961614215\n",
       " 0.1409990563817098   0.19365361581786564\n",
       "\n",
       "[:, :, 1, 2, 1] =\n",
       " 0.24204151474555355  -1.1947588782108443\n",
       " 0.9992232337446313   -1.468493416057169\n",
       "\n",
       "[:, :, 2, 2, 1] =\n",
       " 0.4009932323013394  -0.7981548545200181\n",
       " 1.0194402455114533  -0.7573661249976262\n",
       "\n",
       "[:, :, 1, 1, 2] =\n",
       " -0.15007442926009854  -1.7404167099071208\n",
       " -0.10435128860179221  -0.16584936186451912\n",
       "\n",
       "[:, :, 2, 1, 2] =\n",
       " 0.43383361807813836  -1.1904480002476099\n",
       " 0.47353372616009126  -0.3749236262778416\n",
       "\n",
       "[:, :, 1, 2, 2] =\n",
       " -0.30237443552603455  0.03440818242488776\n",
       " -1.193370835895762    0.8376485057422887\n",
       "\n",
       "[:, :, 2, 2, 2] =\n",
       " -0.07713205319651777  -0.5791934612895697\n",
       " -0.5342887524799262   -0.17681794295773648\n",
       ", TensorMap((ℝ^2 ⊗ ℝ^2) ← (ℝ^2 ⊗ ℝ^2 ⊗ ℝ^2)):\n",
       "[:, :, 1, 1, 1] =\n",
       " -0.7288016036737173  -0.9553409725792085\n",
       "  0.7894813317712338  -0.0789525834817413\n",
       "\n",
       "[:, :, 2, 1, 1] =\n",
       " -0.40860751856054756  -1.945698205020327\n",
       "  0.5203260709550115   -0.4656987138466037\n",
       "\n",
       "[:, :, 1, 2, 1] =\n",
       " -1.1388223349600581   0.16329499054546526\n",
       " -0.6618443046825335  -1.2293236048419527\n",
       "\n",
       "[:, :, 2, 2, 1] =\n",
       " -0.017145319476082468   0.7723092123987662\n",
       " -0.21609023484170092   -0.6100498492672262\n",
       "\n",
       "[:, :, 1, 1, 2] =\n",
       " -0.4530611767607725  -0.182536167054812\n",
       " -0.6133416419556944  -1.0793211255518544\n",
       "\n",
       "[:, :, 2, 1, 2] =\n",
       " -0.6669902508152049   -1.0887444237747663\n",
       " -0.08510363488693974  -1.5025490021860095\n",
       "\n",
       "[:, :, 1, 2, 2] =\n",
       "  1.671857635584858    1.6178968668628475\n",
       " -0.26224505152454675  0.6551905096156031\n",
       "\n",
       "[:, :, 2, 2, 2] =\n",
       "  0.3938696411775949  1.1500407210743921\n",
       " -0.1931557516066957  0.23314163118081455\n",
       "], -0.6625151934829486, TrivialTensorMap{CartesianSpace, 2, 3, Matrix{Float64}}[TensorMap((ℝ^2 ⊗ ℝ^2) ← (ℝ^2 ⊗ ℝ^2 ⊗ ℝ^2)):\n",
       "[:, :, 1, 1, 1] =\n",
       " 3.4966260462685615e-7  -5.272960101870507e-6\n",
       " 2.023589559039465e-6    6.781854021246673e-8\n",
       "\n",
       "[:, :, 2, 1, 1] =\n",
       "  5.024400353498759e-6    4.803943838607877e-6\n",
       " -1.2189082519499577e-6  -4.557495559736671e-6\n",
       "\n",
       "[:, :, 1, 2, 1] =\n",
       " -2.090238251826438e-6  1.4894170832080905e-7\n",
       "  6.754190640500138e-6  9.98581227303523e-6\n",
       "\n",
       "[:, :, 2, 2, 1] =\n",
       " 6.438116474715115e-7   3.97598513480649e-6\n",
       " 6.623466642242574e-6  -1.2978929556527025e-6\n",
       "\n",
       "[:, :, 1, 1, 2] =\n",
       " -1.962042369411863e-6    4.402831455323583e-6\n",
       "  1.7094906547493293e-6  -1.2924700437344229e-5\n",
       "\n",
       "[:, :, 2, 1, 2] =\n",
       " -4.4806435623629e-6    -1.162252816951342e-6\n",
       " -4.991651367522485e-6   4.2561026430934025e-6\n",
       "\n",
       "[:, :, 1, 2, 2] =\n",
       "  7.825969535547617e-6  2.5129020356244865e-6\n",
       " -3.817339894777794e-6  1.8472044746359641e-7\n",
       "\n",
       "[:, :, 2, 2, 2] =\n",
       " 4.803821096343774e-6  -5.255220361347955e-6\n",
       " 7.80829632241053e-6    4.605052446631007e-6\n",
       ", TensorMap((ℝ^2 ⊗ ℝ^2) ← (ℝ^2 ⊗ ℝ^2 ⊗ ℝ^2)):\n",
       "[:, :, 1, 1, 1] =\n",
       " -1.1693029933037378e-5   4.672280864251397e-6\n",
       "  1.425505170971223e-5   -3.8527923063177824e-7\n",
       "\n",
       "[:, :, 2, 1, 1] =\n",
       " -3.5533960443963756e-8   3.989845972731687e-6\n",
       " -8.256287674858442e-7   -6.797463926312831e-6\n",
       "\n",
       "[:, :, 1, 2, 1] =\n",
       "  2.7523613683720505e-6  4.512641586380624e-6\n",
       " -3.6309751671065244e-6  3.442584141994344e-6\n",
       "\n",
       "[:, :, 2, 2, 1] =\n",
       " -3.7120161822137863e-6  1.0010125282653832e-5\n",
       " -4.039036653848371e-6   5.867400992592931e-6\n",
       "\n",
       "[:, :, 1, 1, 2] =\n",
       " 2.243894050282139e-6   -7.354706499885877e-6\n",
       " 2.2068081491357116e-6   4.971362031363615e-6\n",
       "\n",
       "[:, :, 2, 1, 2] =\n",
       " -1.0707140762354095e-5  -2.0460428670496808e-6\n",
       " -4.463576043853934e-6    3.2988185916071637e-6\n",
       "\n",
       "[:, :, 1, 2, 2] =\n",
       " -1.3620443978855984e-5   1.0288807426327157e-5\n",
       " -2.6292468706894693e-6  -1.8845803569832017e-7\n",
       "\n",
       "[:, :, 2, 2, 2] =\n",
       " -3.219456656075807e-6   -2.8386394179820555e-6\n",
       " -3.5691338963118466e-6  -8.117265991132368e-7\n",
       "], 105, [0.05392016652206766 0.1841914092367795; -0.10630400730895513 0.29020807427526923; … ; -0.6625147598098879 0.00015684635656695157; -0.6625151934829486 4.4695816604132186e-5])"
      ]
     },
     "metadata": {},
     "output_type": "display_data"
    }
   ],
   "source": [
    "x, e, gr, numfg, info = optimize(x -> energy_and_gradient(x, χ, Pattern_arr, keywords; adjust_χ = false), loc_in, LBFGS(15; optimparas1... ); kwargs... )"
   ]
  },
  {
   "cell_type": "code",
   "execution_count": 42,
   "metadata": {},
   "outputs": [
    {
     "name": "stderr",
     "output_type": "stream",
     "text": [
      "WARNING: using Plots.gr in module Main conflicts with an existing identifier.\n"
     ]
    }
   ],
   "source": [
    "using Plots"
   ]
  },
  {
   "cell_type": "code",
   "execution_count": 94,
   "metadata": {},
   "outputs": [],
   "source": [
    "pval = plot(1:1:101, info[:,1], color = :blue, legend = false, ylabel = \"⟨E⟩\", xlabel = \"iterations\");\n",
    "\n",
    "pgrad = plot(1:1:101, log10.(info[:,2]), color = :red, ylabel = \" ‖∇E‖\", legend = false);\n"
   ]
  },
  {
   "cell_type": "code",
   "execution_count": 91,
   "metadata": {},
   "outputs": [
    {
     "data": {
      "image/png": "[encoded data removed]",
      "image/svg+xml": [
       "<?xml version=\"1.0\" encoding=\"utf-8\"?>\n",
       "<svg xmlns=\"http://www.w3.org/2000/svg\" xmlns:xlink=\"http://www.w3.org/1999/xlink\" width=\"600\" height=\"400\" viewBox=\"0 0 2400 1600\">\n",
       "<defs>\n",
       "  <clipPath id=\"clip460\">\n",
       "    <rect x=\"0\" y=\"0\" width=\"2400\" height=\"1600\"/>\n",
       "  </clipPath>\n",
       "</defs>\n",
       "<path clip-path=\"url(#clip460)\" d=\"M0 1600 L2400 1600 L2400 0 L0 0  Z\" fill=\"#ffffff\" fill-rule=\"evenodd\" fill-opacity=\"1\"/>\n",
       "<defs>\n",
       "  <clipPath id=\"clip461\">\n",
       "    <rect x=\"480\" y=\"0\" width=\"1681\" height=\"1600\"/>\n",
       "  </clipPath>\n",
       "</defs>\n",
       "<path clip-path=\"url(#clip460)\" d=\"M257.69 1423.18 L2352.76 1423.18 L2352.76 47.2441 L257.69 47.2441  Z\" fill=\"#ffffff\" fill-rule=\"evenodd\" fill-opacity=\"1\"/>\n",
       "<defs>\n",
       "  <clipPath id=\"clip462\">\n",
       "    <rect x=\"257\" y=\"47\" width=\"2096\" height=\"1377\"/>\n",
       "  </clipPath>\n",
       "</defs>\n",
       "<polyline clip-path=\"url(#clip462)\" style=\"stroke:#000000; stroke-linecap:round; stroke-linejoin:round; stroke-width:2; stroke-opacity:0.1; fill:none\" points=\"297.22,1423.18 297.22,47.2441 \"/>\n",
       "<polyline clip-path=\"url(#clip462)\" style=\"stroke:#000000; stroke-linecap:round; stroke-linejoin:round; stroke-width:2; stroke-opacity:0.1; fill:none\" points=\"791.339,1423.18 791.339,47.2441 \"/>\n",
       "<polyline clip-path=\"url(#clip462)\" style=\"stroke:#000000; stroke-linecap:round; stroke-linejoin:round; stroke-width:2; stroke-opacity:0.1; fill:none\" points=\"1285.46,1423.18 1285.46,47.2441 \"/>\n",
       "<polyline clip-path=\"url(#clip462)\" style=\"stroke:#000000; stroke-linecap:round; stroke-linejoin:round; stroke-width:2; stroke-opacity:0.1; fill:none\" points=\"1779.58,1423.18 1779.58,47.2441 \"/>\n",
       "<polyline clip-path=\"url(#clip462)\" style=\"stroke:#000000; stroke-linecap:round; stroke-linejoin:round; stroke-width:2; stroke-opacity:0.1; fill:none\" points=\"2273.7,1423.18 2273.7,47.2441 \"/>\n",
       "<polyline clip-path=\"url(#clip460)\" style=\"stroke:#000000; stroke-linecap:round; stroke-linejoin:round; stroke-width:4; stroke-opacity:1; fill:none\" points=\"257.69,1423.18 2352.76,1423.18 \"/>\n",
       "<polyline clip-path=\"url(#clip460)\" style=\"stroke:#000000; stroke-linecap:round; stroke-linejoin:round; stroke-width:4; stroke-opacity:1; fill:none\" points=\"297.22,1423.18 297.22,1404.28 \"/>\n",
       "<polyline clip-path=\"url(#clip460)\" style=\"stroke:#000000; stroke-linecap:round; stroke-linejoin:round; stroke-width:4; stroke-opacity:1; fill:none\" points=\"791.339,1423.18 791.339,1404.28 \"/>\n",
       "<polyline clip-path=\"url(#clip460)\" style=\"stroke:#000000; stroke-linecap:round; stroke-linejoin:round; stroke-width:4; stroke-opacity:1; fill:none\" points=\"1285.46,1423.18 1285.46,1404.28 \"/>\n",
       "<polyline clip-path=\"url(#clip460)\" style=\"stroke:#000000; stroke-linecap:round; stroke-linejoin:round; stroke-width:4; stroke-opacity:1; fill:none\" points=\"1779.58,1423.18 1779.58,1404.28 \"/>\n",
       "<polyline clip-path=\"url(#clip460)\" style=\"stroke:#000000; stroke-linecap:round; stroke-linejoin:round; stroke-width:4; stroke-opacity:1; fill:none\" points=\"2273.7,1423.18 2273.7,1404.28 \"/>\n",
       "<path clip-path=\"url(#clip460)\" d=\"M297.22 1454.1 Q293.609 1454.1 291.78 1457.66 Q289.974 1461.2 289.974 1468.33 Q289.974 1475.44 291.78 1479.01 Q293.609 1482.55 297.22 1482.55 Q300.854 1482.55 302.659 1479.01 Q304.488 1475.44 304.488 1468.33 Q304.488 1461.2 302.659 1457.66 Q300.854 1454.1 297.22 1454.1 M297.22 1450.39 Q303.03 1450.39 306.085 1455 Q309.164 1459.58 309.164 1468.33 Q309.164 1477.06 306.085 1481.67 Q303.03 1486.25 297.22 1486.25 Q291.41 1486.25 288.331 1481.67 Q285.275 1477.06 285.275 1468.33 Q285.275 1459.58 288.331 1455 Q291.41 1450.39 297.22 1450.39 Z\" fill=\"#000000\" fill-rule=\"nonzero\" fill-opacity=\"1\" /><path clip-path=\"url(#clip460)\" d=\"M770.61 1481.64 L786.929 1481.64 L786.929 1485.58 L764.985 1485.58 L764.985 1481.64 Q767.647 1478.89 772.23 1474.26 Q776.837 1469.61 778.017 1468.27 Q780.263 1465.74 781.142 1464.01 Q782.045 1462.25 782.045 1460.56 Q782.045 1457.8 780.101 1456.07 Q778.179 1454.33 775.077 1454.33 Q772.878 1454.33 770.425 1455.09 Q767.994 1455.86 765.216 1457.41 L765.216 1452.69 Q768.04 1451.55 770.494 1450.97 Q772.948 1450.39 774.985 1450.39 Q780.355 1450.39 783.55 1453.08 Q786.744 1455.77 786.744 1460.26 Q786.744 1462.39 785.934 1464.31 Q785.147 1466.2 783.04 1468.8 Q782.462 1469.47 779.36 1472.69 Q776.258 1475.88 770.61 1481.64 Z\" fill=\"#000000\" fill-rule=\"nonzero\" fill-opacity=\"1\" /><path clip-path=\"url(#clip460)\" d=\"M796.79 1451.02 L815.147 1451.02 L815.147 1454.96 L801.073 1454.96 L801.073 1463.43 Q802.091 1463.08 803.11 1462.92 Q804.128 1462.73 805.147 1462.73 Q810.934 1462.73 814.313 1465.9 Q817.693 1469.08 817.693 1474.49 Q817.693 1480.07 814.221 1483.17 Q810.749 1486.25 804.429 1486.25 Q802.253 1486.25 799.985 1485.88 Q797.739 1485.51 795.332 1484.77 L795.332 1480.07 Q797.415 1481.2 799.638 1481.76 Q801.86 1482.32 804.337 1482.32 Q808.341 1482.32 810.679 1480.21 Q813.017 1478.1 813.017 1474.49 Q813.017 1470.88 810.679 1468.77 Q808.341 1466.67 804.337 1466.67 Q802.462 1466.67 800.587 1467.08 Q798.735 1467.5 796.79 1468.38 L796.79 1451.02 Z\" fill=\"#000000\" fill-rule=\"nonzero\" fill-opacity=\"1\" /><path clip-path=\"url(#clip460)\" d=\"M1260.16 1451.02 L1278.51 1451.02 L1278.51 1454.96 L1264.44 1454.96 L1264.44 1463.43 Q1265.46 1463.08 1266.48 1462.92 Q1267.5 1462.73 1268.51 1462.73 Q1274.3 1462.73 1277.68 1465.9 Q1281.06 1469.08 1281.06 1474.49 Q1281.06 1480.07 1277.59 1483.17 Q1274.12 1486.25 1267.8 1486.25 Q1265.62 1486.25 1263.35 1485.88 Q1261.11 1485.51 1258.7 1484.77 L1258.7 1480.07 Q1260.78 1481.2 1263 1481.76 Q1265.23 1482.32 1267.7 1482.32 Q1271.71 1482.32 1274.05 1480.21 Q1276.38 1478.1 1276.38 1474.49 Q1276.38 1470.88 1274.05 1468.77 Q1271.71 1466.67 1267.7 1466.67 Q1265.83 1466.67 1263.95 1467.08 Q1262.1 1467.5 1260.16 1468.38 L1260.16 1451.02 Z\" fill=\"#000000\" fill-rule=\"nonzero\" fill-opacity=\"1\" /><path clip-path=\"url(#clip460)\" d=\"M1300.27 1454.1 Q1296.66 1454.1 1294.83 1457.66 Q1293.03 1461.2 1293.03 1468.33 Q1293.03 1475.44 1294.83 1479.01 Q1296.66 1482.55 1300.27 1482.55 Q1303.91 1482.55 1305.71 1479.01 Q1307.54 1475.44 1307.54 1468.33 Q1307.54 1461.2 1305.71 1457.66 Q1303.91 1454.1 1300.27 1454.1 M1300.27 1450.39 Q1306.08 1450.39 1309.14 1455 Q1312.22 1459.58 1312.22 1468.33 Q1312.22 1477.06 1309.14 1481.67 Q1306.08 1486.25 1300.27 1486.25 Q1294.46 1486.25 1291.38 1481.67 Q1288.33 1477.06 1288.33 1468.33 Q1288.33 1459.58 1291.38 1455 Q1294.46 1450.39 1300.27 1450.39 Z\" fill=\"#000000\" fill-rule=\"nonzero\" fill-opacity=\"1\" /><path clip-path=\"url(#clip460)\" d=\"M1753.43 1451.02 L1775.65 1451.02 L1775.65 1453.01 L1763.11 1485.58 L1758.22 1485.58 L1770.03 1454.96 L1753.43 1454.96 L1753.43 1451.02 Z\" fill=\"#000000\" fill-rule=\"nonzero\" fill-opacity=\"1\" /><path clip-path=\"url(#clip460)\" d=\"M1784.82 1451.02 L1803.18 1451.02 L1803.18 1454.96 L1789.1 1454.96 L1789.1 1463.43 Q1790.12 1463.08 1791.14 1462.92 Q1792.16 1462.73 1793.18 1462.73 Q1798.96 1462.73 1802.34 1465.9 Q1805.72 1469.08 1805.72 1474.49 Q1805.72 1480.07 1802.25 1483.17 Q1798.78 1486.25 1792.46 1486.25 Q1790.28 1486.25 1788.01 1485.88 Q1785.77 1485.51 1783.36 1484.77 L1783.36 1480.07 Q1785.45 1481.2 1787.67 1481.76 Q1789.89 1482.32 1792.37 1482.32 Q1796.37 1482.32 1798.71 1480.21 Q1801.05 1478.1 1801.05 1474.49 Q1801.05 1470.88 1798.71 1468.77 Q1796.37 1466.67 1792.37 1466.67 Q1790.49 1466.67 1788.62 1467.08 Q1786.76 1467.5 1784.82 1468.38 L1784.82 1451.02 Z\" fill=\"#000000\" fill-rule=\"nonzero\" fill-opacity=\"1\" /><path clip-path=\"url(#clip460)\" d=\"M2233.3 1481.64 L2240.94 1481.64 L2240.94 1455.28 L2232.63 1456.95 L2232.63 1452.69 L2240.9 1451.02 L2245.57 1451.02 L2245.57 1481.64 L2253.21 1481.64 L2253.21 1485.58 L2233.3 1485.58 L2233.3 1481.64 Z\" fill=\"#000000\" fill-rule=\"nonzero\" fill-opacity=\"1\" /><path clip-path=\"url(#clip460)\" d=\"M2272.66 1454.1 Q2269.04 1454.1 2267.22 1457.66 Q2265.41 1461.2 2265.41 1468.33 Q2265.41 1475.44 2267.22 1479.01 Q2269.04 1482.55 2272.66 1482.55 Q2276.29 1482.55 2278.09 1479.01 Q2279.92 1475.44 2279.92 1468.33 Q2279.92 1461.2 2278.09 1457.66 Q2276.29 1454.1 2272.66 1454.1 M2272.66 1450.39 Q2278.47 1450.39 2281.52 1455 Q2284.6 1459.58 2284.6 1468.33 Q2284.6 1477.06 2281.52 1481.67 Q2278.47 1486.25 2272.66 1486.25 Q2266.85 1486.25 2263.77 1481.67 Q2260.71 1477.06 2260.71 1468.33 Q2260.71 1459.58 2263.77 1455 Q2266.85 1450.39 2272.66 1450.39 Z\" fill=\"#000000\" fill-rule=\"nonzero\" fill-opacity=\"1\" /><path clip-path=\"url(#clip460)\" d=\"M2302.82 1454.1 Q2299.21 1454.1 2297.38 1457.66 Q2295.57 1461.2 2295.57 1468.33 Q2295.57 1475.44 2297.38 1479.01 Q2299.21 1482.55 2302.82 1482.55 Q2306.45 1482.55 2308.26 1479.01 Q2310.09 1475.44 2310.09 1468.33 Q2310.09 1461.2 2308.26 1457.66 Q2306.45 1454.1 2302.82 1454.1 M2302.82 1450.39 Q2308.63 1450.39 2311.68 1455 Q2314.76 1459.58 2314.76 1468.33 Q2314.76 1477.06 2311.68 1481.67 Q2308.63 1486.25 2302.82 1486.25 Q2297.01 1486.25 2293.93 1481.67 Q2290.87 1477.06 2290.87 1468.33 Q2290.87 1459.58 2293.93 1455 Q2297.01 1450.39 2302.82 1450.39 Z\" fill=\"#000000\" fill-rule=\"nonzero\" fill-opacity=\"1\" /><path clip-path=\"url(#clip460)\" d=\"M1155.22 1532.4 L1161.07 1532.4 L1161.07 1568.04 L1155.22 1568.04 L1155.22 1532.4 M1155.22 1518.52 L1161.07 1518.52 L1161.07 1525.93 L1155.22 1525.93 L1155.22 1518.52 Z\" fill=\"#000000\" fill-rule=\"nonzero\" fill-opacity=\"1\" /><path clip-path=\"url(#clip460)\" d=\"M1179.12 1522.27 L1179.12 1532.4 L1191.18 1532.4 L1191.18 1536.95 L1179.12 1536.95 L1179.12 1556.3 Q1179.12 1560.66 1180.3 1561.9 Q1181.51 1563.14 1185.17 1563.14 L1191.18 1563.14 L1191.18 1568.04 L1185.17 1568.04 Q1178.39 1568.04 1175.81 1565.53 Q1173.23 1562.98 1173.23 1556.3 L1173.23 1536.95 L1168.93 1536.95 L1168.93 1532.4 L1173.23 1532.4 L1173.23 1522.27 L1179.12 1522.27 Z\" fill=\"#000000\" fill-rule=\"nonzero\" fill-opacity=\"1\" /><path clip-path=\"url(#clip460)\" d=\"M1229.38 1548.76 L1229.38 1551.62 L1202.45 1551.62 Q1202.83 1557.67 1206.08 1560.85 Q1209.36 1564 1215.18 1564 Q1218.55 1564 1221.7 1563.17 Q1224.89 1562.35 1228.01 1560.69 L1228.01 1566.23 Q1224.86 1567.57 1221.55 1568.27 Q1218.24 1568.97 1214.83 1568.97 Q1206.3 1568.97 1201.3 1564 Q1196.34 1559.04 1196.34 1550.57 Q1196.34 1541.82 1201.05 1536.69 Q1205.79 1531.54 1213.81 1531.54 Q1221 1531.54 1225.17 1536.18 Q1229.38 1540.8 1229.38 1548.76 M1223.52 1547.04 Q1223.46 1542.23 1220.81 1539.37 Q1218.2 1536.5 1213.88 1536.5 Q1208.97 1536.5 1206.01 1539.27 Q1203.09 1542.04 1202.64 1547.07 L1223.52 1547.04 Z\" fill=\"#000000\" fill-rule=\"nonzero\" fill-opacity=\"1\" /><path clip-path=\"url(#clip460)\" d=\"M1259.64 1537.87 Q1258.66 1537.3 1257.48 1537.04 Q1256.33 1536.76 1254.93 1536.76 Q1249.97 1536.76 1247.3 1540 Q1244.65 1543.22 1244.65 1549.27 L1244.65 1568.04 L1238.77 1568.04 L1238.77 1532.4 L1244.65 1532.4 L1244.65 1537.93 Q1246.5 1534.69 1249.46 1533.13 Q1252.42 1531.54 1256.65 1531.54 Q1257.26 1531.54 1257.99 1531.63 Q1258.72 1531.7 1259.61 1531.85 L1259.64 1537.87 Z\" fill=\"#000000\" fill-rule=\"nonzero\" fill-opacity=\"1\" /><path clip-path=\"url(#clip460)\" d=\"M1281.99 1550.12 Q1274.89 1550.12 1272.15 1551.75 Q1269.42 1553.37 1269.42 1557.29 Q1269.42 1560.4 1271.45 1562.25 Q1273.52 1564.07 1277.05 1564.07 Q1281.92 1564.07 1284.85 1560.63 Q1287.81 1557.16 1287.81 1551.43 L1287.81 1550.12 L1281.99 1550.12 M1293.67 1547.71 L1293.67 1568.04 L1287.81 1568.04 L1287.81 1562.63 Q1285.81 1565.88 1282.82 1567.44 Q1279.82 1568.97 1275.5 1568.97 Q1270.02 1568.97 1266.77 1565.91 Q1263.56 1562.82 1263.56 1557.67 Q1263.56 1551.65 1267.57 1548.6 Q1271.61 1545.54 1279.6 1545.54 L1287.81 1545.54 L1287.81 1544.97 Q1287.81 1540.93 1285.14 1538.73 Q1282.5 1536.5 1277.69 1536.5 Q1274.64 1536.5 1271.74 1537.23 Q1268.84 1537.97 1266.17 1539.43 L1266.17 1534.02 Q1269.38 1532.78 1272.41 1532.17 Q1275.43 1531.54 1278.3 1531.54 Q1286.03 1531.54 1289.85 1535.55 Q1293.67 1539.56 1293.67 1547.71 Z\" fill=\"#000000\" fill-rule=\"nonzero\" fill-opacity=\"1\" /><path clip-path=\"url(#clip460)\" d=\"M1311.53 1522.27 L1311.53 1532.4 L1323.59 1532.4 L1323.59 1536.95 L1311.53 1536.95 L1311.53 1556.3 Q1311.53 1560.66 1312.7 1561.9 Q1313.91 1563.14 1317.57 1563.14 L1323.59 1563.14 L1323.59 1568.04 L1317.57 1568.04 Q1310.79 1568.04 1308.21 1565.53 Q1305.64 1562.98 1305.64 1556.3 L1305.64 1536.95 L1301.34 1536.95 L1301.34 1532.4 L1305.64 1532.4 L1305.64 1522.27 L1311.53 1522.27 Z\" fill=\"#000000\" fill-rule=\"nonzero\" fill-opacity=\"1\" /><path clip-path=\"url(#clip460)\" d=\"M1331.29 1532.4 L1337.15 1532.4 L1337.15 1568.04 L1331.29 1568.04 L1331.29 1532.4 M1331.29 1518.52 L1337.15 1518.52 L1337.15 1525.93 L1331.29 1525.93 L1331.29 1518.52 Z\" fill=\"#000000\" fill-rule=\"nonzero\" fill-opacity=\"1\" /><path clip-path=\"url(#clip460)\" d=\"M1363.21 1536.5 Q1358.5 1536.5 1355.77 1540.19 Q1353.03 1543.85 1353.03 1550.25 Q1353.03 1556.65 1355.73 1560.34 Q1358.47 1564 1363.21 1564 Q1367.89 1564 1370.63 1560.31 Q1373.37 1556.62 1373.37 1550.25 Q1373.37 1543.92 1370.63 1540.23 Q1367.89 1536.5 1363.21 1536.5 M1363.21 1531.54 Q1370.85 1531.54 1375.21 1536.5 Q1379.57 1541.47 1379.57 1550.25 Q1379.57 1559 1375.21 1564 Q1370.85 1568.97 1363.21 1568.97 Q1355.54 1568.97 1351.18 1564 Q1346.85 1559 1346.85 1550.25 Q1346.85 1541.47 1351.18 1536.5 Q1355.54 1531.54 1363.21 1531.54 Z\" fill=\"#000000\" fill-rule=\"nonzero\" fill-opacity=\"1\" /><path clip-path=\"url(#clip460)\" d=\"M1418.91 1546.53 L1418.91 1568.04 L1413.06 1568.04 L1413.06 1546.72 Q1413.06 1541.66 1411.08 1539.14 Q1409.11 1536.63 1405.16 1536.63 Q1400.42 1536.63 1397.68 1539.65 Q1394.95 1542.68 1394.95 1547.9 L1394.95 1568.04 L1389.06 1568.04 L1389.06 1532.4 L1394.95 1532.4 L1394.95 1537.93 Q1397.05 1534.72 1399.88 1533.13 Q1402.75 1531.54 1406.47 1531.54 Q1412.61 1531.54 1415.76 1535.36 Q1418.91 1539.14 1418.91 1546.53 Z\" fill=\"#000000\" fill-rule=\"nonzero\" fill-opacity=\"1\" /><path clip-path=\"url(#clip460)\" d=\"M1453.32 1533.45 L1453.32 1538.98 Q1450.84 1537.71 1448.16 1537.07 Q1445.49 1536.44 1442.63 1536.44 Q1438.27 1536.44 1436.07 1537.77 Q1433.91 1539.11 1433.91 1541.79 Q1433.91 1543.82 1435.47 1545 Q1437.02 1546.15 1441.74 1547.2 L1443.74 1547.64 Q1449.98 1548.98 1452.59 1551.43 Q1455.23 1553.85 1455.23 1558.21 Q1455.23 1563.17 1451.28 1566.07 Q1447.37 1568.97 1440.49 1568.97 Q1437.63 1568.97 1434.51 1568.39 Q1431.42 1567.85 1427.99 1566.74 L1427.99 1560.69 Q1431.23 1562.38 1434.38 1563.24 Q1437.53 1564.07 1440.62 1564.07 Q1444.76 1564.07 1446.99 1562.66 Q1449.22 1561.23 1449.22 1558.65 Q1449.22 1556.27 1447.59 1554.99 Q1446 1553.72 1440.56 1552.54 L1438.52 1552.07 Q1433.08 1550.92 1430.66 1548.56 Q1428.24 1546.18 1428.24 1542.04 Q1428.24 1537.01 1431.81 1534.27 Q1435.37 1531.54 1441.93 1531.54 Q1445.17 1531.54 1448.04 1532.01 Q1450.9 1532.49 1453.32 1533.45 Z\" fill=\"#000000\" fill-rule=\"nonzero\" fill-opacity=\"1\" /><polyline clip-path=\"url(#clip462)\" style=\"stroke:#000000; stroke-linecap:round; stroke-linejoin:round; stroke-width:2; stroke-opacity:0.1; fill:none\" points=\"257.69,1270.97 2352.76,1270.97 \"/>\n",
       "<polyline clip-path=\"url(#clip462)\" style=\"stroke:#000000; stroke-linecap:round; stroke-linejoin:round; stroke-width:2; stroke-opacity:0.1; fill:none\" points=\"257.69,1089.79 2352.76,1089.79 \"/>\n",
       "<polyline clip-path=\"url(#clip462)\" style=\"stroke:#000000; stroke-linecap:round; stroke-linejoin:round; stroke-width:2; stroke-opacity:0.1; fill:none\" points=\"257.69,908.608 2352.76,908.608 \"/>\n",
       "<polyline clip-path=\"url(#clip462)\" style=\"stroke:#000000; stroke-linecap:round; stroke-linejoin:round; stroke-width:2; stroke-opacity:0.1; fill:none\" points=\"257.69,727.426 2352.76,727.426 \"/>\n",
       "<polyline clip-path=\"url(#clip462)\" style=\"stroke:#000000; stroke-linecap:round; stroke-linejoin:round; stroke-width:2; stroke-opacity:0.1; fill:none\" points=\"257.69,546.244 2352.76,546.244 \"/>\n",
       "<polyline clip-path=\"url(#clip462)\" style=\"stroke:#000000; stroke-linecap:round; stroke-linejoin:round; stroke-width:2; stroke-opacity:0.1; fill:none\" points=\"257.69,365.061 2352.76,365.061 \"/>\n",
       "<polyline clip-path=\"url(#clip462)\" style=\"stroke:#000000; stroke-linecap:round; stroke-linejoin:round; stroke-width:2; stroke-opacity:0.1; fill:none\" points=\"257.69,183.879 2352.76,183.879 \"/>\n",
       "<polyline clip-path=\"url(#clip460)\" style=\"stroke:#000000; stroke-linecap:round; stroke-linejoin:round; stroke-width:4; stroke-opacity:1; fill:none\" points=\"257.69,1423.18 257.69,47.2441 \"/>\n",
       "<polyline clip-path=\"url(#clip460)\" style=\"stroke:#000000; stroke-linecap:round; stroke-linejoin:round; stroke-width:4; stroke-opacity:1; fill:none\" points=\"257.69,1270.97 276.588,1270.97 \"/>\n",
       "<polyline clip-path=\"url(#clip460)\" style=\"stroke:#000000; stroke-linecap:round; stroke-linejoin:round; stroke-width:4; stroke-opacity:1; fill:none\" points=\"257.69,1089.79 276.588,1089.79 \"/>\n",
       "<polyline clip-path=\"url(#clip460)\" style=\"stroke:#000000; stroke-linecap:round; stroke-linejoin:round; stroke-width:4; stroke-opacity:1; fill:none\" points=\"257.69,908.608 276.588,908.608 \"/>\n",
       "<polyline clip-path=\"url(#clip460)\" style=\"stroke:#000000; stroke-linecap:round; stroke-linejoin:round; stroke-width:4; stroke-opacity:1; fill:none\" points=\"257.69,727.426 276.588,727.426 \"/>\n",
       "<polyline clip-path=\"url(#clip460)\" style=\"stroke:#000000; stroke-linecap:round; stroke-linejoin:round; stroke-width:4; stroke-opacity:1; fill:none\" points=\"257.69,546.244 276.588,546.244 \"/>\n",
       "<polyline clip-path=\"url(#clip460)\" style=\"stroke:#000000; stroke-linecap:round; stroke-linejoin:round; stroke-width:4; stroke-opacity:1; fill:none\" points=\"257.69,365.061 276.588,365.061 \"/>\n",
       "<polyline clip-path=\"url(#clip460)\" style=\"stroke:#000000; stroke-linecap:round; stroke-linejoin:round; stroke-width:4; stroke-opacity:1; fill:none\" points=\"257.69,183.879 276.588,183.879 \"/>\n",
       "<path clip-path=\"url(#clip460)\" d=\"M114.584 1271.42 L144.26 1271.42 L144.26 1275.36 L114.584 1275.36 L114.584 1271.42 Z\" fill=\"#000000\" fill-rule=\"nonzero\" fill-opacity=\"1\" /><path clip-path=\"url(#clip460)\" d=\"M164.352 1256.77 Q160.741 1256.77 158.913 1260.34 Q157.107 1263.88 157.107 1271.01 Q157.107 1278.11 158.913 1281.68 Q160.741 1285.22 164.352 1285.22 Q167.987 1285.22 169.792 1281.68 Q171.621 1278.11 171.621 1271.01 Q171.621 1263.88 169.792 1260.34 Q167.987 1256.77 164.352 1256.77 M164.352 1253.07 Q170.163 1253.07 173.218 1257.67 Q176.297 1262.26 176.297 1271.01 Q176.297 1279.73 173.218 1284.34 Q170.163 1288.92 164.352 1288.92 Q158.542 1288.92 155.464 1284.34 Q152.408 1279.73 152.408 1271.01 Q152.408 1262.26 155.464 1257.67 Q158.542 1253.07 164.352 1253.07 Z\" fill=\"#000000\" fill-rule=\"nonzero\" fill-opacity=\"1\" /><path clip-path=\"url(#clip460)\" d=\"M184.514 1282.37 L189.399 1282.37 L189.399 1288.25 L184.514 1288.25 L184.514 1282.37 Z\" fill=\"#000000\" fill-rule=\"nonzero\" fill-opacity=\"1\" /><path clip-path=\"url(#clip460)\" d=\"M210.162 1269.11 Q207.014 1269.11 205.162 1271.26 Q203.334 1273.41 203.334 1277.16 Q203.334 1280.89 205.162 1283.07 Q207.014 1285.22 210.162 1285.22 Q213.311 1285.22 215.139 1283.07 Q216.991 1280.89 216.991 1277.16 Q216.991 1273.41 215.139 1271.26 Q213.311 1269.11 210.162 1269.11 M219.445 1254.46 L219.445 1258.72 Q217.686 1257.88 215.88 1257.44 Q214.098 1257 212.338 1257 Q207.709 1257 205.255 1260.13 Q202.824 1263.25 202.477 1269.57 Q203.843 1267.56 205.903 1266.49 Q207.963 1265.4 210.44 1265.4 Q215.649 1265.4 218.658 1268.58 Q221.69 1271.72 221.69 1277.16 Q221.69 1282.49 218.542 1285.71 Q215.394 1288.92 210.162 1288.92 Q204.167 1288.92 200.996 1284.34 Q197.825 1279.73 197.825 1271.01 Q197.825 1262.81 201.713 1257.95 Q205.602 1253.07 212.153 1253.07 Q213.912 1253.07 215.695 1253.41 Q217.5 1253.76 219.445 1254.46 Z\" fill=\"#000000\" fill-rule=\"nonzero\" fill-opacity=\"1\" /><path clip-path=\"url(#clip460)\" d=\"M115.742 1090.24 L145.417 1090.24 L145.417 1094.18 L115.742 1094.18 L115.742 1090.24 Z\" fill=\"#000000\" fill-rule=\"nonzero\" fill-opacity=\"1\" /><path clip-path=\"url(#clip460)\" d=\"M165.51 1075.59 Q161.899 1075.59 160.07 1079.15 Q158.265 1082.69 158.265 1089.82 Q158.265 1096.93 160.07 1100.5 Q161.899 1104.04 165.51 1104.04 Q169.144 1104.04 170.95 1100.5 Q172.778 1096.93 172.778 1089.82 Q172.778 1082.69 170.95 1079.15 Q169.144 1075.59 165.51 1075.59 M165.51 1071.88 Q171.32 1071.88 174.376 1076.49 Q177.454 1081.07 177.454 1089.82 Q177.454 1098.55 174.376 1103.16 Q171.32 1107.74 165.51 1107.74 Q159.7 1107.74 156.621 1103.16 Q153.566 1098.55 153.566 1089.82 Q153.566 1081.07 156.621 1076.49 Q159.7 1071.88 165.51 1071.88 Z\" fill=\"#000000\" fill-rule=\"nonzero\" fill-opacity=\"1\" /><path clip-path=\"url(#clip460)\" d=\"M185.672 1101.19 L190.556 1101.19 L190.556 1107.07 L185.672 1107.07 L185.672 1101.19 Z\" fill=\"#000000\" fill-rule=\"nonzero\" fill-opacity=\"1\" /><path clip-path=\"url(#clip460)\" d=\"M200.787 1072.51 L219.144 1072.51 L219.144 1076.44 L205.07 1076.44 L205.07 1084.92 Q206.088 1084.57 207.107 1084.41 Q208.125 1084.22 209.144 1084.22 Q214.931 1084.22 218.311 1087.39 Q221.69 1090.57 221.69 1095.98 Q221.69 1101.56 218.218 1104.66 Q214.746 1107.74 208.426 1107.74 Q206.25 1107.74 203.982 1107.37 Q201.737 1107 199.329 1106.26 L199.329 1101.56 Q201.412 1102.69 203.635 1103.25 Q205.857 1103.81 208.334 1103.81 Q212.338 1103.81 214.676 1101.7 Q217.014 1099.59 217.014 1095.98 Q217.014 1092.37 214.676 1090.26 Q212.338 1088.16 208.334 1088.16 Q206.459 1088.16 204.584 1088.57 Q202.732 1088.99 200.787 1089.87 L200.787 1072.51 Z\" fill=\"#000000\" fill-rule=\"nonzero\" fill-opacity=\"1\" /><path clip-path=\"url(#clip460)\" d=\"M114.26 909.059 L143.936 909.059 L143.936 912.994 L114.26 912.994 L114.26 909.059 Z\" fill=\"#000000\" fill-rule=\"nonzero\" fill-opacity=\"1\" /><path clip-path=\"url(#clip460)\" d=\"M164.028 894.406 Q160.417 894.406 158.589 897.971 Q156.783 901.513 156.783 908.642 Q156.783 915.749 158.589 919.314 Q160.417 922.855 164.028 922.855 Q167.663 922.855 169.468 919.314 Q171.297 915.749 171.297 908.642 Q171.297 901.513 169.468 897.971 Q167.663 894.406 164.028 894.406 M164.028 890.703 Q169.839 890.703 172.894 895.309 Q175.973 899.893 175.973 908.642 Q175.973 917.369 172.894 921.976 Q169.839 926.559 164.028 926.559 Q158.218 926.559 155.14 921.976 Q152.084 917.369 152.084 908.642 Q152.084 899.893 155.14 895.309 Q158.218 890.703 164.028 890.703 Z\" fill=\"#000000\" fill-rule=\"nonzero\" fill-opacity=\"1\" /><path clip-path=\"url(#clip460)\" d=\"M184.19 920.008 L189.075 920.008 L189.075 925.888 L184.19 925.888 L184.19 920.008 Z\" fill=\"#000000\" fill-rule=\"nonzero\" fill-opacity=\"1\" /><path clip-path=\"url(#clip460)\" d=\"M212.107 895.402 L200.301 913.851 L212.107 913.851 L212.107 895.402 M210.88 891.328 L216.76 891.328 L216.76 913.851 L221.69 913.851 L221.69 917.74 L216.76 917.74 L216.76 925.888 L212.107 925.888 L212.107 917.74 L196.505 917.74 L196.505 913.226 L210.88 891.328 Z\" fill=\"#000000\" fill-rule=\"nonzero\" fill-opacity=\"1\" /><path clip-path=\"url(#clip460)\" d=\"M115.394 727.877 L145.07 727.877 L145.07 731.812 L115.394 731.812 L115.394 727.877 Z\" fill=\"#000000\" fill-rule=\"nonzero\" fill-opacity=\"1\" /><path clip-path=\"url(#clip460)\" d=\"M165.163 713.224 Q161.552 713.224 159.723 716.789 Q157.917 720.331 157.917 727.46 Q157.917 734.567 159.723 738.132 Q161.552 741.673 165.163 741.673 Q168.797 741.673 170.602 738.132 Q172.431 734.567 172.431 727.46 Q172.431 720.331 170.602 716.789 Q168.797 713.224 165.163 713.224 M165.163 709.521 Q170.973 709.521 174.028 714.127 Q177.107 718.71 177.107 727.46 Q177.107 736.187 174.028 740.794 Q170.973 745.377 165.163 745.377 Q159.353 745.377 156.274 740.794 Q153.218 736.187 153.218 727.46 Q153.218 718.71 156.274 714.127 Q159.353 709.521 165.163 709.521 Z\" fill=\"#000000\" fill-rule=\"nonzero\" fill-opacity=\"1\" /><path clip-path=\"url(#clip460)\" d=\"M185.325 738.826 L190.209 738.826 L190.209 744.706 L185.325 744.706 L185.325 738.826 Z\" fill=\"#000000\" fill-rule=\"nonzero\" fill-opacity=\"1\" /><path clip-path=\"url(#clip460)\" d=\"M214.561 726.071 Q217.917 726.789 219.792 729.058 Q221.69 731.326 221.69 734.659 Q221.69 739.775 218.172 742.576 Q214.653 745.377 208.172 745.377 Q205.996 745.377 203.681 744.937 Q201.389 744.52 198.936 743.664 L198.936 739.15 Q200.88 740.284 203.195 740.863 Q205.51 741.442 208.033 741.442 Q212.431 741.442 214.723 739.706 Q217.037 737.97 217.037 734.659 Q217.037 731.604 214.885 729.891 Q212.755 728.155 208.936 728.155 L204.908 728.155 L204.908 724.312 L209.121 724.312 Q212.57 724.312 214.399 722.947 Q216.227 721.558 216.227 718.965 Q216.227 716.303 214.329 714.891 Q212.454 713.456 208.936 713.456 Q207.014 713.456 204.815 713.872 Q202.616 714.289 199.977 715.169 L199.977 711.002 Q202.639 710.261 204.954 709.891 Q207.292 709.521 209.352 709.521 Q214.676 709.521 217.778 711.951 Q220.88 714.359 220.88 718.479 Q220.88 721.349 219.236 723.34 Q217.593 725.308 214.561 726.071 Z\" fill=\"#000000\" fill-rule=\"nonzero\" fill-opacity=\"1\" /><path clip-path=\"url(#clip460)\" d=\"M116.343 546.695 L146.019 546.695 L146.019 550.63 L116.343 550.63 L116.343 546.695 Z\" fill=\"#000000\" fill-rule=\"nonzero\" fill-opacity=\"1\" /><path clip-path=\"url(#clip460)\" d=\"M166.112 532.042 Q162.501 532.042 160.672 535.607 Q158.866 539.149 158.866 546.278 Q158.866 553.385 160.672 556.95 Q162.501 560.491 166.112 560.491 Q169.746 560.491 171.552 556.95 Q173.38 553.385 173.38 546.278 Q173.38 539.149 171.552 535.607 Q169.746 532.042 166.112 532.042 M166.112 528.339 Q171.922 528.339 174.977 532.945 Q178.056 537.528 178.056 546.278 Q178.056 555.005 174.977 559.612 Q171.922 564.195 166.112 564.195 Q160.302 564.195 157.223 559.612 Q154.167 555.005 154.167 546.278 Q154.167 537.528 157.223 532.945 Q160.302 528.339 166.112 528.339 Z\" fill=\"#000000\" fill-rule=\"nonzero\" fill-opacity=\"1\" /><path clip-path=\"url(#clip460)\" d=\"M186.274 557.644 L191.158 557.644 L191.158 563.524 L186.274 563.524 L186.274 557.644 Z\" fill=\"#000000\" fill-rule=\"nonzero\" fill-opacity=\"1\" /><path clip-path=\"url(#clip460)\" d=\"M205.371 559.588 L221.69 559.588 L221.69 563.524 L199.746 563.524 L199.746 559.588 Q202.408 556.834 206.991 552.204 Q211.598 547.551 212.778 546.209 Q215.024 543.686 215.903 541.95 Q216.806 540.19 216.806 538.501 Q216.806 535.746 214.861 534.01 Q212.94 532.274 209.838 532.274 Q207.639 532.274 205.186 533.038 Q202.755 533.801 199.977 535.352 L199.977 530.63 Q202.801 529.496 205.255 528.917 Q207.709 528.339 209.746 528.339 Q215.116 528.339 218.311 531.024 Q221.505 533.709 221.505 538.2 Q221.505 540.329 220.695 542.251 Q219.908 544.149 217.801 546.741 Q217.223 547.413 214.121 550.63 Q211.019 553.825 205.371 559.588 Z\" fill=\"#000000\" fill-rule=\"nonzero\" fill-opacity=\"1\" /><path clip-path=\"url(#clip460)\" d=\"M115.973 365.513 L145.649 365.513 L145.649 369.448 L115.973 369.448 L115.973 365.513 Z\" fill=\"#000000\" fill-rule=\"nonzero\" fill-opacity=\"1\" /><path clip-path=\"url(#clip460)\" d=\"M165.741 350.86 Q162.13 350.86 160.302 354.425 Q158.496 357.967 158.496 365.096 Q158.496 372.203 160.302 375.767 Q162.13 379.309 165.741 379.309 Q169.376 379.309 171.181 375.767 Q173.01 372.203 173.01 365.096 Q173.01 357.967 171.181 354.425 Q169.376 350.86 165.741 350.86 M165.741 347.156 Q171.552 347.156 174.607 351.763 Q177.686 356.346 177.686 365.096 Q177.686 373.823 174.607 378.429 Q171.552 383.013 165.741 383.013 Q159.931 383.013 156.853 378.429 Q153.797 373.823 153.797 365.096 Q153.797 356.346 156.853 351.763 Q159.931 347.156 165.741 347.156 Z\" fill=\"#000000\" fill-rule=\"nonzero\" fill-opacity=\"1\" /><path clip-path=\"url(#clip460)\" d=\"M185.903 376.462 L190.788 376.462 L190.788 382.341 L185.903 382.341 L185.903 376.462 Z\" fill=\"#000000\" fill-rule=\"nonzero\" fill-opacity=\"1\" /><path clip-path=\"url(#clip460)\" d=\"M201.783 378.406 L209.422 378.406 L209.422 352.041 L201.112 353.707 L201.112 349.448 L209.375 347.781 L214.051 347.781 L214.051 378.406 L221.69 378.406 L221.69 382.341 L201.783 382.341 L201.783 378.406 Z\" fill=\"#000000\" fill-rule=\"nonzero\" fill-opacity=\"1\" /><path clip-path=\"url(#clip460)\" d=\"M164.515 169.678 Q160.903 169.678 159.075 173.243 Q157.269 176.784 157.269 183.914 Q157.269 191.021 159.075 194.585 Q160.903 198.127 164.515 198.127 Q168.149 198.127 169.954 194.585 Q171.783 191.021 171.783 183.914 Q171.783 176.784 169.954 173.243 Q168.149 169.678 164.515 169.678 M164.515 165.974 Q170.325 165.974 173.38 170.581 Q176.459 175.164 176.459 183.914 Q176.459 192.641 173.38 197.247 Q170.325 201.831 164.515 201.831 Q158.704 201.831 155.626 197.247 Q152.57 192.641 152.57 183.914 Q152.57 175.164 155.626 170.581 Q158.704 165.974 164.515 165.974 Z\" fill=\"#000000\" fill-rule=\"nonzero\" fill-opacity=\"1\" /><path clip-path=\"url(#clip460)\" d=\"M184.676 195.28 L189.561 195.28 L189.561 201.159 L184.676 201.159 L184.676 195.28 Z\" fill=\"#000000\" fill-rule=\"nonzero\" fill-opacity=\"1\" /><path clip-path=\"url(#clip460)\" d=\"M209.746 169.678 Q206.135 169.678 204.306 173.243 Q202.5 176.784 202.5 183.914 Q202.5 191.021 204.306 194.585 Q206.135 198.127 209.746 198.127 Q213.38 198.127 215.186 194.585 Q217.014 191.021 217.014 183.914 Q217.014 176.784 215.186 173.243 Q213.38 169.678 209.746 169.678 M209.746 165.974 Q215.556 165.974 218.611 170.581 Q221.69 175.164 221.69 183.914 Q221.69 192.641 218.611 197.247 Q215.556 201.831 209.746 201.831 Q203.936 201.831 200.857 197.247 Q197.801 192.641 197.801 183.914 Q197.801 175.164 200.857 170.581 Q203.936 165.974 209.746 165.974 Z\" fill=\"#000000\" fill-rule=\"nonzero\" fill-opacity=\"1\" /><path clip-path=\"url(#clip460)\" d=\"M43.5702 775.411 L14.5426 766.436 L14.5426 761.025 L43.5702 770.001 L72.5979 761.025 L72.5979 766.436 L43.5702 775.411 Z\" fill=\"#000000\" fill-rule=\"nonzero\" fill-opacity=\"1\" /><path clip-path=\"url(#clip460)\" d=\"M16.4842 749.407 L16.4842 719.361 L21.895 719.361 L21.895 742.978 L35.9632 742.978 L35.9632 720.348 L41.3741 720.348 L41.3741 742.978 L58.5933 742.978 L58.5933 718.788 L64.0042 718.788 L64.0042 749.407 L16.4842 749.407 Z\" fill=\"#000000\" fill-rule=\"nonzero\" fill-opacity=\"1\" /><path clip-path=\"url(#clip460)\" d=\"M43.5702 695.013 L72.5979 703.988 L72.5979 709.399 L43.5702 700.423 L14.5426 709.399 L14.5426 703.988 L43.5702 695.013 Z\" fill=\"#000000\" fill-rule=\"nonzero\" fill-opacity=\"1\" /><polyline clip-path=\"url(#clip462)\" style=\"stroke:#0000ff; stroke-linecap:round; stroke-linejoin:round; stroke-width:4; stroke-opacity:1; fill:none\" points=\"316.984,86.1857 336.749,376.483 356.514,1009.4 376.279,1058.04 396.044,1181.75 415.808,1211.8 435.573,1234.56 455.338,1262.77 475.103,1291 494.867,1315.98 514.632,1339.4 534.397,1352.07 554.162,1360.43 573.926,1365.6 593.691,1371.27 613.456,1374.26 633.221,1375.49 652.986,1376.83 672.75,1377.44 692.515,1378.06 712.28,1378.6 732.045,1379.16 751.809,1379.5 771.574,1380.07 791.339,1380.76 811.104,1380.96 830.869,1381.15 850.633,1381.29 870.398,1381.48 890.163,1381.65 909.928,1381.72 929.692,1381.83 949.457,1381.87 969.222,1381.91 988.987,1381.94 1008.75,1381.99 1028.52,1382.01 1048.28,1382.05 1068.05,1382.11 1087.81,1382.13 1107.58,1382.29 1127.34,1382.38 1147.1,1382.6 1166.87,1382.83 1186.63,1383.1 1206.4,1383.38 1226.16,1383.56 1245.93,1383.78 1265.69,1383.89 1285.46,1383.95 1305.22,1384.01 1324.99,1384.04 1344.75,1384.09 1364.52,1384.11 1384.28,1384.13 1404.05,1384.16 1423.81,1384.16 1443.58,1384.17 1463.34,1384.17 1483.11,1384.18 1502.87,1384.18 1522.64,1384.19 1542.4,1384.19 1562.17,1384.19 1581.93,1384.19 1601.69,1384.19 1621.46,1384.2 1641.22,1384.2 1660.99,1384.2 1680.75,1384.2 1700.52,1384.2 1720.28,1384.21 1740.05,1384.21 1759.81,1384.21 1779.58,1384.22 1799.34,1384.22 1819.11,1384.22 1838.87,1384.23 1858.64,1384.23 1878.4,1384.23 1898.17,1384.23 1917.93,1384.23 1937.7,1384.23 1957.46,1384.23 1977.23,1384.23 1996.99,1384.23 2016.75,1384.23 2036.52,1384.23 2056.28,1384.23 2076.05,1384.23 2095.81,1384.24 2115.58,1384.24 2135.34,1384.24 2155.11,1384.24 2174.87,1384.24 2194.64,1384.24 2214.4,1384.24 2234.17,1384.24 2253.93,1384.24 2273.7,1384.24 2293.46,1384.24 \"/>\n",
       "</svg>\n"
      ],
      "text/html": [
       "<?xml version=\"1.0\" encoding=\"utf-8\"?>\n",
       "<svg xmlns=\"http://www.w3.org/2000/svg\" xmlns:xlink=\"http://www.w3.org/1999/xlink\" width=\"600\" height=\"400\" viewBox=\"0 0 2400 1600\">\n",
       "<defs>\n",
       "  <clipPath id=\"clip510\">\n",
       "    <rect x=\"0\" y=\"0\" width=\"2400\" height=\"1600\"/>\n",
       "  </clipPath>\n",
       "</defs>\n",
       "<path clip-path=\"url(#clip510)\" d=\"M0 1600 L2400 1600 L2400 0 L0 0  Z\" fill=\"#ffffff\" fill-rule=\"evenodd\" fill-opacity=\"1\"/>\n",
       "<defs>\n",
       "  <clipPath id=\"clip511\">\n",
       "    <rect x=\"480\" y=\"0\" width=\"1681\" height=\"1600\"/>\n",
       "  </clipPath>\n",
       "</defs>\n",
       "<path clip-path=\"url(#clip510)\" d=\"M257.69 1423.18 L2352.76 1423.18 L2352.76 47.2441 L257.69 47.2441  Z\" fill=\"#ffffff\" fill-rule=\"evenodd\" fill-opacity=\"1\"/>\n",
       "<defs>\n",
       "  <clipPath id=\"clip512\">\n",
       "    <rect x=\"257\" y=\"47\" width=\"2096\" height=\"1377\"/>\n",
       "  </clipPath>\n",
       "</defs>\n",
       "<polyline clip-path=\"url(#clip512)\" style=\"stroke:#000000; stroke-linecap:round; stroke-linejoin:round; stroke-width:2; stroke-opacity:0.1; fill:none\" points=\"297.22,1423.18 297.22,47.2441 \"/>\n",
       "<polyline clip-path=\"url(#clip512)\" style=\"stroke:#000000; stroke-linecap:round; stroke-linejoin:round; stroke-width:2; stroke-opacity:0.1; fill:none\" points=\"791.339,1423.18 791.339,47.2441 \"/>\n",
       "<polyline clip-path=\"url(#clip512)\" style=\"stroke:#000000; stroke-linecap:round; stroke-linejoin:round; stroke-width:2; stroke-opacity:0.1; fill:none\" points=\"1285.46,1423.18 1285.46,47.2441 \"/>\n",
       "<polyline clip-path=\"url(#clip512)\" style=\"stroke:#000000; stroke-linecap:round; stroke-linejoin:round; stroke-width:2; stroke-opacity:0.1; fill:none\" points=\"1779.58,1423.18 1779.58,47.2441 \"/>\n",
       "<polyline clip-path=\"url(#clip512)\" style=\"stroke:#000000; stroke-linecap:round; stroke-linejoin:round; stroke-width:2; stroke-opacity:0.1; fill:none\" points=\"2273.7,1423.18 2273.7,47.2441 \"/>\n",
       "<polyline clip-path=\"url(#clip510)\" style=\"stroke:#000000; stroke-linecap:round; stroke-linejoin:round; stroke-width:4; stroke-opacity:1; fill:none\" points=\"257.69,1423.18 2352.76,1423.18 \"/>\n",
       "<polyline clip-path=\"url(#clip510)\" style=\"stroke:#000000; stroke-linecap:round; stroke-linejoin:round; stroke-width:4; stroke-opacity:1; fill:none\" points=\"297.22,1423.18 297.22,1404.28 \"/>\n",
       "<polyline clip-path=\"url(#clip510)\" style=\"stroke:#000000; stroke-linecap:round; stroke-linejoin:round; stroke-width:4; stroke-opacity:1; fill:none\" points=\"791.339,1423.18 791.339,1404.28 \"/>\n",
       "<polyline clip-path=\"url(#clip510)\" style=\"stroke:#000000; stroke-linecap:round; stroke-linejoin:round; stroke-width:4; stroke-opacity:1; fill:none\" points=\"1285.46,1423.18 1285.46,1404.28 \"/>\n",
       "<polyline clip-path=\"url(#clip510)\" style=\"stroke:#000000; stroke-linecap:round; stroke-linejoin:round; stroke-width:4; stroke-opacity:1; fill:none\" points=\"1779.58,1423.18 1779.58,1404.28 \"/>\n",
       "<polyline clip-path=\"url(#clip510)\" style=\"stroke:#000000; stroke-linecap:round; stroke-linejoin:round; stroke-width:4; stroke-opacity:1; fill:none\" points=\"2273.7,1423.18 2273.7,1404.28 \"/>\n",
       "<path clip-path=\"url(#clip510)\" d=\"M297.22 1454.1 Q293.609 1454.1 291.78 1457.66 Q289.974 1461.2 289.974 1468.33 Q289.974 1475.44 291.78 1479.01 Q293.609 1482.55 297.22 1482.55 Q300.854 1482.55 302.659 1479.01 Q304.488 1475.44 304.488 1468.33 Q304.488 1461.2 302.659 1457.66 Q300.854 1454.1 297.22 1454.1 M297.22 1450.39 Q303.03 1450.39 306.085 1455 Q309.164 1459.58 309.164 1468.33 Q309.164 1477.06 306.085 1481.67 Q303.03 1486.25 297.22 1486.25 Q291.41 1486.25 288.331 1481.67 Q285.275 1477.06 285.275 1468.33 Q285.275 1459.58 288.331 1455 Q291.41 1450.39 297.22 1450.39 Z\" fill=\"#000000\" fill-rule=\"nonzero\" fill-opacity=\"1\" /><path clip-path=\"url(#clip510)\" d=\"M770.61 1481.64 L786.929 1481.64 L786.929 1485.58 L764.985 1485.58 L764.985 1481.64 Q767.647 1478.89 772.23 1474.26 Q776.837 1469.61 778.017 1468.27 Q780.263 1465.74 781.142 1464.01 Q782.045 1462.25 782.045 1460.56 Q782.045 1457.8 780.101 1456.07 Q778.179 1454.33 775.077 1454.33 Q772.878 1454.33 770.425 1455.09 Q767.994 1455.86 765.216 1457.41 L765.216 1452.69 Q768.04 1451.55 770.494 1450.97 Q772.948 1450.39 774.985 1450.39 Q780.355 1450.39 783.55 1453.08 Q786.744 1455.77 786.744 1460.26 Q786.744 1462.39 785.934 1464.31 Q785.147 1466.2 783.04 1468.8 Q782.462 1469.47 779.36 1472.69 Q776.258 1475.88 770.61 1481.64 Z\" fill=\"#000000\" fill-rule=\"nonzero\" fill-opacity=\"1\" /><path clip-path=\"url(#clip510)\" d=\"M796.79 1451.02 L815.147 1451.02 L815.147 1454.96 L801.073 1454.96 L801.073 1463.43 Q802.091 1463.08 803.11 1462.92 Q804.128 1462.73 805.147 1462.73 Q810.934 1462.73 814.313 1465.9 Q817.693 1469.08 817.693 1474.49 Q817.693 1480.07 814.221 1483.17 Q810.749 1486.25 804.429 1486.25 Q802.253 1486.25 799.985 1485.88 Q797.739 1485.51 795.332 1484.77 L795.332 1480.07 Q797.415 1481.2 799.638 1481.76 Q801.86 1482.32 804.337 1482.32 Q808.341 1482.32 810.679 1480.21 Q813.017 1478.1 813.017 1474.49 Q813.017 1470.88 810.679 1468.77 Q808.341 1466.67 804.337 1466.67 Q802.462 1466.67 800.587 1467.08 Q798.735 1467.5 796.79 1468.38 L796.79 1451.02 Z\" fill=\"#000000\" fill-rule=\"nonzero\" fill-opacity=\"1\" /><path clip-path=\"url(#clip510)\" d=\"M1260.16 1451.02 L1278.51 1451.02 L1278.51 1454.96 L1264.44 1454.96 L1264.44 1463.43 Q1265.46 1463.08 1266.48 1462.92 Q1267.5 1462.73 1268.51 1462.73 Q1274.3 1462.73 1277.68 1465.9 Q1281.06 1469.08 1281.06 1474.49 Q1281.06 1480.07 1277.59 1483.17 Q1274.12 1486.25 1267.8 1486.25 Q1265.62 1486.25 1263.35 1485.88 Q1261.11 1485.51 1258.7 1484.77 L1258.7 1480.07 Q1260.78 1481.2 1263 1481.76 Q1265.23 1482.32 1267.7 1482.32 Q1271.71 1482.32 1274.05 1480.21 Q1276.38 1478.1 1276.38 1474.49 Q1276.38 1470.88 1274.05 1468.77 Q1271.71 1466.67 1267.7 1466.67 Q1265.83 1466.67 1263.95 1467.08 Q1262.1 1467.5 1260.16 1468.38 L1260.16 1451.02 Z\" fill=\"#000000\" fill-rule=\"nonzero\" fill-opacity=\"1\" /><path clip-path=\"url(#clip510)\" d=\"M1300.27 1454.1 Q1296.66 1454.1 1294.83 1457.66 Q1293.03 1461.2 1293.03 1468.33 Q1293.03 1475.44 1294.83 1479.01 Q1296.66 1482.55 1300.27 1482.55 Q1303.91 1482.55 1305.71 1479.01 Q1307.54 1475.44 1307.54 1468.33 Q1307.54 1461.2 1305.71 1457.66 Q1303.91 1454.1 1300.27 1454.1 M1300.27 1450.39 Q1306.08 1450.39 1309.14 1455 Q1312.22 1459.58 1312.22 1468.33 Q1312.22 1477.06 1309.14 1481.67 Q1306.08 1486.25 1300.27 1486.25 Q1294.46 1486.25 1291.38 1481.67 Q1288.33 1477.06 1288.33 1468.33 Q1288.33 1459.58 1291.38 1455 Q1294.46 1450.39 1300.27 1450.39 Z\" fill=\"#000000\" fill-rule=\"nonzero\" fill-opacity=\"1\" /><path clip-path=\"url(#clip510)\" d=\"M1753.43 1451.02 L1775.65 1451.02 L1775.65 1453.01 L1763.11 1485.58 L1758.22 1485.58 L1770.03 1454.96 L1753.43 1454.96 L1753.43 1451.02 Z\" fill=\"#000000\" fill-rule=\"nonzero\" fill-opacity=\"1\" /><path clip-path=\"url(#clip510)\" d=\"M1784.82 1451.02 L1803.18 1451.02 L1803.18 1454.96 L1789.1 1454.96 L1789.1 1463.43 Q1790.12 1463.08 1791.14 1462.92 Q1792.16 1462.73 1793.18 1462.73 Q1798.96 1462.73 1802.34 1465.9 Q1805.72 1469.08 1805.72 1474.49 Q1805.72 1480.07 1802.25 1483.17 Q1798.78 1486.25 1792.46 1486.25 Q1790.28 1486.25 1788.01 1485.88 Q1785.77 1485.51 1783.36 1484.77 L1783.36 1480.07 Q1785.45 1481.2 1787.67 1481.76 Q1789.89 1482.32 1792.37 1482.32 Q1796.37 1482.32 1798.71 1480.21 Q1801.05 1478.1 1801.05 1474.49 Q1801.05 1470.88 1798.71 1468.77 Q1796.37 1466.67 1792.37 1466.67 Q1790.49 1466.67 1788.62 1467.08 Q1786.76 1467.5 1784.82 1468.38 L1784.82 1451.02 Z\" fill=\"#000000\" fill-rule=\"nonzero\" fill-opacity=\"1\" /><path clip-path=\"url(#clip510)\" d=\"M2233.3 1481.64 L2240.94 1481.64 L2240.94 1455.28 L2232.63 1456.95 L2232.63 1452.69 L2240.9 1451.02 L2245.57 1451.02 L2245.57 1481.64 L2253.21 1481.64 L2253.21 1485.58 L2233.3 1485.58 L2233.3 1481.64 Z\" fill=\"#000000\" fill-rule=\"nonzero\" fill-opacity=\"1\" /><path clip-path=\"url(#clip510)\" d=\"M2272.66 1454.1 Q2269.04 1454.1 2267.22 1457.66 Q2265.41 1461.2 2265.41 1468.33 Q2265.41 1475.44 2267.22 1479.01 Q2269.04 1482.55 2272.66 1482.55 Q2276.29 1482.55 2278.09 1479.01 Q2279.92 1475.44 2279.92 1468.33 Q2279.92 1461.2 2278.09 1457.66 Q2276.29 1454.1 2272.66 1454.1 M2272.66 1450.39 Q2278.47 1450.39 2281.52 1455 Q2284.6 1459.58 2284.6 1468.33 Q2284.6 1477.06 2281.52 1481.67 Q2278.47 1486.25 2272.66 1486.25 Q2266.85 1486.25 2263.77 1481.67 Q2260.71 1477.06 2260.71 1468.33 Q2260.71 1459.58 2263.77 1455 Q2266.85 1450.39 2272.66 1450.39 Z\" fill=\"#000000\" fill-rule=\"nonzero\" fill-opacity=\"1\" /><path clip-path=\"url(#clip510)\" d=\"M2302.82 1454.1 Q2299.21 1454.1 2297.38 1457.66 Q2295.57 1461.2 2295.57 1468.33 Q2295.57 1475.44 2297.38 1479.01 Q2299.21 1482.55 2302.82 1482.55 Q2306.45 1482.55 2308.26 1479.01 Q2310.09 1475.44 2310.09 1468.33 Q2310.09 1461.2 2308.26 1457.66 Q2306.45 1454.1 2302.82 1454.1 M2302.82 1450.39 Q2308.63 1450.39 2311.68 1455 Q2314.76 1459.58 2314.76 1468.33 Q2314.76 1477.06 2311.68 1481.67 Q2308.63 1486.25 2302.82 1486.25 Q2297.01 1486.25 2293.93 1481.67 Q2290.87 1477.06 2290.87 1468.33 Q2290.87 1459.58 2293.93 1455 Q2297.01 1450.39 2302.82 1450.39 Z\" fill=\"#000000\" fill-rule=\"nonzero\" fill-opacity=\"1\" /><path clip-path=\"url(#clip510)\" d=\"M1155.22 1532.4 L1161.07 1532.4 L1161.07 1568.04 L1155.22 1568.04 L1155.22 1532.4 M1155.22 1518.52 L1161.07 1518.52 L1161.07 1525.93 L1155.22 1525.93 L1155.22 1518.52 Z\" fill=\"#000000\" fill-rule=\"nonzero\" fill-opacity=\"1\" /><path clip-path=\"url(#clip510)\" d=\"M1179.12 1522.27 L1179.12 1532.4 L1191.18 1532.4 L1191.18 1536.95 L1179.12 1536.95 L1179.12 1556.3 Q1179.12 1560.66 1180.3 1561.9 Q1181.51 1563.14 1185.17 1563.14 L1191.18 1563.14 L1191.18 1568.04 L1185.17 1568.04 Q1178.39 1568.04 1175.81 1565.53 Q1173.23 1562.98 1173.23 1556.3 L1173.23 1536.95 L1168.93 1536.95 L1168.93 1532.4 L1173.23 1532.4 L1173.23 1522.27 L1179.12 1522.27 Z\" fill=\"#000000\" fill-rule=\"nonzero\" fill-opacity=\"1\" /><path clip-path=\"url(#clip510)\" d=\"M1229.38 1548.76 L1229.38 1551.62 L1202.45 1551.62 Q1202.83 1557.67 1206.08 1560.85 Q1209.36 1564 1215.18 1564 Q1218.55 1564 1221.7 1563.17 Q1224.89 1562.35 1228.01 1560.69 L1228.01 1566.23 Q1224.86 1567.57 1221.55 1568.27 Q1218.24 1568.97 1214.83 1568.97 Q1206.3 1568.97 1201.3 1564 Q1196.34 1559.04 1196.34 1550.57 Q1196.34 1541.82 1201.05 1536.69 Q1205.79 1531.54 1213.81 1531.54 Q1221 1531.54 1225.17 1536.18 Q1229.38 1540.8 1229.38 1548.76 M1223.52 1547.04 Q1223.46 1542.23 1220.81 1539.37 Q1218.2 1536.5 1213.88 1536.5 Q1208.97 1536.5 1206.01 1539.27 Q1203.09 1542.04 1202.64 1547.07 L1223.52 1547.04 Z\" fill=\"#000000\" fill-rule=\"nonzero\" fill-opacity=\"1\" /><path clip-path=\"url(#clip510)\" d=\"M1259.64 1537.87 Q1258.66 1537.3 1257.48 1537.04 Q1256.33 1536.76 1254.93 1536.76 Q1249.97 1536.76 1247.3 1540 Q1244.65 1543.22 1244.65 1549.27 L1244.65 1568.04 L1238.77 1568.04 L1238.77 1532.4 L1244.65 1532.4 L1244.65 1537.93 Q1246.5 1534.69 1249.46 1533.13 Q1252.42 1531.54 1256.65 1531.54 Q1257.26 1531.54 1257.99 1531.63 Q1258.72 1531.7 1259.61 1531.85 L1259.64 1537.87 Z\" fill=\"#000000\" fill-rule=\"nonzero\" fill-opacity=\"1\" /><path clip-path=\"url(#clip510)\" d=\"M1281.99 1550.12 Q1274.89 1550.12 1272.15 1551.75 Q1269.42 1553.37 1269.42 1557.29 Q1269.42 1560.4 1271.45 1562.25 Q1273.52 1564.07 1277.05 1564.07 Q1281.92 1564.07 1284.85 1560.63 Q1287.81 1557.16 1287.81 1551.43 L1287.81 1550.12 L1281.99 1550.12 M1293.67 1547.71 L1293.67 1568.04 L1287.81 1568.04 L1287.81 1562.63 Q1285.81 1565.88 1282.82 1567.44 Q1279.82 1568.97 1275.5 1568.97 Q1270.02 1568.97 1266.77 1565.91 Q1263.56 1562.82 1263.56 1557.67 Q1263.56 1551.65 1267.57 1548.6 Q1271.61 1545.54 1279.6 1545.54 L1287.81 1545.54 L1287.81 1544.97 Q1287.81 1540.93 1285.14 1538.73 Q1282.5 1536.5 1277.69 1536.5 Q1274.64 1536.5 1271.74 1537.23 Q1268.84 1537.97 1266.17 1539.43 L1266.17 1534.02 Q1269.38 1532.78 1272.41 1532.17 Q1275.43 1531.54 1278.3 1531.54 Q1286.03 1531.54 1289.85 1535.55 Q1293.67 1539.56 1293.67 1547.71 Z\" fill=\"#000000\" fill-rule=\"nonzero\" fill-opacity=\"1\" /><path clip-path=\"url(#clip510)\" d=\"M1311.53 1522.27 L1311.53 1532.4 L1323.59 1532.4 L1323.59 1536.95 L1311.53 1536.95 L1311.53 1556.3 Q1311.53 1560.66 1312.7 1561.9 Q1313.91 1563.14 1317.57 1563.14 L1323.59 1563.14 L1323.59 1568.04 L1317.57 1568.04 Q1310.79 1568.04 1308.21 1565.53 Q1305.64 1562.98 1305.64 1556.3 L1305.64 1536.95 L1301.34 1536.95 L1301.34 1532.4 L1305.64 1532.4 L1305.64 1522.27 L1311.53 1522.27 Z\" fill=\"#000000\" fill-rule=\"nonzero\" fill-opacity=\"1\" /><path clip-path=\"url(#clip510)\" d=\"M1331.29 1532.4 L1337.15 1532.4 L1337.15 1568.04 L1331.29 1568.04 L1331.29 1532.4 M1331.29 1518.52 L1337.15 1518.52 L1337.15 1525.93 L1331.29 1525.93 L1331.29 1518.52 Z\" fill=\"#000000\" fill-rule=\"nonzero\" fill-opacity=\"1\" /><path clip-path=\"url(#clip510)\" d=\"M1363.21 1536.5 Q1358.5 1536.5 1355.77 1540.19 Q1353.03 1543.85 1353.03 1550.25 Q1353.03 1556.65 1355.73 1560.34 Q1358.47 1564 1363.21 1564 Q1367.89 1564 1370.63 1560.31 Q1373.37 1556.62 1373.37 1550.25 Q1373.37 1543.92 1370.63 1540.23 Q1367.89 1536.5 1363.21 1536.5 M1363.21 1531.54 Q1370.85 1531.54 1375.21 1536.5 Q1379.57 1541.47 1379.57 1550.25 Q1379.57 1559 1375.21 1564 Q1370.85 1568.97 1363.21 1568.97 Q1355.54 1568.97 1351.18 1564 Q1346.85 1559 1346.85 1550.25 Q1346.85 1541.47 1351.18 1536.5 Q1355.54 1531.54 1363.21 1531.54 Z\" fill=\"#000000\" fill-rule=\"nonzero\" fill-opacity=\"1\" /><path clip-path=\"url(#clip510)\" d=\"M1418.91 1546.53 L1418.91 1568.04 L1413.06 1568.04 L1413.06 1546.72 Q1413.06 1541.66 1411.08 1539.14 Q1409.11 1536.63 1405.16 1536.63 Q1400.42 1536.63 1397.68 1539.65 Q1394.95 1542.68 1394.95 1547.9 L1394.95 1568.04 L1389.06 1568.04 L1389.06 1532.4 L1394.95 1532.4 L1394.95 1537.93 Q1397.05 1534.72 1399.88 1533.13 Q1402.75 1531.54 1406.47 1531.54 Q1412.61 1531.54 1415.76 1535.36 Q1418.91 1539.14 1418.91 1546.53 Z\" fill=\"#000000\" fill-rule=\"nonzero\" fill-opacity=\"1\" /><path clip-path=\"url(#clip510)\" d=\"M1453.32 1533.45 L1453.32 1538.98 Q1450.84 1537.71 1448.16 1537.07 Q1445.49 1536.44 1442.63 1536.44 Q1438.27 1536.44 1436.07 1537.77 Q1433.91 1539.11 1433.91 1541.79 Q1433.91 1543.82 1435.47 1545 Q1437.02 1546.15 1441.74 1547.2 L1443.74 1547.64 Q1449.98 1548.98 1452.59 1551.43 Q1455.23 1553.85 1455.23 1558.21 Q1455.23 1563.17 1451.28 1566.07 Q1447.37 1568.97 1440.49 1568.97 Q1437.63 1568.97 1434.51 1568.39 Q1431.42 1567.85 1427.99 1566.74 L1427.99 1560.69 Q1431.23 1562.38 1434.38 1563.24 Q1437.53 1564.07 1440.62 1564.07 Q1444.76 1564.07 1446.99 1562.66 Q1449.22 1561.23 1449.22 1558.65 Q1449.22 1556.27 1447.59 1554.99 Q1446 1553.72 1440.56 1552.54 L1438.52 1552.07 Q1433.08 1550.92 1430.66 1548.56 Q1428.24 1546.18 1428.24 1542.04 Q1428.24 1537.01 1431.81 1534.27 Q1435.37 1531.54 1441.93 1531.54 Q1445.17 1531.54 1448.04 1532.01 Q1450.9 1532.49 1453.32 1533.45 Z\" fill=\"#000000\" fill-rule=\"nonzero\" fill-opacity=\"1\" /><polyline clip-path=\"url(#clip512)\" style=\"stroke:#000000; stroke-linecap:round; stroke-linejoin:round; stroke-width:2; stroke-opacity:0.1; fill:none\" points=\"257.69,1270.97 2352.76,1270.97 \"/>\n",
       "<polyline clip-path=\"url(#clip512)\" style=\"stroke:#000000; stroke-linecap:round; stroke-linejoin:round; stroke-width:2; stroke-opacity:0.1; fill:none\" points=\"257.69,1089.79 2352.76,1089.79 \"/>\n",
       "<polyline clip-path=\"url(#clip512)\" style=\"stroke:#000000; stroke-linecap:round; stroke-linejoin:round; stroke-width:2; stroke-opacity:0.1; fill:none\" points=\"257.69,908.608 2352.76,908.608 \"/>\n",
       "<polyline clip-path=\"url(#clip512)\" style=\"stroke:#000000; stroke-linecap:round; stroke-linejoin:round; stroke-width:2; stroke-opacity:0.1; fill:none\" points=\"257.69,727.426 2352.76,727.426 \"/>\n",
       "<polyline clip-path=\"url(#clip512)\" style=\"stroke:#000000; stroke-linecap:round; stroke-linejoin:round; stroke-width:2; stroke-opacity:0.1; fill:none\" points=\"257.69,546.244 2352.76,546.244 \"/>\n",
       "<polyline clip-path=\"url(#clip512)\" style=\"stroke:#000000; stroke-linecap:round; stroke-linejoin:round; stroke-width:2; stroke-opacity:0.1; fill:none\" points=\"257.69,365.061 2352.76,365.061 \"/>\n",
       "<polyline clip-path=\"url(#clip512)\" style=\"stroke:#000000; stroke-linecap:round; stroke-linejoin:round; stroke-width:2; stroke-opacity:0.1; fill:none\" points=\"257.69,183.879 2352.76,183.879 \"/>\n",
       "<polyline clip-path=\"url(#clip510)\" style=\"stroke:#000000; stroke-linecap:round; stroke-linejoin:round; stroke-width:4; stroke-opacity:1; fill:none\" points=\"257.69,1423.18 257.69,47.2441 \"/>\n",
       "<polyline clip-path=\"url(#clip510)\" style=\"stroke:#000000; stroke-linecap:round; stroke-linejoin:round; stroke-width:4; stroke-opacity:1; fill:none\" points=\"257.69,1270.97 276.588,1270.97 \"/>\n",
       "<polyline clip-path=\"url(#clip510)\" style=\"stroke:#000000; stroke-linecap:round; stroke-linejoin:round; stroke-width:4; stroke-opacity:1; fill:none\" points=\"257.69,1089.79 276.588,1089.79 \"/>\n",
       "<polyline clip-path=\"url(#clip510)\" style=\"stroke:#000000; stroke-linecap:round; stroke-linejoin:round; stroke-width:4; stroke-opacity:1; fill:none\" points=\"257.69,908.608 276.588,908.608 \"/>\n",
       "<polyline clip-path=\"url(#clip510)\" style=\"stroke:#000000; stroke-linecap:round; stroke-linejoin:round; stroke-width:4; stroke-opacity:1; fill:none\" points=\"257.69,727.426 276.588,727.426 \"/>\n",
       "<polyline clip-path=\"url(#clip510)\" style=\"stroke:#000000; stroke-linecap:round; stroke-linejoin:round; stroke-width:4; stroke-opacity:1; fill:none\" points=\"257.69,546.244 276.588,546.244 \"/>\n",
       "<polyline clip-path=\"url(#clip510)\" style=\"stroke:#000000; stroke-linecap:round; stroke-linejoin:round; stroke-width:4; stroke-opacity:1; fill:none\" points=\"257.69,365.061 276.588,365.061 \"/>\n",
       "<polyline clip-path=\"url(#clip510)\" style=\"stroke:#000000; stroke-linecap:round; stroke-linejoin:round; stroke-width:4; stroke-opacity:1; fill:none\" points=\"257.69,183.879 276.588,183.879 \"/>\n",
       "<path clip-path=\"url(#clip510)\" d=\"M114.584 1271.42 L144.26 1271.42 L144.26 1275.36 L114.584 1275.36 L114.584 1271.42 Z\" fill=\"#000000\" fill-rule=\"nonzero\" fill-opacity=\"1\" /><path clip-path=\"url(#clip510)\" d=\"M164.352 1256.77 Q160.741 1256.77 158.913 1260.34 Q157.107 1263.88 157.107 1271.01 Q157.107 1278.11 158.913 1281.68 Q160.741 1285.22 164.352 1285.22 Q167.987 1285.22 169.792 1281.68 Q171.621 1278.11 171.621 1271.01 Q171.621 1263.88 169.792 1260.34 Q167.987 1256.77 164.352 1256.77 M164.352 1253.07 Q170.163 1253.07 173.218 1257.67 Q176.297 1262.26 176.297 1271.01 Q176.297 1279.73 173.218 1284.34 Q170.163 1288.92 164.352 1288.92 Q158.542 1288.92 155.464 1284.34 Q152.408 1279.73 152.408 1271.01 Q152.408 1262.26 155.464 1257.67 Q158.542 1253.07 164.352 1253.07 Z\" fill=\"#000000\" fill-rule=\"nonzero\" fill-opacity=\"1\" /><path clip-path=\"url(#clip510)\" d=\"M184.514 1282.37 L189.399 1282.37 L189.399 1288.25 L184.514 1288.25 L184.514 1282.37 Z\" fill=\"#000000\" fill-rule=\"nonzero\" fill-opacity=\"1\" /><path clip-path=\"url(#clip510)\" d=\"M210.162 1269.11 Q207.014 1269.11 205.162 1271.26 Q203.334 1273.41 203.334 1277.16 Q203.334 1280.89 205.162 1283.07 Q207.014 1285.22 210.162 1285.22 Q213.311 1285.22 215.139 1283.07 Q216.991 1280.89 216.991 1277.16 Q216.991 1273.41 215.139 1271.26 Q213.311 1269.11 210.162 1269.11 M219.445 1254.46 L219.445 1258.72 Q217.686 1257.88 215.88 1257.44 Q214.098 1257 212.338 1257 Q207.709 1257 205.255 1260.13 Q202.824 1263.25 202.477 1269.57 Q203.843 1267.56 205.903 1266.49 Q207.963 1265.4 210.44 1265.4 Q215.649 1265.4 218.658 1268.58 Q221.69 1271.72 221.69 1277.16 Q221.69 1282.49 218.542 1285.71 Q215.394 1288.92 210.162 1288.92 Q204.167 1288.92 200.996 1284.34 Q197.825 1279.73 197.825 1271.01 Q197.825 1262.81 201.713 1257.95 Q205.602 1253.07 212.153 1253.07 Q213.912 1253.07 215.695 1253.41 Q217.5 1253.76 219.445 1254.46 Z\" fill=\"#000000\" fill-rule=\"nonzero\" fill-opacity=\"1\" /><path clip-path=\"url(#clip510)\" d=\"M115.742 1090.24 L145.417 1090.24 L145.417 1094.18 L115.742 1094.18 L115.742 1090.24 Z\" fill=\"#000000\" fill-rule=\"nonzero\" fill-opacity=\"1\" /><path clip-path=\"url(#clip510)\" d=\"M165.51 1075.59 Q161.899 1075.59 160.07 1079.15 Q158.265 1082.69 158.265 1089.82 Q158.265 1096.93 160.07 1100.5 Q161.899 1104.04 165.51 1104.04 Q169.144 1104.04 170.95 1100.5 Q172.778 1096.93 172.778 1089.82 Q172.778 1082.69 170.95 1079.15 Q169.144 1075.59 165.51 1075.59 M165.51 1071.88 Q171.32 1071.88 174.376 1076.49 Q177.454 1081.07 177.454 1089.82 Q177.454 1098.55 174.376 1103.16 Q171.32 1107.74 165.51 1107.74 Q159.7 1107.74 156.621 1103.16 Q153.566 1098.55 153.566 1089.82 Q153.566 1081.07 156.621 1076.49 Q159.7 1071.88 165.51 1071.88 Z\" fill=\"#000000\" fill-rule=\"nonzero\" fill-opacity=\"1\" /><path clip-path=\"url(#clip510)\" d=\"M185.672 1101.19 L190.556 1101.19 L190.556 1107.07 L185.672 1107.07 L185.672 1101.19 Z\" fill=\"#000000\" fill-rule=\"nonzero\" fill-opacity=\"1\" /><path clip-path=\"url(#clip510)\" d=\"M200.787 1072.51 L219.144 1072.51 L219.144 1076.44 L205.07 1076.44 L205.07 1084.92 Q206.088 1084.57 207.107 1084.41 Q208.125 1084.22 209.144 1084.22 Q214.931 1084.22 218.311 1087.39 Q221.69 1090.57 221.69 1095.98 Q221.69 1101.56 218.218 1104.66 Q214.746 1107.74 208.426 1107.74 Q206.25 1107.74 203.982 1107.37 Q201.737 1107 199.329 1106.26 L199.329 1101.56 Q201.412 1102.69 203.635 1103.25 Q205.857 1103.81 208.334 1103.81 Q212.338 1103.81 214.676 1101.7 Q217.014 1099.59 217.014 1095.98 Q217.014 1092.37 214.676 1090.26 Q212.338 1088.16 208.334 1088.16 Q206.459 1088.16 204.584 1088.57 Q202.732 1088.99 200.787 1089.87 L200.787 1072.51 Z\" fill=\"#000000\" fill-rule=\"nonzero\" fill-opacity=\"1\" /><path clip-path=\"url(#clip510)\" d=\"M114.26 909.059 L143.936 909.059 L143.936 912.994 L114.26 912.994 L114.26 909.059 Z\" fill=\"#000000\" fill-rule=\"nonzero\" fill-opacity=\"1\" /><path clip-path=\"url(#clip510)\" d=\"M164.028 894.406 Q160.417 894.406 158.589 897.971 Q156.783 901.513 156.783 908.642 Q156.783 915.749 158.589 919.314 Q160.417 922.855 164.028 922.855 Q167.663 922.855 169.468 919.314 Q171.297 915.749 171.297 908.642 Q171.297 901.513 169.468 897.971 Q167.663 894.406 164.028 894.406 M164.028 890.703 Q169.839 890.703 172.894 895.309 Q175.973 899.893 175.973 908.642 Q175.973 917.369 172.894 921.976 Q169.839 926.559 164.028 926.559 Q158.218 926.559 155.14 921.976 Q152.084 917.369 152.084 908.642 Q152.084 899.893 155.14 895.309 Q158.218 890.703 164.028 890.703 Z\" fill=\"#000000\" fill-rule=\"nonzero\" fill-opacity=\"1\" /><path clip-path=\"url(#clip510)\" d=\"M184.19 920.008 L189.075 920.008 L189.075 925.888 L184.19 925.888 L184.19 920.008 Z\" fill=\"#000000\" fill-rule=\"nonzero\" fill-opacity=\"1\" /><path clip-path=\"url(#clip510)\" d=\"M212.107 895.402 L200.301 913.851 L212.107 913.851 L212.107 895.402 M210.88 891.328 L216.76 891.328 L216.76 913.851 L221.69 913.851 L221.69 917.74 L216.76 917.74 L216.76 925.888 L212.107 925.888 L212.107 917.74 L196.505 917.74 L196.505 913.226 L210.88 891.328 Z\" fill=\"#000000\" fill-rule=\"nonzero\" fill-opacity=\"1\" /><path clip-path=\"url(#clip510)\" d=\"M115.394 727.877 L145.07 727.877 L145.07 731.812 L115.394 731.812 L115.394 727.877 Z\" fill=\"#000000\" fill-rule=\"nonzero\" fill-opacity=\"1\" /><path clip-path=\"url(#clip510)\" d=\"M165.163 713.224 Q161.552 713.224 159.723 716.789 Q157.917 720.331 157.917 727.46 Q157.917 734.567 159.723 738.132 Q161.552 741.673 165.163 741.673 Q168.797 741.673 170.602 738.132 Q172.431 734.567 172.431 727.46 Q172.431 720.331 170.602 716.789 Q168.797 713.224 165.163 713.224 M165.163 709.521 Q170.973 709.521 174.028 714.127 Q177.107 718.71 177.107 727.46 Q177.107 736.187 174.028 740.794 Q170.973 745.377 165.163 745.377 Q159.353 745.377 156.274 740.794 Q153.218 736.187 153.218 727.46 Q153.218 718.71 156.274 714.127 Q159.353 709.521 165.163 709.521 Z\" fill=\"#000000\" fill-rule=\"nonzero\" fill-opacity=\"1\" /><path clip-path=\"url(#clip510)\" d=\"M185.325 738.826 L190.209 738.826 L190.209 744.706 L185.325 744.706 L185.325 738.826 Z\" fill=\"#000000\" fill-rule=\"nonzero\" fill-opacity=\"1\" /><path clip-path=\"url(#clip510)\" d=\"M214.561 726.071 Q217.917 726.789 219.792 729.058 Q221.69 731.326 221.69 734.659 Q221.69 739.775 218.172 742.576 Q214.653 745.377 208.172 745.377 Q205.996 745.377 203.681 744.937 Q201.389 744.52 198.936 743.664 L198.936 739.15 Q200.88 740.284 203.195 740.863 Q205.51 741.442 208.033 741.442 Q212.431 741.442 214.723 739.706 Q217.037 737.97 217.037 734.659 Q217.037 731.604 214.885 729.891 Q212.755 728.155 208.936 728.155 L204.908 728.155 L204.908 724.312 L209.121 724.312 Q212.57 724.312 214.399 722.947 Q216.227 721.558 216.227 718.965 Q216.227 716.303 214.329 714.891 Q212.454 713.456 208.936 713.456 Q207.014 713.456 204.815 713.872 Q202.616 714.289 199.977 715.169 L199.977 711.002 Q202.639 710.261 204.954 709.891 Q207.292 709.521 209.352 709.521 Q214.676 709.521 217.778 711.951 Q220.88 714.359 220.88 718.479 Q220.88 721.349 219.236 723.34 Q217.593 725.308 214.561 726.071 Z\" fill=\"#000000\" fill-rule=\"nonzero\" fill-opacity=\"1\" /><path clip-path=\"url(#clip510)\" d=\"M116.343 546.695 L146.019 546.695 L146.019 550.63 L116.343 550.63 L116.343 546.695 Z\" fill=\"#000000\" fill-rule=\"nonzero\" fill-opacity=\"1\" /><path clip-path=\"url(#clip510)\" d=\"M166.112 532.042 Q162.501 532.042 160.672 535.607 Q158.866 539.149 158.866 546.278 Q158.866 553.385 160.672 556.95 Q162.501 560.491 166.112 560.491 Q169.746 560.491 171.552 556.95 Q173.38 553.385 173.38 546.278 Q173.38 539.149 171.552 535.607 Q169.746 532.042 166.112 532.042 M166.112 528.339 Q171.922 528.339 174.977 532.945 Q178.056 537.528 178.056 546.278 Q178.056 555.005 174.977 559.612 Q171.922 564.195 166.112 564.195 Q160.302 564.195 157.223 559.612 Q154.167 555.005 154.167 546.278 Q154.167 537.528 157.223 532.945 Q160.302 528.339 166.112 528.339 Z\" fill=\"#000000\" fill-rule=\"nonzero\" fill-opacity=\"1\" /><path clip-path=\"url(#clip510)\" d=\"M186.274 557.644 L191.158 557.644 L191.158 563.524 L186.274 563.524 L186.274 557.644 Z\" fill=\"#000000\" fill-rule=\"nonzero\" fill-opacity=\"1\" /><path clip-path=\"url(#clip510)\" d=\"M205.371 559.588 L221.69 559.588 L221.69 563.524 L199.746 563.524 L199.746 559.588 Q202.408 556.834 206.991 552.204 Q211.598 547.551 212.778 546.209 Q215.024 543.686 215.903 541.95 Q216.806 540.19 216.806 538.501 Q216.806 535.746 214.861 534.01 Q212.94 532.274 209.838 532.274 Q207.639 532.274 205.186 533.038 Q202.755 533.801 199.977 535.352 L199.977 530.63 Q202.801 529.496 205.255 528.917 Q207.709 528.339 209.746 528.339 Q215.116 528.339 218.311 531.024 Q221.505 533.709 221.505 538.2 Q221.505 540.329 220.695 542.251 Q219.908 544.149 217.801 546.741 Q217.223 547.413 214.121 550.63 Q211.019 553.825 205.371 559.588 Z\" fill=\"#000000\" fill-rule=\"nonzero\" fill-opacity=\"1\" /><path clip-path=\"url(#clip510)\" d=\"M115.973 365.513 L145.649 365.513 L145.649 369.448 L115.973 369.448 L115.973 365.513 Z\" fill=\"#000000\" fill-rule=\"nonzero\" fill-opacity=\"1\" /><path clip-path=\"url(#clip510)\" d=\"M165.741 350.86 Q162.13 350.86 160.302 354.425 Q158.496 357.967 158.496 365.096 Q158.496 372.203 160.302 375.767 Q162.13 379.309 165.741 379.309 Q169.376 379.309 171.181 375.767 Q173.01 372.203 173.01 365.096 Q173.01 357.967 171.181 354.425 Q169.376 350.86 165.741 350.86 M165.741 347.156 Q171.552 347.156 174.607 351.763 Q177.686 356.346 177.686 365.096 Q177.686 373.823 174.607 378.429 Q171.552 383.013 165.741 383.013 Q159.931 383.013 156.853 378.429 Q153.797 373.823 153.797 365.096 Q153.797 356.346 156.853 351.763 Q159.931 347.156 165.741 347.156 Z\" fill=\"#000000\" fill-rule=\"nonzero\" fill-opacity=\"1\" /><path clip-path=\"url(#clip510)\" d=\"M185.903 376.462 L190.788 376.462 L190.788 382.341 L185.903 382.341 L185.903 376.462 Z\" fill=\"#000000\" fill-rule=\"nonzero\" fill-opacity=\"1\" /><path clip-path=\"url(#clip510)\" d=\"M201.783 378.406 L209.422 378.406 L209.422 352.041 L201.112 353.707 L201.112 349.448 L209.375 347.781 L214.051 347.781 L214.051 378.406 L221.69 378.406 L221.69 382.341 L201.783 382.341 L201.783 378.406 Z\" fill=\"#000000\" fill-rule=\"nonzero\" fill-opacity=\"1\" /><path clip-path=\"url(#clip510)\" d=\"M164.515 169.678 Q160.903 169.678 159.075 173.243 Q157.269 176.784 157.269 183.914 Q157.269 191.021 159.075 194.585 Q160.903 198.127 164.515 198.127 Q168.149 198.127 169.954 194.585 Q171.783 191.021 171.783 183.914 Q171.783 176.784 169.954 173.243 Q168.149 169.678 164.515 169.678 M164.515 165.974 Q170.325 165.974 173.38 170.581 Q176.459 175.164 176.459 183.914 Q176.459 192.641 173.38 197.247 Q170.325 201.831 164.515 201.831 Q158.704 201.831 155.626 197.247 Q152.57 192.641 152.57 183.914 Q152.57 175.164 155.626 170.581 Q158.704 165.974 164.515 165.974 Z\" fill=\"#000000\" fill-rule=\"nonzero\" fill-opacity=\"1\" /><path clip-path=\"url(#clip510)\" d=\"M184.676 195.28 L189.561 195.28 L189.561 201.159 L184.676 201.159 L184.676 195.28 Z\" fill=\"#000000\" fill-rule=\"nonzero\" fill-opacity=\"1\" /><path clip-path=\"url(#clip510)\" d=\"M209.746 169.678 Q206.135 169.678 204.306 173.243 Q202.5 176.784 202.5 183.914 Q202.5 191.021 204.306 194.585 Q206.135 198.127 209.746 198.127 Q213.38 198.127 215.186 194.585 Q217.014 191.021 217.014 183.914 Q217.014 176.784 215.186 173.243 Q213.38 169.678 209.746 169.678 M209.746 165.974 Q215.556 165.974 218.611 170.581 Q221.69 175.164 221.69 183.914 Q221.69 192.641 218.611 197.247 Q215.556 201.831 209.746 201.831 Q203.936 201.831 200.857 197.247 Q197.801 192.641 197.801 183.914 Q197.801 175.164 200.857 170.581 Q203.936 165.974 209.746 165.974 Z\" fill=\"#000000\" fill-rule=\"nonzero\" fill-opacity=\"1\" /><path clip-path=\"url(#clip510)\" d=\"M43.5702 775.411 L14.5426 766.436 L14.5426 761.025 L43.5702 770.001 L72.5979 761.025 L72.5979 766.436 L43.5702 775.411 Z\" fill=\"#000000\" fill-rule=\"nonzero\" fill-opacity=\"1\" /><path clip-path=\"url(#clip510)\" d=\"M16.4842 749.407 L16.4842 719.361 L21.895 719.361 L21.895 742.978 L35.9632 742.978 L35.9632 720.348 L41.3741 720.348 L41.3741 742.978 L58.5933 742.978 L58.5933 718.788 L64.0042 718.788 L64.0042 749.407 L16.4842 749.407 Z\" fill=\"#000000\" fill-rule=\"nonzero\" fill-opacity=\"1\" /><path clip-path=\"url(#clip510)\" d=\"M43.5702 695.013 L72.5979 703.988 L72.5979 709.399 L43.5702 700.423 L14.5426 709.399 L14.5426 703.988 L43.5702 695.013 Z\" fill=\"#000000\" fill-rule=\"nonzero\" fill-opacity=\"1\" /><polyline clip-path=\"url(#clip512)\" style=\"stroke:#0000ff; stroke-linecap:round; stroke-linejoin:round; stroke-width:4; stroke-opacity:1; fill:none\" points=\"316.984,86.1857 336.749,376.483 356.514,1009.4 376.279,1058.04 396.044,1181.75 415.808,1211.8 435.573,1234.56 455.338,1262.77 475.103,1291 494.867,1315.98 514.632,1339.4 534.397,1352.07 554.162,1360.43 573.926,1365.6 593.691,1371.27 613.456,1374.26 633.221,1375.49 652.986,1376.83 672.75,1377.44 692.515,1378.06 712.28,1378.6 732.045,1379.16 751.809,1379.5 771.574,1380.07 791.339,1380.76 811.104,1380.96 830.869,1381.15 850.633,1381.29 870.398,1381.48 890.163,1381.65 909.928,1381.72 929.692,1381.83 949.457,1381.87 969.222,1381.91 988.987,1381.94 1008.75,1381.99 1028.52,1382.01 1048.28,1382.05 1068.05,1382.11 1087.81,1382.13 1107.58,1382.29 1127.34,1382.38 1147.1,1382.6 1166.87,1382.83 1186.63,1383.1 1206.4,1383.38 1226.16,1383.56 1245.93,1383.78 1265.69,1383.89 1285.46,1383.95 1305.22,1384.01 1324.99,1384.04 1344.75,1384.09 1364.52,1384.11 1384.28,1384.13 1404.05,1384.16 1423.81,1384.16 1443.58,1384.17 1463.34,1384.17 1483.11,1384.18 1502.87,1384.18 1522.64,1384.19 1542.4,1384.19 1562.17,1384.19 1581.93,1384.19 1601.69,1384.19 1621.46,1384.2 1641.22,1384.2 1660.99,1384.2 1680.75,1384.2 1700.52,1384.2 1720.28,1384.21 1740.05,1384.21 1759.81,1384.21 1779.58,1384.22 1799.34,1384.22 1819.11,1384.22 1838.87,1384.23 1858.64,1384.23 1878.4,1384.23 1898.17,1384.23 1917.93,1384.23 1937.7,1384.23 1957.46,1384.23 1977.23,1384.23 1996.99,1384.23 2016.75,1384.23 2036.52,1384.23 2056.28,1384.23 2076.05,1384.23 2095.81,1384.24 2115.58,1384.24 2135.34,1384.24 2155.11,1384.24 2174.87,1384.24 2194.64,1384.24 2214.4,1384.24 2234.17,1384.24 2253.93,1384.24 2273.7,1384.24 2293.46,1384.24 \"/>\n",
       "</svg>\n"
      ]
     },
     "metadata": {},
     "output_type": "display_data"
    }
   ],
   "source": [
    "pval"
   ]
  },
  {
   "cell_type": "code",
   "execution_count": 92,
   "metadata": {},
   "outputs": [
    {
     "data": {
      "image/png": "[encoded data removed]",
      "image/svg+xml": [
       "<?xml version=\"1.0\" encoding=\"utf-8\"?>\n",
       "<svg xmlns=\"http://www.w3.org/2000/svg\" xmlns:xlink=\"http://www.w3.org/1999/xlink\" width=\"600\" height=\"400\" viewBox=\"0 0 2400 1600\">\n",
       "<defs>\n",
       "  <clipPath id=\"clip550\">\n",
       "    <rect x=\"0\" y=\"0\" width=\"2400\" height=\"1600\"/>\n",
       "  </clipPath>\n",
       "</defs>\n",
       "<path clip-path=\"url(#clip550)\" d=\"M0 1600 L2400 1600 L2400 0 L0 0  Z\" fill=\"#ffffff\" fill-rule=\"evenodd\" fill-opacity=\"1\"/>\n",
       "<defs>\n",
       "  <clipPath id=\"clip551\">\n",
       "    <rect x=\"480\" y=\"0\" width=\"1681\" height=\"1600\"/>\n",
       "  </clipPath>\n",
       "</defs>\n",
       "<path clip-path=\"url(#clip550)\" d=\"M212.459 1486.45 L2352.76 1486.45 L2352.76 47.2441 L212.459 47.2441  Z\" fill=\"#ffffff\" fill-rule=\"evenodd\" fill-opacity=\"1\"/>\n",
       "<defs>\n",
       "  <clipPath id=\"clip552\">\n",
       "    <rect x=\"212\" y=\"47\" width=\"2141\" height=\"1440\"/>\n",
       "  </clipPath>\n",
       "</defs>\n",
       "<polyline clip-path=\"url(#clip552)\" style=\"stroke:#000000; stroke-linecap:round; stroke-linejoin:round; stroke-width:2; stroke-opacity:0.1; fill:none\" points=\"252.842,1486.45 252.842,47.2441 \"/>\n",
       "<polyline clip-path=\"url(#clip552)\" style=\"stroke:#000000; stroke-linecap:round; stroke-linejoin:round; stroke-width:2; stroke-opacity:0.1; fill:none\" points=\"757.629,1486.45 757.629,47.2441 \"/>\n",
       "<polyline clip-path=\"url(#clip552)\" style=\"stroke:#000000; stroke-linecap:round; stroke-linejoin:round; stroke-width:2; stroke-opacity:0.1; fill:none\" points=\"1262.42,1486.45 1262.42,47.2441 \"/>\n",
       "<polyline clip-path=\"url(#clip552)\" style=\"stroke:#000000; stroke-linecap:round; stroke-linejoin:round; stroke-width:2; stroke-opacity:0.1; fill:none\" points=\"1767.2,1486.45 1767.2,47.2441 \"/>\n",
       "<polyline clip-path=\"url(#clip552)\" style=\"stroke:#000000; stroke-linecap:round; stroke-linejoin:round; stroke-width:2; stroke-opacity:0.1; fill:none\" points=\"2271.99,1486.45 2271.99,47.2441 \"/>\n",
       "<polyline clip-path=\"url(#clip550)\" style=\"stroke:#000000; stroke-linecap:round; stroke-linejoin:round; stroke-width:4; stroke-opacity:1; fill:none\" points=\"212.459,1486.45 2352.76,1486.45 \"/>\n",
       "<polyline clip-path=\"url(#clip550)\" style=\"stroke:#000000; stroke-linecap:round; stroke-linejoin:round; stroke-width:4; stroke-opacity:1; fill:none\" points=\"252.842,1486.45 252.842,1467.55 \"/>\n",
       "<polyline clip-path=\"url(#clip550)\" style=\"stroke:#000000; stroke-linecap:round; stroke-linejoin:round; stroke-width:4; stroke-opacity:1; fill:none\" points=\"757.629,1486.45 757.629,1467.55 \"/>\n",
       "<polyline clip-path=\"url(#clip550)\" style=\"stroke:#000000; stroke-linecap:round; stroke-linejoin:round; stroke-width:4; stroke-opacity:1; fill:none\" points=\"1262.42,1486.45 1262.42,1467.55 \"/>\n",
       "<polyline clip-path=\"url(#clip550)\" style=\"stroke:#000000; stroke-linecap:round; stroke-linejoin:round; stroke-width:4; stroke-opacity:1; fill:none\" points=\"1767.2,1486.45 1767.2,1467.55 \"/>\n",
       "<polyline clip-path=\"url(#clip550)\" style=\"stroke:#000000; stroke-linecap:round; stroke-linejoin:round; stroke-width:4; stroke-opacity:1; fill:none\" points=\"2271.99,1486.45 2271.99,1467.55 \"/>\n",
       "<path clip-path=\"url(#clip550)\" d=\"M252.842 1517.37 Q249.231 1517.37 247.402 1520.93 Q245.597 1524.47 245.597 1531.6 Q245.597 1538.71 247.402 1542.27 Q249.231 1545.82 252.842 1545.82 Q256.476 1545.82 258.282 1542.27 Q260.11 1538.71 260.11 1531.6 Q260.11 1524.47 258.282 1520.93 Q256.476 1517.37 252.842 1517.37 M252.842 1513.66 Q258.652 1513.66 261.708 1518.27 Q264.786 1522.85 264.786 1531.6 Q264.786 1540.33 261.708 1544.94 Q258.652 1549.52 252.842 1549.52 Q247.032 1549.52 243.953 1544.94 Q240.897 1540.33 240.897 1531.6 Q240.897 1522.85 243.953 1518.27 Q247.032 1513.66 252.842 1513.66 Z\" fill=\"#000000\" fill-rule=\"nonzero\" fill-opacity=\"1\" /><path clip-path=\"url(#clip550)\" d=\"M736.9 1544.91 L753.219 1544.91 L753.219 1548.85 L731.275 1548.85 L731.275 1544.91 Q733.937 1542.16 738.52 1537.53 Q743.127 1532.88 744.307 1531.53 Q746.553 1529.01 747.432 1527.27 Q748.335 1525.51 748.335 1523.82 Q748.335 1521.07 746.391 1519.33 Q744.469 1517.6 741.367 1517.6 Q739.168 1517.6 736.715 1518.36 Q734.284 1519.13 731.506 1520.68 L731.506 1515.95 Q734.33 1514.82 736.784 1514.24 Q739.238 1513.66 741.275 1513.66 Q746.645 1513.66 749.84 1516.35 Q753.034 1519.03 753.034 1523.52 Q753.034 1525.65 752.224 1527.57 Q751.437 1529.47 749.33 1532.07 Q748.752 1532.74 745.65 1535.95 Q742.548 1539.15 736.9 1544.91 Z\" fill=\"#000000\" fill-rule=\"nonzero\" fill-opacity=\"1\" /><path clip-path=\"url(#clip550)\" d=\"M763.08 1514.29 L781.437 1514.29 L781.437 1518.22 L767.363 1518.22 L767.363 1526.7 Q768.381 1526.35 769.4 1526.19 Q770.418 1526 771.437 1526 Q777.224 1526 780.603 1529.17 Q783.983 1532.34 783.983 1537.76 Q783.983 1543.34 780.511 1546.44 Q777.039 1549.52 770.719 1549.52 Q768.543 1549.52 766.275 1549.15 Q764.029 1548.78 761.622 1548.04 L761.622 1543.34 Q763.705 1544.47 765.927 1545.03 Q768.15 1545.58 770.627 1545.58 Q774.631 1545.58 776.969 1543.48 Q779.307 1541.37 779.307 1537.76 Q779.307 1534.15 776.969 1532.04 Q774.631 1529.94 770.627 1529.94 Q768.752 1529.94 766.877 1530.35 Q765.025 1530.77 763.08 1531.65 L763.08 1514.29 Z\" fill=\"#000000\" fill-rule=\"nonzero\" fill-opacity=\"1\" /><path clip-path=\"url(#clip550)\" d=\"M1237.12 1514.29 L1255.47 1514.29 L1255.47 1518.22 L1241.4 1518.22 L1241.4 1526.7 Q1242.42 1526.35 1243.43 1526.19 Q1244.45 1526 1245.47 1526 Q1251.26 1526 1254.64 1529.17 Q1258.02 1532.34 1258.02 1537.76 Q1258.02 1543.34 1254.55 1546.44 Q1251.07 1549.52 1244.75 1549.52 Q1242.58 1549.52 1240.31 1549.15 Q1238.06 1548.78 1235.66 1548.04 L1235.66 1543.34 Q1237.74 1544.47 1239.96 1545.03 Q1242.18 1545.58 1244.66 1545.58 Q1248.67 1545.58 1251 1543.48 Q1253.34 1541.37 1253.34 1537.76 Q1253.34 1534.15 1251 1532.04 Q1248.67 1529.94 1244.66 1529.94 Q1242.79 1529.94 1240.91 1530.35 Q1239.06 1530.77 1237.12 1531.65 L1237.12 1514.29 Z\" fill=\"#000000\" fill-rule=\"nonzero\" fill-opacity=\"1\" /><path clip-path=\"url(#clip550)\" d=\"M1277.23 1517.37 Q1273.62 1517.37 1271.79 1520.93 Q1269.99 1524.47 1269.99 1531.6 Q1269.99 1538.71 1271.79 1542.27 Q1273.62 1545.82 1277.23 1545.82 Q1280.86 1545.82 1282.67 1542.27 Q1284.5 1538.71 1284.5 1531.6 Q1284.5 1524.47 1282.67 1520.93 Q1280.86 1517.37 1277.23 1517.37 M1277.23 1513.66 Q1283.04 1513.66 1286.1 1518.27 Q1289.18 1522.85 1289.18 1531.6 Q1289.18 1540.33 1286.1 1544.94 Q1283.04 1549.52 1277.23 1549.52 Q1271.42 1549.52 1268.34 1544.94 Q1265.29 1540.33 1265.29 1531.6 Q1265.29 1522.85 1268.34 1518.27 Q1271.42 1513.66 1277.23 1513.66 Z\" fill=\"#000000\" fill-rule=\"nonzero\" fill-opacity=\"1\" /><path clip-path=\"url(#clip550)\" d=\"M1741.06 1514.29 L1763.28 1514.29 L1763.28 1516.28 L1750.73 1548.85 L1745.85 1548.85 L1757.65 1518.22 L1741.06 1518.22 L1741.06 1514.29 Z\" fill=\"#000000\" fill-rule=\"nonzero\" fill-opacity=\"1\" /><path clip-path=\"url(#clip550)\" d=\"M1772.45 1514.29 L1790.8 1514.29 L1790.8 1518.22 L1776.73 1518.22 L1776.73 1526.7 Q1777.75 1526.35 1778.77 1526.19 Q1779.78 1526 1780.8 1526 Q1786.59 1526 1789.97 1529.17 Q1793.35 1532.34 1793.35 1537.76 Q1793.35 1543.34 1789.88 1546.44 Q1786.4 1549.52 1780.08 1549.52 Q1777.91 1549.52 1775.64 1549.15 Q1773.4 1548.78 1770.99 1548.04 L1770.99 1543.34 Q1773.07 1544.47 1775.29 1545.03 Q1777.52 1545.58 1779.99 1545.58 Q1784 1545.58 1786.33 1543.48 Q1788.67 1541.37 1788.67 1537.76 Q1788.67 1534.15 1786.33 1532.04 Q1784 1529.94 1779.99 1529.94 Q1778.12 1529.94 1776.24 1530.35 Q1774.39 1530.77 1772.45 1531.65 L1772.45 1514.29 Z\" fill=\"#000000\" fill-rule=\"nonzero\" fill-opacity=\"1\" /><path clip-path=\"url(#clip550)\" d=\"M2231.6 1544.91 L2239.24 1544.91 L2239.24 1518.55 L2230.93 1520.21 L2230.93 1515.95 L2239.19 1514.29 L2243.87 1514.29 L2243.87 1544.91 L2251.5 1544.91 L2251.5 1548.85 L2231.6 1548.85 L2231.6 1544.91 Z\" fill=\"#000000\" fill-rule=\"nonzero\" fill-opacity=\"1\" /><path clip-path=\"url(#clip550)\" d=\"M2270.95 1517.37 Q2267.34 1517.37 2265.51 1520.93 Q2263.7 1524.47 2263.7 1531.6 Q2263.7 1538.71 2265.51 1542.27 Q2267.34 1545.82 2270.95 1545.82 Q2274.58 1545.82 2276.39 1542.27 Q2278.22 1538.71 2278.22 1531.6 Q2278.22 1524.47 2276.39 1520.93 Q2274.58 1517.37 2270.95 1517.37 M2270.95 1513.66 Q2276.76 1513.66 2279.81 1518.27 Q2282.89 1522.85 2282.89 1531.6 Q2282.89 1540.33 2279.81 1544.94 Q2276.76 1549.52 2270.95 1549.52 Q2265.14 1549.52 2262.06 1544.94 Q2259 1540.33 2259 1531.6 Q2259 1522.85 2262.06 1518.27 Q2265.14 1513.66 2270.95 1513.66 Z\" fill=\"#000000\" fill-rule=\"nonzero\" fill-opacity=\"1\" /><path clip-path=\"url(#clip550)\" d=\"M2301.11 1517.37 Q2297.5 1517.37 2295.67 1520.93 Q2293.86 1524.47 2293.86 1531.6 Q2293.86 1538.71 2295.67 1542.27 Q2297.5 1545.82 2301.11 1545.82 Q2304.74 1545.82 2306.55 1542.27 Q2308.38 1538.71 2308.38 1531.6 Q2308.38 1524.47 2306.55 1520.93 Q2304.74 1517.37 2301.11 1517.37 M2301.11 1513.66 Q2306.92 1513.66 2309.98 1518.27 Q2313.05 1522.85 2313.05 1531.6 Q2313.05 1540.33 2309.98 1544.94 Q2306.92 1549.52 2301.11 1549.52 Q2295.3 1549.52 2292.22 1544.94 Q2289.17 1540.33 2289.17 1531.6 Q2289.17 1522.85 2292.22 1518.27 Q2295.3 1513.66 2301.11 1513.66 Z\" fill=\"#000000\" fill-rule=\"nonzero\" fill-opacity=\"1\" /><polyline clip-path=\"url(#clip552)\" style=\"stroke:#000000; stroke-linecap:round; stroke-linejoin:round; stroke-width:2; stroke-opacity:0.1; fill:none\" points=\"212.459,1296.02 2352.76,1296.02 \"/>\n",
       "<polyline clip-path=\"url(#clip552)\" style=\"stroke:#000000; stroke-linecap:round; stroke-linejoin:round; stroke-width:2; stroke-opacity:0.1; fill:none\" points=\"212.459,952.963 2352.76,952.963 \"/>\n",
       "<polyline clip-path=\"url(#clip552)\" style=\"stroke:#000000; stroke-linecap:round; stroke-linejoin:round; stroke-width:2; stroke-opacity:0.1; fill:none\" points=\"212.459,609.904 2352.76,609.904 \"/>\n",
       "<polyline clip-path=\"url(#clip552)\" style=\"stroke:#000000; stroke-linecap:round; stroke-linejoin:round; stroke-width:2; stroke-opacity:0.1; fill:none\" points=\"212.459,266.845 2352.76,266.845 \"/>\n",
       "<polyline clip-path=\"url(#clip550)\" style=\"stroke:#000000; stroke-linecap:round; stroke-linejoin:round; stroke-width:4; stroke-opacity:1; fill:none\" points=\"212.459,1486.45 212.459,47.2441 \"/>\n",
       "<polyline clip-path=\"url(#clip550)\" style=\"stroke:#000000; stroke-linecap:round; stroke-linejoin:round; stroke-width:4; stroke-opacity:1; fill:none\" points=\"212.459,1296.02 231.357,1296.02 \"/>\n",
       "<polyline clip-path=\"url(#clip550)\" style=\"stroke:#000000; stroke-linecap:round; stroke-linejoin:round; stroke-width:4; stroke-opacity:1; fill:none\" points=\"212.459,952.963 231.357,952.963 \"/>\n",
       "<polyline clip-path=\"url(#clip550)\" style=\"stroke:#000000; stroke-linecap:round; stroke-linejoin:round; stroke-width:4; stroke-opacity:1; fill:none\" points=\"212.459,609.904 231.357,609.904 \"/>\n",
       "<polyline clip-path=\"url(#clip550)\" style=\"stroke:#000000; stroke-linecap:round; stroke-linejoin:round; stroke-width:4; stroke-opacity:1; fill:none\" points=\"212.459,266.845 231.357,266.845 \"/>\n",
       "<path clip-path=\"url(#clip550)\" d=\"M114.26 1296.47 L143.936 1296.47 L143.936 1300.41 L114.26 1300.41 L114.26 1296.47 Z\" fill=\"#000000\" fill-rule=\"nonzero\" fill-opacity=\"1\" /><path clip-path=\"url(#clip550)\" d=\"M166.876 1282.82 L155.07 1301.27 L166.876 1301.27 L166.876 1282.82 M165.649 1278.74 L171.528 1278.74 L171.528 1301.27 L176.459 1301.27 L176.459 1305.15 L171.528 1305.15 L171.528 1313.3 L166.876 1313.3 L166.876 1305.15 L151.274 1305.15 L151.274 1300.64 L165.649 1278.74 Z\" fill=\"#000000\" fill-rule=\"nonzero\" fill-opacity=\"1\" /><path clip-path=\"url(#clip550)\" d=\"M115.394 953.415 L145.07 953.415 L145.07 957.35 L115.394 957.35 L115.394 953.415 Z\" fill=\"#000000\" fill-rule=\"nonzero\" fill-opacity=\"1\" /><path clip-path=\"url(#clip550)\" d=\"M169.329 951.609 Q172.686 952.327 174.561 954.595 Q176.459 956.864 176.459 960.197 Q176.459 965.313 172.94 968.114 Q169.422 970.915 162.94 970.915 Q160.765 970.915 158.45 970.475 Q156.158 970.058 153.704 969.202 L153.704 964.688 Q155.649 965.822 157.964 966.401 Q160.278 966.979 162.802 966.979 Q167.2 966.979 169.491 965.243 Q171.806 963.507 171.806 960.197 Q171.806 957.142 169.653 955.429 Q167.524 953.693 163.704 953.693 L159.677 953.693 L159.677 949.85 L163.89 949.85 Q167.339 949.85 169.167 948.484 Q170.996 947.095 170.996 944.503 Q170.996 941.841 169.098 940.429 Q167.223 938.994 163.704 938.994 Q161.783 938.994 159.584 939.41 Q157.385 939.827 154.746 940.706 L154.746 936.54 Q157.408 935.799 159.723 935.429 Q162.061 935.058 164.121 935.058 Q169.445 935.058 172.547 937.489 Q175.649 939.896 175.649 944.017 Q175.649 946.887 174.005 948.878 Q172.362 950.845 169.329 951.609 Z\" fill=\"#000000\" fill-rule=\"nonzero\" fill-opacity=\"1\" /><path clip-path=\"url(#clip550)\" d=\"M116.343 610.355 L146.019 610.355 L146.019 614.291 L116.343 614.291 L116.343 610.355 Z\" fill=\"#000000\" fill-rule=\"nonzero\" fill-opacity=\"1\" /><path clip-path=\"url(#clip550)\" d=\"M160.14 623.249 L176.459 623.249 L176.459 627.184 L154.515 627.184 L154.515 623.249 Q157.177 620.494 161.76 615.865 Q166.366 611.212 167.547 609.869 Q169.792 607.346 170.672 605.61 Q171.575 603.851 171.575 602.161 Q171.575 599.406 169.63 597.67 Q167.709 595.934 164.607 595.934 Q162.408 595.934 159.954 596.698 Q157.524 597.462 154.746 599.013 L154.746 594.291 Q157.57 593.156 160.024 592.578 Q162.477 591.999 164.515 591.999 Q169.885 591.999 173.079 594.684 Q176.274 597.369 176.274 601.86 Q176.274 603.99 175.464 605.911 Q174.677 607.809 172.57 610.402 Q171.991 611.073 168.889 614.291 Q165.788 617.485 160.14 623.249 Z\" fill=\"#000000\" fill-rule=\"nonzero\" fill-opacity=\"1\" /><path clip-path=\"url(#clip550)\" d=\"M115.973 267.296 L145.649 267.296 L145.649 271.231 L115.973 271.231 L115.973 267.296 Z\" fill=\"#000000\" fill-rule=\"nonzero\" fill-opacity=\"1\" /><path clip-path=\"url(#clip550)\" d=\"M156.552 280.189 L164.19 280.189 L164.19 253.824 L155.88 255.49 L155.88 251.231 L164.144 249.565 L168.82 249.565 L168.82 280.189 L176.459 280.189 L176.459 284.125 L156.552 284.125 L156.552 280.189 Z\" fill=\"#000000\" fill-rule=\"nonzero\" fill-opacity=\"1\" /><path clip-path=\"url(#clip550)\" d=\"M14.1925 813.586 L79.3773 813.586 L79.3773 818.997 L14.1925 818.997 L14.1925 813.586 M14.1925 803.083 L79.3773 803.083 L79.3773 808.494 L14.1925 808.494 L14.1925 803.083 Z\" fill=\"#000000\" fill-rule=\"nonzero\" fill-opacity=\"1\" /><path clip-path=\"url(#clip550)\" d=\"M57.2883 772.909 L22.7862 759.605 L22.7862 786.214 L57.2883 772.909 M64.0042 776.442 L17.1207 794.871 L17.1207 750.884 L64.0042 769.313 L64.0042 776.442 Z\" fill=\"#000000\" fill-rule=\"nonzero\" fill-opacity=\"1\" /><path clip-path=\"url(#clip550)\" d=\"M16.4842 744.677 L16.4842 714.631 L21.895 714.631 L21.895 738.248 L35.9632 738.248 L35.9632 715.618 L41.3741 715.618 L41.3741 738.248 L58.5933 738.248 L58.5933 714.058 L64.0042 714.058 L64.0042 744.677 L16.4842 744.677 Z\" fill=\"#000000\" fill-rule=\"nonzero\" fill-opacity=\"1\" /><path clip-path=\"url(#clip550)\" d=\"M14.1925 696.203 L79.3773 696.203 L79.3773 701.613 L14.1925 701.613 L14.1925 696.203 M14.1925 685.699 L79.3773 685.699 L79.3773 691.11 L14.1925 691.11 L14.1925 685.699 Z\" fill=\"#000000\" fill-rule=\"nonzero\" fill-opacity=\"1\" /><polyline clip-path=\"url(#clip552)\" style=\"stroke:#ff0000; stroke-linecap:round; stroke-linejoin:round; stroke-width:4; stroke-opacity:1; fill:none\" points=\"273.033,175.841 293.225,108.108 313.416,87.9763 333.608,212.334 353.799,363.489 373.991,420.558 394.182,417.52 414.374,419.546 434.565,398.431 454.757,415.134 474.948,467.933 495.14,527.665 515.331,607.132 535.523,643.979 555.714,690.614 575.906,754.956 596.097,680.504 616.289,810.918 636.48,818.44 656.671,838.303 676.863,730.159 697.054,871.218 717.246,845.268 737.437,812.903 757.629,837.927 777.82,864.75 798.012,948.631 818.203,921.529 838.395,887.346 858.586,888.469 878.778,901.699 898.969,1046.71 919.161,1031.07 939.352,1024.88 959.544,908.269 979.735,1058.25 999.927,1051.24 1020.12,1004.77 1040.31,941.985 1060.5,820.195 1080.69,955.31 1100.88,971.698 1121.08,901.845 1141.27,838.384 1161.46,857.668 1181.65,909.674 1201.84,800.63 1222.03,869.807 1242.22,994.649 1262.42,1031.71 1282.61,1005 1302.8,925.319 1322.99,1053.9 1343.18,1087.83 1363.37,1102.32 1383.56,1095.86 1403.76,1025.64 1423.95,1159.53 1444.14,1226.67 1464.33,1235.7 1484.52,1155.24 1504.71,1232.91 1524.91,1260.25 1545.1,1236.82 1565.29,1257.32 1585.48,1297.9 1605.67,1258.87 1625.86,1184.88 1646.05,1248.52 1666.25,1293.4 1686.44,1234.65 1706.63,1232.45 1726.82,1200.35 1747.01,1042.43 1767.2,1244.26 1787.39,1283.79 1807.59,1258.9 1827.78,1221.56 1847.97,1294.16 1868.16,1351.46 1888.35,1299.37 1908.54,1317.55 1928.73,1351.99 1948.93,1368.21 1969.12,1381.02 1989.31,1336.44 2009.5,1323.03 2029.69,1405.14 2049.88,1401.98 2070.08,1360.31 2090.27,1250.18 2110.46,1413.2 2130.65,1443.55 2150.84,1410 2171.03,1344.1 2191.22,1414.16 2211.42,1445.72 2231.61,1423.66 2251.8,1386.45 2271.99,1228.96 2292.18,1416 \"/>\n",
       "</svg>\n"
      ],
      "text/html": [
       "<?xml version=\"1.0\" encoding=\"utf-8\"?>\n",
       "<svg xmlns=\"http://www.w3.org/2000/svg\" xmlns:xlink=\"http://www.w3.org/1999/xlink\" width=\"600\" height=\"400\" viewBox=\"0 0 2400 1600\">\n",
       "<defs>\n",
       "  <clipPath id=\"clip600\">\n",
       "    <rect x=\"0\" y=\"0\" width=\"2400\" height=\"1600\"/>\n",
       "  </clipPath>\n",
       "</defs>\n",
       "<path clip-path=\"url(#clip600)\" d=\"M0 1600 L2400 1600 L2400 0 L0 0  Z\" fill=\"#ffffff\" fill-rule=\"evenodd\" fill-opacity=\"1\"/>\n",
       "<defs>\n",
       "  <clipPath id=\"clip601\">\n",
       "    <rect x=\"480\" y=\"0\" width=\"1681\" height=\"1600\"/>\n",
       "  </clipPath>\n",
       "</defs>\n",
       "<path clip-path=\"url(#clip600)\" d=\"M212.459 1486.45 L2352.76 1486.45 L2352.76 47.2441 L212.459 47.2441  Z\" fill=\"#ffffff\" fill-rule=\"evenodd\" fill-opacity=\"1\"/>\n",
       "<defs>\n",
       "  <clipPath id=\"clip602\">\n",
       "    <rect x=\"212\" y=\"47\" width=\"2141\" height=\"1440\"/>\n",
       "  </clipPath>\n",
       "</defs>\n",
       "<polyline clip-path=\"url(#clip602)\" style=\"stroke:#000000; stroke-linecap:round; stroke-linejoin:round; stroke-width:2; stroke-opacity:0.1; fill:none\" points=\"252.842,1486.45 252.842,47.2441 \"/>\n",
       "<polyline clip-path=\"url(#clip602)\" style=\"stroke:#000000; stroke-linecap:round; stroke-linejoin:round; stroke-width:2; stroke-opacity:0.1; fill:none\" points=\"757.629,1486.45 757.629,47.2441 \"/>\n",
       "<polyline clip-path=\"url(#clip602)\" style=\"stroke:#000000; stroke-linecap:round; stroke-linejoin:round; stroke-width:2; stroke-opacity:0.1; fill:none\" points=\"1262.42,1486.45 1262.42,47.2441 \"/>\n",
       "<polyline clip-path=\"url(#clip602)\" style=\"stroke:#000000; stroke-linecap:round; stroke-linejoin:round; stroke-width:2; stroke-opacity:0.1; fill:none\" points=\"1767.2,1486.45 1767.2,47.2441 \"/>\n",
       "<polyline clip-path=\"url(#clip602)\" style=\"stroke:#000000; stroke-linecap:round; stroke-linejoin:round; stroke-width:2; stroke-opacity:0.1; fill:none\" points=\"2271.99,1486.45 2271.99,47.2441 \"/>\n",
       "<polyline clip-path=\"url(#clip600)\" style=\"stroke:#000000; stroke-linecap:round; stroke-linejoin:round; stroke-width:4; stroke-opacity:1; fill:none\" points=\"212.459,1486.45 2352.76,1486.45 \"/>\n",
       "<polyline clip-path=\"url(#clip600)\" style=\"stroke:#000000; stroke-linecap:round; stroke-linejoin:round; stroke-width:4; stroke-opacity:1; fill:none\" points=\"252.842,1486.45 252.842,1467.55 \"/>\n",
       "<polyline clip-path=\"url(#clip600)\" style=\"stroke:#000000; stroke-linecap:round; stroke-linejoin:round; stroke-width:4; stroke-opacity:1; fill:none\" points=\"757.629,1486.45 757.629,1467.55 \"/>\n",
       "<polyline clip-path=\"url(#clip600)\" style=\"stroke:#000000; stroke-linecap:round; stroke-linejoin:round; stroke-width:4; stroke-opacity:1; fill:none\" points=\"1262.42,1486.45 1262.42,1467.55 \"/>\n",
       "<polyline clip-path=\"url(#clip600)\" style=\"stroke:#000000; stroke-linecap:round; stroke-linejoin:round; stroke-width:4; stroke-opacity:1; fill:none\" points=\"1767.2,1486.45 1767.2,1467.55 \"/>\n",
       "<polyline clip-path=\"url(#clip600)\" style=\"stroke:#000000; stroke-linecap:round; stroke-linejoin:round; stroke-width:4; stroke-opacity:1; fill:none\" points=\"2271.99,1486.45 2271.99,1467.55 \"/>\n",
       "<path clip-path=\"url(#clip600)\" d=\"M252.842 1517.37 Q249.231 1517.37 247.402 1520.93 Q245.597 1524.47 245.597 1531.6 Q245.597 1538.71 247.402 1542.27 Q249.231 1545.82 252.842 1545.82 Q256.476 1545.82 258.282 1542.27 Q260.11 1538.71 260.11 1531.6 Q260.11 1524.47 258.282 1520.93 Q256.476 1517.37 252.842 1517.37 M252.842 1513.66 Q258.652 1513.66 261.708 1518.27 Q264.786 1522.85 264.786 1531.6 Q264.786 1540.33 261.708 1544.94 Q258.652 1549.52 252.842 1549.52 Q247.032 1549.52 243.953 1544.94 Q240.897 1540.33 240.897 1531.6 Q240.897 1522.85 243.953 1518.27 Q247.032 1513.66 252.842 1513.66 Z\" fill=\"#000000\" fill-rule=\"nonzero\" fill-opacity=\"1\" /><path clip-path=\"url(#clip600)\" d=\"M736.9 1544.91 L753.219 1544.91 L753.219 1548.85 L731.275 1548.85 L731.275 1544.91 Q733.937 1542.16 738.52 1537.53 Q743.127 1532.88 744.307 1531.53 Q746.553 1529.01 747.432 1527.27 Q748.335 1525.51 748.335 1523.82 Q748.335 1521.07 746.391 1519.33 Q744.469 1517.6 741.367 1517.6 Q739.168 1517.6 736.715 1518.36 Q734.284 1519.13 731.506 1520.68 L731.506 1515.95 Q734.33 1514.82 736.784 1514.24 Q739.238 1513.66 741.275 1513.66 Q746.645 1513.66 749.84 1516.35 Q753.034 1519.03 753.034 1523.52 Q753.034 1525.65 752.224 1527.57 Q751.437 1529.47 749.33 1532.07 Q748.752 1532.74 745.65 1535.95 Q742.548 1539.15 736.9 1544.91 Z\" fill=\"#000000\" fill-rule=\"nonzero\" fill-opacity=\"1\" /><path clip-path=\"url(#clip600)\" d=\"M763.08 1514.29 L781.437 1514.29 L781.437 1518.22 L767.363 1518.22 L767.363 1526.7 Q768.381 1526.35 769.4 1526.19 Q770.418 1526 771.437 1526 Q777.224 1526 780.603 1529.17 Q783.983 1532.34 783.983 1537.76 Q783.983 1543.34 780.511 1546.44 Q777.039 1549.52 770.719 1549.52 Q768.543 1549.52 766.275 1549.15 Q764.029 1548.78 761.622 1548.04 L761.622 1543.34 Q763.705 1544.47 765.927 1545.03 Q768.15 1545.58 770.627 1545.58 Q774.631 1545.58 776.969 1543.48 Q779.307 1541.37 779.307 1537.76 Q779.307 1534.15 776.969 1532.04 Q774.631 1529.94 770.627 1529.94 Q768.752 1529.94 766.877 1530.35 Q765.025 1530.77 763.08 1531.65 L763.08 1514.29 Z\" fill=\"#000000\" fill-rule=\"nonzero\" fill-opacity=\"1\" /><path clip-path=\"url(#clip600)\" d=\"M1237.12 1514.29 L1255.47 1514.29 L1255.47 1518.22 L1241.4 1518.22 L1241.4 1526.7 Q1242.42 1526.35 1243.43 1526.19 Q1244.45 1526 1245.47 1526 Q1251.26 1526 1254.64 1529.17 Q1258.02 1532.34 1258.02 1537.76 Q1258.02 1543.34 1254.55 1546.44 Q1251.07 1549.52 1244.75 1549.52 Q1242.58 1549.52 1240.31 1549.15 Q1238.06 1548.78 1235.66 1548.04 L1235.66 1543.34 Q1237.74 1544.47 1239.96 1545.03 Q1242.18 1545.58 1244.66 1545.58 Q1248.67 1545.58 1251 1543.48 Q1253.34 1541.37 1253.34 1537.76 Q1253.34 1534.15 1251 1532.04 Q1248.67 1529.94 1244.66 1529.94 Q1242.79 1529.94 1240.91 1530.35 Q1239.06 1530.77 1237.12 1531.65 L1237.12 1514.29 Z\" fill=\"#000000\" fill-rule=\"nonzero\" fill-opacity=\"1\" /><path clip-path=\"url(#clip600)\" d=\"M1277.23 1517.37 Q1273.62 1517.37 1271.79 1520.93 Q1269.99 1524.47 1269.99 1531.6 Q1269.99 1538.71 1271.79 1542.27 Q1273.62 1545.82 1277.23 1545.82 Q1280.86 1545.82 1282.67 1542.27 Q1284.5 1538.71 1284.5 1531.6 Q1284.5 1524.47 1282.67 1520.93 Q1280.86 1517.37 1277.23 1517.37 M1277.23 1513.66 Q1283.04 1513.66 1286.1 1518.27 Q1289.18 1522.85 1289.18 1531.6 Q1289.18 1540.33 1286.1 1544.94 Q1283.04 1549.52 1277.23 1549.52 Q1271.42 1549.52 1268.34 1544.94 Q1265.29 1540.33 1265.29 1531.6 Q1265.29 1522.85 1268.34 1518.27 Q1271.42 1513.66 1277.23 1513.66 Z\" fill=\"#000000\" fill-rule=\"nonzero\" fill-opacity=\"1\" /><path clip-path=\"url(#clip600)\" d=\"M1741.06 1514.29 L1763.28 1514.29 L1763.28 1516.28 L1750.73 1548.85 L1745.85 1548.85 L1757.65 1518.22 L1741.06 1518.22 L1741.06 1514.29 Z\" fill=\"#000000\" fill-rule=\"nonzero\" fill-opacity=\"1\" /><path clip-path=\"url(#clip600)\" d=\"M1772.45 1514.29 L1790.8 1514.29 L1790.8 1518.22 L1776.73 1518.22 L1776.73 1526.7 Q1777.75 1526.35 1778.77 1526.19 Q1779.78 1526 1780.8 1526 Q1786.59 1526 1789.97 1529.17 Q1793.35 1532.34 1793.35 1537.76 Q1793.35 1543.34 1789.88 1546.44 Q1786.4 1549.52 1780.08 1549.52 Q1777.91 1549.52 1775.64 1549.15 Q1773.4 1548.78 1770.99 1548.04 L1770.99 1543.34 Q1773.07 1544.47 1775.29 1545.03 Q1777.52 1545.58 1779.99 1545.58 Q1784 1545.58 1786.33 1543.48 Q1788.67 1541.37 1788.67 1537.76 Q1788.67 1534.15 1786.33 1532.04 Q1784 1529.94 1779.99 1529.94 Q1778.12 1529.94 1776.24 1530.35 Q1774.39 1530.77 1772.45 1531.65 L1772.45 1514.29 Z\" fill=\"#000000\" fill-rule=\"nonzero\" fill-opacity=\"1\" /><path clip-path=\"url(#clip600)\" d=\"M2231.6 1544.91 L2239.24 1544.91 L2239.24 1518.55 L2230.93 1520.21 L2230.93 1515.95 L2239.19 1514.29 L2243.87 1514.29 L2243.87 1544.91 L2251.5 1544.91 L2251.5 1548.85 L2231.6 1548.85 L2231.6 1544.91 Z\" fill=\"#000000\" fill-rule=\"nonzero\" fill-opacity=\"1\" /><path clip-path=\"url(#clip600)\" d=\"M2270.95 1517.37 Q2267.34 1517.37 2265.51 1520.93 Q2263.7 1524.47 2263.7 1531.6 Q2263.7 1538.71 2265.51 1542.27 Q2267.34 1545.82 2270.95 1545.82 Q2274.58 1545.82 2276.39 1542.27 Q2278.22 1538.71 2278.22 1531.6 Q2278.22 1524.47 2276.39 1520.93 Q2274.58 1517.37 2270.95 1517.37 M2270.95 1513.66 Q2276.76 1513.66 2279.81 1518.27 Q2282.89 1522.85 2282.89 1531.6 Q2282.89 1540.33 2279.81 1544.94 Q2276.76 1549.52 2270.95 1549.52 Q2265.14 1549.52 2262.06 1544.94 Q2259 1540.33 2259 1531.6 Q2259 1522.85 2262.06 1518.27 Q2265.14 1513.66 2270.95 1513.66 Z\" fill=\"#000000\" fill-rule=\"nonzero\" fill-opacity=\"1\" /><path clip-path=\"url(#clip600)\" d=\"M2301.11 1517.37 Q2297.5 1517.37 2295.67 1520.93 Q2293.86 1524.47 2293.86 1531.6 Q2293.86 1538.71 2295.67 1542.27 Q2297.5 1545.82 2301.11 1545.82 Q2304.74 1545.82 2306.55 1542.27 Q2308.38 1538.71 2308.38 1531.6 Q2308.38 1524.47 2306.55 1520.93 Q2304.74 1517.37 2301.11 1517.37 M2301.11 1513.66 Q2306.92 1513.66 2309.98 1518.27 Q2313.05 1522.85 2313.05 1531.6 Q2313.05 1540.33 2309.98 1544.94 Q2306.92 1549.52 2301.11 1549.52 Q2295.3 1549.52 2292.22 1544.94 Q2289.17 1540.33 2289.17 1531.6 Q2289.17 1522.85 2292.22 1518.27 Q2295.3 1513.66 2301.11 1513.66 Z\" fill=\"#000000\" fill-rule=\"nonzero\" fill-opacity=\"1\" /><polyline clip-path=\"url(#clip602)\" style=\"stroke:#000000; stroke-linecap:round; stroke-linejoin:round; stroke-width:2; stroke-opacity:0.1; fill:none\" points=\"212.459,1296.02 2352.76,1296.02 \"/>\n",
       "<polyline clip-path=\"url(#clip602)\" style=\"stroke:#000000; stroke-linecap:round; stroke-linejoin:round; stroke-width:2; stroke-opacity:0.1; fill:none\" points=\"212.459,952.963 2352.76,952.963 \"/>\n",
       "<polyline clip-path=\"url(#clip602)\" style=\"stroke:#000000; stroke-linecap:round; stroke-linejoin:round; stroke-width:2; stroke-opacity:0.1; fill:none\" points=\"212.459,609.904 2352.76,609.904 \"/>\n",
       "<polyline clip-path=\"url(#clip602)\" style=\"stroke:#000000; stroke-linecap:round; stroke-linejoin:round; stroke-width:2; stroke-opacity:0.1; fill:none\" points=\"212.459,266.845 2352.76,266.845 \"/>\n",
       "<polyline clip-path=\"url(#clip600)\" style=\"stroke:#000000; stroke-linecap:round; stroke-linejoin:round; stroke-width:4; stroke-opacity:1; fill:none\" points=\"212.459,1486.45 212.459,47.2441 \"/>\n",
       "<polyline clip-path=\"url(#clip600)\" style=\"stroke:#000000; stroke-linecap:round; stroke-linejoin:round; stroke-width:4; stroke-opacity:1; fill:none\" points=\"212.459,1296.02 231.357,1296.02 \"/>\n",
       "<polyline clip-path=\"url(#clip600)\" style=\"stroke:#000000; stroke-linecap:round; stroke-linejoin:round; stroke-width:4; stroke-opacity:1; fill:none\" points=\"212.459,952.963 231.357,952.963 \"/>\n",
       "<polyline clip-path=\"url(#clip600)\" style=\"stroke:#000000; stroke-linecap:round; stroke-linejoin:round; stroke-width:4; stroke-opacity:1; fill:none\" points=\"212.459,609.904 231.357,609.904 \"/>\n",
       "<polyline clip-path=\"url(#clip600)\" style=\"stroke:#000000; stroke-linecap:round; stroke-linejoin:round; stroke-width:4; stroke-opacity:1; fill:none\" points=\"212.459,266.845 231.357,266.845 \"/>\n",
       "<path clip-path=\"url(#clip600)\" d=\"M114.26 1296.47 L143.936 1296.47 L143.936 1300.41 L114.26 1300.41 L114.26 1296.47 Z\" fill=\"#000000\" fill-rule=\"nonzero\" fill-opacity=\"1\" /><path clip-path=\"url(#clip600)\" d=\"M166.876 1282.82 L155.07 1301.27 L166.876 1301.27 L166.876 1282.82 M165.649 1278.74 L171.528 1278.74 L171.528 1301.27 L176.459 1301.27 L176.459 1305.15 L171.528 1305.15 L171.528 1313.3 L166.876 1313.3 L166.876 1305.15 L151.274 1305.15 L151.274 1300.64 L165.649 1278.74 Z\" fill=\"#000000\" fill-rule=\"nonzero\" fill-opacity=\"1\" /><path clip-path=\"url(#clip600)\" d=\"M115.394 953.415 L145.07 953.415 L145.07 957.35 L115.394 957.35 L115.394 953.415 Z\" fill=\"#000000\" fill-rule=\"nonzero\" fill-opacity=\"1\" /><path clip-path=\"url(#clip600)\" d=\"M169.329 951.609 Q172.686 952.327 174.561 954.595 Q176.459 956.864 176.459 960.197 Q176.459 965.313 172.94 968.114 Q169.422 970.915 162.94 970.915 Q160.765 970.915 158.45 970.475 Q156.158 970.058 153.704 969.202 L153.704 964.688 Q155.649 965.822 157.964 966.401 Q160.278 966.979 162.802 966.979 Q167.2 966.979 169.491 965.243 Q171.806 963.507 171.806 960.197 Q171.806 957.142 169.653 955.429 Q167.524 953.693 163.704 953.693 L159.677 953.693 L159.677 949.85 L163.89 949.85 Q167.339 949.85 169.167 948.484 Q170.996 947.095 170.996 944.503 Q170.996 941.841 169.098 940.429 Q167.223 938.994 163.704 938.994 Q161.783 938.994 159.584 939.41 Q157.385 939.827 154.746 940.706 L154.746 936.54 Q157.408 935.799 159.723 935.429 Q162.061 935.058 164.121 935.058 Q169.445 935.058 172.547 937.489 Q175.649 939.896 175.649 944.017 Q175.649 946.887 174.005 948.878 Q172.362 950.845 169.329 951.609 Z\" fill=\"#000000\" fill-rule=\"nonzero\" fill-opacity=\"1\" /><path clip-path=\"url(#clip600)\" d=\"M116.343 610.355 L146.019 610.355 L146.019 614.291 L116.343 614.291 L116.343 610.355 Z\" fill=\"#000000\" fill-rule=\"nonzero\" fill-opacity=\"1\" /><path clip-path=\"url(#clip600)\" d=\"M160.14 623.249 L176.459 623.249 L176.459 627.184 L154.515 627.184 L154.515 623.249 Q157.177 620.494 161.76 615.865 Q166.366 611.212 167.547 609.869 Q169.792 607.346 170.672 605.61 Q171.575 603.851 171.575 602.161 Q171.575 599.406 169.63 597.67 Q167.709 595.934 164.607 595.934 Q162.408 595.934 159.954 596.698 Q157.524 597.462 154.746 599.013 L154.746 594.291 Q157.57 593.156 160.024 592.578 Q162.477 591.999 164.515 591.999 Q169.885 591.999 173.079 594.684 Q176.274 597.369 176.274 601.86 Q176.274 603.99 175.464 605.911 Q174.677 607.809 172.57 610.402 Q171.991 611.073 168.889 614.291 Q165.788 617.485 160.14 623.249 Z\" fill=\"#000000\" fill-rule=\"nonzero\" fill-opacity=\"1\" /><path clip-path=\"url(#clip600)\" d=\"M115.973 267.296 L145.649 267.296 L145.649 271.231 L115.973 271.231 L115.973 267.296 Z\" fill=\"#000000\" fill-rule=\"nonzero\" fill-opacity=\"1\" /><path clip-path=\"url(#clip600)\" d=\"M156.552 280.189 L164.19 280.189 L164.19 253.824 L155.88 255.49 L155.88 251.231 L164.144 249.565 L168.82 249.565 L168.82 280.189 L176.459 280.189 L176.459 284.125 L156.552 284.125 L156.552 280.189 Z\" fill=\"#000000\" fill-rule=\"nonzero\" fill-opacity=\"1\" /><path clip-path=\"url(#clip600)\" d=\"M14.1925 813.586 L79.3773 813.586 L79.3773 818.997 L14.1925 818.997 L14.1925 813.586 M14.1925 803.083 L79.3773 803.083 L79.3773 808.494 L14.1925 808.494 L14.1925 803.083 Z\" fill=\"#000000\" fill-rule=\"nonzero\" fill-opacity=\"1\" /><path clip-path=\"url(#clip600)\" d=\"M57.2883 772.909 L22.7862 759.605 L22.7862 786.214 L57.2883 772.909 M64.0042 776.442 L17.1207 794.871 L17.1207 750.884 L64.0042 769.313 L64.0042 776.442 Z\" fill=\"#000000\" fill-rule=\"nonzero\" fill-opacity=\"1\" /><path clip-path=\"url(#clip600)\" d=\"M16.4842 744.677 L16.4842 714.631 L21.895 714.631 L21.895 738.248 L35.9632 738.248 L35.9632 715.618 L41.3741 715.618 L41.3741 738.248 L58.5933 738.248 L58.5933 714.058 L64.0042 714.058 L64.0042 744.677 L16.4842 744.677 Z\" fill=\"#000000\" fill-rule=\"nonzero\" fill-opacity=\"1\" /><path clip-path=\"url(#clip600)\" d=\"M14.1925 696.203 L79.3773 696.203 L79.3773 701.613 L14.1925 701.613 L14.1925 696.203 M14.1925 685.699 L79.3773 685.699 L79.3773 691.11 L14.1925 691.11 L14.1925 685.699 Z\" fill=\"#000000\" fill-rule=\"nonzero\" fill-opacity=\"1\" /><polyline clip-path=\"url(#clip602)\" style=\"stroke:#ff0000; stroke-linecap:round; stroke-linejoin:round; stroke-width:4; stroke-opacity:1; fill:none\" points=\"273.033,175.841 293.225,108.108 313.416,87.9763 333.608,212.334 353.799,363.489 373.991,420.558 394.182,417.52 414.374,419.546 434.565,398.431 454.757,415.134 474.948,467.933 495.14,527.665 515.331,607.132 535.523,643.979 555.714,690.614 575.906,754.956 596.097,680.504 616.289,810.918 636.48,818.44 656.671,838.303 676.863,730.159 697.054,871.218 717.246,845.268 737.437,812.903 757.629,837.927 777.82,864.75 798.012,948.631 818.203,921.529 838.395,887.346 858.586,888.469 878.778,901.699 898.969,1046.71 919.161,1031.07 939.352,1024.88 959.544,908.269 979.735,1058.25 999.927,1051.24 1020.12,1004.77 1040.31,941.985 1060.5,820.195 1080.69,955.31 1100.88,971.698 1121.08,901.845 1141.27,838.384 1161.46,857.668 1181.65,909.674 1201.84,800.63 1222.03,869.807 1242.22,994.649 1262.42,1031.71 1282.61,1005 1302.8,925.319 1322.99,1053.9 1343.18,1087.83 1363.37,1102.32 1383.56,1095.86 1403.76,1025.64 1423.95,1159.53 1444.14,1226.67 1464.33,1235.7 1484.52,1155.24 1504.71,1232.91 1524.91,1260.25 1545.1,1236.82 1565.29,1257.32 1585.48,1297.9 1605.67,1258.87 1625.86,1184.88 1646.05,1248.52 1666.25,1293.4 1686.44,1234.65 1706.63,1232.45 1726.82,1200.35 1747.01,1042.43 1767.2,1244.26 1787.39,1283.79 1807.59,1258.9 1827.78,1221.56 1847.97,1294.16 1868.16,1351.46 1888.35,1299.37 1908.54,1317.55 1928.73,1351.99 1948.93,1368.21 1969.12,1381.02 1989.31,1336.44 2009.5,1323.03 2029.69,1405.14 2049.88,1401.98 2070.08,1360.31 2090.27,1250.18 2110.46,1413.2 2130.65,1443.55 2150.84,1410 2171.03,1344.1 2191.22,1414.16 2211.42,1445.72 2231.61,1423.66 2251.8,1386.45 2271.99,1228.96 2292.18,1416 \"/>\n",
       "</svg>\n"
      ]
     },
     "metadata": {},
     "output_type": "display_data"
    }
   ],
   "source": [
    "pgrad"
   ]
  },
  {
   "cell_type": "code",
   "execution_count": null,
   "metadata": {},
   "outputs": [],
   "source": []
  }
 ],
 "metadata": {
  "kernelspec": {
   "display_name": "Julia 1.10.2",
   "language": "julia",
   "name": "julia-1.10"
  },
  "language_info": {
   "file_extension": ".jl",
   "mimetype": "application/julia",
   "name": "julia",
   "version": "1.10.2"
  }
 },
 "nbformat": 4,
 "nbformat_minor": 4
}
