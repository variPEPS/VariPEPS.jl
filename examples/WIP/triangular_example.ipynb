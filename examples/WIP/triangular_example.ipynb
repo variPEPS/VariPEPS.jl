{
 "cells": [
  {
   "cell_type": "code",
   "execution_count": 1,
   "metadata": {},
   "outputs": [],
   "source": [
    "using Revise\n",
    "using VariPEPS\n",
    "using OptimKit\n",
    "using TensorKit\n",
    "using JLD2"
   ]
  },
  {
   "cell_type": "code",
   "execution_count": 2,
   "metadata": {},
   "outputs": [
    {
     "data": {
      "text/plain": [
       "(lattice = :triangular, model = :Heisenberg_triangular, Ham_parameters = (Jxy = 1, Jdiag = 1, h = 0, dir = [0, 0, 0]), Projector_type = :half, Space_type = ℂ, svd_type = :envbond)"
      ]
     },
     "metadata": {},
     "output_type": "display_data"
    }
   ],
   "source": [
    "#= specify the Bond-dimension d, the environment-bond-dimension χ. Further one may specify the model that one wants to test, the \n",
    "projectors that should be used in the CTMRG-routine, as well as Hamiltonian parameters. =#\n",
    "χ = 9\n",
    "d = 2\n",
    "\n",
    "\n",
    "#=Here specify the unit cell. For this we define an array \"Pattern_arr\" that represents the unit cell structure.\n",
    "The structure is [x-coodinate, y-coordinate]. If two positions within the Pattern_arr are filled with the same number, we assume the tensors at these positions to be identical.\n",
    "The choice below corresponds to a unit cell like:   A   B \n",
    "                                                    B   A=#\n",
    "Pattern_arr = Array{Any}(undef,3,3)\n",
    "\n",
    "Pattern_arr[1,1] = 1\n",
    "Pattern_arr[2,1] = 2\n",
    "Pattern_arr[3,1] = 3\n",
    "\n",
    "\n",
    "Pattern_arr[1,2] = 2\n",
    "Pattern_arr[2,2] = 3\n",
    "Pattern_arr[3,2] = 1\n",
    "\n",
    "Pattern_arr[1,3] = 3\n",
    "Pattern_arr[2,3] = 1\n",
    "Pattern_arr[3,3] = 2\n",
    "\n",
    "\n",
    "#=For our first example we are going to look at the Heisenberg-antiferromagnet on the square lattice.\n",
    "Here we specify the keywords corresponding to this choice of model and lattice on in a tuple.\n",
    "\n",
    "Say more about the possible keywords\n",
    "=# \n",
    "keywords = (lattice = :triangular, model = :Heisenberg_triangular, Ham_parameters = (Jxy = 1, Jdiag = 1, h = 0, dir = [0,0,0]), Projector_type = :half, Space_type = ℂ, svd_type = :envbond)"
   ]
  },
  {
   "cell_type": "code",
   "execution_count": 3,
   "metadata": {},
   "outputs": [
    {
     "data": {
      "text/plain": [
       "3-element Vector{Any}:\n",
       " TensorMap((ℂ^2 ⊗ ℂ^2) ← (ℂ^2 ⊗ ℂ^2 ⊗ (ℂ^2)')):\n",
       "[:, :, 1, 1, 1] =\n",
       " 0.24197647958244134 + 0.22935586247095718im  …   0.2824527775439144 + 0.08377178393398838im\n",
       " 0.15384512414632187 - 0.06724498698693439im     0.11222501246349147 + 0.09544425402670877im\n",
       "\n",
       "[:, :, 2, 1, 1] =\n",
       "  0.3149769054298578 + 0.2882560574048658im  …  -0.18425696192857632 + 0.231520153406199im\n",
       " 0.18415019217159873 - 0.2775547323846692im        0.523192047602709 + 0.16614131432658397im\n",
       "\n",
       "[:, :, 1, 2, 1] =\n",
       " 0.16368141811228704 + 0.053712454233148285im  …    -0.1093908032856745 - 0.3251634270977488im\n",
       " 0.12920310906336896 + 0.12403026075019324im      -0.041642605325531115 + 0.14564262701389508im\n",
       "\n",
       "[:, :, 2, 2, 1] =\n",
       "   0.0901138229997678 + 0.14410342435139045im  …  -0.10312525756663206 - 0.13563529974708458im\n",
       " 0.013203413196373581 + 0.2751706273878261im      -0.18556854570149534 - 0.10061367942522378im\n",
       "\n",
       "[:, :, 1, 1, 2] =\n",
       " 0.28939818946506557 + 0.19256428917136534im  …  0.14528156958510718 + 0.2715858353001834im\n",
       " -0.5841521004482686 - 0.07447717006515975im     -0.3030166389507004 - 0.19198143278818242im\n",
       "\n",
       "[:, :, 2, 1, 2] =\n",
       " 0.2147709219778758 - 0.23355312189440025im  …   0.30853460823360473 + 0.28739799523126836im\n",
       " 0.4887854690747302 + 0.11414947190699487im     -0.30277339951995874 + 0.14983055906754644im\n",
       "\n",
       "[:, :, 1, 2, 2] =\n",
       " -0.21210712939346194 - 0.09341469780705436im  …  -0.25995982336017215 + 0.07307752024288725im\n",
       "  0.41468529487388484 + 0.2086680748000499im        0.6165316306164025 + 1.1102230246251565e-16im\n",
       "\n",
       "[:, :, 2, 2, 2] =\n",
       " 0.18135979762540966 + 0.08768372236530647im   …  -0.14927387161159614 + 0.5530332208808838im\n",
       " -0.3193586113025547 + 0.029801029480991198im      0.08827826917663142 - 0.38978983737766487im\n",
       "\n",
       " TensorMap((ℂ^2 ⊗ ℂ^2) ← (ℂ^2 ⊗ ℂ^2 ⊗ (ℂ^2)')):\n",
       "[:, :, 1, 1, 1] =\n",
       "  -0.4097734053185489 + 0.1868267228506551im   …   -0.3586490223463479 + 0.01169753886606767im\n",
       " -0.24932224335176106 - 0.11008490893002248im     -0.28040787213337004 - 0.3588862908897067im\n",
       "\n",
       "[:, :, 2, 1, 1] =\n",
       "   0.10873070800699253 - 0.3421324265740865im   …    0.16213227968679167 - 0.08884539131126032im\n",
       " -0.005013964715870303 + 0.14164119453238874im     0.0005284171579600649 + 0.47480219068340695im\n",
       "\n",
       "[:, :, 1, 2, 1] =\n",
       " -0.10625922537025013 - 0.23686287253821925im  …  0.09282747757978577 + 0.1922550641929276im\n",
       "  -0.1478751255260694 - 0.19777627723813213im      0.7363532442947962 - 5.551115123125783e-17im\n",
       "\n",
       "[:, :, 2, 2, 1] =\n",
       "  0.3300296593610781 - 0.0810853279154149im  …  0.031057722708631386 + 0.5681876899956498im\n",
       " -0.0412586181070454 + 0.2821464602516958im      0.10371143533500675 - 0.3831912216234856im\n",
       "\n",
       "[:, :, 1, 1, 2] =\n",
       "  0.18448959495872036 - 0.38797296718026647im  …  0.10063719338557595 - 0.24898799865406396im\n",
       " -0.44351035380844894 - 0.06778572781162448im      0.2804695415079775 + 0.25711583253513665im\n",
       "\n",
       "[:, :, 2, 1, 2] =\n",
       "  0.1669355441215999 - 0.07223545564672773im  …  -0.10643755252778937 - 0.1430509414666895im\n",
       " 0.10519322493261318 + 0.38976528367987334im        0.199255999528601 + 0.07510618002992325im\n",
       "\n",
       "[:, :, 1, 2, 2] =\n",
       " 0.36215749495294935 - 0.19147183595764838im  …  -0.036300268014241896 + 0.15381999107613153im\n",
       "  -0.075096586513071 - 0.26267040034804046im        0.2029267138529902 + 0.061858148940735845im\n",
       "\n",
       "[:, :, 2, 2, 2] =\n",
       " -0.27758168235207026 - 0.019884700708440478im  …    0.5314527944983962 - 0.08724733939819454im\n",
       " -0.09229788489698645 + 0.052495820106937506im     -0.12790372939005684 + 0.015072141903958565im\n",
       "\n",
       " TensorMap((ℂ^2 ⊗ ℂ^2) ← (ℂ^2 ⊗ ℂ^2 ⊗ (ℂ^2)')):\n",
       "[:, :, 1, 1, 1] =\n",
       "    0.2749321420049508 + 0.11004338446962994im  …  -0.2015228611772373 - 0.31212809445837164im\n",
       " -0.025312962395690322 - 0.15365427073206356im     0.35306463897191415 - 0.41387348128428im\n",
       "\n",
       "[:, :, 2, 1, 1] =\n",
       " -0.17616260139845746 - 0.12148648872680366im  …  -0.11837333043871359 - 0.33841731334972563im\n",
       "  -0.2543334966777052 + 0.20473688931179584im      -0.4610213026750452 - 0.3120170426650927im\n",
       "\n",
       "[:, :, 1, 2, 1] =\n",
       " 0.15978943451121425 - 0.3051838347594863im   …  0.1272938442498243 - 0.2701775606554246im\n",
       "   0.211352184725842 + 0.12092180187944823im     0.1457160234042137 + 0.03610311043958784im\n",
       "\n",
       "[:, :, 2, 2, 1] =\n",
       "  0.2929350266880429 + 0.04069738061295959im   …   0.08950821319688433 + 0.0131026398274929im\n",
       " 0.19524847929056327 + 0.058419247314640994im     0.015725080876246383 - 0.5066170659848354im\n",
       "\n",
       "[:, :, 1, 1, 2] =\n",
       "  -0.0408718275044077 - 0.10228081584948492im  …   0.10964064013027708 + 0.3592190895887636im\n",
       " -0.11379275502581687 - 0.29015028146102945im     -0.02793910946727442 + 0.03236496840627996im\n",
       "\n",
       "[:, :, 2, 1, 2] =\n",
       " -0.13897921059872753 + 0.2118807483108399im  …  -0.12265597517464907 - 0.2322363001595031im\n",
       "  0.20796593478361622 - 0.3441404988348616im      -0.4002464905960518 - 0.18437268910790322im\n",
       "\n",
       "[:, :, 1, 2, 2] =\n",
       " -0.18334551449209296 - 0.12013960476434421im  …  -0.25016818282650805 - 0.34177731783273757im\n",
       " -0.22439812658192868 - 0.29984803016982386im       0.8644619139401226 - 1.6653345369377348e-16im\n",
       "\n",
       "[:, :, 2, 2, 2] =\n",
       " -0.0784235691378673 - 0.22918705162709485im  …  0.21562265748039766 - 0.05254050510400268im\n",
       " 0.14700742705480913 - 0.40788348336022817im     0.16354372584147317 - 0.023993043592527435im\n"
      ]
     },
     "metadata": {},
     "output_type": "display_data"
    }
   ],
   "source": [
    "#= \n",
    "this functiion initializes the PEPS-tensors. \n",
    "The first input is the Bond dimension, \n",
    "the second input is the dimension of the local Hilbert space, --> This is 2 in the current example, as we are dealing with a spin 1/2 system.\n",
    "the third one specified how many tensors need to be generated. --> In this example 2 since we have two inequivalent tensors in the unit cell.\n",
    "\n",
    "What is created here is just an array of TensorMaps with the right number of legs with the desired dimensionality.\n",
    "\n",
    "Note that we can also enforce local symmetries and only optimize on the parametes for the local tensors that have this symmetry. --> Add mini example later.\n",
    "\n",
    "=#\n",
    "loc_in = initialize_PEPS(d, 2, 3; seed = 1236, lattice = :square, Number_type = ComplexF64, Space_type = ℂ); #change the code such that if we use real numbers we use \"normalization_convention_without_phase\"\n",
    "  "
   ]
  },
  {
   "cell_type": "code",
   "execution_count": 5,
   "metadata": {},
   "outputs": [
    {
     "data": {
      "text/plain": [
       "(0.013942785346161746, Any[-0.0321760841590479 + 2.0931909682940587e-17im, -0.05843358077593848 - 1.4431444365651573e-17im, -0.1120000543849041 + 4.006989367583578e-17im, 0.023761155416579163 + 3.603629367706816e-17im, -0.048509609954064295 + 4.122267853383184e-17im, 0.07394068462586516 - 1.6378893016944674e-17im, -0.02759039597779776 + 1.6986514863897894e-17im, -0.17633092806365333 + 6.792738426979449e-17im, -0.07733651718929452 + 8.489098369684297e-18im])"
      ]
     },
     "metadata": {},
     "output_type": "display_data"
    }
   ],
   "source": [
    "#the ctmrg function performs a CTM-RG procedure. -- Put more details on elementwise convergence and so on.\n",
    "#= note that in some cases, the GKL algorithm, that is used for the SVD in the calculation of the projectors finds invariant subspaces and fails. \n",
    "In these cases the code will fall back to conventional SVD algorithms. If one does not want to use the GKL algorithm at all, we can use the keyword svd_type = :envbond\n",
    "to just use conventional SVD algorithms.=#\n",
    "\n",
    "#=In the \"energy_and_gradient\" function as well as in the \"ctmrg\" function we have a keyword \"adjust_χ\" which is by default set to false. In that case the \n",
    "function works normally. However if we do not set the keyword to false but give instead a tuple, during the CTMRG routine the algorithm automatically increases the bond dimension\n",
    "up to a maximal value \"χ_max\". This happens whenever the truncation error \"err_trunc\" that we obtain in the creation of the projectors is larger than a choosen tolerance err_tol.\n",
    "Thus we set the keyword to \"adjust_χ = (err_tol, χ_max)\" in case we want the bond dimension to be increased during the optimization.=#\n",
    "\n",
    "ctmrg_res = ctmrg(loc_in, χ, Pattern_arr; keywords..., observ = true, conv_info = false, maxiter = 200, adjust_χ = false)"
   ]
  },
  {
   "cell_type": "code",
   "execution_count": 14,
   "metadata": {},
   "outputs": [
    {
     "data": {
      "text/plain": [
       "0.3811010897844127"
      ]
     },
     "execution_count": 14,
     "metadata": {},
     "output_type": "execute_result"
    }
   ],
   "source": [
    "stagmag = 0\n",
    "magn_vec = real.(ctmrg_res[2])\n",
    "stag_mag_vec = (magn_vec[1:3] - magn_vec[4:6]) ./ 2\n",
    "stagmag = norm(stag_mag_vec)"
   ]
  },
  {
   "cell_type": "markdown",
   "metadata": {},
   "source": [
    "For a state, obtained after a few optimization steps of the Heisenberg model we look at the truncation errors as \n",
    "a function of the bond dimension - with the corresponding energy. The upper block is for the \"fullfishman\"-projectors\n",
    "while the lower block is for the \"half\"-projectors. We conclude from the convergence of the energy-expectation values\n",
    "that a maximal trunctation error of ~10^-3 is a reasonable starting point. It can always be chosen more stricly.\n",
    "\n",
    "E = -0.6603737287187401 @ Bond_env = 80, maximum(trunc_sv_arr) = 5.975686042268443e-5 \n",
    "E = -0.6603737358938596 @ Bond_env = 60, maximum(trunc_sv_arr) = 0.00012481759922763688\n",
    "E = -0.6603737799922393 @ Bond_env = 40, maximum(trunc_sv_arr) = 0.00031194042937930866\n",
    "E = -0.6603736187795066 @ Bond_env = 30, maximum(trunc_sv_arr) = 0.0006405720791402293\n",
    "E = -0.6603724597506875 @ Bond_env = 26, maximum(trunc_sv_arr) = 0.0009362616891090525\n",
    "E = -0.6603639207050201 @ Bond_env = 20, maximum(trunc_sv_arr) = 0.0020002907780533145\n",
    "E = -0.6603793732337668 @ Bond_env = 16, maximum(trunc_sv_arr) = 0.003927764975811235\n",
    "\n",
    "\n",
    "E = -0.6603737141782002 @ Bond_env = 80, maximum(trunc_sv_arr) = 8.859010589321488e-5\n",
    "E = -0.6603736039935315 @ Bond_env = 60, maximum(trunc_sv_arr) = 0.00018689030517925998\n",
    "E = -0.6603739415374238 @ Bond_env = 40, maximum(trunc_sv_arr) = 0.0004921465970557896\n",
    "E = -0.6603749442733124 @ Bond_env = 30, maximum(trunc_sv_arr) = 0.0011953646129798726\n",
    "E = -0.6603675868543281 @ Bond_env = 26, maximum(trunc_sv_arr) = 0.00172234383475717\n",
    "E = -0.6603589442727148 @ Bond_env = 20, maximum(trunc_sv_arr) = 0.003446092986088426\n",
    "E = -0.6603566068572576 @ Bond_env = 16, maximum(trunc_sv_arr) = 0.005807880961672133"
   ]
  },
  {
   "cell_type": "code",
   "execution_count": 6,
   "metadata": {},
   "outputs": [
    {
     "name": "stdout",
     "output_type": "stream",
     "text": [
      "Info: it took 16 CTMRG steps to converge the SV to 1.0e-6\n",
      "Info: it took 20 CTMRG steps to converge the environments element wise to 1e-6\n"
     ]
    },
    {
     "data": {
      "text/plain": [
       "(0.01394278685298784, TrivialTensorMap{ComplexSpace, 2, 3, Matrix{ComplexF64}}[TensorMap((ℂ^2 ⊗ ℂ^2) ← (ℂ^2 ⊗ ℂ^2 ⊗ (ℂ^2)')):\n",
       "[:, :, 1, 1, 1] =\n",
       " -0.0069089096230851976 + 0.0004711254902462122im  …  -0.014336783596520726 + 0.00152944332250085im\n",
       "   0.006241430751029748 - 0.011435331259022036im      -0.004073898741435403 + 0.004767314409262334im\n",
       "\n",
       "[:, :, 2, 1, 1] =\n",
       " 0.0042267610633688665 - 0.0027173075281253243im  …  -0.004234433783717921 - 0.003988794848123747im\n",
       " -0.000338303245678785 + 0.015899372614988486im      -0.002999013200557303 - 0.004066109577430955im\n",
       "\n",
       "[:, :, 1, 2, 1] =\n",
       "  0.006877275552056742 - 0.013300431671654681im  …   0.012873620147575733 - 0.002451935781730752im\n",
       " -0.013775202230598357 + 0.007494458435843226im     0.0013864544295594825 + 0.012012712692391804im\n",
       "\n",
       "[:, :, 2, 2, 1] =\n",
       " 0.0026142365086199762 + 0.017582260209268646im  …  -0.043440081722488984 + 0.029776148841592895im\n",
       "   0.00787097365331087 - 0.005734721545596548im      0.005329271491093261 + 0.008301998520257616im\n",
       "\n",
       "[:, :, 1, 1, 2] =\n",
       "   0.010040707061073757 - 0.005762839065882369im   …  -0.009412355449231772 - 0.02668830009702634im\n",
       " -0.0009268528545642862 - 0.0017340712454693417im      -0.01122091076755218 + 0.0028938956777688im\n",
       "\n",
       "[:, :, 2, 1, 2] =\n",
       " -7.403241667078518e-5 + 0.0008148141047894762im  …  0.017980966767845497 + 0.005670937586702567im\n",
       " -0.005728888707862427 + 0.008423607990023953im       0.01258705382671761 - 0.016665206871806164im\n",
       "\n",
       "[:, :, 1, 2, 2] =\n",
       " -0.006860428373614983 - 0.019715719673241427im   …  -0.02763785991411305 + 0.01103779548940703im\n",
       " 0.0024599984413822707 - 0.0017120315855969127im     0.013904684878993068 + 0.015052453060761438im\n",
       "\n",
       "[:, :, 2, 2, 2] =\n",
       " 0.011817187295113761 + 0.018424829106441082im  …  0.004508448132332118 - 0.015542643536394271im\n",
       "  0.00410222281374755 - 5.096663691541513e-5im     -0.01711150074652429 - 0.004636583083087904im\n",
       ", TensorMap((ℂ^2 ⊗ ℂ^2) ← (ℂ^2 ⊗ ℂ^2 ⊗ (ℂ^2)')):\n",
       "[:, :, 1, 1, 1] =\n",
       " 0.013289100588636932 + 0.008448822925956962im   …  0.010644816283771457 + 0.00013411815593689384im\n",
       " 0.007773086845545729 + 0.0005575074922135762im      9.09325484488465e-5 + 0.004326177248111802im\n",
       "\n",
       "[:, :, 2, 1, 1] =\n",
       " -0.0031717002531237953 + 0.027003216411804882im   …   0.024254596395546422 + 0.010176392620561572im\n",
       "  0.0012257159531445813 + 0.0027205150143756176im     0.0026426490110412764 - 0.004597321397103467im\n",
       "\n",
       "[:, :, 1, 2, 1] =\n",
       "  0.009845980784439783 + 0.016091530673530682im  …  -0.0004891381664515915 - 0.018039359942987228im\n",
       " 0.0028924445822038837 + 0.002031764418515541im      -0.015472114715400965 + 0.0021740475260262305im\n",
       "\n",
       "[:, :, 2, 2, 1] =\n",
       " -0.009127620134121441 - 0.0026356786471456767im  …  -0.009301758734858476 + 0.01889246274299137im\n",
       " 0.0012518789765180898 - 0.019356582021421532im      -0.019561137143589997 + 0.030280237013885953im\n",
       "\n",
       "[:, :, 1, 1, 2] =\n",
       " 0.0030795721527212736 + 0.0014968923177957223im  …  0.014059077860197635 + 0.005002735036384559im\n",
       " -0.009820996528178751 - 0.001973089910624474im      0.013809840315762581 + 0.018034747660858413im\n",
       "\n",
       "[:, :, 2, 1, 2] =\n",
       "  -0.013464465492671688 - 0.002547376942077826im  …  0.025253026356075858 - 0.010582388809089406im\n",
       " -0.0009253416891684998 + 0.021827113243546897im      0.02928782509947783 - 0.008109575966754148im\n",
       "\n",
       "[:, :, 1, 2, 2] =\n",
       "   0.008902087377065129 + 0.007020947121433622im  …    0.010272789714618652 - 0.013536605580143824im\n",
       " -0.0065936332994029866 + 0.006850822466779958im     -0.0002828630333116072 - 0.009655696394900331im\n",
       "\n",
       "[:, :, 2, 2, 2] =\n",
       " -0.008673156406184967 - 0.0001420838373436917im  …  0.05425641908129249 - 0.01670848149496489im\n",
       "   0.01525611408631921 + 0.006152186811170328im      0.00860855246052055 + 0.011437505435981328im\n",
       ", TensorMap((ℂ^2 ⊗ ℂ^2) ← (ℂ^2 ⊗ ℂ^2 ⊗ (ℂ^2)')):\n",
       "[:, :, 1, 1, 1] =\n",
       " -0.014622840640029219 - 0.007199538129448523im   …   0.010389579983893383 + 0.008476853453040145im\n",
       "  0.010494701124573003 - 0.0027642503838244455im     -0.004873200355049061 - 0.006703612825757763im\n",
       "\n",
       "[:, :, 2, 1, 1] =\n",
       "  0.019229287542394426 + 0.010261828264675421im  …  -0.007165903568783596 - 0.0008848072361537292im\n",
       " -0.014404447439006346 - 0.002100309507102906im      0.008787883372504829 + 0.007479235630308931im\n",
       "\n",
       "[:, :, 1, 2, 1] =\n",
       "  -0.0020117348827592136 - 0.0010860312255271732im  …    0.02004712963249617 - 0.0023206909158215547im\n",
       " -0.00038079660354999815 - 0.009176646587751316im      -0.002024106156338783 + 0.025005603265252845im\n",
       "\n",
       "[:, :, 2, 2, 1] =\n",
       " -0.014382277811235616 - 0.012258515731553728im   …  -0.010659301037373418 + 0.0061547564780000275im\n",
       "   0.01692478530030486 + 0.0038483042003166776im     0.0032455676941073363 - 0.015054499293143661im\n",
       "\n",
       "[:, :, 1, 1, 2] =\n",
       "   0.003054858980668841 - 0.0015990846963205537im  …     0.0026877882760244 - 0.0078006330757077825im\n",
       " -0.0003216349631031939 + 0.001603980396273824im      -0.002211623283454216 - 0.0016794613157574598im\n",
       "\n",
       "[:, :, 2, 1, 2] =\n",
       " -0.00032242331309614044 - 0.004623646848359021im   …  -0.0029625064582694633 + 0.005359714195993522im\n",
       "   -0.002400842976900591 + 0.0009084615971170763im      -0.005630442181158514 - 0.010155975628092406im\n",
       "\n",
       "[:, :, 1, 2, 2] =\n",
       " 0.0008945868886588506 + 0.0033728562336247728im  …   -0.0049764622383537 + 7.682983095829419e-5im\n",
       "  0.005423121165015127 + 0.01245144359461599im       0.019304465814237625 - 0.006772239250653129im\n",
       "\n",
       "[:, :, 2, 2, 2] =\n",
       " 0.003836910980717051 + 0.0033991713069660145im  …  -0.0018134435530622317 + 0.01342665346696929im\n",
       " 0.008374566431387793 - 0.0034158284735814485im       -0.02957886688680561 - 0.005981417212103068im\n",
       "], nothing, 20.0)"
      ]
     },
     "metadata": {},
     "output_type": "display_data"
    }
   ],
   "source": [
    "#the function energy_and_gradient is needed for the variational optimization. It calculates the gradient at the fixed point of the CTM-RG iteration.\n",
    "#= note that in some cases, the GKL algorithm, that is used for the SVD in the calculation of the projectors finds invariant subspaces and fails. \n",
    "In these cases the code will fall back to conventional SVD algorithms. If one does not want to use the GKL algorithm at all, we can use the keyword svd_type = :envbond\n",
    "to just use conventional SVD algorithms.=#\n",
    "\n",
    "#=In the \"energy_and_gradient\" function as well as in the \"ctmrg\" function we have a keyword \"adjust_χ\" which is by default set to false. In that case the \n",
    "function works normally. However if we do not set the keyword to false but give instead a tuple, during the CTMRG routine the algorithm automatically increases the bond dimension\n",
    "up to a maximal value \"χ_max\". This happens whenever the truncation error \"err_trunc\" that we obtain in the creation of the projectors is larger than a choosen tolerance err_tol.\n",
    "Thus we set the keyword to \"adjust_χ = (err_tol, χ_max)\" in case we want the bond dimension to be increased during the optimization.=#\n",
    "\n",
    "#=Now there are two ways to call the \"energy_and_gradient\" function.\n",
    "you can use:\n",
    "THIS IS THE STANDART CASE THAT SHOULD BE USED IF WE DONT WANT TO INCREASE χ DYNAMICALLY IN THE OPTIMIZATION\n",
    "1. e, gr = energy_and_gradient(loc_in, χ, Pattern_arr; keywords...)\n",
    "This version is the standart version. It takes a (local PEPS, environment bond dimension, a pattern array for the unit cell; a bunch of keywords)\n",
    "\n",
    "\n",
    "THIS IS JUST A WRAPPER AROUND THE FIRST VERSION WHICH RETURNS THE ADJUSTED χ VALUE IF IT IS INCREASED. THIS IS NEEDED FOR DYNAMICAL χ INCREASE.\n",
    "2. e, gr = energy_and_gradient(loc_in, χ, Pattern_arr, keywords; adjust_χ = false)\n",
    "In this version the only thing to be specified by keyword is \"adjust_χ\" which is either false of (max_χ, tol)\n",
    "TWO IMPORTANT CAVEATS:\n",
    "a) in this case χ needs to be an array as [χ]. This is needed for dynamical increase of χ (it needs to be a mutable type e.g. array)\n",
    "b) We can still specify the options that were previously specified by keywords. We just pass a tuple (named tuple actually) that contains the keywords we want\n",
    "to specify.\n",
    "=#\n",
    "e, gr = energy_and_gradient(loc_in, χ, Pattern_arr; keywords...)"
   ]
  },
  {
   "cell_type": "code",
   "execution_count": 7,
   "metadata": {},
   "outputs": [
    {
     "data": {
      "text/plain": [
       "_inner (generic function with 1 method)"
      ]
     },
     "metadata": {},
     "output_type": "display_data"
    }
   ],
   "source": [
    "#for the optimization we need the following two functions:\n",
    "\n",
    "function _finalize!(x,f,g, numiter)\n",
    "    flush(stdout)\n",
    "    flush(stderr)\n",
    "\n",
    "    \n",
    "    #=if numiter%2 == 1\n",
    "        file = jldopen(\"PEPS_during_optimization.jld2\", \"a+\")\n",
    "        write(file, \"PEPS_at_opt_step_$(numiter)\", x)\n",
    "        close(file)\n",
    "    end=#\n",
    "     \n",
    "    \n",
    "    return x, f, g\n",
    "end\n",
    "\n",
    "function _inner(x, ξ_1, ξ_2)\n",
    "    return dot(real(ξ_1), real(ξ_2)) + dot(imag(ξ_1), imag(ξ_2))\n",
    "end"
   ]
  },
  {
   "cell_type": "code",
   "execution_count": 12,
   "metadata": {},
   "outputs": [
    {
     "data": {
      "text/plain": [
       "(finalize! = _finalize!, inner = _inner)"
      ]
     },
     "metadata": {},
     "output_type": "display_data"
    }
   ],
   "source": [
    "#we specify the parameters that are used in the optimization.\n",
    "\n",
    "optimparas1 = (gradtol = 1e-5, verbosity = 2, maxiter = 100, linesearch = HagerZhangLineSearch(; c₁ = 1e-4, c₂ = 0.9, maxiter = 40))\n",
    "kwargs = (finalize! = _finalize!, inner = _inner)\n"
   ]
  },
  {
   "cell_type": "code",
   "execution_count": 13,
   "metadata": {},
   "outputs": [
    {
     "name": "stdout",
     "output_type": "stream",
     "text": [
      "Info: it took 16 CTMRG steps to converge the SV to 1.0e-6\n",
      "Info: it took 20 CTMRG steps to converge the environments element wise to 1e-6\n"
     ]
    },
    {
     "name": "stderr",
     "output_type": "stream",
     "text": [
      "┌ Info: LBFGS: initializing with f = 0.013942786853, ‖∇f‖ = 1.6761e-01\n",
      "└ @ OptimKit /Users/weerde/.julia/packages/OptimKit/xpmbV/src/lbfgs.jl:35\n"
     ]
    },
    {
     "name": "stdout",
     "output_type": "stream",
     "text": [
      "Info: it took 18 CTMRG steps to converge the SV to 1.0e-6\n",
      "Info: it took 23 CTMRG steps to converge the environments element wise to 1e-6\n"
     ]
    },
    {
     "name": "stderr",
     "output_type": "stream",
     "text": [
      "┌ Info: LBFGS: iter    1: f = -0.243992337291, ‖∇f‖ = 3.8281e-01, α = 1.00e+00, m = 0, nfg = 1\n",
      "└ @ OptimKit /Users/weerde/.julia/packages/OptimKit/xpmbV/src/lbfgs.jl:76\n"
     ]
    },
    {
     "name": "stdout",
     "output_type": "stream",
     "text": [
      "Info: it took 13 CTMRG steps to converge the SV to 1.0e-6\n",
      "Info: it took 16 CTMRG steps to converge the environments element wise to 1e-6\n"
     ]
    },
    {
     "name": "stderr",
     "output_type": "stream",
     "text": [
      "┌ Info: LBFGS: iter    2: f = -0.277138051013, ‖∇f‖ = 2.5552e-01, α = 1.00e+00, m = 1, nfg = 1\n",
      "└ @ OptimKit /Users/weerde/.julia/packages/OptimKit/xpmbV/src/lbfgs.jl:76\n"
     ]
    },
    {
     "name": "stdout",
     "output_type": "stream",
     "text": [
      "Info: it took 13 CTMRG steps to converge the SV to 1.0e-6\n",
      "Info: it took 18 CTMRG steps to converge the environments element wise to 1e-6\n"
     ]
    },
    {
     "name": "stderr",
     "output_type": "stream",
     "text": [
      "┌ Info: LBFGS: iter    3: f = -0.395309997107, ‖∇f‖ = 6.7568e-02, α = 1.00e+00, m = 2, nfg = 1\n",
      "└ @ OptimKit /Users/weerde/.julia/packages/OptimKit/xpmbV/src/lbfgs.jl:76\n"
     ]
    },
    {
     "name": "stdout",
     "output_type": "stream",
     "text": [
      "Info: it took 13 CTMRG steps to converge the SV to 1.0e-6\n",
      "Info: it took 17 CTMRG steps to converge the environments element wise to 1e-6\n"
     ]
    },
    {
     "name": "stderr",
     "output_type": "stream",
     "text": [
      "┌ Info: LBFGS: iter    4: f = -0.408582652778, ‖∇f‖ = 4.0889e-02, α = 1.00e+00, m = 3, nfg = 1\n",
      "└ @ OptimKit /Users/weerde/.julia/packages/OptimKit/xpmbV/src/lbfgs.jl:76\n"
     ]
    },
    {
     "name": "stdout",
     "output_type": "stream",
     "text": [
      "Info: it took 12 CTMRG steps to converge the SV to 1.0e-6\n",
      "Info: it took 16 CTMRG steps to converge the environments element wise to 1e-6\n"
     ]
    },
    {
     "name": "stderr",
     "output_type": "stream",
     "text": [
      "┌ Info: LBFGS: iter    5: f = -0.419918417059, ‖∇f‖ = 3.4614e-02, α = 1.00e+00, m = 4, nfg = 1\n",
      "└ @ OptimKit /Users/weerde/.julia/packages/OptimKit/xpmbV/src/lbfgs.jl:76\n"
     ]
    },
    {
     "name": "stdout",
     "output_type": "stream",
     "text": [
      "Info: it took 11 CTMRG steps to converge the SV to 1.0e-6\n",
      "Info: it took 14 CTMRG steps to converge the environments element wise to 1e-6\n"
     ]
    },
    {
     "name": "stderr",
     "output_type": "stream",
     "text": [
      "┌ Info: LBFGS: iter    6: f = -0.435162264148, ‖∇f‖ = 2.9633e-02, α = 1.00e+00, m = 5, nfg = 1\n",
      "└ @ OptimKit /Users/weerde/.julia/packages/OptimKit/xpmbV/src/lbfgs.jl:76\n"
     ]
    },
    {
     "name": "stdout",
     "output_type": "stream",
     "text": [
      "Info: it took 9 CTMRG steps to converge the SV to 1.0e-6\n",
      "Info: it took 13 CTMRG steps to converge the environments element wise to 1e-6\n"
     ]
    },
    {
     "name": "stderr",
     "output_type": "stream",
     "text": [
      "┌ Info: LBFGS: iter    7: f = -0.448487092788, ‖∇f‖ = 3.1426e-02, α = 1.00e+00, m = 6, nfg = 1\n",
      "└ @ OptimKit /Users/weerde/.julia/packages/OptimKit/xpmbV/src/lbfgs.jl:76\n"
     ]
    },
    {
     "name": "stdout",
     "output_type": "stream",
     "text": [
      "Info: it took 9 CTMRG steps to converge the SV to 1.0e-6\n",
      "Info: it took 11 CTMRG steps to converge the environments element wise to 1e-6\n"
     ]
    },
    {
     "name": "stderr",
     "output_type": "stream",
     "text": [
      "┌ Info: LBFGS: iter    8: f = -0.457815031699, ‖∇f‖ = 3.0918e-02, α = 1.00e+00, m = 7, nfg = 1\n",
      "└ @ OptimKit /Users/weerde/.julia/packages/OptimKit/xpmbV/src/lbfgs.jl:76\n"
     ]
    },
    {
     "name": "stdout",
     "output_type": "stream",
     "text": [
      "Info: it took 10 CTMRG steps to converge the SV to 1.0e-6\n",
      "Info: it took 12 CTMRG steps to converge the environments element wise to 1e-6\n"
     ]
    },
    {
     "name": "stderr",
     "output_type": "stream",
     "text": [
      "┌ Info: LBFGS: iter    9: f = -0.468446975801, ‖∇f‖ = 2.5073e-02, α = 1.00e+00, m = 8, nfg = 1\n",
      "└ @ OptimKit /Users/weerde/.julia/packages/OptimKit/xpmbV/src/lbfgs.jl:76\n"
     ]
    },
    {
     "name": "stdout",
     "output_type": "stream",
     "text": [
      "Info: it took 12 CTMRG steps to converge the SV to 1.0e-6\n",
      "Info: it took 14 CTMRG steps to converge the environments element wise to 1e-6\n"
     ]
    },
    {
     "name": "stderr",
     "output_type": "stream",
     "text": [
      "┌ Info: LBFGS: iter   10: f = -0.480016597824, ‖∇f‖ = 2.9199e-02, α = 1.00e+00, m = 9, nfg = 1\n",
      "└ @ OptimKit /Users/weerde/.julia/packages/OptimKit/xpmbV/src/lbfgs.jl:76\n"
     ]
    },
    {
     "name": "stdout",
     "output_type": "stream",
     "text": [
      "Info: it took 12 CTMRG steps to converge the SV to 1.0e-6\n",
      "Info: it took 13 CTMRG steps to converge the environments element wise to 1e-6\n"
     ]
    },
    {
     "name": "stderr",
     "output_type": "stream",
     "text": [
      "┌ Info: LBFGS: iter   11: f = -0.489728548000, ‖∇f‖ = 1.5551e-02, α = 1.00e+00, m = 10, nfg = 1\n",
      "└ @ OptimKit /Users/weerde/.julia/packages/OptimKit/xpmbV/src/lbfgs.jl:76\n"
     ]
    },
    {
     "name": "stdout",
     "output_type": "stream",
     "text": [
      "Info: it took 11 CTMRG steps to converge the SV to 1.0e-6\n",
      "Info: it took 14 CTMRG steps to converge the environments element wise to 1e-6\n"
     ]
    },
    {
     "name": "stderr",
     "output_type": "stream",
     "text": [
      "┌ Info: LBFGS: iter   12: f = -0.495246265468, ‖∇f‖ = 1.1609e-02, α = 1.00e+00, m = 11, nfg = 1\n",
      "└ @ OptimKit /Users/weerde/.julia/packages/OptimKit/xpmbV/src/lbfgs.jl:76\n"
     ]
    },
    {
     "name": "stdout",
     "output_type": "stream",
     "text": [
      "Info: it took 12 CTMRG steps to converge the SV to 1.0e-6\n",
      "Info: it took 14 CTMRG steps to converge the environments element wise to 1e-6\n"
     ]
    },
    {
     "name": "stderr",
     "output_type": "stream",
     "text": [
      "┌ Info: LBFGS: iter   13: f = -0.500544780229, ‖∇f‖ = 1.2557e-02, α = 1.00e+00, m = 12, nfg = 1\n",
      "└ @ OptimKit /Users/weerde/.julia/packages/OptimKit/xpmbV/src/lbfgs.jl:76\n"
     ]
    },
    {
     "name": "stdout",
     "output_type": "stream",
     "text": [
      "Info: it took 10 CTMRG steps to converge the SV to 1.0e-6\n",
      "Info: it took 13 CTMRG steps to converge the environments element wise to 1e-6\n"
     ]
    },
    {
     "name": "stderr",
     "output_type": "stream",
     "text": [
      "┌ Info: LBFGS: iter   14: f = -0.504053754752, ‖∇f‖ = 1.2014e-02, α = 1.00e+00, m = 13, nfg = 1\n",
      "└ @ OptimKit /Users/weerde/.julia/packages/OptimKit/xpmbV/src/lbfgs.jl:76\n"
     ]
    },
    {
     "name": "stdout",
     "output_type": "stream",
     "text": [
      "Info: it took 9 CTMRG steps to converge the SV to 1.0e-6\n",
      "Info: it took 13 CTMRG steps to converge the environments element wise to 1e-6\n"
     ]
    },
    {
     "name": "stderr",
     "output_type": "stream",
     "text": [
      "┌ Info: LBFGS: iter   15: f = -0.507287824779, ‖∇f‖ = 1.0184e-02, α = 1.00e+00, m = 14, nfg = 1\n",
      "└ @ OptimKit /Users/weerde/.julia/packages/OptimKit/xpmbV/src/lbfgs.jl:76\n"
     ]
    },
    {
     "name": "stdout",
     "output_type": "stream",
     "text": [
      "Info: it took 11 CTMRG steps to converge the SV to 1.0e-6\n",
      "Info: it took 13 CTMRG steps to converge the environments element wise to 1e-6\n"
     ]
    },
    {
     "name": "stderr",
     "output_type": "stream",
     "text": [
      "┌ Info: LBFGS: iter   16: f = -0.511998138586, ‖∇f‖ = 9.6600e-03, α = 1.00e+00, m = 15, nfg = 1\n",
      "└ @ OptimKit /Users/weerde/.julia/packages/OptimKit/xpmbV/src/lbfgs.jl:76\n"
     ]
    },
    {
     "name": "stdout",
     "output_type": "stream",
     "text": [
      "Info: it took 10 CTMRG steps to converge the SV to 1.0e-6\n",
      "Info: it took 12 CTMRG steps to converge the environments element wise to 1e-6\n"
     ]
    },
    {
     "name": "stderr",
     "output_type": "stream",
     "text": [
      "┌ Info: LBFGS: iter   17: f = -0.514322980040, ‖∇f‖ = 1.0087e-02, α = 1.00e+00, m = 15, nfg = 1\n",
      "└ @ OptimKit /Users/weerde/.julia/packages/OptimKit/xpmbV/src/lbfgs.jl:76\n"
     ]
    },
    {
     "name": "stdout",
     "output_type": "stream",
     "text": [
      "Info: it took 10 CTMRG steps to converge the SV to 1.0e-6\n",
      "Info: it took 12 CTMRG steps to converge the environments element wise to 1e-6\n"
     ]
    },
    {
     "name": "stderr",
     "output_type": "stream",
     "text": [
      "┌ Info: LBFGS: iter   18: f = -0.516368839292, ‖∇f‖ = 5.4570e-03, α = 1.00e+00, m = 15, nfg = 1\n",
      "└ @ OptimKit /Users/weerde/.julia/packages/OptimKit/xpmbV/src/lbfgs.jl:76\n"
     ]
    },
    {
     "name": "stdout",
     "output_type": "stream",
     "text": [
      "Info: it took 10 CTMRG steps to converge the SV to 1.0e-6\n",
      "Info: it took 12 CTMRG steps to converge the environments element wise to 1e-6\n"
     ]
    },
    {
     "name": "stderr",
     "output_type": "stream",
     "text": [
      "┌ Info: LBFGS: iter   19: f = -0.518007144990, ‖∇f‖ = 5.3343e-03, α = 1.00e+00, m = 15, nfg = 1\n",
      "└ @ OptimKit /Users/weerde/.julia/packages/OptimKit/xpmbV/src/lbfgs.jl:76\n"
     ]
    },
    {
     "name": "stdout",
     "output_type": "stream",
     "text": [
      "Info: it took 10 CTMRG steps to converge the SV to 1.0e-6\n",
      "Info: it took 12 CTMRG steps to converge the environments element wise to 1e-6\n"
     ]
    },
    {
     "name": "stderr",
     "output_type": "stream",
     "text": [
      "┌ Info: LBFGS: iter   20: f = -0.519576515583, ‖∇f‖ = 5.4943e-03, α = 1.00e+00, m = 15, nfg = 1\n",
      "└ @ OptimKit /Users/weerde/.julia/packages/OptimKit/xpmbV/src/lbfgs.jl:76\n"
     ]
    },
    {
     "name": "stdout",
     "output_type": "stream",
     "text": [
      "Info: it took 9 CTMRG steps to converge the SV to 1.0e-6\n",
      "Info: it took 11 CTMRG steps to converge the environments element wise to 1e-6\n"
     ]
    },
    {
     "name": "stderr",
     "output_type": "stream",
     "text": [
      "┌ Info: LBFGS: iter   21: f = -0.521056122147, ‖∇f‖ = 6.6588e-03, α = 1.00e+00, m = 15, nfg = 1\n",
      "└ @ OptimKit /Users/weerde/.julia/packages/OptimKit/xpmbV/src/lbfgs.jl:76\n"
     ]
    },
    {
     "name": "stdout",
     "output_type": "stream",
     "text": [
      "Info: it took 9 CTMRG steps to converge the SV to 1.0e-6\n",
      "Info: it took 12 CTMRG steps to converge the environments element wise to 1e-6\n"
     ]
    },
    {
     "name": "stderr",
     "output_type": "stream",
     "text": [
      "┌ Info: LBFGS: iter   22: f = -0.522088274594, ‖∇f‖ = 6.2304e-03, α = 1.00e+00, m = 15, nfg = 1\n",
      "└ @ OptimKit /Users/weerde/.julia/packages/OptimKit/xpmbV/src/lbfgs.jl:76\n"
     ]
    },
    {
     "name": "stdout",
     "output_type": "stream",
     "text": [
      "Info: it took 9 CTMRG steps to converge the SV to 1.0e-6\n",
      "Info: it took 11 CTMRG steps to converge the environments element wise to 1e-6\n"
     ]
    },
    {
     "name": "stderr",
     "output_type": "stream",
     "text": [
      "┌ Info: LBFGS: iter   23: f = -0.523045321932, ‖∇f‖ = 3.2324e-03, α = 1.00e+00, m = 15, nfg = 1\n",
      "└ @ OptimKit /Users/weerde/.julia/packages/OptimKit/xpmbV/src/lbfgs.jl:76\n"
     ]
    },
    {
     "name": "stdout",
     "output_type": "stream",
     "text": [
      "Info: it took 9 CTMRG steps to converge the SV to 1.0e-6\n",
      "Info: it took 11 CTMRG steps to converge the environments element wise to 1e-6\n"
     ]
    },
    {
     "name": "stderr",
     "output_type": "stream",
     "text": [
      "┌ Info: LBFGS: iter   24: f = -0.523638117601, ‖∇f‖ = 2.9755e-03, α = 1.00e+00, m = 15, nfg = 1\n",
      "└ @ OptimKit /Users/weerde/.julia/packages/OptimKit/xpmbV/src/lbfgs.jl:76\n"
     ]
    },
    {
     "name": "stdout",
     "output_type": "stream",
     "text": [
      "Info: it took 9 CTMRG steps to converge the SV to 1.0e-6\n",
      "Info: it took 12 CTMRG steps to converge the environments element wise to 1e-6\n"
     ]
    },
    {
     "name": "stderr",
     "output_type": "stream",
     "text": [
      "┌ Info: LBFGS: iter   25: f = -0.524347687190, ‖∇f‖ = 3.2293e-03, α = 1.00e+00, m = 15, nfg = 1\n",
      "└ @ OptimKit /Users/weerde/.julia/packages/OptimKit/xpmbV/src/lbfgs.jl:76\n"
     ]
    },
    {
     "name": "stdout",
     "output_type": "stream",
     "text": [
      "Info: it took 9 CTMRG steps to converge the SV to 1.0e-6\n",
      "Info: it took 12 CTMRG steps to converge the environments element wise to 1e-6\n"
     ]
    },
    {
     "name": "stderr",
     "output_type": "stream",
     "text": [
      "┌ Info: LBFGS: iter   26: f = -0.524914610594, ‖∇f‖ = 3.6351e-03, α = 1.00e+00, m = 15, nfg = 1\n",
      "└ @ OptimKit /Users/weerde/.julia/packages/OptimKit/xpmbV/src/lbfgs.jl:76\n"
     ]
    },
    {
     "name": "stdout",
     "output_type": "stream",
     "text": [
      "Info: it took 9 CTMRG steps to converge the SV to 1.0e-6\n",
      "Info: it took 12 CTMRG steps to converge the environments element wise to 1e-6\n"
     ]
    },
    {
     "name": "stderr",
     "output_type": "stream",
     "text": [
      "┌ Info: LBFGS: iter   27: f = -0.525362908773, ‖∇f‖ = 2.0090e-03, α = 1.00e+00, m = 15, nfg = 1\n",
      "└ @ OptimKit /Users/weerde/.julia/packages/OptimKit/xpmbV/src/lbfgs.jl:76\n"
     ]
    },
    {
     "name": "stdout",
     "output_type": "stream",
     "text": [
      "Info: it took 9 CTMRG steps to converge the SV to 1.0e-6\n",
      "Info: it took 12 CTMRG steps to converge the environments element wise to 1e-6\n"
     ]
    },
    {
     "name": "stderr",
     "output_type": "stream",
     "text": [
      "┌ Info: LBFGS: iter   28: f = -0.525665451032, ‖∇f‖ = 1.6436e-03, α = 1.00e+00, m = 15, nfg = 1\n",
      "└ @ OptimKit /Users/weerde/.julia/packages/OptimKit/xpmbV/src/lbfgs.jl:76\n"
     ]
    },
    {
     "name": "stdout",
     "output_type": "stream",
     "text": [
      "Info: it took 9 CTMRG steps to converge the SV to 1.0e-6\n",
      "Info: it took 12 CTMRG steps to converge the environments element wise to 1e-6\n"
     ]
    },
    {
     "name": "stderr",
     "output_type": "stream",
     "text": [
      "┌ Info: LBFGS: iter   29: f = -0.525862059510, ‖∇f‖ = 1.5675e-03, α = 1.00e+00, m = 15, nfg = 1\n",
      "└ @ OptimKit /Users/weerde/.julia/packages/OptimKit/xpmbV/src/lbfgs.jl:76\n"
     ]
    },
    {
     "name": "stdout",
     "output_type": "stream",
     "text": [
      "Info: it took 9 CTMRG steps to converge the SV to 1.0e-6\n",
      "Info: it took 12 CTMRG steps to converge the environments element wise to 1e-6\n"
     ]
    },
    {
     "name": "stderr",
     "output_type": "stream",
     "text": [
      "┌ Info: LBFGS: iter   30: f = -0.526033586201, ‖∇f‖ = 2.9985e-03, α = 1.00e+00, m = 15, nfg = 1\n",
      "└ @ OptimKit /Users/weerde/.julia/packages/OptimKit/xpmbV/src/lbfgs.jl:76\n"
     ]
    },
    {
     "name": "stdout",
     "output_type": "stream",
     "text": [
      "Info: it took 9 CTMRG steps to converge the SV to 1.0e-6\n",
      "Info: it took 12 CTMRG steps to converge the environments element wise to 1e-6\n"
     ]
    },
    {
     "name": "stderr",
     "output_type": "stream",
     "text": [
      "┌ Info: LBFGS: iter   31: f = -0.526217801063, ‖∇f‖ = 1.3451e-03, α = 1.00e+00, m = 15, nfg = 1\n",
      "└ @ OptimKit /Users/weerde/.julia/packages/OptimKit/xpmbV/src/lbfgs.jl:76\n"
     ]
    },
    {
     "name": "stdout",
     "output_type": "stream",
     "text": [
      "Info: it took 9 CTMRG steps to converge the SV to 1.0e-6\n",
      "Info: it took 12 CTMRG steps to converge the environments element wise to 1e-6\n"
     ]
    },
    {
     "name": "stderr",
     "output_type": "stream",
     "text": [
      "┌ Info: LBFGS: iter   32: f = -0.526286914974, ‖∇f‖ = 9.1392e-04, α = 1.00e+00, m = 15, nfg = 1\n",
      "└ @ OptimKit /Users/weerde/.julia/packages/OptimKit/xpmbV/src/lbfgs.jl:76\n"
     ]
    },
    {
     "name": "stdout",
     "output_type": "stream",
     "text": [
      "Info: it took 9 CTMRG steps to converge the SV to 1.0e-6\n",
      "Info: it took 12 CTMRG steps to converge the environments element wise to 1e-6\n"
     ]
    },
    {
     "name": "stderr",
     "output_type": "stream",
     "text": [
      "┌ Info: LBFGS: iter   33: f = -0.526374009588, ‖∇f‖ = 8.3710e-04, α = 1.00e+00, m = 15, nfg = 1\n",
      "└ @ OptimKit /Users/weerde/.julia/packages/OptimKit/xpmbV/src/lbfgs.jl:76\n"
     ]
    },
    {
     "name": "stdout",
     "output_type": "stream",
     "text": [
      "Info: it took 9 CTMRG steps to converge the SV to 1.0e-6\n",
      "Info: it took 12 CTMRG steps to converge the environments element wise to 1e-6\n"
     ]
    },
    {
     "name": "stderr",
     "output_type": "stream",
     "text": [
      "┌ Info: LBFGS: iter   34: f = -0.526424042769, ‖∇f‖ = 1.8969e-03, α = 1.00e+00, m = 15, nfg = 1\n",
      "└ @ OptimKit /Users/weerde/.julia/packages/OptimKit/xpmbV/src/lbfgs.jl:76\n"
     ]
    },
    {
     "name": "stdout",
     "output_type": "stream",
     "text": [
      "Info: it took 9 CTMRG steps to converge the SV to 1.0e-6\n",
      "Info: it took 12 CTMRG steps to converge the environments element wise to 1e-6\n"
     ]
    },
    {
     "name": "stderr",
     "output_type": "stream",
     "text": [
      "┌ Info: LBFGS: iter   35: f = -0.526491677655, ‖∇f‖ = 8.0052e-04, α = 1.00e+00, m = 15, nfg = 1\n",
      "└ @ OptimKit /Users/weerde/.julia/packages/OptimKit/xpmbV/src/lbfgs.jl:76\n"
     ]
    },
    {
     "name": "stdout",
     "output_type": "stream",
     "text": [
      "Info: it took 9 CTMRG steps to converge the SV to 1.0e-6\n",
      "Info: it took 12 CTMRG steps to converge the environments element wise to 1e-6\n"
     ]
    },
    {
     "name": "stderr",
     "output_type": "stream",
     "text": [
      "┌ Info: LBFGS: iter   36: f = -0.526524664607, ‖∇f‖ = 5.7952e-04, α = 1.00e+00, m = 15, nfg = 1\n",
      "└ @ OptimKit /Users/weerde/.julia/packages/OptimKit/xpmbV/src/lbfgs.jl:76\n"
     ]
    },
    {
     "name": "stdout",
     "output_type": "stream",
     "text": [
      "Info: it took 9 CTMRG steps to converge the SV to 1.0e-6\n",
      "Info: it took 12 CTMRG steps to converge the environments element wise to 1e-6\n"
     ]
    },
    {
     "name": "stderr",
     "output_type": "stream",
     "text": [
      "┌ Info: LBFGS: iter   37: f = -0.526552815134, ‖∇f‖ = 5.8486e-04, α = 1.00e+00, m = 15, nfg = 1\n",
      "└ @ OptimKit /Users/weerde/.julia/packages/OptimKit/xpmbV/src/lbfgs.jl:76\n"
     ]
    },
    {
     "name": "stdout",
     "output_type": "stream",
     "text": [
      "Info: it took 9 CTMRG steps to converge the SV to 1.0e-6\n",
      "Info: it took 12 CTMRG steps to converge the environments element wise to 1e-6\n"
     ]
    },
    {
     "name": "stderr",
     "output_type": "stream",
     "text": [
      "┌ Info: LBFGS: iter   38: f = -0.526593644768, ‖∇f‖ = 5.7868e-04, α = 1.00e+00, m = 15, nfg = 1\n",
      "└ @ OptimKit /Users/weerde/.julia/packages/OptimKit/xpmbV/src/lbfgs.jl:76\n"
     ]
    },
    {
     "name": "stdout",
     "output_type": "stream",
     "text": [
      "Info: it took 9 CTMRG steps to converge the SV to 1.0e-6\n",
      "Info: it took 11 CTMRG steps to converge the environments element wise to 1e-6\n",
      "Info: it took 9 CTMRG steps to converge the SV to 1.0e-6\n",
      "Info: it took 12 CTMRG steps to converge the environments element wise to 1e-6\n"
     ]
    },
    {
     "name": "stderr",
     "output_type": "stream",
     "text": [
      "┌ Info: LBFGS: iter   39: f = -0.526612616349, ‖∇f‖ = 7.8106e-04, α = 4.09e-01, m = 15, nfg = 2\n",
      "└ @ OptimKit /Users/weerde/.julia/packages/OptimKit/xpmbV/src/lbfgs.jl:76\n"
     ]
    },
    {
     "name": "stdout",
     "output_type": "stream",
     "text": [
      "Info: it took 9 CTMRG steps to converge the SV to 1.0e-6\n",
      "Info: it took 11 CTMRG steps to converge the environments element wise to 1e-6\n"
     ]
    },
    {
     "name": "stderr",
     "output_type": "stream",
     "text": [
      "┌ Info: LBFGS: iter   40: f = -0.526635764119, ‖∇f‖ = 3.9397e-04, α = 1.00e+00, m = 15, nfg = 1\n",
      "└ @ OptimKit /Users/weerde/.julia/packages/OptimKit/xpmbV/src/lbfgs.jl:76\n"
     ]
    },
    {
     "name": "stdout",
     "output_type": "stream",
     "text": [
      "Info: it took 9 CTMRG steps to converge the SV to 1.0e-6\n",
      "Info: it took 11 CTMRG steps to converge the environments element wise to 1e-6\n"
     ]
    },
    {
     "name": "stderr",
     "output_type": "stream",
     "text": [
      "┌ Info: LBFGS: iter   41: f = -0.526650535731, ‖∇f‖ = 3.5159e-04, α = 1.00e+00, m = 15, nfg = 1\n",
      "└ @ OptimKit /Users/weerde/.julia/packages/OptimKit/xpmbV/src/lbfgs.jl:76\n"
     ]
    },
    {
     "name": "stdout",
     "output_type": "stream",
     "text": [
      "Info: it took 9 CTMRG steps to converge the SV to 1.0e-6\n",
      "Info: it took 11 CTMRG steps to converge the environments element wise to 1e-6\n"
     ]
    },
    {
     "name": "stderr",
     "output_type": "stream",
     "text": [
      "┌ Info: LBFGS: iter   42: f = -0.526666628761, ‖∇f‖ = 4.5144e-04, α = 1.00e+00, m = 15, nfg = 1\n",
      "└ @ OptimKit /Users/weerde/.julia/packages/OptimKit/xpmbV/src/lbfgs.jl:76\n"
     ]
    },
    {
     "name": "stdout",
     "output_type": "stream",
     "text": [
      "Info: it took 9 CTMRG steps to converge the SV to 1.0e-6\n",
      "Info: it took 11 CTMRG steps to converge the environments element wise to 1e-6\n"
     ]
    },
    {
     "name": "stderr",
     "output_type": "stream",
     "text": [
      "┌ Info: LBFGS: iter   43: f = -0.526679516381, ‖∇f‖ = 4.6258e-04, α = 1.00e+00, m = 15, nfg = 1\n",
      "└ @ OptimKit /Users/weerde/.julia/packages/OptimKit/xpmbV/src/lbfgs.jl:76\n"
     ]
    },
    {
     "name": "stdout",
     "output_type": "stream",
     "text": [
      "Info: it took 9 CTMRG steps to converge the SV to 1.0e-6\n",
      "Info: it took 12 CTMRG steps to converge the environments element wise to 1e-6\n"
     ]
    },
    {
     "name": "stderr",
     "output_type": "stream",
     "text": [
      "┌ Info: LBFGS: iter   44: f = -0.526690405930, ‖∇f‖ = 3.1177e-04, α = 1.00e+00, m = 15, nfg = 1\n",
      "└ @ OptimKit /Users/weerde/.julia/packages/OptimKit/xpmbV/src/lbfgs.jl:76\n"
     ]
    },
    {
     "name": "stdout",
     "output_type": "stream",
     "text": [
      "Info: it took 9 CTMRG steps to converge the SV to 1.0e-6\n",
      "Info: it took 12 CTMRG steps to converge the environments element wise to 1e-6\n"
     ]
    },
    {
     "name": "stderr",
     "output_type": "stream",
     "text": [
      "┌ Info: LBFGS: iter   45: f = -0.526702806822, ‖∇f‖ = 3.2574e-04, α = 1.00e+00, m = 15, nfg = 1\n",
      "└ @ OptimKit /Users/weerde/.julia/packages/OptimKit/xpmbV/src/lbfgs.jl:76\n"
     ]
    },
    {
     "name": "stdout",
     "output_type": "stream",
     "text": [
      "Info: it took 9 CTMRG steps to converge the SV to 1.0e-6\n",
      "Info: it took 12 CTMRG steps to converge the environments element wise to 1e-6\n"
     ]
    },
    {
     "name": "stderr",
     "output_type": "stream",
     "text": [
      "┌ Info: LBFGS: iter   46: f = -0.526711889119, ‖∇f‖ = 4.4752e-04, α = 1.00e+00, m = 15, nfg = 1\n",
      "└ @ OptimKit /Users/weerde/.julia/packages/OptimKit/xpmbV/src/lbfgs.jl:76\n"
     ]
    },
    {
     "name": "stdout",
     "output_type": "stream",
     "text": [
      "Info: it took 9 CTMRG steps to converge the SV to 1.0e-6\n",
      "Info: it took 12 CTMRG steps to converge the environments element wise to 1e-6\n"
     ]
    },
    {
     "name": "stderr",
     "output_type": "stream",
     "text": [
      "┌ Info: LBFGS: iter   47: f = -0.526721504743, ‖∇f‖ = 2.8678e-04, α = 1.00e+00, m = 15, nfg = 1\n",
      "└ @ OptimKit /Users/weerde/.julia/packages/OptimKit/xpmbV/src/lbfgs.jl:76\n"
     ]
    },
    {
     "name": "stdout",
     "output_type": "stream",
     "text": [
      "Info: it took 9 CTMRG steps to converge the SV to 1.0e-6\n",
      "Info: it took 12 CTMRG steps to converge the environments element wise to 1e-6\n"
     ]
    },
    {
     "name": "stderr",
     "output_type": "stream",
     "text": [
      "┌ Info: LBFGS: iter   48: f = -0.526727104854, ‖∇f‖ = 2.3737e-04, α = 1.00e+00, m = 15, nfg = 1\n",
      "└ @ OptimKit /Users/weerde/.julia/packages/OptimKit/xpmbV/src/lbfgs.jl:76\n"
     ]
    },
    {
     "name": "stdout",
     "output_type": "stream",
     "text": [
      "Info: it took 9 CTMRG steps to converge the SV to 1.0e-6\n",
      "Info: it took 12 CTMRG steps to converge the environments element wise to 1e-6\n"
     ]
    },
    {
     "name": "stderr",
     "output_type": "stream",
     "text": [
      "┌ Info: LBFGS: iter   49: f = -0.526731146139, ‖∇f‖ = 2.1215e-04, α = 1.00e+00, m = 15, nfg = 1\n",
      "└ @ OptimKit /Users/weerde/.julia/packages/OptimKit/xpmbV/src/lbfgs.jl:76\n"
     ]
    },
    {
     "name": "stdout",
     "output_type": "stream",
     "text": [
      "Info: it took 9 CTMRG steps to converge the SV to 1.0e-6\n",
      "Info: it took 12 CTMRG steps to converge the environments element wise to 1e-6\n"
     ]
    },
    {
     "name": "stderr",
     "output_type": "stream",
     "text": [
      "┌ Info: LBFGS: iter   50: f = -0.526734993517, ‖∇f‖ = 1.9354e-04, α = 1.00e+00, m = 15, nfg = 1\n",
      "└ @ OptimKit /Users/weerde/.julia/packages/OptimKit/xpmbV/src/lbfgs.jl:76\n"
     ]
    },
    {
     "name": "stdout",
     "output_type": "stream",
     "text": [
      "Info: it took 9 CTMRG steps to converge the SV to 1.0e-6\n",
      "Info: it took 12 CTMRG steps to converge the environments element wise to 1e-6\n"
     ]
    },
    {
     "name": "stderr",
     "output_type": "stream",
     "text": [
      "┌ Info: LBFGS: iter   51: f = -0.526737224546, ‖∇f‖ = 3.2486e-04, α = 1.00e+00, m = 15, nfg = 1\n",
      "└ @ OptimKit /Users/weerde/.julia/packages/OptimKit/xpmbV/src/lbfgs.jl:76\n"
     ]
    },
    {
     "name": "stdout",
     "output_type": "stream",
     "text": [
      "Info: it took 9 CTMRG steps to converge the SV to 1.0e-6\n",
      "Info: it took 12 CTMRG steps to converge the environments element wise to 1e-6\n"
     ]
    },
    {
     "name": "stderr",
     "output_type": "stream",
     "text": [
      "┌ Info: LBFGS: iter   52: f = -0.526739947625, ‖∇f‖ = 1.3367e-04, α = 1.00e+00, m = 15, nfg = 1\n",
      "└ @ OptimKit /Users/weerde/.julia/packages/OptimKit/xpmbV/src/lbfgs.jl:76\n"
     ]
    },
    {
     "name": "stdout",
     "output_type": "stream",
     "text": [
      "Info: it took 9 CTMRG steps to converge the SV to 1.0e-6\n",
      "Info: it took 12 CTMRG steps to converge the environments element wise to 1e-6\n"
     ]
    },
    {
     "name": "stderr",
     "output_type": "stream",
     "text": [
      "┌ Info: LBFGS: iter   53: f = -0.526741160459, ‖∇f‖ = 1.3121e-04, α = 1.00e+00, m = 15, nfg = 1\n",
      "└ @ OptimKit /Users/weerde/.julia/packages/OptimKit/xpmbV/src/lbfgs.jl:76\n"
     ]
    },
    {
     "name": "stdout",
     "output_type": "stream",
     "text": [
      "Info: it took 9 CTMRG steps to converge the SV to 1.0e-6\n",
      "Info: it took 12 CTMRG steps to converge the environments element wise to 1e-6\n"
     ]
    },
    {
     "name": "stderr",
     "output_type": "stream",
     "text": [
      "┌ Info: LBFGS: iter   54: f = -0.526743212229, ‖∇f‖ = 1.3899e-04, α = 1.00e+00, m = 15, nfg = 1\n",
      "└ @ OptimKit /Users/weerde/.julia/packages/OptimKit/xpmbV/src/lbfgs.jl:76\n"
     ]
    },
    {
     "name": "stdout",
     "output_type": "stream",
     "text": [
      "Info: it took 9 CTMRG steps to converge the SV to 1.0e-6\n",
      "Info: it took 13 CTMRG steps to converge the environments element wise to 1e-6\n"
     ]
    },
    {
     "name": "stderr",
     "output_type": "stream",
     "text": [
      "┌ Info: LBFGS: iter   55: f = -0.526743906001, ‖∇f‖ = 3.9921e-04, α = 1.00e+00, m = 15, nfg = 1\n",
      "└ @ OptimKit /Users/weerde/.julia/packages/OptimKit/xpmbV/src/lbfgs.jl:76\n"
     ]
    },
    {
     "name": "stdout",
     "output_type": "stream",
     "text": [
      "Info: it took 9 CTMRG steps to converge the SV to 1.0e-6\n",
      "Info: it took 13 CTMRG steps to converge the environments element wise to 1e-6\n"
     ]
    },
    {
     "name": "stderr",
     "output_type": "stream",
     "text": [
      "┌ Info: LBFGS: iter   56: f = -0.526746538359, ‖∇f‖ = 1.3145e-04, α = 1.00e+00, m = 15, nfg = 1\n",
      "└ @ OptimKit /Users/weerde/.julia/packages/OptimKit/xpmbV/src/lbfgs.jl:76\n"
     ]
    },
    {
     "name": "stdout",
     "output_type": "stream",
     "text": [
      "Info: it took 9 CTMRG steps to converge the SV to 1.0e-6\n",
      "Info: it took 13 CTMRG steps to converge the environments element wise to 1e-6\n"
     ]
    },
    {
     "name": "stderr",
     "output_type": "stream",
     "text": [
      "┌ Info: LBFGS: iter   57: f = -0.526747510668, ‖∇f‖ = 1.0055e-04, α = 1.00e+00, m = 15, nfg = 1\n",
      "└ @ OptimKit /Users/weerde/.julia/packages/OptimKit/xpmbV/src/lbfgs.jl:76\n"
     ]
    },
    {
     "name": "stdout",
     "output_type": "stream",
     "text": [
      "Info: it took 9 CTMRG steps to converge the SV to 1.0e-6\n",
      "Info: it took 12 CTMRG steps to converge the environments element wise to 1e-6\n"
     ]
    },
    {
     "name": "stderr",
     "output_type": "stream",
     "text": [
      "┌ Info: LBFGS: iter   58: f = -0.526748724852, ‖∇f‖ = 1.2532e-04, α = 1.00e+00, m = 15, nfg = 1\n",
      "└ @ OptimKit /Users/weerde/.julia/packages/OptimKit/xpmbV/src/lbfgs.jl:76\n"
     ]
    },
    {
     "name": "stdout",
     "output_type": "stream",
     "text": [
      "Info: it took 9 CTMRG steps to converge the SV to 1.0e-6\n",
      "Info: it took 12 CTMRG steps to converge the environments element wise to 1e-6\n"
     ]
    },
    {
     "name": "stderr",
     "output_type": "stream",
     "text": [
      "┌ Info: LBFGS: iter   59: f = -0.526750293332, ‖∇f‖ = 1.2698e-04, α = 1.00e+00, m = 15, nfg = 1\n",
      "└ @ OptimKit /Users/weerde/.julia/packages/OptimKit/xpmbV/src/lbfgs.jl:76\n"
     ]
    },
    {
     "name": "stdout",
     "output_type": "stream",
     "text": [
      "Info: it took 9 CTMRG steps to converge the SV to 1.0e-6\n",
      "Info: it took 12 CTMRG steps to converge the environments element wise to 1e-6\n",
      "Info: it took 9 CTMRG steps to converge the SV to 1.0e-6\n",
      "Info: it took 12 CTMRG steps to converge the environments element wise to 1e-6\n"
     ]
    },
    {
     "name": "stderr",
     "output_type": "stream",
     "text": [
      "┌ Info: LBFGS: iter   60: f = -0.526751281565, ‖∇f‖ = 2.1181e-04, α = 4.22e-01, m = 15, nfg = 2\n",
      "└ @ OptimKit /Users/weerde/.julia/packages/OptimKit/xpmbV/src/lbfgs.jl:76\n"
     ]
    },
    {
     "name": "stdout",
     "output_type": "stream",
     "text": [
      "Info: it took 9 CTMRG steps to converge the SV to 1.0e-6\n",
      "Info: it took 12 CTMRG steps to converge the environments element wise to 1e-6\n"
     ]
    },
    {
     "name": "stderr",
     "output_type": "stream",
     "text": [
      "┌ Info: LBFGS: iter   61: f = -0.526752982834, ‖∇f‖ = 1.0684e-04, α = 1.00e+00, m = 15, nfg = 1\n",
      "└ @ OptimKit /Users/weerde/.julia/packages/OptimKit/xpmbV/src/lbfgs.jl:76\n"
     ]
    },
    {
     "name": "stdout",
     "output_type": "stream",
     "text": [
      "Info: it took 9 CTMRG steps to converge the SV to 1.0e-6\n",
      "Info: it took 12 CTMRG steps to converge the environments element wise to 1e-6\n"
     ]
    },
    {
     "name": "stderr",
     "output_type": "stream",
     "text": [
      "┌ Info: LBFGS: iter   62: f = -0.526754017867, ‖∇f‖ = 8.4779e-05, α = 1.00e+00, m = 15, nfg = 1\n",
      "└ @ OptimKit /Users/weerde/.julia/packages/OptimKit/xpmbV/src/lbfgs.jl:76\n"
     ]
    },
    {
     "name": "stdout",
     "output_type": "stream",
     "text": [
      "Info: it took 9 CTMRG steps to converge the SV to 1.0e-6\n",
      "Info: it took 12 CTMRG steps to converge the environments element wise to 1e-6\n"
     ]
    },
    {
     "name": "stderr",
     "output_type": "stream",
     "text": [
      "┌ Info: LBFGS: iter   63: f = -0.526754977169, ‖∇f‖ = 1.5260e-04, α = 1.00e+00, m = 15, nfg = 1\n",
      "└ @ OptimKit /Users/weerde/.julia/packages/OptimKit/xpmbV/src/lbfgs.jl:76\n"
     ]
    },
    {
     "name": "stdout",
     "output_type": "stream",
     "text": [
      "Info: it took 9 CTMRG steps to converge the SV to 1.0e-6\n",
      "Info: it took 12 CTMRG steps to converge the environments element wise to 1e-6\n"
     ]
    },
    {
     "name": "stderr",
     "output_type": "stream",
     "text": [
      "┌ Info: LBFGS: iter   64: f = -0.526755750963, ‖∇f‖ = 9.2816e-05, α = 1.00e+00, m = 15, nfg = 1\n",
      "└ @ OptimKit /Users/weerde/.julia/packages/OptimKit/xpmbV/src/lbfgs.jl:76\n"
     ]
    },
    {
     "name": "stdout",
     "output_type": "stream",
     "text": [
      "Info: it took 9 CTMRG steps to converge the SV to 1.0e-6\n",
      "Info: it took 12 CTMRG steps to converge the environments element wise to 1e-6\n"
     ]
    },
    {
     "name": "stderr",
     "output_type": "stream",
     "text": [
      "┌ Info: LBFGS: iter   65: f = -0.526756305834, ‖∇f‖ = 7.7853e-05, α = 1.00e+00, m = 15, nfg = 1\n",
      "└ @ OptimKit /Users/weerde/.julia/packages/OptimKit/xpmbV/src/lbfgs.jl:76\n"
     ]
    },
    {
     "name": "stdout",
     "output_type": "stream",
     "text": [
      "Info: it took 9 CTMRG steps to converge the SV to 1.0e-6\n",
      "Info: it took 12 CTMRG steps to converge the environments element wise to 1e-6\n"
     ]
    },
    {
     "name": "stderr",
     "output_type": "stream",
     "text": [
      "┌ Info: LBFGS: iter   66: f = -0.526757011262, ‖∇f‖ = 8.8847e-05, α = 1.00e+00, m = 15, nfg = 1\n",
      "└ @ OptimKit /Users/weerde/.julia/packages/OptimKit/xpmbV/src/lbfgs.jl:76\n"
     ]
    },
    {
     "name": "stdout",
     "output_type": "stream",
     "text": [
      "Info: it took 9 CTMRG steps to converge the SV to 1.0e-6\n",
      "Info: it took 12 CTMRG steps to converge the environments element wise to 1e-6\n"
     ]
    },
    {
     "name": "stderr",
     "output_type": "stream",
     "text": [
      "┌ Info: LBFGS: iter   67: f = -0.526757417600, ‖∇f‖ = 1.3789e-04, α = 1.00e+00, m = 15, nfg = 1\n",
      "└ @ OptimKit /Users/weerde/.julia/packages/OptimKit/xpmbV/src/lbfgs.jl:76\n"
     ]
    },
    {
     "name": "stdout",
     "output_type": "stream",
     "text": [
      "Info: it took 9 CTMRG steps to converge the SV to 1.0e-6\n",
      "Info: it took 12 CTMRG steps to converge the environments element wise to 1e-6\n"
     ]
    },
    {
     "name": "stderr",
     "output_type": "stream",
     "text": [
      "┌ Info: LBFGS: iter   68: f = -0.526757882858, ‖∇f‖ = 6.6297e-05, α = 1.00e+00, m = 15, nfg = 1\n",
      "└ @ OptimKit /Users/weerde/.julia/packages/OptimKit/xpmbV/src/lbfgs.jl:76\n"
     ]
    },
    {
     "name": "stdout",
     "output_type": "stream",
     "text": [
      "Info: it took 9 CTMRG steps to converge the SV to 1.0e-6\n",
      "Info: it took 12 CTMRG steps to converge the environments element wise to 1e-6\n"
     ]
    },
    {
     "name": "stderr",
     "output_type": "stream",
     "text": [
      "┌ Info: LBFGS: iter   69: f = -0.526758256907, ‖∇f‖ = 5.5910e-05, α = 1.00e+00, m = 15, nfg = 1\n",
      "└ @ OptimKit /Users/weerde/.julia/packages/OptimKit/xpmbV/src/lbfgs.jl:76\n"
     ]
    },
    {
     "name": "stdout",
     "output_type": "stream",
     "text": [
      "Info: it took 9 CTMRG steps to converge the SV to 1.0e-6\n",
      "Info: it took 12 CTMRG steps to converge the environments element wise to 1e-6\n"
     ]
    },
    {
     "name": "stderr",
     "output_type": "stream",
     "text": [
      "┌ Info: LBFGS: iter   70: f = -0.526758508064, ‖∇f‖ = 6.3745e-05, α = 1.00e+00, m = 15, nfg = 1\n",
      "└ @ OptimKit /Users/weerde/.julia/packages/OptimKit/xpmbV/src/lbfgs.jl:76\n"
     ]
    },
    {
     "name": "stdout",
     "output_type": "stream",
     "text": [
      "Info: it took 9 CTMRG steps to converge the SV to 1.0e-6\n",
      "Info: it took 12 CTMRG steps to converge the environments element wise to 1e-6\n"
     ]
    },
    {
     "name": "stderr",
     "output_type": "stream",
     "text": [
      "┌ Info: LBFGS: iter   71: f = -0.526758987323, ‖∇f‖ = 8.6949e-05, α = 1.00e+00, m = 15, nfg = 1\n",
      "└ @ OptimKit /Users/weerde/.julia/packages/OptimKit/xpmbV/src/lbfgs.jl:76\n"
     ]
    },
    {
     "name": "stdout",
     "output_type": "stream",
     "text": [
      "Info: it took 9 CTMRG steps to converge the SV to 1.0e-6\n",
      "Info: it took 12 CTMRG steps to converge the environments element wise to 1e-6\n"
     ]
    },
    {
     "name": "stderr",
     "output_type": "stream",
     "text": [
      "┌ Info: LBFGS: iter   72: f = -0.526759068251, ‖∇f‖ = 1.1504e-04, α = 1.00e+00, m = 15, nfg = 1\n",
      "└ @ OptimKit /Users/weerde/.julia/packages/OptimKit/xpmbV/src/lbfgs.jl:76\n"
     ]
    },
    {
     "name": "stdout",
     "output_type": "stream",
     "text": [
      "Info: it took 9 CTMRG steps to converge the SV to 1.0e-6\n",
      "Info: it took 12 CTMRG steps to converge the environments element wise to 1e-6\n"
     ]
    },
    {
     "name": "stderr",
     "output_type": "stream",
     "text": [
      "┌ Info: LBFGS: iter   73: f = -0.526759376435, ‖∇f‖ = 3.4450e-05, α = 1.00e+00, m = 15, nfg = 1\n",
      "└ @ OptimKit /Users/weerde/.julia/packages/OptimKit/xpmbV/src/lbfgs.jl:76\n"
     ]
    },
    {
     "name": "stdout",
     "output_type": "stream",
     "text": [
      "Info: it took 9 CTMRG steps to converge the SV to 1.0e-6\n",
      "Info: it took 12 CTMRG steps to converge the environments element wise to 1e-6\n"
     ]
    },
    {
     "name": "stderr",
     "output_type": "stream",
     "text": [
      "┌ Info: LBFGS: iter   74: f = -0.526759458606, ‖∇f‖ = 3.1178e-05, α = 1.00e+00, m = 15, nfg = 1\n",
      "└ @ OptimKit /Users/weerde/.julia/packages/OptimKit/xpmbV/src/lbfgs.jl:76\n"
     ]
    },
    {
     "name": "stdout",
     "output_type": "stream",
     "text": [
      "Info: it took 9 CTMRG steps to converge the SV to 1.0e-6\n",
      "Info: it took 12 CTMRG steps to converge the environments element wise to 1e-6\n"
     ]
    },
    {
     "name": "stderr",
     "output_type": "stream",
     "text": [
      "┌ Info: LBFGS: iter   75: f = -0.526759621834, ‖∇f‖ = 4.9140e-05, α = 1.00e+00, m = 15, nfg = 1\n",
      "└ @ OptimKit /Users/weerde/.julia/packages/OptimKit/xpmbV/src/lbfgs.jl:76\n"
     ]
    },
    {
     "name": "stdout",
     "output_type": "stream",
     "text": [
      "Info: it took 9 CTMRG steps to converge the SV to 1.0e-6\n",
      "Info: it took 12 CTMRG steps to converge the environments element wise to 1e-6\n"
     ]
    },
    {
     "name": "stderr",
     "output_type": "stream",
     "text": [
      "┌ Info: LBFGS: iter   76: f = -0.526759711484, ‖∇f‖ = 7.4454e-05, α = 1.00e+00, m = 15, nfg = 1\n",
      "└ @ OptimKit /Users/weerde/.julia/packages/OptimKit/xpmbV/src/lbfgs.jl:76\n"
     ]
    },
    {
     "name": "stdout",
     "output_type": "stream",
     "text": [
      "Info: it took 9 CTMRG steps to converge the SV to 1.0e-6\n",
      "Info: it took 12 CTMRG steps to converge the environments element wise to 1e-6\n"
     ]
    },
    {
     "name": "stderr",
     "output_type": "stream",
     "text": [
      "┌ Info: LBFGS: iter   77: f = -0.526759833712, ‖∇f‖ = 2.9208e-05, α = 1.00e+00, m = 15, nfg = 1\n",
      "└ @ OptimKit /Users/weerde/.julia/packages/OptimKit/xpmbV/src/lbfgs.jl:76\n"
     ]
    },
    {
     "name": "stdout",
     "output_type": "stream",
     "text": [
      "Info: it took 9 CTMRG steps to converge the SV to 1.0e-6\n",
      "Info: it took 12 CTMRG steps to converge the environments element wise to 1e-6\n"
     ]
    },
    {
     "name": "stderr",
     "output_type": "stream",
     "text": [
      "┌ Info: LBFGS: iter   78: f = -0.526759891790, ‖∇f‖ = 2.4128e-05, α = 1.00e+00, m = 15, nfg = 1\n",
      "└ @ OptimKit /Users/weerde/.julia/packages/OptimKit/xpmbV/src/lbfgs.jl:76\n"
     ]
    },
    {
     "name": "stdout",
     "output_type": "stream",
     "text": [
      "Info: it took 9 CTMRG steps to converge the SV to 1.0e-6\n",
      "Info: it took 12 CTMRG steps to converge the environments element wise to 1e-6\n"
     ]
    },
    {
     "name": "stderr",
     "output_type": "stream",
     "text": [
      "┌ Info: LBFGS: iter   79: f = -0.526759946824, ‖∇f‖ = 2.5939e-05, α = 1.00e+00, m = 15, nfg = 1\n",
      "└ @ OptimKit /Users/weerde/.julia/packages/OptimKit/xpmbV/src/lbfgs.jl:76\n"
     ]
    },
    {
     "name": "stdout",
     "output_type": "stream",
     "text": [
      "Info: it took 9 CTMRG steps to converge the SV to 1.0e-6\n",
      "Info: it took 12 CTMRG steps to converge the environments element wise to 1e-6\n"
     ]
    },
    {
     "name": "stderr",
     "output_type": "stream",
     "text": [
      "┌ Info: LBFGS: iter   80: f = -0.526760038327, ‖∇f‖ = 3.2995e-05, α = 1.00e+00, m = 15, nfg = 1\n",
      "└ @ OptimKit /Users/weerde/.julia/packages/OptimKit/xpmbV/src/lbfgs.jl:76\n"
     ]
    },
    {
     "name": "stdout",
     "output_type": "stream",
     "text": [
      "Info: it took 9 CTMRG steps to converge the SV to 1.0e-6\n",
      "Info: it took 12 CTMRG steps to converge the environments element wise to 1e-6\n"
     ]
    },
    {
     "name": "stderr",
     "output_type": "stream",
     "text": [
      "┌ Info: LBFGS: iter   81: f = -0.526760045747, ‖∇f‖ = 6.2144e-05, α = 1.00e+00, m = 15, nfg = 1\n",
      "└ @ OptimKit /Users/weerde/.julia/packages/OptimKit/xpmbV/src/lbfgs.jl:76\n"
     ]
    },
    {
     "name": "stdout",
     "output_type": "stream",
     "text": [
      "Info: it took 9 CTMRG steps to converge the SV to 1.0e-6\n",
      "Info: it took 12 CTMRG steps to converge the environments element wise to 1e-6\n"
     ]
    },
    {
     "name": "stderr",
     "output_type": "stream",
     "text": [
      "┌ Info: LBFGS: iter   82: f = -0.526760136537, ‖∇f‖ = 1.9064e-05, α = 1.00e+00, m = 15, nfg = 1\n",
      "└ @ OptimKit /Users/weerde/.julia/packages/OptimKit/xpmbV/src/lbfgs.jl:76\n"
     ]
    },
    {
     "name": "stdout",
     "output_type": "stream",
     "text": [
      "Info: it took 9 CTMRG steps to converge the SV to 1.0e-6\n",
      "Info: it took 12 CTMRG steps to converge the environments element wise to 1e-6\n"
     ]
    },
    {
     "name": "stderr",
     "output_type": "stream",
     "text": [
      "┌ Info: LBFGS: iter   83: f = -0.526760163813, ‖∇f‖ = 1.6652e-05, α = 1.00e+00, m = 15, nfg = 1\n",
      "└ @ OptimKit /Users/weerde/.julia/packages/OptimKit/xpmbV/src/lbfgs.jl:76\n"
     ]
    },
    {
     "name": "stdout",
     "output_type": "stream",
     "text": [
      "Info: it took 9 CTMRG steps to converge the SV to 1.0e-6\n",
      "Info: it took 12 CTMRG steps to converge the environments element wise to 1e-6\n"
     ]
    },
    {
     "name": "stderr",
     "output_type": "stream",
     "text": [
      "┌ Info: LBFGS: iter   84: f = -0.526760214054, ‖∇f‖ = 2.2829e-05, α = 1.00e+00, m = 15, nfg = 1\n",
      "└ @ OptimKit /Users/weerde/.julia/packages/OptimKit/xpmbV/src/lbfgs.jl:76\n"
     ]
    },
    {
     "name": "stdout",
     "output_type": "stream",
     "text": [
      "Info: it took 9 CTMRG steps to converge the SV to 1.0e-6\n",
      "Info: it took 12 CTMRG steps to converge the environments element wise to 1e-6\n"
     ]
    },
    {
     "name": "stderr",
     "output_type": "stream",
     "text": [
      "┌ Info: LBFGS: iter   85: f = -0.526760241238, ‖∇f‖ = 4.7191e-05, α = 1.00e+00, m = 15, nfg = 1\n",
      "└ @ OptimKit /Users/weerde/.julia/packages/OptimKit/xpmbV/src/lbfgs.jl:76\n"
     ]
    },
    {
     "name": "stdout",
     "output_type": "stream",
     "text": [
      "Info: it took 9 CTMRG steps to converge the SV to 1.0e-6\n",
      "Info: it took 12 CTMRG steps to converge the environments element wise to 1e-6\n"
     ]
    },
    {
     "name": "stderr",
     "output_type": "stream",
     "text": [
      "┌ Info: LBFGS: iter   86: f = -0.526760283322, ‖∇f‖ = 1.7918e-05, α = 1.00e+00, m = 15, nfg = 1\n",
      "└ @ OptimKit /Users/weerde/.julia/packages/OptimKit/xpmbV/src/lbfgs.jl:76\n"
     ]
    },
    {
     "name": "stdout",
     "output_type": "stream",
     "text": [
      "Info: it took 9 CTMRG steps to converge the SV to 1.0e-6\n",
      "Info: it took 12 CTMRG steps to converge the environments element wise to 1e-6\n"
     ]
    },
    {
     "name": "stderr",
     "output_type": "stream",
     "text": [
      "┌ Info: LBFGS: iter   87: f = -0.526760301202, ‖∇f‖ = 1.2043e-05, α = 1.00e+00, m = 15, nfg = 1\n",
      "└ @ OptimKit /Users/weerde/.julia/packages/OptimKit/xpmbV/src/lbfgs.jl:76\n"
     ]
    },
    {
     "name": "stdout",
     "output_type": "stream",
     "text": [
      "Info: it took 9 CTMRG steps to converge the SV to 1.0e-6\n",
      "Info: it took 12 CTMRG steps to converge the environments element wise to 1e-6\n"
     ]
    },
    {
     "name": "stderr",
     "output_type": "stream",
     "text": [
      "┌ Info: LBFGS: iter   88: f = -0.526760318810, ‖∇f‖ = 1.4386e-05, α = 1.00e+00, m = 15, nfg = 1\n",
      "└ @ OptimKit /Users/weerde/.julia/packages/OptimKit/xpmbV/src/lbfgs.jl:76\n"
     ]
    },
    {
     "name": "stdout",
     "output_type": "stream",
     "text": [
      "Info: it took 9 CTMRG steps to converge the SV to 1.0e-6\n",
      "Info: it took 12 CTMRG steps to converge the environments element wise to 1e-6\n"
     ]
    },
    {
     "name": "stderr",
     "output_type": "stream",
     "text": [
      "┌ Info: LBFGS: iter   89: f = -0.526760340523, ‖∇f‖ = 1.3926e-05, α = 1.00e+00, m = 15, nfg = 1\n",
      "└ @ OptimKit /Users/weerde/.julia/packages/OptimKit/xpmbV/src/lbfgs.jl:76\n"
     ]
    },
    {
     "name": "stdout",
     "output_type": "stream",
     "text": [
      "Info: it took 9 CTMRG steps to converge the SV to 1.0e-6\n",
      "Info: it took 12 CTMRG steps to converge the environments element wise to 1e-6\n",
      "Info: it took 9 CTMRG steps to converge the SV to 1.0e-6\n",
      "Info: it took 12 CTMRG steps to converge the environments element wise to 1e-6\n"
     ]
    },
    {
     "name": "stderr",
     "output_type": "stream",
     "text": [
      "┌ Info: LBFGS: iter   90: f = -0.526760351550, ‖∇f‖ = 1.9388e-05, α = 4.54e-01, m = 15, nfg = 2\n",
      "└ @ OptimKit /Users/weerde/.julia/packages/OptimKit/xpmbV/src/lbfgs.jl:76\n"
     ]
    },
    {
     "name": "stdout",
     "output_type": "stream",
     "text": [
      "Info: it took 9 CTMRG steps to converge the SV to 1.0e-6\n",
      "Info: it took 12 CTMRG steps to converge the environments element wise to 1e-6\n"
     ]
    },
    {
     "name": "stderr",
     "output_type": "stream",
     "text": [
      "┌ Info: LBFGS: converged after 91 iterations: f = -0.526760365575, ‖∇f‖ = 8.4629e-06\n",
      "└ @ OptimKit /Users/weerde/.julia/packages/OptimKit/xpmbV/src/lbfgs.jl:138\n"
     ]
    },
    {
     "data": {
      "text/plain": [
       "(TrivialTensorMap{ComplexSpace, 2, 3, Matrix{ComplexF64}}[TensorMap((ℂ^2 ⊗ ℂ^2) ← (ℂ^2 ⊗ ℂ^2 ⊗ (ℂ^2)')):\n",
       "[:, :, 1, 1, 1] =\n",
       "  0.05798040858226042 + 0.527380164627356im    …  0.43985153016098594 + 0.5600027877072286im\n",
       " 0.017310601464977718 - 0.17937710535412577im      0.5503989117451495 + 0.48168237752600135im\n",
       "\n",
       "[:, :, 2, 1, 1] =\n",
       "  -0.6554050244052784 + 0.321030832211293im    …  0.3451296221429914 + 0.3432431747362308im\n",
       " -0.34097250295247594 - 0.09432284696512705im     0.3026377679554408 + 0.3336075799186322im\n",
       "\n",
       "[:, :, 1, 2, 1] =\n",
       "  0.5878102310327132 - 0.20522364646679006im  …  -0.014818526067571685 - 0.6134682124600108im\n",
       " 0.48343151589456684 + 0.5420994811845905im        0.06719563571507782 - 0.5088600277215156im\n",
       "\n",
       "[:, :, 2, 2, 1] =\n",
       " 0.8482190904586374 + 0.5157288178752387im  …  0.8451519116405263 - 1.5376876054857613im\n",
       " -0.669057422948472 + 1.4274589299388056im      0.582595500680413 - 1.289598572979056im\n",
       "\n",
       "[:, :, 1, 1, 2] =\n",
       " -0.04113058964980991 + 0.5021021253888088im   …  0.9227713380569262 + 0.6297986315151479im\n",
       "  -0.7678695118935938 - 0.40552975984929784im     1.0921230376390894 + 0.44261131064264086im\n",
       "\n",
       "[:, :, 2, 1, 2] =\n",
       " -0.34685271720057137 - 0.12032011120189168im  …  -0.5061660833690425 + 0.6203474602291393im\n",
       "  0.08850418983377636 - 0.5046266520666994im      -0.3427440742924142 + 1.2728045776561883im\n",
       "\n",
       "[:, :, 1, 2, 2] =\n",
       " 0.23152033124295224 - 0.01523510605174612im  …  0.7265624735698573 - 0.01836069196617272im\n",
       " -0.4413511919868434 + 0.43727926944195805im     0.5654025628774755 - 0.8486945672539175im\n",
       "\n",
       "[:, :, 2, 2, 2] =\n",
       " -0.38758296319633795 - 0.42687135867430653im  …  -0.8141598462132547 + 1.1471826241834064im\n",
       "  0.40635154666837003 - 0.12138207160505401im     0.29950062529935345 + 0.28373535821602275im\n",
       ", TensorMap((ℂ^2 ⊗ ℂ^2) ← (ℂ^2 ⊗ ℂ^2 ⊗ (ℂ^2)')):\n",
       "[:, :, 1, 1, 1] =\n",
       " -0.5293990647193216 + 0.31161042636036296im  …   0.1759207433097449 - 0.17506129199721182im\n",
       "  0.0391296163278656 - 0.2913034034593489im      -0.6356437535727807 - 0.13065392901960546im\n",
       "\n",
       "[:, :, 2, 1, 1] =\n",
       "  -0.2320972479394895 + 0.15478591548010323im  …  0.26943796614243676 - 0.6516087105194184im\n",
       " -0.02902454274624227 - 0.14480926855360368im     0.15700810514868385 + 0.4024911283892102im\n",
       "\n",
       "[:, :, 1, 2, 1] =\n",
       " 0.3149504970149966 - 1.1370068480392044im  …  0.6312974868106875 + 1.1226649752949431im\n",
       " 0.7853010742441305 + 0.3959472496350843im      2.031437643108512 - 0.3490217125722243im\n",
       "\n",
       "[:, :, 2, 2, 1] =\n",
       " -0.1317502349634884 - 0.6425474853734165im   …  1.5286332279014652 + 0.43050225668033004im\n",
       " 0.44882214593070135 + 0.19124956048466482im     1.1472996510933613 - 1.5232933438552367im\n",
       "\n",
       "[:, :, 1, 1, 2] =\n",
       " -0.3040146046843817 + 0.8269278489637948im  …  -0.47674739277015893 - 0.2086231749322311im\n",
       " -0.2365948908456128 - 0.3018782879222833im       -1.267072081617735 - 0.11168373661079795im\n",
       "\n",
       "[:, :, 2, 1, 2] =\n",
       " 0.997541132118948 + 0.7496384301091157im   …  -0.3743217568116458 + 0.8822264773670658im\n",
       " -0.61206343550139 + 0.44671246610935267im     -0.6279463547142314 + 2.031558003379692im\n",
       "\n",
       "[:, :, 1, 2, 2] =\n",
       "   1.321917085202822 - 0.2797735754545257im  …  -0.6555897501689724 + 0.27210732965241036im\n",
       " -0.5653075102283686 - 0.5769552798331523im      0.4035251161410915 + 1.0332350471930087im\n",
       "\n",
       "[:, :, 2, 2, 2] =\n",
       " 0.049170487481188574 + 0.466550343866622im   …  -0.7192990947805521 - 0.45663028436353315im\n",
       "  -0.4006010841703481 - 0.6257659565908079im     -1.2882020264061784 - 0.2863496797439429im\n",
       ", TensorMap((ℂ^2 ⊗ ℂ^2) ← (ℂ^2 ⊗ ℂ^2 ⊗ (ℂ^2)')):\n",
       "[:, :, 1, 1, 1] =\n",
       " -0.5286934897693916 + 0.4294769665642049im    …  -0.48419036847681285 + 0.5093003730722079im\n",
       " -0.8259557925370754 + 0.017635669864025746im      0.17517438972747917 - 0.8802229713278787im\n",
       "\n",
       "[:, :, 2, 1, 1] =\n",
       " -0.6689550794033977 + 0.11402946440551427im   …   -0.47356993691451765 + 0.4040971213330207im\n",
       " -0.7788509324429146 - 0.001719925400921028im     -0.017690520202341034 - 0.8768070886951371im\n",
       "\n",
       "[:, :, 1, 2, 1] =\n",
       "   0.4926195970250146 - 1.1288186281152401im  …  -0.12994159348124798 - 0.36797214509964266im\n",
       " 0.006237148530262219 - 0.6747563683688341im       0.8075446058604481 - 0.3899138013508803im\n",
       "\n",
       "[:, :, 2, 2, 1] =\n",
       " 1.1496228311851104 + 0.5436914472053828im  …    0.908950881796534 + 0.3664146941520737im\n",
       " 0.4298381247596928 + 0.7367253914195063im     -0.5291575316879673 + 0.011729234376586802im\n",
       "\n",
       "[:, :, 1, 1, 2] =\n",
       "  0.09621191971026177 - 0.442862938655755im    …  -0.0843929103407475 - 0.059867565929203954im\n",
       " -0.19139115738518617 - 0.24247794802715655im     0.03580431491692726 + 0.1647704546631776im\n",
       "\n",
       "[:, :, 2, 1, 2] =\n",
       "  0.2856790166156064 - 0.43491853677712516im  …  -0.031245819229786375 - 0.25165511274922836im\n",
       " 0.13244611943738197 - 0.08989451034403265im       0.07212793135508218 + 0.19960911055134448im\n",
       "\n",
       "[:, :, 1, 2, 2] =\n",
       " -0.28978096293295125 - 1.2934297216475816im  …  0.038371237465048856 - 1.3535791738130123im\n",
       " -0.18191319132581027 - 0.867309443151727im        1.6607171224792094 + 0.04979606120950676im\n",
       "\n",
       "[:, :, 2, 2, 2] =\n",
       " -0.5715456297055754 - 0.6844033429788389im  …  -0.07481427079128812 - 0.9948264504686292im\n",
       " -0.5477308163744274 - 0.97114717199977im         1.0109314634073792 + 0.1294493245726942im\n",
       "], -0.5267603655750058, TrivialTensorMap{ComplexSpace, 2, 3, Matrix{ComplexF64}}[TensorMap((ℂ^2 ⊗ ℂ^2) ← (ℂ^2 ⊗ ℂ^2 ⊗ (ℂ^2)')):\n",
       "[:, :, 1, 1, 1] =\n",
       " 3.074550706516393e-7 - 6.746123336168616e-7im  …   5.965844256305738e-8 - 4.1972264202171094e-7im\n",
       " 1.161568641801435e-6 - 7.072152987017024e-7im     4.6149288341779526e-7 + 4.2311796127798034e-7im\n",
       "\n",
       "[:, :, 2, 1, 1] =\n",
       " -3.2847745492100986e-7 - 7.510364656571552e-7im   …  -6.225431338637079e-7 - 6.381980926130409e-7im\n",
       "   2.658504515470555e-7 - 3.7668114194589754e-7im      4.622371064957823e-7 + 6.256264040706229e-7im\n",
       "\n",
       "[:, :, 1, 2, 1] =\n",
       " 2.614055554750543e-8 + 5.153977439652024e-7im  …  1.1089291750689136e-7 - 1.7615439370447262e-7im\n",
       " 2.160362990669733e-8 - 6.879790476763975e-7im      1.584827201650403e-6 - 5.1539269816616833e-8im\n",
       "\n",
       "[:, :, 2, 2, 1] =\n",
       " 5.337176967906414e-7 + 1.5174224968060528e-7im  …   -4.81139057106277e-7 + 2.1893413615825136e-7im\n",
       " 5.082212714885697e-7 + 3.18205671357529e-7im       -8.449951051758406e-7 + 5.065468483624963e-7im\n",
       "\n",
       "[:, :, 1, 1, 2] =\n",
       "   5.128130094636073e-7 + 1.2003692845725508e-6im  …    -7.23458861974045e-7 + 1.825841598714432e-6im\n",
       " -1.0165043063228382e-6 + 2.469006613192718e-8im      -1.3901219989548412e-6 - 3.647013219045793e-7im\n",
       "\n",
       "[:, :, 2, 1, 2] =\n",
       " -1.5106248225918639e-6 + 1.46535419295332e-6im   …  -4.7134968707408994e-7 + 2.1959462276469463e-7im\n",
       "  1.8325960810381937e-7 + 7.685905671565563e-8im      -5.476829430988646e-8 + 3.1404586138392663e-7im\n",
       "\n",
       "[:, :, 1, 2, 2] =\n",
       " -1.2251008852921208e-6 + 9.62555406349916e-8im   …  -2.0435057648006857e-7 + 6.485869895569547e-8im\n",
       "  2.8568783768098216e-9 - 5.867640752474048e-7im      2.6036313658565693e-7 + 1.414940248740485e-7im\n",
       "\n",
       "[:, :, 2, 2, 2] =\n",
       " -1.0169312854825503e-6 - 9.397884232612947e-7im  …   3.696999550341285e-7 + 3.215978513615623e-7im\n",
       " -3.1231029392726695e-7 - 6.789510743588982e-7im     -3.040933711587722e-7 + 8.005279928603571e-7im\n",
       ", TensorMap((ℂ^2 ⊗ ℂ^2) ← (ℂ^2 ⊗ ℂ^2 ⊗ (ℂ^2)')):\n",
       "[:, :, 1, 1, 1] =\n",
       " -3.2115826224180815e-7 - 1.581778206151553e-7im  …    1.095742696880848e-7 + 2.5865513900347327e-7im\n",
       "  1.2426737263202695e-6 - 3.502169577053353e-7im     -1.2403317108572293e-7 + 4.468276104581458e-8im\n",
       "\n",
       "[:, :, 2, 1, 1] =\n",
       " -2.1174838117605128e-7 - 9.373728617358689e-8im   …  -1.5607270335008288e-7 + 9.142675226784092e-7im\n",
       " -1.0577022308994344e-7 - 2.9265420015899963e-7im      1.5089166318318337e-6 - 7.418059685164044e-7im\n",
       "\n",
       "[:, :, 1, 2, 1] =\n",
       " -4.579205750043158e-7 + 8.291686721437261e-7im  …  -5.671757049990917e-7 - 4.617486774797523e-8im\n",
       "  5.909682897518294e-7 - 5.257275356443513e-8im     1.3977185262202066e-7 + 5.072133791068757e-8im\n",
       "\n",
       "[:, :, 2, 2, 1] =\n",
       " -7.709406376118337e-7 - 1.7351885330432827e-7im  …  6.432642041387457e-7 + 1.1618239196456683e-6im\n",
       " -9.862752836539298e-7 + 1.2431554615400343e-7im     9.567915830777369e-8 + 1.0495481533858889e-6im\n",
       "\n",
       "[:, :, 1, 1, 2] =\n",
       " -4.763499057236373e-7 - 4.936374698741794e-7im  …  4.9064902456544444e-8 - 5.097932620148582e-7im\n",
       " -6.390480613794916e-8 - 7.053174774393928e-7im     -6.265470173456344e-8 + 1.0693455520643793e-6im\n",
       "\n",
       "[:, :, 2, 1, 2] =\n",
       " -6.493898439931207e-7 + 1.7624088155899083e-7im  …   1.2265624319029708e-6 + 2.515457867215592e-7im\n",
       "   6.17622153420916e-7 + 9.212178222173667e-7im      -2.6487001805749117e-7 + 9.37754955676141e-7im\n",
       "\n",
       "[:, :, 1, 2, 2] =\n",
       " -1.1536098771298816e-7 - 3.342848706051295e-8im   …  -3.4177326582561133e-7 - 7.332415821943656e-7im\n",
       "  -5.879412976012246e-7 + 3.0075796080215715e-7im       2.616230304792979e-7 - 7.868550880521002e-7im\n",
       "\n",
       "[:, :, 2, 2, 2] =\n",
       "  2.659897889602114e-7 - 1.7466053039479964e-7im  …  -7.627145658438135e-7 - 1.1020542306390239e-6im\n",
       " -3.467315313627497e-7 + 5.584379622719067e-7im       7.365372228029133e-8 + 2.587533662035054e-7im\n",
       ", TensorMap((ℂ^2 ⊗ ℂ^2) ← (ℂ^2 ⊗ ℂ^2 ⊗ (ℂ^2)')):\n",
       "[:, :, 1, 1, 1] =\n",
       "  -7.43339219368819e-7 - 1.16853969476679e-7im   …  -8.084673055517007e-7 + 1.0311695772159435e-7im\n",
       " 1.0113499061726555e-6 + 1.572883459444876e-6im       7.60959013666914e-7 - 2.8690748512339793e-7im\n",
       "\n",
       "[:, :, 2, 1, 1] =\n",
       " -7.005575134525251e-8 + 5.576780293611817e-8im  …   8.115097511705015e-7 + 3.7779724941488646e-7im\n",
       "  4.318906509391959e-7 + 9.886389424359056e-7im     3.3201200340928985e-7 + 6.96287013606487e-8im\n",
       "\n",
       "[:, :, 1, 2, 1] =\n",
       " -1.3062176989402223e-7 + 5.53694889166788e-8im  …   3.838024371927977e-8 - 4.939047496260628e-7im\n",
       "   2.645847867220504e-7 - 8.01952951762921e-7im     -5.827445411084536e-7 - 7.581868665452733e-7im\n",
       "\n",
       "[:, :, 2, 2, 1] =\n",
       "  7.856862841256145e-7 + 1.9386009292731553e-7im  …    9.341461664876321e-8 - 7.276919537278645e-7im\n",
       " -8.361899897033744e-7 + 3.1366179205488584e-7im     -2.5166402065214246e-7 + 1.2007968865889016e-8im\n",
       "\n",
       "[:, :, 1, 1, 2] =\n",
       " -1.0520548368722942e-7 - 2.7543000290336994e-7im  …   2.224855615043788e-7 - 2.3794268093794417e-8im\n",
       "   6.251183732409542e-7 + 4.4073517407616947e-7im     -5.253843987430565e-7 - 3.6500032233834144e-7im\n",
       "\n",
       "[:, :, 2, 1, 2] =\n",
       "  -3.617097798555334e-7 + 5.893938181068231e-7im   …   5.019439448500661e-7 + 1.2099591358537686e-7im\n",
       " -2.7563891795156114e-7 + 2.1179695433355733e-7im     -3.706098412083069e-9 - 1.1207272059100025e-6im\n",
       "\n",
       "[:, :, 1, 2, 2] =\n",
       " 7.257734074305024e-7 - 6.302516996299884e-8im  …  -1.2639086747474016e-7 + 4.6412167074746886e-7im\n",
       " 6.459509593880091e-7 - 7.907738689307369e-7im        4.61324523805011e-7 - 3.15895396698981e-7im\n",
       "\n",
       "[:, :, 2, 2, 2] =\n",
       " -6.086589863429095e-8 - 6.25161332857174e-7im    …  -5.637896962888142e-7 + 1.2048103247375023e-6im\n",
       "  7.259884791843774e-7 - 2.1704692517266186e-7im      1.498096719086883e-7 + 2.6310013521686233e-7im\n",
       "], 95, [0.01394278685298784 0.16761465825338195; -0.24399233729148237 0.3828140501573573; … ; -0.5267603515500726 1.9388302591985632e-5; -0.5267603655750058 8.46292669384495e-6])"
      ]
     },
     "metadata": {},
     "output_type": "display_data"
    }
   ],
   "source": [
    "x, e, gr, numfg, normgradhistory = optimize(x -> energy_and_gradient(x, χ, Pattern_arr; keywords...), loc_in, LBFGS(15; optimparas1... ); kwargs... )\n"
   ]
  },
  {
   "cell_type": "code",
   "execution_count": null,
   "metadata": {},
   "outputs": [],
   "source": []
  }
 ],
 "metadata": {
  "kernelspec": {
   "display_name": "Julia 1.10.2",
   "language": "julia",
   "name": "julia-1.10"
  },
  "language_info": {
   "file_extension": ".jl",
   "mimetype": "application/julia",
   "name": "julia",
   "version": "1.10.2"
  }
 },
 "nbformat": 4,
 "nbformat_minor": 4
}
