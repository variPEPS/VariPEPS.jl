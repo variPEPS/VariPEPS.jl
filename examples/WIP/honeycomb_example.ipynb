{
 "cells": [
  {
   "cell_type": "code",
   "execution_count": 1,
   "metadata": {},
   "outputs": [],
   "source": [
    "using Revise\n",
    "using VariPEPS\n",
    "using TensorKit\n",
    "using OptimKit\n",
    "#using JLD2 #needed?"
   ]
  },
  {
   "cell_type": "markdown",
   "metadata": {},
   "source": [
    "In this notebook we show the very basic functionality of the workhorse funtions of the `VariPEPS.jl` code"
   ]
  },
  {
   "cell_type": "markdown",
   "metadata": {},
   "source": [
    "Specify the Bond-dimension `d`, the environment-bond-dimension `χ`. "
   ]
  },
  {
   "cell_type": "code",
   "execution_count": 2,
   "metadata": {},
   "outputs": [
    {
     "data": {
      "text/plain": [
       "2"
      ]
     },
     "metadata": {},
     "output_type": "display_data"
    }
   ],
   "source": [
    "χ = 8\n",
    "d = 2"
   ]
  },
  {
   "cell_type": "markdown",
   "metadata": {},
   "source": [
    "**Here will follow some info on coarse graining and so forth...**"
   ]
  },
  {
   "cell_type": "markdown",
   "metadata": {},
   "source": [
    "Here specify the unit cell. For this we define an array \"Pattern_arr\" that represents the unit cell structure.\\\n",
    "The structure is [x-coodinate, y-coordinate].\\\n",
    "If two positions within the Pattern_arr are filled with the same number, we assume the tensors at these positions to be identical.\\\n",
    "The choice below corresponds to a unit cell like:   \n",
    "A   B \\\n",
    "B   A"
   ]
  },
  {
   "cell_type": "code",
   "execution_count": 3,
   "metadata": {},
   "outputs": [],
   "source": [
    "Pattern_arr = Array{Any}(undef,1,1)\n",
    "\n",
    "Pattern_arr[1,1] = 1;"
   ]
  },
  {
   "cell_type": "markdown",
   "metadata": {},
   "source": [
    "For our first example we are going to look at the Heisenberg-antiferromagnet on the square lattice.\\\n",
    "Here we specify the keywords corresponding to this choice of model and lattice on in a tuple.\n",
    "\n",
    "Regarding the keywords:\\\n",
    "**lattice**: tells us which lattice we use.\\\n",
    "**model**: which Hamiltonian are we using.\\\n",
    "**Ham_parameters**: Give values for the parameters in the Hamiltonian. Here we choose an anti-ferromagnetic model (J=1) with no magnetic field term (h = 0) which points in no direction (dir = [0,0,0])\\\n",
    "**Projector_type**: During the CTMRG algorithm we need projectors. These can be choosen in different ways. Here we choose the :half option. An other more expensive choice would be :fullfishman.\\\n",
    "**Space_type**: This tells us what the basic vector space is that we want to work with. As we have a TRS model here we can choose a real wavefunction so we choose ℝ. Otherwise choose ℂ.\\"
   ]
  },
  {
   "cell_type": "code",
   "execution_count": 4,
   "metadata": {},
   "outputs": [
    {
     "data": {
      "text/plain": [
       "(lattice = :honeycomb, model = :Heisenberg_honeycomb, Ham_parameters = (J = 1, h = 0, dir = [0, 0, 0]), Projector_type = :half, Space_type = ℂ)"
      ]
     },
     "metadata": {},
     "output_type": "display_data"
    }
   ],
   "source": [
    "keywords = (lattice = :honeycomb, model = :Heisenberg_honeycomb, Ham_parameters = (J = 1, h = 0 , dir = [0,0,0]), Projector_type = :half, Space_type = ℂ)"
   ]
  },
  {
   "cell_type": "markdown",
   "metadata": {},
   "source": [
    "The functiion \n",
    "```\n",
    "initialize_PEPS()\n",
    "```\n",
    "initializes the PEPS-tensors. It takes 3 basic inputs:\n",
    "1. The first input is the Bond dimension, \n",
    "2. the second input is the dimension of the local Hilbert space, --> This is 2 in the current example, as we are creating 2 tensors and coarse graining them afterwards. --> EXPLAIN MORE!\n",
    "3. the third one specified how many tensors need to be generated. --> In this example 2 since we have two inequivalent tensors in the unit cell.\n",
    "The additional keywords can be used to specify some addtional options.\n",
    "\n",
    "What is created here is just an array of TensorMaps with the right number of legs with the desired dimensionality.\n",
    "\n",
    "Note that we can also enforce local symmetries and only optimize on the parametes for the local tensors that have this symmetry. --> Add mini example later."
   ]
  },
  {
   "cell_type": "code",
   "execution_count": 5,
   "metadata": {},
   "outputs": [],
   "source": [
    "loc_in = initialize_PEPS(d, 2, 2; seed = 1236, lattice = :honeycomb, Number_type = ComplexF64, Space_type = ℂ); \n"
   ]
  },
  {
   "cell_type": "markdown",
   "metadata": {},
   "source": [
    "The ctmrg function performs a CTM-RG algorithm. This means it calculates environment tensors and that uses those to calculate the energy density.\n",
    "If we put the option \n",
    "```\n",
    "conv_info = true\n",
    "```\n",
    "The function shows some output that idicates the status of the algorithm. \n",
    "\n",
    "The function takes as input the objects we created above: A set of local PEPS tensors (loc_in) as well as some information on the unit cell (Pattern_arr).\n",
    "It can also be used to evaluate some list of observables. For the Heisenberg model these are by default the spin matrices. However the user can also specify a list of alternative observables to calculate. *this works analogously to specifying your own model and is explained in a seperate notebook*. Note that if we want to get the expectation values of the spin matrices we need to choose Space_type = ℂ above as they are complex matrices.\n"
   ]
  },
  {
   "cell_type": "code",
   "execution_count": 6,
   "metadata": {},
   "outputs": [
    {
     "data": {
      "text/plain": [
       "2-element Vector{Any}:\n",
       " -0.3632198751899699\n",
       "   Any[0.0835734719034022 - 7.378550411433748e-18im, -0.2645539709278741 - 5.238173157520624e-17im]"
      ]
     },
     "metadata": {},
     "output_type": "display_data"
    }
   ],
   "source": [
    "ctmrg_res = ctmrg(loc_in, χ, Pattern_arr; keywords..., observ = true, conv_info = false)"
   ]
  },
  {
   "cell_type": "markdown",
   "metadata": {},
   "source": [
    "Some comments on additional options (skip on first reading): \n",
    "\n",
    "1. With the option svd_type = :GKL one can enable the iterative calculation of the singular values in the CTMRG algorithm.\n",
    "This can be substantially faster for larger bond dimensions.\n",
    "Note that in some cases, the GKL algorithm, that can be used for the SVD in the calculation of the projectors finds invariant subspaces and fails. \n",
    "In these cases the code will fall back to conventional SVD algorithms.\n",
    "\n",
    "2. In the \"energy_and_gradient\" function as well as in the \"ctmrg\" function we have a keyword \"adjust_χ\" which is by default set to false. In that case the \n",
    "function works normally. However if we do not set the keyword to false but give instead a tuple, during the CTMRG routine the algorithm automatically increases the bond dimension\n",
    "up to a maximal value \"χ_max\". This happens whenever the truncation error \"err_trunc\" that we obtain in the creation of the projectors is larger than a choosen tolerance err_tol.\n",
    "Thus we set the keyword to \"adjust_χ = (err_tol, χ_max)\" in case we want the bond dimension to be increased during the optimization.\n",
    "\n",
    "3. You can also return the environment tensors, if you want to use them further. For this just pass the keyword `return_envs = true`. This will return an array of environments, one for every distinct tensor in your unit cell. The environments themselves are `named tuples` and the enviornments are named after their direction (l - left, d- down, r- right, u- up).\n",
    "\n",
    "For a state, obtained after a few optimization steps of the Heisenberg model we look at the truncation errors as \n",
    "a function of the bond dimension - with the corresponding energy. The upper block is for the \"fullfishman\"-projectors\n",
    "while the lower block is for the \"half\"-projectors. We conclude from the convergence of the energy-expectation values\n",
    "that a maximal trunctation error of ~10^-3 is a reasonable starting point. It can always be chosen more stricly.\n",
    "\n",
    "```E = -0.6603737287187401 @ χ = 80, maximum(trunc_sv_arr) = 5.975686042268443e-5 \n",
    "E = -0.6603737358938596 @ χ = 60, maximum(trunc_sv_arr) = 0.00012481759922763688\n",
    "E = -0.6603737799922393 @ χ = 40, maximum(trunc_sv_arr) = 0.00031194042937930866\n",
    "E = -0.6603736187795066 @ χ = 30, maximum(trunc_sv_arr) = 0.0006405720791402293\n",
    "E = -0.6603724597506875 @ χ = 26, maximum(trunc_sv_arr) = 0.0009362616891090525\n",
    "E = -0.6603639207050201 @ χ = 20, maximum(trunc_sv_arr) = 0.0020002907780533145\n",
    "E = -0.6603793732337668 @ χ = 16, maximum(trunc_sv_arr) = 0.003927764975811235\n",
    "\n",
    "\n",
    "E = -0.6603737141782002 @ χ = 80, maximum(trunc_sv_arr) = 8.859010589321488e-5\n",
    "E = -0.6603736039935315 @ χ = 60, maximum(trunc_sv_arr) = 0.00018689030517925998\n",
    "E = -0.6603739415374238 @ χ = 40, maximum(trunc_sv_arr) = 0.0004921465970557896\n",
    "E = -0.6603749442733124 @ χ = 30, maximum(trunc_sv_arr) = 0.0011953646129798726\n",
    "E = -0.6603675868543281 @ χ = 26, maximum(trunc_sv_arr) = 0.00172234383475717\n",
    "E = -0.6603589442727148 @ χ = 20, maximum(trunc_sv_arr) = 0.003446092986088426\n",
    "E = -0.6603566068572576 @ χ = 16, maximum(trunc_sv_arr) = 0.005807880961672133\n"
   ]
  },
  {
   "cell_type": "markdown",
   "metadata": {},
   "source": [
    "the function energy_and_gradient is needed for the variational optimization. It calculates the gradient at the fixed point of the CTM-RG iteration.\\\n",
    "It takes the same basic arguments as the function `ctmrg()`.\\\n",
    "It returns the the energy of the state as well as the gradient."
   ]
  },
  {
   "cell_type": "code",
   "execution_count": 7,
   "metadata": {},
   "outputs": [
    {
     "data": {
      "text/plain": [
       "(-0.36321991258116165, TrivialTensorMap{ComplexSpace, N₁, N₂, Matrix{ComplexF64}} where {N₁, N₂}[TensorMap(ℂ^2 ← (ℂ^2 ⊗ ℂ^2 ⊗ (ℂ^2)')):\n",
       "[:, :, 1, 1] =\n",
       " -0.027327609587657776 - 0.22203422417596017im  …    0.2027635421688138 + 0.4133795263365813im\n",
       "    0.3062626822551475 - 0.0164733847208269im      -0.28932387434883633 - 0.09205315145345805im\n",
       "\n",
       "[:, :, 2, 1] =\n",
       " -0.11852683281757517 - 0.20445935710720284im  …  0.12564185131261674 + 0.5479379000869101im\n",
       "   0.2641806131100563 - 0.2647506203806028im      -0.3090746035139983 + 0.08983843012338992im\n",
       "\n",
       "[:, :, 1, 2] =\n",
       " -0.11509104211243165 - 0.07292985291919306im  …  -0.05255824425718104 + 0.1370710188190384im\n",
       "  0.24785016314067848 - 0.19236198611557842im      -0.4074030624717715 + 0.12292763234958637im\n",
       "\n",
       "[:, :, 2, 2] =\n",
       " -0.10897004366813165 + 0.2599191706429948im   …    0.2557361117120371 - 0.047092814276653364im\n",
       "  0.00752813870996343 - 0.16663657682749602im     -0.32845425166455366 + 0.28253691710497514im\n",
       ", TensorMap((ℂ^2 ⊗ ℂ^2) ← (ℂ^2 ⊗ (ℂ^2)')):\n",
       "[:, :, 1, 1] =\n",
       " -0.018691872592293584 - 0.19632266140683388im  …    0.2867264666960736 - 0.24186936527834027im\n",
       "   0.04893379715402847 - 0.18331872286068268im     0.020375536716988087 + 0.1517732269950121im\n",
       "\n",
       "[:, :, 2, 1] =\n",
       " 0.13435012186316983 + 0.18735616094137483im  …  0.006674396764602807 + 0.2898000298670763im\n",
       "  0.1672098330502592 - 0.27908055627350864im      0.14860272569798746 - 0.12253294144410569im\n",
       "\n",
       "[:, :, 1, 2] =\n",
       " 0.14987211823459923 + 0.004749081095210138im  …   0.1962470213155294 + 0.38811167559809506im\n",
       " 0.09301177958478883 + 0.34999792059275553im      0.11894599092967079 - 0.03703041138514745im\n",
       "\n",
       "[:, :, 2, 2] =\n",
       " -0.07260037502367292 - 0.017954375230660655im  …  -0.05794451443969897 + 0.11284143072487078im\n",
       "  0.10876956866860393 + 0.11339828051084677im        0.1908671055576862 + 0.2856229365079107im\n",
       "], nothing, 17.0)"
      ]
     },
     "metadata": {},
     "output_type": "display_data"
    }
   ],
   "source": [
    "e, gr = energy_and_gradient(loc_in, χ, Pattern_arr; keywords...)"
   ]
  },
  {
   "cell_type": "markdown",
   "metadata": {},
   "source": [
    "Some additional notes (skip on first reading):\n",
    "\n",
    "1. With the option svd_type = :GKL one can enable the iterative calculation of the singular values during the CTMRG algorithm.\n",
    "This can be substantially faster for larger bond dimensions.\n",
    "Note that in some cases, the GKL algorithm, that can be used for the SVD in the calculation of the projectors finds invariant subspaces and fails. \n",
    "In these cases the code will fall back to conventional SVD algorithms.\n",
    "\n",
    "In the \"energy_and_gradient\" function as well as in the \"ctmrg\" function we have a keyword \"adjust_χ\" which is by default set to false. In that case the \n",
    "function works normally. However if we do not set the keyword to false but give instead a tuple, during the CTMRG routine the algorithm automatically increases the bond dimension\n",
    "up to a maximal value \"χ_max\". This happens whenever the truncation error \"err_trunc\" that we obtain in the creation of the projectors is larger than a choosen tolerance err_tol.\n",
    "Thus we set the keyword to \"adjust_χ = (err_tol, χ_max)\" in case we want the bond dimension to be increased during the optimization.\n",
    "\n",
    "Now there are two ways to call the \"energy_and_gradient\" function.\\\n",
    "you can use:\\\n",
    "1. e, gr = energy_and_gradient(loc_in, χ, Pattern_arr; keywords...)\\\n",
    "This version is the standart version. It takes a (local PEPS, environment bond dimension, a pattern array for the unit cell; a bunch of keywords)\n",
    "\n",
    "2. e, gr = energy_and_gradient(loc_in, χ, Pattern_arr, keywords; adjust_χ = false)\\\n",
    "In this version the only thing to be specified by keyword is \"adjust_χ\" which is either false of (max_χ, tol)\\\n",
    "TWO IMPORTANT CAVEATS:\\\n",
    "a) in this case χ needs to be an array as [χ]. This is needed for dynamical increase of χ (it needs to be a mutable type e.g. array)\\\n",
    "b) We can still specify the options that were previously specified by keywords. We just pass a tuple (named tuple actually) that contains the keywords we want\\\n",
    "to specify.\\\n",
    "THE SECOND OPTION IS JUST A WRAPPER AROUND THE FIRST VERSION WHICH RETURNS THE ADJUSTED χ VALUE IF IT IS INCREASED. THIS IS NEEDED FOR DYNAMICAL χ INCREASE.\\\n"
   ]
  },
  {
   "cell_type": "markdown",
   "metadata": {},
   "source": [
    "Now we should the above functions to variationally find the best d=2 approximation to the ground state of the Heisenberg antiferromagnet.\n",
    "\n",
    "For this we can use gradient based optimizers like L-BFGS. They are implemented in different packages, here we use OptimKit.jl. (an alternative would be Optim.jl)\\\n",
    "for the optimization we need the following two functions:"
   ]
  },
  {
   "cell_type": "code",
   "execution_count": 8,
   "metadata": {},
   "outputs": [
    {
     "data": {
      "text/plain": [
       "_inner (generic function with 1 method)"
      ]
     },
     "metadata": {},
     "output_type": "display_data"
    }
   ],
   "source": [
    "function _finalize!(x,f,g, numiter)\n",
    "    \n",
    "    \n",
    "    flush(stdout) #this just makes it so the output does not appear all at once.\n",
    "    flush(stderr)\n",
    "\n",
    "    \n",
    "    #here we could save e.g. intermediate output.\n",
    "    \n",
    "    return x, f, g\n",
    "end\n",
    "\n",
    "function _inner(x, ξ_1, ξ_2)\n",
    "    return dot(real(ξ_1), real(ξ_2)) + dot(imag(ξ_1), imag(ξ_2))\n",
    "end"
   ]
  },
  {
   "cell_type": "markdown",
   "metadata": {},
   "source": [
    "we specify the parameters that are used in the optimization. "
   ]
  },
  {
   "cell_type": "code",
   "execution_count": 9,
   "metadata": {},
   "outputs": [
    {
     "data": {
      "text/plain": [
       "(finalize! = _finalize!, inner = _inner)"
      ]
     },
     "metadata": {},
     "output_type": "display_data"
    }
   ],
   "source": [
    "optimparas1 = (gradtol = 1e-5, verbosity = 2, maxiter = 100, linesearch = HagerZhangLineSearch(; c₁ = 1e-4, c₂ = 0.9, maxiter = 40))\n",
    "kwargs = (finalize! = _finalize!, inner = _inner)"
   ]
  },
  {
   "cell_type": "markdown",
   "metadata": {},
   "source": [
    "Here we call the function that optimizes based on our gradient function.\\\n",
    "This function returns the approximation to the ground state `x` found in this procedure, the ground state energy `e` as well as information on the convergence.\\\n",
    "Below we plot some of the results."
   ]
  },
  {
   "cell_type": "code",
   "execution_count": 10,
   "metadata": {},
   "outputs": [
    {
     "name": "stderr",
     "output_type": "stream",
     "text": [
      "┌ Info: LBFGS: initializing with f = -0.363219912581, ‖∇f‖ = 1.6696e+00\n",
      "└ @ OptimKit /Users/weerde/.julia/packages/OptimKit/xpmbV/src/lbfgs.jl:35\n",
      "┌ Info: LBFGS: iter    1: f = -0.785983067540, ‖∇f‖ = 2.1711e-01, α = 1.00e+00, m = 0, nfg = 1\n",
      "└ @ OptimKit /Users/weerde/.julia/packages/OptimKit/xpmbV/src/lbfgs.jl:76\n",
      "┌ Info: LBFGS: iter    2: f = -0.829160866848, ‖∇f‖ = 1.4508e-01, α = 1.00e+00, m = 1, nfg = 1\n",
      "└ @ OptimKit /Users/weerde/.julia/packages/OptimKit/xpmbV/src/lbfgs.jl:76\n",
      "┌ Info: LBFGS: iter    3: f = -0.897585487646, ‖∇f‖ = 1.5970e-01, α = 1.00e+00, m = 2, nfg = 1\n",
      "└ @ OptimKit /Users/weerde/.julia/packages/OptimKit/xpmbV/src/lbfgs.jl:76\n",
      "┌ Info: LBFGS: iter    4: f = -0.954057310946, ‖∇f‖ = 2.0927e-01, α = 1.00e+00, m = 3, nfg = 1\n",
      "└ @ OptimKit /Users/weerde/.julia/packages/OptimKit/xpmbV/src/lbfgs.jl:76\n",
      "┌ Info: LBFGS: iter    5: f = -0.992765888815, ‖∇f‖ = 1.2615e-01, α = 1.00e+00, m = 4, nfg = 1\n",
      "└ @ OptimKit /Users/weerde/.julia/packages/OptimKit/xpmbV/src/lbfgs.jl:76\n",
      "┌ Info: LBFGS: iter    6: f = -1.016653208509, ‖∇f‖ = 8.0701e-02, α = 1.00e+00, m = 5, nfg = 1\n",
      "└ @ OptimKit /Users/weerde/.julia/packages/OptimKit/xpmbV/src/lbfgs.jl:76\n",
      "┌ Info: LBFGS: iter    7: f = -1.039864693743, ‖∇f‖ = 6.6950e-02, α = 1.00e+00, m = 6, nfg = 1\n",
      "└ @ OptimKit /Users/weerde/.julia/packages/OptimKit/xpmbV/src/lbfgs.jl:76\n",
      "┌ Info: LBFGS: iter    8: f = -1.053107854385, ‖∇f‖ = 5.2025e-02, α = 1.00e+00, m = 7, nfg = 1\n",
      "└ @ OptimKit /Users/weerde/.julia/packages/OptimKit/xpmbV/src/lbfgs.jl:76\n",
      "┌ Info: LBFGS: iter    9: f = -1.061075969152, ‖∇f‖ = 3.1772e-02, α = 1.00e+00, m = 8, nfg = 1\n",
      "└ @ OptimKit /Users/weerde/.julia/packages/OptimKit/xpmbV/src/lbfgs.jl:76\n",
      "┌ Info: LBFGS: iter   10: f = -1.064059593028, ‖∇f‖ = 2.9347e-02, α = 1.00e+00, m = 9, nfg = 1\n",
      "└ @ OptimKit /Users/weerde/.julia/packages/OptimKit/xpmbV/src/lbfgs.jl:76\n",
      "┌ Info: LBFGS: iter   11: f = -1.065947568942, ‖∇f‖ = 1.3939e-02, α = 1.00e+00, m = 10, nfg = 1\n",
      "└ @ OptimKit /Users/weerde/.julia/packages/OptimKit/xpmbV/src/lbfgs.jl:76\n",
      "┌ Info: LBFGS: iter   12: f = -1.067124652610, ‖∇f‖ = 1.2508e-02, α = 1.00e+00, m = 11, nfg = 1\n",
      "└ @ OptimKit /Users/weerde/.julia/packages/OptimKit/xpmbV/src/lbfgs.jl:76\n",
      "┌ Info: LBFGS: iter   13: f = -1.068149906537, ‖∇f‖ = 1.3468e-02, α = 1.00e+00, m = 12, nfg = 1\n",
      "└ @ OptimKit /Users/weerde/.julia/packages/OptimKit/xpmbV/src/lbfgs.jl:76\n",
      "┌ Info: LBFGS: iter   14: f = -1.069229213861, ‖∇f‖ = 1.0443e-02, α = 1.00e+00, m = 13, nfg = 1\n",
      "└ @ OptimKit /Users/weerde/.julia/packages/OptimKit/xpmbV/src/lbfgs.jl:76\n",
      "┌ Info: LBFGS: iter   15: f = -1.069694858524, ‖∇f‖ = 7.5922e-03, α = 1.00e+00, m = 14, nfg = 1\n",
      "└ @ OptimKit /Users/weerde/.julia/packages/OptimKit/xpmbV/src/lbfgs.jl:76\n",
      "┌ Info: LBFGS: iter   16: f = -1.069932666712, ‖∇f‖ = 5.0778e-03, α = 1.00e+00, m = 15, nfg = 1\n",
      "└ @ OptimKit /Users/weerde/.julia/packages/OptimKit/xpmbV/src/lbfgs.jl:76\n",
      "┌ Info: LBFGS: iter   17: f = -1.070152938734, ‖∇f‖ = 4.3441e-03, α = 1.00e+00, m = 15, nfg = 1\n",
      "└ @ OptimKit /Users/weerde/.julia/packages/OptimKit/xpmbV/src/lbfgs.jl:76\n",
      "┌ Info: LBFGS: iter   18: f = -1.070297338587, ‖∇f‖ = 3.4445e-03, α = 1.00e+00, m = 15, nfg = 1\n",
      "└ @ OptimKit /Users/weerde/.julia/packages/OptimKit/xpmbV/src/lbfgs.jl:76\n",
      "┌ Info: LBFGS: iter   19: f = -1.070357400369, ‖∇f‖ = 3.6809e-03, α = 1.00e+00, m = 15, nfg = 1\n",
      "└ @ OptimKit /Users/weerde/.julia/packages/OptimKit/xpmbV/src/lbfgs.jl:76\n",
      "┌ Info: LBFGS: iter   20: f = -1.070400993590, ‖∇f‖ = 2.1945e-03, α = 1.00e+00, m = 15, nfg = 1\n",
      "└ @ OptimKit /Users/weerde/.julia/packages/OptimKit/xpmbV/src/lbfgs.jl:76\n",
      "┌ Info: LBFGS: iter   21: f = -1.070451476165, ‖∇f‖ = 2.1856e-03, α = 1.00e+00, m = 15, nfg = 1\n",
      "└ @ OptimKit /Users/weerde/.julia/packages/OptimKit/xpmbV/src/lbfgs.jl:76\n",
      "┌ Info: LBFGS: iter   22: f = -1.070516986052, ‖∇f‖ = 2.6182e-03, α = 1.00e+00, m = 15, nfg = 1\n",
      "└ @ OptimKit /Users/weerde/.julia/packages/OptimKit/xpmbV/src/lbfgs.jl:76\n",
      "┌ Info: LBFGS: iter   23: f = -1.070538474138, ‖∇f‖ = 3.4659e-03, α = 3.15e-01, m = 15, nfg = 2\n",
      "└ @ OptimKit /Users/weerde/.julia/packages/OptimKit/xpmbV/src/lbfgs.jl:76\n",
      "┌ Info: LBFGS: iter   24: f = -1.070575943188, ‖∇f‖ = 1.4496e-03, α = 1.00e+00, m = 15, nfg = 1\n",
      "└ @ OptimKit /Users/weerde/.julia/packages/OptimKit/xpmbV/src/lbfgs.jl:76\n",
      "┌ Info: LBFGS: iter   25: f = -1.070584879646, ‖∇f‖ = 7.0091e-04, α = 1.00e+00, m = 15, nfg = 1\n",
      "└ @ OptimKit /Users/weerde/.julia/packages/OptimKit/xpmbV/src/lbfgs.jl:76\n",
      "┌ Info: LBFGS: iter   26: f = -1.070589443972, ‖∇f‖ = 7.4508e-04, α = 1.00e+00, m = 15, nfg = 1\n",
      "└ @ OptimKit /Users/weerde/.julia/packages/OptimKit/xpmbV/src/lbfgs.jl:76\n",
      "┌ Info: LBFGS: iter   27: f = -1.070597336882, ‖∇f‖ = 1.2269e-03, α = 1.00e+00, m = 15, nfg = 1\n",
      "└ @ OptimKit /Users/weerde/.julia/packages/OptimKit/xpmbV/src/lbfgs.jl:76\n",
      "┌ Info: LBFGS: iter   28: f = -1.070610634447, ‖∇f‖ = 2.2000e-03, α = 1.00e+00, m = 15, nfg = 1\n",
      "└ @ OptimKit /Users/weerde/.julia/packages/OptimKit/xpmbV/src/lbfgs.jl:76\n",
      "┌ Info: LBFGS: iter   29: f = -1.070630824957, ‖∇f‖ = 1.9364e-03, α = 1.00e+00, m = 15, nfg = 1\n",
      "└ @ OptimKit /Users/weerde/.julia/packages/OptimKit/xpmbV/src/lbfgs.jl:76\n",
      "┌ Info: LBFGS: iter   30: f = -1.070655911955, ‖∇f‖ = 1.3590e-03, α = 1.00e+00, m = 15, nfg = 1\n",
      "└ @ OptimKit /Users/weerde/.julia/packages/OptimKit/xpmbV/src/lbfgs.jl:76\n",
      "┌ Info: LBFGS: iter   31: f = -1.070664530510, ‖∇f‖ = 1.5923e-03, α = 4.86e-01, m = 15, nfg = 2\n",
      "└ @ OptimKit /Users/weerde/.julia/packages/OptimKit/xpmbV/src/lbfgs.jl:76\n",
      "┌ Info: LBFGS: iter   32: f = -1.070671269669, ‖∇f‖ = 5.7543e-04, α = 1.00e+00, m = 15, nfg = 1\n",
      "└ @ OptimKit /Users/weerde/.julia/packages/OptimKit/xpmbV/src/lbfgs.jl:76\n",
      "┌ Info: LBFGS: iter   33: f = -1.070672751484, ‖∇f‖ = 5.0358e-04, α = 1.00e+00, m = 15, nfg = 1\n",
      "└ @ OptimKit /Users/weerde/.julia/packages/OptimKit/xpmbV/src/lbfgs.jl:76\n",
      "┌ Info: LBFGS: iter   34: f = -1.070676477863, ‖∇f‖ = 6.6656e-04, α = 1.00e+00, m = 15, nfg = 1\n",
      "└ @ OptimKit /Users/weerde/.julia/packages/OptimKit/xpmbV/src/lbfgs.jl:76\n",
      "┌ Info: LBFGS: iter   35: f = -1.070680978885, ‖∇f‖ = 1.2679e-03, α = 1.00e+00, m = 15, nfg = 1\n",
      "└ @ OptimKit /Users/weerde/.julia/packages/OptimKit/xpmbV/src/lbfgs.jl:76\n",
      "┌ Info: LBFGS: iter   36: f = -1.070687685335, ‖∇f‖ = 9.9297e-04, α = 1.00e+00, m = 15, nfg = 1\n",
      "└ @ OptimKit /Users/weerde/.julia/packages/OptimKit/xpmbV/src/lbfgs.jl:76\n",
      "┌ Info: LBFGS: iter   37: f = -1.070700246526, ‖∇f‖ = 9.9658e-04, α = 1.00e+00, m = 15, nfg = 1\n",
      "└ @ OptimKit /Users/weerde/.julia/packages/OptimKit/xpmbV/src/lbfgs.jl:76\n",
      "┌ Info: LBFGS: iter   38: f = -1.070701787006, ‖∇f‖ = 1.8529e-03, α = 1.00e+00, m = 15, nfg = 1\n",
      "└ @ OptimKit /Users/weerde/.julia/packages/OptimKit/xpmbV/src/lbfgs.jl:76\n",
      "┌ Info: LBFGS: iter   39: f = -1.070706513258, ‖∇f‖ = 5.5090e-04, α = 1.00e+00, m = 15, nfg = 1\n",
      "└ @ OptimKit /Users/weerde/.julia/packages/OptimKit/xpmbV/src/lbfgs.jl:76\n",
      "┌ Info: LBFGS: iter   40: f = -1.070707612457, ‖∇f‖ = 4.4077e-04, α = 1.00e+00, m = 15, nfg = 1\n",
      "└ @ OptimKit /Users/weerde/.julia/packages/OptimKit/xpmbV/src/lbfgs.jl:76\n",
      "┌ Info: LBFGS: iter   41: f = -1.070709820483, ‖∇f‖ = 5.8563e-04, α = 1.00e+00, m = 15, nfg = 1\n",
      "└ @ OptimKit /Users/weerde/.julia/packages/OptimKit/xpmbV/src/lbfgs.jl:76\n",
      "┌ Info: LBFGS: iter   42: f = -1.070712217832, ‖∇f‖ = 9.6211e-04, α = 1.00e+00, m = 15, nfg = 1\n",
      "└ @ OptimKit /Users/weerde/.julia/packages/OptimKit/xpmbV/src/lbfgs.jl:76\n",
      "┌ Info: LBFGS: iter   43: f = -1.070716687552, ‖∇f‖ = 9.6812e-04, α = 1.00e+00, m = 15, nfg = 1\n",
      "└ @ OptimKit /Users/weerde/.julia/packages/OptimKit/xpmbV/src/lbfgs.jl:76\n",
      "┌ Info: LBFGS: iter   44: f = -1.070724791375, ‖∇f‖ = 1.8246e-03, α = 1.00e+00, m = 15, nfg = 1\n",
      "└ @ OptimKit /Users/weerde/.julia/packages/OptimKit/xpmbV/src/lbfgs.jl:76\n",
      "┌ Info: LBFGS: iter   45: f = -1.070732152240, ‖∇f‖ = 1.0557e-03, α = 1.00e+00, m = 15, nfg = 1\n",
      "└ @ OptimKit /Users/weerde/.julia/packages/OptimKit/xpmbV/src/lbfgs.jl:76\n",
      "┌ Info: LBFGS: iter   46: f = -1.070734937467, ‖∇f‖ = 4.8858e-04, α = 1.00e+00, m = 15, nfg = 1\n",
      "└ @ OptimKit /Users/weerde/.julia/packages/OptimKit/xpmbV/src/lbfgs.jl:76\n",
      "┌ Info: LBFGS: iter   47: f = -1.070735746787, ‖∇f‖ = 5.1864e-04, α = 1.00e+00, m = 15, nfg = 1\n",
      "└ @ OptimKit /Users/weerde/.julia/packages/OptimKit/xpmbV/src/lbfgs.jl:76\n",
      "┌ Info: LBFGS: iter   48: f = -1.070736323901, ‖∇f‖ = 4.4368e-04, α = 1.00e+00, m = 15, nfg = 1\n",
      "└ @ OptimKit /Users/weerde/.julia/packages/OptimKit/xpmbV/src/lbfgs.jl:76\n",
      "┌ Info: LBFGS: iter   49: f = -1.070736964323, ‖∇f‖ = 4.6960e-04, α = 1.00e+00, m = 15, nfg = 1\n",
      "└ @ OptimKit /Users/weerde/.julia/packages/OptimKit/xpmbV/src/lbfgs.jl:76\n",
      "┌ Info: LBFGS: iter   50: f = -1.070739326352, ‖∇f‖ = 6.9484e-04, α = 1.00e+00, m = 15, nfg = 1\n",
      "└ @ OptimKit /Users/weerde/.julia/packages/OptimKit/xpmbV/src/lbfgs.jl:76\n",
      "┌ Info: LBFGS: iter   51: f = -1.070739792117, ‖∇f‖ = 5.5356e-04, α = 2.49e-01, m = 15, nfg = 2\n",
      "└ @ OptimKit /Users/weerde/.julia/packages/OptimKit/xpmbV/src/lbfgs.jl:76\n",
      "┌ Info: LBFGS: iter   52: f = -1.070740204780, ‖∇f‖ = 3.0443e-04, α = 1.00e+00, m = 15, nfg = 1\n",
      "└ @ OptimKit /Users/weerde/.julia/packages/OptimKit/xpmbV/src/lbfgs.jl:76\n",
      "┌ Info: LBFGS: iter   53: f = -1.070740532956, ‖∇f‖ = 2.7377e-04, α = 1.00e+00, m = 15, nfg = 1\n",
      "└ @ OptimKit /Users/weerde/.julia/packages/OptimKit/xpmbV/src/lbfgs.jl:76\n",
      "┌ Info: LBFGS: iter   54: f = -1.070740889000, ‖∇f‖ = 3.9306e-04, α = 1.00e+00, m = 15, nfg = 1\n",
      "└ @ OptimKit /Users/weerde/.julia/packages/OptimKit/xpmbV/src/lbfgs.jl:76\n",
      "┌ Info: LBFGS: iter   55: f = -1.070741597539, ‖∇f‖ = 5.5486e-04, α = 1.00e+00, m = 15, nfg = 1\n",
      "└ @ OptimKit /Users/weerde/.julia/packages/OptimKit/xpmbV/src/lbfgs.jl:76\n",
      "┌ Info: LBFGS: iter   56: f = -1.070741657288, ‖∇f‖ = 1.1865e-03, α = 1.00e+00, m = 15, nfg = 1\n",
      "└ @ OptimKit /Users/weerde/.julia/packages/OptimKit/xpmbV/src/lbfgs.jl:76\n",
      "┌ Info: LBFGS: iter   57: f = -1.070742554498, ‖∇f‖ = 4.0179e-04, α = 1.00e+00, m = 15, nfg = 1\n",
      "└ @ OptimKit /Users/weerde/.julia/packages/OptimKit/xpmbV/src/lbfgs.jl:76\n",
      "┌ Info: LBFGS: iter   58: f = -1.070742763076, ‖∇f‖ = 2.6144e-04, α = 1.00e+00, m = 15, nfg = 1\n",
      "└ @ OptimKit /Users/weerde/.julia/packages/OptimKit/xpmbV/src/lbfgs.jl:76\n",
      "┌ Info: LBFGS: iter   59: f = -1.070743106001, ‖∇f‖ = 2.8928e-04, α = 1.00e+00, m = 15, nfg = 1\n",
      "└ @ OptimKit /Users/weerde/.julia/packages/OptimKit/xpmbV/src/lbfgs.jl:76\n",
      "┌ Info: LBFGS: iter   60: f = -1.070743563280, ‖∇f‖ = 4.1562e-04, α = 1.00e+00, m = 15, nfg = 1\n",
      "└ @ OptimKit /Users/weerde/.julia/packages/OptimKit/xpmbV/src/lbfgs.jl:76\n",
      "┌ Info: LBFGS: iter   61: f = -1.070744228814, ‖∇f‖ = 5.7673e-04, α = 1.00e+00, m = 15, nfg = 1\n",
      "└ @ OptimKit /Users/weerde/.julia/packages/OptimKit/xpmbV/src/lbfgs.jl:76\n",
      "┌ Info: LBFGS: iter   62: f = -1.070744534394, ‖∇f‖ = 4.5348e-04, α = 3.92e-01, m = 15, nfg = 2\n",
      "└ @ OptimKit /Users/weerde/.julia/packages/OptimKit/xpmbV/src/lbfgs.jl:76\n",
      "┌ Info: LBFGS: iter   63: f = -1.070744761630, ‖∇f‖ = 2.0201e-04, α = 1.00e+00, m = 15, nfg = 1\n",
      "└ @ OptimKit /Users/weerde/.julia/packages/OptimKit/xpmbV/src/lbfgs.jl:76\n",
      "┌ Info: LBFGS: iter   64: f = -1.070744835421, ‖∇f‖ = 1.4525e-04, α = 1.00e+00, m = 15, nfg = 1\n",
      "└ @ OptimKit /Users/weerde/.julia/packages/OptimKit/xpmbV/src/lbfgs.jl:76\n",
      "┌ Info: LBFGS: iter   65: f = -1.070744882945, ‖∇f‖ = 1.4348e-04, α = 1.00e+00, m = 15, nfg = 1\n",
      "└ @ OptimKit /Users/weerde/.julia/packages/OptimKit/xpmbV/src/lbfgs.jl:76\n",
      "┌ Info: LBFGS: iter   66: f = -1.070744976361, ‖∇f‖ = 1.6279e-04, α = 1.00e+00, m = 15, nfg = 1\n",
      "└ @ OptimKit /Users/weerde/.julia/packages/OptimKit/xpmbV/src/lbfgs.jl:76\n",
      "┌ Info: LBFGS: iter   67: f = -1.070745074632, ‖∇f‖ = 3.9510e-04, α = 4.73e-01, m = 15, nfg = 2\n",
      "└ @ OptimKit /Users/weerde/.julia/packages/OptimKit/xpmbV/src/lbfgs.jl:76\n",
      "┌ Info: LBFGS: iter   68: f = -1.070745245343, ‖∇f‖ = 2.3656e-04, α = 1.00e+00, m = 15, nfg = 1\n",
      "└ @ OptimKit /Users/weerde/.julia/packages/OptimKit/xpmbV/src/lbfgs.jl:76\n",
      "┌ Info: LBFGS: iter   69: f = -1.070745393928, ‖∇f‖ = 1.4656e-04, α = 1.00e+00, m = 15, nfg = 1\n",
      "└ @ OptimKit /Users/weerde/.julia/packages/OptimKit/xpmbV/src/lbfgs.jl:76\n",
      "┌ Info: LBFGS: iter   70: f = -1.070745547534, ‖∇f‖ = 2.1187e-04, α = 1.00e+00, m = 15, nfg = 1\n",
      "└ @ OptimKit /Users/weerde/.julia/packages/OptimKit/xpmbV/src/lbfgs.jl:76\n",
      "┌ Info: LBFGS: iter   71: f = -1.070745718119, ‖∇f‖ = 3.3556e-04, α = 1.00e+00, m = 15, nfg = 1\n",
      "└ @ OptimKit /Users/weerde/.julia/packages/OptimKit/xpmbV/src/lbfgs.jl:76\n",
      "┌ Info: LBFGS: iter   72: f = -1.070745820604, ‖∇f‖ = 1.8074e-04, α = 1.00e+00, m = 15, nfg = 1\n",
      "└ @ OptimKit /Users/weerde/.julia/packages/OptimKit/xpmbV/src/lbfgs.jl:76\n",
      "┌ Info: LBFGS: iter   73: f = -1.070745865178, ‖∇f‖ = 8.6340e-05, α = 1.00e+00, m = 15, nfg = 1\n",
      "└ @ OptimKit /Users/weerde/.julia/packages/OptimKit/xpmbV/src/lbfgs.jl:76\n",
      "┌ Info: LBFGS: iter   74: f = -1.070745892911, ‖∇f‖ = 8.3705e-05, α = 1.00e+00, m = 15, nfg = 1\n",
      "└ @ OptimKit /Users/weerde/.julia/packages/OptimKit/xpmbV/src/lbfgs.jl:76\n",
      "┌ Info: LBFGS: iter   75: f = -1.070745919554, ‖∇f‖ = 1.4403e-04, α = 1.00e+00, m = 15, nfg = 1\n",
      "└ @ OptimKit /Users/weerde/.julia/packages/OptimKit/xpmbV/src/lbfgs.jl:76\n",
      "┌ Info: LBFGS: iter   76: f = -1.070745952790, ‖∇f‖ = 1.2095e-04, α = 1.00e+00, m = 15, nfg = 1\n",
      "└ @ OptimKit /Users/weerde/.julia/packages/OptimKit/xpmbV/src/lbfgs.jl:76\n",
      "┌ Info: LBFGS: iter   77: f = -1.070746010626, ‖∇f‖ = 9.1433e-05, α = 1.00e+00, m = 15, nfg = 1\n",
      "└ @ OptimKit /Users/weerde/.julia/packages/OptimKit/xpmbV/src/lbfgs.jl:76\n",
      "┌ Info: LBFGS: iter   78: f = -1.070746058287, ‖∇f‖ = 1.8160e-04, α = 1.00e+00, m = 15, nfg = 1\n",
      "└ @ OptimKit /Users/weerde/.julia/packages/OptimKit/xpmbV/src/lbfgs.jl:76\n",
      "┌ Info: LBFGS: iter   79: f = -1.070746121613, ‖∇f‖ = 1.6800e-04, α = 1.00e+00, m = 15, nfg = 1\n",
      "└ @ OptimKit /Users/weerde/.julia/packages/OptimKit/xpmbV/src/lbfgs.jl:76\n",
      "┌ Info: LBFGS: iter   80: f = -1.070746273691, ‖∇f‖ = 2.3360e-04, α = 1.00e+00, m = 15, nfg = 1\n",
      "└ @ OptimKit /Users/weerde/.julia/packages/OptimKit/xpmbV/src/lbfgs.jl:76\n",
      "┌ Info: LBFGS: iter   81: f = -1.070746359054, ‖∇f‖ = 5.2640e-04, α = 1.00e+00, m = 15, nfg = 1\n",
      "└ @ OptimKit /Users/weerde/.julia/packages/OptimKit/xpmbV/src/lbfgs.jl:76\n",
      "┌ Info: LBFGS: iter   82: f = -1.070746521166, ‖∇f‖ = 2.2233e-04, α = 1.00e+00, m = 15, nfg = 1\n",
      "└ @ OptimKit /Users/weerde/.julia/packages/OptimKit/xpmbV/src/lbfgs.jl:76\n",
      "┌ Info: LBFGS: iter   83: f = -1.070746601174, ‖∇f‖ = 1.1732e-04, α = 1.00e+00, m = 15, nfg = 1\n",
      "└ @ OptimKit /Users/weerde/.julia/packages/OptimKit/xpmbV/src/lbfgs.jl:76\n",
      "┌ Info: LBFGS: iter   84: f = -1.070746644078, ‖∇f‖ = 1.1206e-04, α = 1.00e+00, m = 15, nfg = 1\n",
      "└ @ OptimKit /Users/weerde/.julia/packages/OptimKit/xpmbV/src/lbfgs.jl:76\n",
      "┌ Info: LBFGS: iter   85: f = -1.070746688012, ‖∇f‖ = 9.9373e-05, α = 1.00e+00, m = 15, nfg = 1\n",
      "└ @ OptimKit /Users/weerde/.julia/packages/OptimKit/xpmbV/src/lbfgs.jl:76\n",
      "┌ Info: LBFGS: iter   86: f = -1.070746702626, ‖∇f‖ = 1.2357e-04, α = 2.79e-01, m = 15, nfg = 2\n",
      "└ @ OptimKit /Users/weerde/.julia/packages/OptimKit/xpmbV/src/lbfgs.jl:76\n",
      "┌ Info: LBFGS: iter   87: f = -1.070746719746, ‖∇f‖ = 3.8010e-05, α = 1.00e+00, m = 15, nfg = 1\n",
      "└ @ OptimKit /Users/weerde/.julia/packages/OptimKit/xpmbV/src/lbfgs.jl:76\n",
      "┌ Info: LBFGS: iter   88: f = -1.070746722607, ‖∇f‖ = 2.1661e-05, α = 1.00e+00, m = 15, nfg = 1\n",
      "└ @ OptimKit /Users/weerde/.julia/packages/OptimKit/xpmbV/src/lbfgs.jl:76\n",
      "┌ Info: LBFGS: iter   89: f = -1.070746724288, ‖∇f‖ = 2.8141e-05, α = 1.00e+00, m = 15, nfg = 1\n",
      "└ @ OptimKit /Users/weerde/.julia/packages/OptimKit/xpmbV/src/lbfgs.jl:76\n",
      "┌ Info: LBFGS: iter   90: f = -1.070746727466, ‖∇f‖ = 4.1545e-05, α = 1.00e+00, m = 15, nfg = 1\n",
      "└ @ OptimKit /Users/weerde/.julia/packages/OptimKit/xpmbV/src/lbfgs.jl:76\n",
      "┌ Info: LBFGS: iter   91: f = -1.070746736765, ‖∇f‖ = 7.0356e-05, α = 1.00e+00, m = 15, nfg = 1\n",
      "└ @ OptimKit /Users/weerde/.julia/packages/OptimKit/xpmbV/src/lbfgs.jl:76\n",
      "┌ Info: LBFGS: iter   92: f = -1.070746753844, ‖∇f‖ = 9.9870e-05, α = 1.00e+00, m = 15, nfg = 1\n",
      "└ @ OptimKit /Users/weerde/.julia/packages/OptimKit/xpmbV/src/lbfgs.jl:76\n",
      "┌ Info: LBFGS: iter   93: f = -1.070746779127, ‖∇f‖ = 1.0386e-04, α = 1.00e+00, m = 15, nfg = 1\n",
      "└ @ OptimKit /Users/weerde/.julia/packages/OptimKit/xpmbV/src/lbfgs.jl:76\n",
      "┌ Info: LBFGS: iter   94: f = -1.070746807347, ‖∇f‖ = 7.8589e-05, α = 1.00e+00, m = 15, nfg = 1\n",
      "└ @ OptimKit /Users/weerde/.julia/packages/OptimKit/xpmbV/src/lbfgs.jl:76\n",
      "┌ Info: LBFGS: iter   95: f = -1.070746825381, ‖∇f‖ = 1.0253e-04, α = 1.00e+00, m = 15, nfg = 1\n",
      "└ @ OptimKit /Users/weerde/.julia/packages/OptimKit/xpmbV/src/lbfgs.jl:76\n",
      "┌ Info: LBFGS: iter   96: f = -1.070746837733, ‖∇f‖ = 8.6850e-05, α = 1.00e+00, m = 15, nfg = 1\n",
      "└ @ OptimKit /Users/weerde/.julia/packages/OptimKit/xpmbV/src/lbfgs.jl:76\n",
      "┌ Info: LBFGS: iter   97: f = -1.070746854818, ‖∇f‖ = 1.0041e-04, α = 1.00e+00, m = 15, nfg = 1\n",
      "└ @ OptimKit /Users/weerde/.julia/packages/OptimKit/xpmbV/src/lbfgs.jl:76\n",
      "┌ Info: LBFGS: iter   98: f = -1.070746885456, ‖∇f‖ = 1.0852e-04, α = 1.00e+00, m = 15, nfg = 1\n",
      "└ @ OptimKit /Users/weerde/.julia/packages/OptimKit/xpmbV/src/lbfgs.jl:76\n",
      "┌ Info: LBFGS: iter   99: f = -1.070746895449, ‖∇f‖ = 1.3335e-04, α = 4.98e-01, m = 15, nfg = 2\n",
      "└ @ OptimKit /Users/weerde/.julia/packages/OptimKit/xpmbV/src/lbfgs.jl:76\n",
      "┌ Warning: LBFGS: not converged to requested tol: f = -1.070746909795, ‖∇f‖ = 4.8509e-05\n",
      "└ @ OptimKit /Users/weerde/.julia/packages/OptimKit/xpmbV/src/lbfgs.jl:141\n"
     ]
    },
    {
     "data": {
      "text/plain": [
       "(TrivialTensorMap{ComplexSpace, N₁, N₂, Matrix{ComplexF64}} where {N₁, N₂}[TensorMap(ℂ^2 ← (ℂ^2 ⊗ ℂ^2 ⊗ (ℂ^2)')):\n",
       "[:, :, 1, 1] =\n",
       " -0.0339708026584344 + 0.032650438744739566im  …  -0.658152889800337 + 0.07568930314553773im\n",
       " 0.05309468619005737 - 0.46696081062694067im      0.4228923678365482 + 0.1146305007825263im\n",
       "\n",
       "[:, :, 2, 1] =\n",
       " 0.17161951065160216 + 0.4004726868320869im  …  -0.6423029595634631 + 0.16525368933305473im\n",
       "  -0.662912521735509 - 0.67684744054812im        0.8515233771532171 + 0.016580206287523176im\n",
       "\n",
       "[:, :, 1, 2] =\n",
       "   0.5452485711331458 + 0.26581673483025486im  …  -0.07333342403827055 - 1.1765114581060236im\n",
       " -0.08834312984721937 + 0.6160088737386153im       0.20110765479897375 + 0.3641265591326798im\n",
       "\n",
       "[:, :, 2, 2] =\n",
       " -9.432457988499652e-5 - 0.45442108504965595im  …  -0.40026187745342995 - 0.6916179096736995im\n",
       "    0.9792701338647505 + 0.4742139982694612im       -0.3273514779143766 + 0.3018518239950993im\n",
       ", TensorMap((ℂ^2 ⊗ ℂ^2) ← (ℂ^2 ⊗ (ℂ^2)')):\n",
       "[:, :, 1, 1] =\n",
       "  0.4158629247340886 + 0.3086930045402161im    …  -0.14448871078771267 + 0.37652800213945453im\n",
       " -0.7338304141901963 + 0.005453456900085316im     -0.23267071350573978 - 0.46142582527552767im\n",
       "\n",
       "[:, :, 2, 1] =\n",
       " 0.044623379101661774 - 0.49618603329497546im  …  0.45109630205822626 + 0.03606609801519265im\n",
       "  0.38544880753816846 + 0.5164566253476701im      -0.3109992539510381 + 0.27315223425812485im\n",
       "\n",
       "[:, :, 1, 2] =\n",
       " -0.33707170536285097 - 0.007982711020214302im  …  -0.4254863524395119 - 0.39106499786561116im\n",
       "   0.5055689091003363 - 0.05249806496382343im       0.6842929626539154 + 0.436090977408999im\n",
       "\n",
       "[:, :, 2, 2] =\n",
       " 0.43805259300372856 + 0.2267327421066711im  …  0.22893256570404322 + 0.7943277657425933im\n",
       " -0.6560392206001268 - 0.223926888877601im      -0.5226277630040139 - 0.995653794618561im\n",
       "], -1.0707469097950417, TrivialTensorMap{ComplexSpace, N₁, N₂, Matrix{ComplexF64}} where {N₁, N₂}[TensorMap(ℂ^2 ← (ℂ^2 ⊗ ℂ^2 ⊗ (ℂ^2)')):\n",
       "[:, :, 1, 1] =\n",
       " -1.5477450082588213e-6 + 4.092340743535917e-6im  …  -2.411461303162644e-6 - 6.106431639186365e-8im\n",
       "   6.891675014616195e-8 + 6.873446996679975e-7im     -7.978851172335926e-7 - 2.4857970253581197e-6im\n",
       "\n",
       "[:, :, 2, 1] =\n",
       " 9.749596283610832e-7 - 1.0760364773094724e-6im  …   4.302928524316039e-6 - 5.575361232600389e-6im\n",
       " 2.580368925182286e-6 + 6.515589313766593e-7im      1.6686747656970025e-6 + 2.005543599926149e-6im\n",
       "\n",
       "[:, :, 1, 2] =\n",
       "   5.101231960237124e-6 + 3.804981046775579e-6im  …  -3.0383527009547797e-6 + 3.89308940604183e-6im\n",
       " -1.6912380000291868e-6 + 3.246651218225689e-6im      6.0590979296682875e-6 - 1.756169490956576e-6im\n",
       "\n",
       "[:, :, 2, 2] =\n",
       " -3.6267399630117515e-6 - 4.521916080239512e-6im   …  -5.970075240539376e-6 + 9.204316451785694e-7im\n",
       " -3.0023001931618585e-6 + 4.5878465708341425e-6im     1.3203560417455774e-6 - 3.174473477898372e-6im\n",
       ", TensorMap((ℂ^2 ⊗ ℂ^2) ← (ℂ^2 ⊗ (ℂ^2)')):\n",
       "[:, :, 1, 1] =\n",
       " -6.302250851985615e-6 - 8.67797687263572e-6im    …   -9.304193311265007e-6 + 2.2305155034620587e-6im\n",
       " -6.656975368335145e-6 - 1.2248508318110442e-6im     -1.8438899741837914e-6 + 3.8158228305252705e-6im\n",
       "\n",
       "[:, :, 2, 1] =\n",
       " -2.553764109531988e-6 - 6.921867865439045e-6im  …  -3.968901785172688e-6 - 2.7476386781867683e-6im\n",
       " 4.0980573634776955e-6 - 8.560212035112301e-7im     -4.772769555289956e-7 + 8.348854292494347e-7im\n",
       "\n",
       "[:, :, 1, 2] =\n",
       " -5.015221038971633e-6 - 2.4097000225051358e-5im  …   -6.921278927461979e-6 - 4.774951241956844e-6im\n",
       " -4.225727343992196e-6 - 2.4191151233187793e-5im     -3.7276287449162294e-6 - 6.069835509588834e-6im\n",
       "\n",
       "[:, :, 2, 2] =\n",
       " 5.076469985450464e-6 - 9.223056365889801e-6im   …  -6.430554098856554e-6 + 1.2785603374398752e-6im\n",
       " 7.005693860045757e-6 - 1.0729949974519716e-5im      3.204724957094242e-6 - 1.8581410233322083e-7im\n",
       "], 108, [-0.36321991258116165 1.6696496807794152; -0.7859830675399955 0.2171146629544574; … ; -1.070746895449039 0.0001333511806273827; -1.0707469097950417 4.850887119608589e-5])"
      ]
     },
     "metadata": {},
     "output_type": "display_data"
    }
   ],
   "source": [
    "x, e, gr, numfg, info = optimize(x -> energy_and_gradient(x, χ, Pattern_arr, keywords; adjust_χ = false), loc_in, LBFGS(15; optimparas1... ); kwargs... )"
   ]
  },
  {
   "cell_type": "code",
   "execution_count": 25,
   "metadata": {},
   "outputs": [],
   "source": [
    "using Plots"
   ]
  },
  {
   "cell_type": "code",
   "execution_count": 26,
   "metadata": {},
   "outputs": [],
   "source": [
    "pval = plot(1:1:101, info[:,1], color = :blue, legend = false, ylabel = \"⟨E⟩\", xlabel = \"iterations\");\n",
    "\n",
    "pgrad = plot(1:1:101, log10.(info[:,2]), color = :red, ylabel = \" ‖∇E‖\", legend = false);\n"
   ]
  },
  {
   "cell_type": "code",
   "execution_count": 27,
   "metadata": {},
   "outputs": [
    {
     "data": {
      "image/png": "[encoded data removed]",
      "image/svg+xml": [
       "<?xml version=\"1.0\" encoding=\"utf-8\"?>\n",
       "<svg xmlns=\"http://www.w3.org/2000/svg\" xmlns:xlink=\"http://www.w3.org/1999/xlink\" width=\"600\" height=\"400\" viewBox=\"0 0 2400 1600\">\n",
       "<defs>\n",
       "  <clipPath id=\"clip630\">\n",
       "    <rect x=\"0\" y=\"0\" width=\"2400\" height=\"1600\"/>\n",
       "  </clipPath>\n",
       "</defs>\n",
       "<path clip-path=\"url(#clip630)\" d=\"M0 1600 L2400 1600 L2400 0 L0 0  Z\" fill=\"#ffffff\" fill-rule=\"evenodd\" fill-opacity=\"1\"/>\n",
       "<defs>\n",
       "  <clipPath id=\"clip631\">\n",
       "    <rect x=\"480\" y=\"0\" width=\"1681\" height=\"1600\"/>\n",
       "  </clipPath>\n",
       "</defs>\n",
       "<path clip-path=\"url(#clip630)\" d=\"M257.69 1423.18 L2352.76 1423.18 L2352.76 47.2441 L257.69 47.2441  Z\" fill=\"#ffffff\" fill-rule=\"evenodd\" fill-opacity=\"1\"/>\n",
       "<defs>\n",
       "  <clipPath id=\"clip632\">\n",
       "    <rect x=\"257\" y=\"47\" width=\"2096\" height=\"1377\"/>\n",
       "  </clipPath>\n",
       "</defs>\n",
       "<polyline clip-path=\"url(#clip632)\" style=\"stroke:#000000; stroke-linecap:round; stroke-linejoin:round; stroke-width:2; stroke-opacity:0.1; fill:none\" points=\"297.22,1423.18 297.22,47.2441 \"/>\n",
       "<polyline clip-path=\"url(#clip632)\" style=\"stroke:#000000; stroke-linecap:round; stroke-linejoin:round; stroke-width:2; stroke-opacity:0.1; fill:none\" points=\"791.339,1423.18 791.339,47.2441 \"/>\n",
       "<polyline clip-path=\"url(#clip632)\" style=\"stroke:#000000; stroke-linecap:round; stroke-linejoin:round; stroke-width:2; stroke-opacity:0.1; fill:none\" points=\"1285.46,1423.18 1285.46,47.2441 \"/>\n",
       "<polyline clip-path=\"url(#clip632)\" style=\"stroke:#000000; stroke-linecap:round; stroke-linejoin:round; stroke-width:2; stroke-opacity:0.1; fill:none\" points=\"1779.58,1423.18 1779.58,47.2441 \"/>\n",
       "<polyline clip-path=\"url(#clip632)\" style=\"stroke:#000000; stroke-linecap:round; stroke-linejoin:round; stroke-width:2; stroke-opacity:0.1; fill:none\" points=\"2273.7,1423.18 2273.7,47.2441 \"/>\n",
       "<polyline clip-path=\"url(#clip630)\" style=\"stroke:#000000; stroke-linecap:round; stroke-linejoin:round; stroke-width:4; stroke-opacity:1; fill:none\" points=\"257.69,1423.18 2352.76,1423.18 \"/>\n",
       "<polyline clip-path=\"url(#clip630)\" style=\"stroke:#000000; stroke-linecap:round; stroke-linejoin:round; stroke-width:4; stroke-opacity:1; fill:none\" points=\"297.22,1423.18 297.22,1404.28 \"/>\n",
       "<polyline clip-path=\"url(#clip630)\" style=\"stroke:#000000; stroke-linecap:round; stroke-linejoin:round; stroke-width:4; stroke-opacity:1; fill:none\" points=\"791.339,1423.18 791.339,1404.28 \"/>\n",
       "<polyline clip-path=\"url(#clip630)\" style=\"stroke:#000000; stroke-linecap:round; stroke-linejoin:round; stroke-width:4; stroke-opacity:1; fill:none\" points=\"1285.46,1423.18 1285.46,1404.28 \"/>\n",
       "<polyline clip-path=\"url(#clip630)\" style=\"stroke:#000000; stroke-linecap:round; stroke-linejoin:round; stroke-width:4; stroke-opacity:1; fill:none\" points=\"1779.58,1423.18 1779.58,1404.28 \"/>\n",
       "<polyline clip-path=\"url(#clip630)\" style=\"stroke:#000000; stroke-linecap:round; stroke-linejoin:round; stroke-width:4; stroke-opacity:1; fill:none\" points=\"2273.7,1423.18 2273.7,1404.28 \"/>\n",
       "<path clip-path=\"url(#clip630)\" d=\"M297.22 1454.1 Q293.609 1454.1 291.78 1457.66 Q289.974 1461.2 289.974 1468.33 Q289.974 1475.44 291.78 1479.01 Q293.609 1482.55 297.22 1482.55 Q300.854 1482.55 302.659 1479.01 Q304.488 1475.44 304.488 1468.33 Q304.488 1461.2 302.659 1457.66 Q300.854 1454.1 297.22 1454.1 M297.22 1450.39 Q303.03 1450.39 306.085 1455 Q309.164 1459.58 309.164 1468.33 Q309.164 1477.06 306.085 1481.67 Q303.03 1486.25 297.22 1486.25 Q291.41 1486.25 288.331 1481.67 Q285.275 1477.06 285.275 1468.33 Q285.275 1459.58 288.331 1455 Q291.41 1450.39 297.22 1450.39 Z\" fill=\"#000000\" fill-rule=\"nonzero\" fill-opacity=\"1\" /><path clip-path=\"url(#clip630)\" d=\"M770.61 1481.64 L786.929 1481.64 L786.929 1485.58 L764.985 1485.58 L764.985 1481.64 Q767.647 1478.89 772.23 1474.26 Q776.837 1469.61 778.017 1468.27 Q780.263 1465.74 781.142 1464.01 Q782.045 1462.25 782.045 1460.56 Q782.045 1457.8 780.101 1456.07 Q778.179 1454.33 775.077 1454.33 Q772.878 1454.33 770.425 1455.09 Q767.994 1455.86 765.216 1457.41 L765.216 1452.69 Q768.04 1451.55 770.494 1450.97 Q772.948 1450.39 774.985 1450.39 Q780.355 1450.39 783.55 1453.08 Q786.744 1455.77 786.744 1460.26 Q786.744 1462.39 785.934 1464.31 Q785.147 1466.2 783.04 1468.8 Q782.462 1469.47 779.36 1472.69 Q776.258 1475.88 770.61 1481.64 Z\" fill=\"#000000\" fill-rule=\"nonzero\" fill-opacity=\"1\" /><path clip-path=\"url(#clip630)\" d=\"M796.79 1451.02 L815.147 1451.02 L815.147 1454.96 L801.073 1454.96 L801.073 1463.43 Q802.091 1463.08 803.11 1462.92 Q804.128 1462.73 805.147 1462.73 Q810.934 1462.73 814.313 1465.9 Q817.693 1469.08 817.693 1474.49 Q817.693 1480.07 814.221 1483.17 Q810.749 1486.25 804.429 1486.25 Q802.253 1486.25 799.985 1485.88 Q797.739 1485.51 795.332 1484.77 L795.332 1480.07 Q797.415 1481.2 799.638 1481.76 Q801.86 1482.32 804.337 1482.32 Q808.341 1482.32 810.679 1480.21 Q813.017 1478.1 813.017 1474.49 Q813.017 1470.88 810.679 1468.77 Q808.341 1466.67 804.337 1466.67 Q802.462 1466.67 800.587 1467.08 Q798.735 1467.5 796.79 1468.38 L796.79 1451.02 Z\" fill=\"#000000\" fill-rule=\"nonzero\" fill-opacity=\"1\" /><path clip-path=\"url(#clip630)\" d=\"M1260.16 1451.02 L1278.51 1451.02 L1278.51 1454.96 L1264.44 1454.96 L1264.44 1463.43 Q1265.46 1463.08 1266.48 1462.92 Q1267.5 1462.73 1268.51 1462.73 Q1274.3 1462.73 1277.68 1465.9 Q1281.06 1469.08 1281.06 1474.49 Q1281.06 1480.07 1277.59 1483.17 Q1274.12 1486.25 1267.8 1486.25 Q1265.62 1486.25 1263.35 1485.88 Q1261.11 1485.51 1258.7 1484.77 L1258.7 1480.07 Q1260.78 1481.2 1263 1481.76 Q1265.23 1482.32 1267.7 1482.32 Q1271.71 1482.32 1274.05 1480.21 Q1276.38 1478.1 1276.38 1474.49 Q1276.38 1470.88 1274.05 1468.77 Q1271.71 1466.67 1267.7 1466.67 Q1265.83 1466.67 1263.95 1467.08 Q1262.1 1467.5 1260.16 1468.38 L1260.16 1451.02 Z\" fill=\"#000000\" fill-rule=\"nonzero\" fill-opacity=\"1\" /><path clip-path=\"url(#clip630)\" d=\"M1300.27 1454.1 Q1296.66 1454.1 1294.83 1457.66 Q1293.03 1461.2 1293.03 1468.33 Q1293.03 1475.44 1294.83 1479.01 Q1296.66 1482.55 1300.27 1482.55 Q1303.91 1482.55 1305.71 1479.01 Q1307.54 1475.44 1307.54 1468.33 Q1307.54 1461.2 1305.71 1457.66 Q1303.91 1454.1 1300.27 1454.1 M1300.27 1450.39 Q1306.08 1450.39 1309.14 1455 Q1312.22 1459.58 1312.22 1468.33 Q1312.22 1477.06 1309.14 1481.67 Q1306.08 1486.25 1300.27 1486.25 Q1294.46 1486.25 1291.38 1481.67 Q1288.33 1477.06 1288.33 1468.33 Q1288.33 1459.58 1291.38 1455 Q1294.46 1450.39 1300.27 1450.39 Z\" fill=\"#000000\" fill-rule=\"nonzero\" fill-opacity=\"1\" /><path clip-path=\"url(#clip630)\" d=\"M1753.43 1451.02 L1775.65 1451.02 L1775.65 1453.01 L1763.11 1485.58 L1758.22 1485.58 L1770.03 1454.96 L1753.43 1454.96 L1753.43 1451.02 Z\" fill=\"#000000\" fill-rule=\"nonzero\" fill-opacity=\"1\" /><path clip-path=\"url(#clip630)\" d=\"M1784.82 1451.02 L1803.18 1451.02 L1803.18 1454.96 L1789.1 1454.96 L1789.1 1463.43 Q1790.12 1463.08 1791.14 1462.92 Q1792.16 1462.73 1793.18 1462.73 Q1798.96 1462.73 1802.34 1465.9 Q1805.72 1469.08 1805.72 1474.49 Q1805.72 1480.07 1802.25 1483.17 Q1798.78 1486.25 1792.46 1486.25 Q1790.28 1486.25 1788.01 1485.88 Q1785.77 1485.51 1783.36 1484.77 L1783.36 1480.07 Q1785.45 1481.2 1787.67 1481.76 Q1789.89 1482.32 1792.37 1482.32 Q1796.37 1482.32 1798.71 1480.21 Q1801.05 1478.1 1801.05 1474.49 Q1801.05 1470.88 1798.71 1468.77 Q1796.37 1466.67 1792.37 1466.67 Q1790.49 1466.67 1788.62 1467.08 Q1786.76 1467.5 1784.82 1468.38 L1784.82 1451.02 Z\" fill=\"#000000\" fill-rule=\"nonzero\" fill-opacity=\"1\" /><path clip-path=\"url(#clip630)\" d=\"M2233.3 1481.64 L2240.94 1481.64 L2240.94 1455.28 L2232.63 1456.95 L2232.63 1452.69 L2240.9 1451.02 L2245.57 1451.02 L2245.57 1481.64 L2253.21 1481.64 L2253.21 1485.58 L2233.3 1485.58 L2233.3 1481.64 Z\" fill=\"#000000\" fill-rule=\"nonzero\" fill-opacity=\"1\" /><path clip-path=\"url(#clip630)\" d=\"M2272.66 1454.1 Q2269.04 1454.1 2267.22 1457.66 Q2265.41 1461.2 2265.41 1468.33 Q2265.41 1475.44 2267.22 1479.01 Q2269.04 1482.55 2272.66 1482.55 Q2276.29 1482.55 2278.09 1479.01 Q2279.92 1475.44 2279.92 1468.33 Q2279.92 1461.2 2278.09 1457.66 Q2276.29 1454.1 2272.66 1454.1 M2272.66 1450.39 Q2278.47 1450.39 2281.52 1455 Q2284.6 1459.58 2284.6 1468.33 Q2284.6 1477.06 2281.52 1481.67 Q2278.47 1486.25 2272.66 1486.25 Q2266.85 1486.25 2263.77 1481.67 Q2260.71 1477.06 2260.71 1468.33 Q2260.71 1459.58 2263.77 1455 Q2266.85 1450.39 2272.66 1450.39 Z\" fill=\"#000000\" fill-rule=\"nonzero\" fill-opacity=\"1\" /><path clip-path=\"url(#clip630)\" d=\"M2302.82 1454.1 Q2299.21 1454.1 2297.38 1457.66 Q2295.57 1461.2 2295.57 1468.33 Q2295.57 1475.44 2297.38 1479.01 Q2299.21 1482.55 2302.82 1482.55 Q2306.45 1482.55 2308.26 1479.01 Q2310.09 1475.44 2310.09 1468.33 Q2310.09 1461.2 2308.26 1457.66 Q2306.45 1454.1 2302.82 1454.1 M2302.82 1450.39 Q2308.63 1450.39 2311.68 1455 Q2314.76 1459.58 2314.76 1468.33 Q2314.76 1477.06 2311.68 1481.67 Q2308.63 1486.25 2302.82 1486.25 Q2297.01 1486.25 2293.93 1481.67 Q2290.87 1477.06 2290.87 1468.33 Q2290.87 1459.58 2293.93 1455 Q2297.01 1450.39 2302.82 1450.39 Z\" fill=\"#000000\" fill-rule=\"nonzero\" fill-opacity=\"1\" /><path clip-path=\"url(#clip630)\" d=\"M1155.22 1532.4 L1161.07 1532.4 L1161.07 1568.04 L1155.22 1568.04 L1155.22 1532.4 M1155.22 1518.52 L1161.07 1518.52 L1161.07 1525.93 L1155.22 1525.93 L1155.22 1518.52 Z\" fill=\"#000000\" fill-rule=\"nonzero\" fill-opacity=\"1\" /><path clip-path=\"url(#clip630)\" d=\"M1179.12 1522.27 L1179.12 1532.4 L1191.18 1532.4 L1191.18 1536.95 L1179.12 1536.95 L1179.12 1556.3 Q1179.12 1560.66 1180.3 1561.9 Q1181.51 1563.14 1185.17 1563.14 L1191.18 1563.14 L1191.18 1568.04 L1185.17 1568.04 Q1178.39 1568.04 1175.81 1565.53 Q1173.23 1562.98 1173.23 1556.3 L1173.23 1536.95 L1168.93 1536.95 L1168.93 1532.4 L1173.23 1532.4 L1173.23 1522.27 L1179.12 1522.27 Z\" fill=\"#000000\" fill-rule=\"nonzero\" fill-opacity=\"1\" /><path clip-path=\"url(#clip630)\" d=\"M1229.38 1548.76 L1229.38 1551.62 L1202.45 1551.62 Q1202.83 1557.67 1206.08 1560.85 Q1209.36 1564 1215.18 1564 Q1218.55 1564 1221.7 1563.17 Q1224.89 1562.35 1228.01 1560.69 L1228.01 1566.23 Q1224.86 1567.57 1221.55 1568.27 Q1218.24 1568.97 1214.83 1568.97 Q1206.3 1568.97 1201.3 1564 Q1196.34 1559.04 1196.34 1550.57 Q1196.34 1541.82 1201.05 1536.69 Q1205.79 1531.54 1213.81 1531.54 Q1221 1531.54 1225.17 1536.18 Q1229.38 1540.8 1229.38 1548.76 M1223.52 1547.04 Q1223.46 1542.23 1220.81 1539.37 Q1218.2 1536.5 1213.88 1536.5 Q1208.97 1536.5 1206.01 1539.27 Q1203.09 1542.04 1202.64 1547.07 L1223.52 1547.04 Z\" fill=\"#000000\" fill-rule=\"nonzero\" fill-opacity=\"1\" /><path clip-path=\"url(#clip630)\" d=\"M1259.64 1537.87 Q1258.66 1537.3 1257.48 1537.04 Q1256.33 1536.76 1254.93 1536.76 Q1249.97 1536.76 1247.3 1540 Q1244.65 1543.22 1244.65 1549.27 L1244.65 1568.04 L1238.77 1568.04 L1238.77 1532.4 L1244.65 1532.4 L1244.65 1537.93 Q1246.5 1534.69 1249.46 1533.13 Q1252.42 1531.54 1256.65 1531.54 Q1257.26 1531.54 1257.99 1531.63 Q1258.72 1531.7 1259.61 1531.85 L1259.64 1537.87 Z\" fill=\"#000000\" fill-rule=\"nonzero\" fill-opacity=\"1\" /><path clip-path=\"url(#clip630)\" d=\"M1281.99 1550.12 Q1274.89 1550.12 1272.15 1551.75 Q1269.42 1553.37 1269.42 1557.29 Q1269.42 1560.4 1271.45 1562.25 Q1273.52 1564.07 1277.05 1564.07 Q1281.92 1564.07 1284.85 1560.63 Q1287.81 1557.16 1287.81 1551.43 L1287.81 1550.12 L1281.99 1550.12 M1293.67 1547.71 L1293.67 1568.04 L1287.81 1568.04 L1287.81 1562.63 Q1285.81 1565.88 1282.82 1567.44 Q1279.82 1568.97 1275.5 1568.97 Q1270.02 1568.97 1266.77 1565.91 Q1263.56 1562.82 1263.56 1557.67 Q1263.56 1551.65 1267.57 1548.6 Q1271.61 1545.54 1279.6 1545.54 L1287.81 1545.54 L1287.81 1544.97 Q1287.81 1540.93 1285.14 1538.73 Q1282.5 1536.5 1277.69 1536.5 Q1274.64 1536.5 1271.74 1537.23 Q1268.84 1537.97 1266.17 1539.43 L1266.17 1534.02 Q1269.38 1532.78 1272.41 1532.17 Q1275.43 1531.54 1278.3 1531.54 Q1286.03 1531.54 1289.85 1535.55 Q1293.67 1539.56 1293.67 1547.71 Z\" fill=\"#000000\" fill-rule=\"nonzero\" fill-opacity=\"1\" /><path clip-path=\"url(#clip630)\" d=\"M1311.53 1522.27 L1311.53 1532.4 L1323.59 1532.4 L1323.59 1536.95 L1311.53 1536.95 L1311.53 1556.3 Q1311.53 1560.66 1312.7 1561.9 Q1313.91 1563.14 1317.57 1563.14 L1323.59 1563.14 L1323.59 1568.04 L1317.57 1568.04 Q1310.79 1568.04 1308.21 1565.53 Q1305.64 1562.98 1305.64 1556.3 L1305.64 1536.95 L1301.34 1536.95 L1301.34 1532.4 L1305.64 1532.4 L1305.64 1522.27 L1311.53 1522.27 Z\" fill=\"#000000\" fill-rule=\"nonzero\" fill-opacity=\"1\" /><path clip-path=\"url(#clip630)\" d=\"M1331.29 1532.4 L1337.15 1532.4 L1337.15 1568.04 L1331.29 1568.04 L1331.29 1532.4 M1331.29 1518.52 L1337.15 1518.52 L1337.15 1525.93 L1331.29 1525.93 L1331.29 1518.52 Z\" fill=\"#000000\" fill-rule=\"nonzero\" fill-opacity=\"1\" /><path clip-path=\"url(#clip630)\" d=\"M1363.21 1536.5 Q1358.5 1536.5 1355.77 1540.19 Q1353.03 1543.85 1353.03 1550.25 Q1353.03 1556.65 1355.73 1560.34 Q1358.47 1564 1363.21 1564 Q1367.89 1564 1370.63 1560.31 Q1373.37 1556.62 1373.37 1550.25 Q1373.37 1543.92 1370.63 1540.23 Q1367.89 1536.5 1363.21 1536.5 M1363.21 1531.54 Q1370.85 1531.54 1375.21 1536.5 Q1379.57 1541.47 1379.57 1550.25 Q1379.57 1559 1375.21 1564 Q1370.85 1568.97 1363.21 1568.97 Q1355.54 1568.97 1351.18 1564 Q1346.85 1559 1346.85 1550.25 Q1346.85 1541.47 1351.18 1536.5 Q1355.54 1531.54 1363.21 1531.54 Z\" fill=\"#000000\" fill-rule=\"nonzero\" fill-opacity=\"1\" /><path clip-path=\"url(#clip630)\" d=\"M1418.91 1546.53 L1418.91 1568.04 L1413.06 1568.04 L1413.06 1546.72 Q1413.06 1541.66 1411.08 1539.14 Q1409.11 1536.63 1405.16 1536.63 Q1400.42 1536.63 1397.68 1539.65 Q1394.95 1542.68 1394.95 1547.9 L1394.95 1568.04 L1389.06 1568.04 L1389.06 1532.4 L1394.95 1532.4 L1394.95 1537.93 Q1397.05 1534.72 1399.88 1533.13 Q1402.75 1531.54 1406.47 1531.54 Q1412.61 1531.54 1415.76 1535.36 Q1418.91 1539.14 1418.91 1546.53 Z\" fill=\"#000000\" fill-rule=\"nonzero\" fill-opacity=\"1\" /><path clip-path=\"url(#clip630)\" d=\"M1453.32 1533.45 L1453.32 1538.98 Q1450.84 1537.71 1448.16 1537.07 Q1445.49 1536.44 1442.63 1536.44 Q1438.27 1536.44 1436.07 1537.77 Q1433.91 1539.11 1433.91 1541.79 Q1433.91 1543.82 1435.47 1545 Q1437.02 1546.15 1441.74 1547.2 L1443.74 1547.64 Q1449.98 1548.98 1452.59 1551.43 Q1455.23 1553.85 1455.23 1558.21 Q1455.23 1563.17 1451.28 1566.07 Q1447.37 1568.97 1440.49 1568.97 Q1437.63 1568.97 1434.51 1568.39 Q1431.42 1567.85 1427.99 1566.74 L1427.99 1560.69 Q1431.23 1562.38 1434.38 1563.24 Q1437.53 1564.07 1440.62 1564.07 Q1444.76 1564.07 1446.99 1562.66 Q1449.22 1561.23 1449.22 1558.65 Q1449.22 1556.27 1447.59 1554.99 Q1446 1553.72 1440.56 1552.54 L1438.52 1552.07 Q1433.08 1550.92 1430.66 1548.56 Q1428.24 1546.18 1428.24 1542.04 Q1428.24 1537.01 1431.81 1534.27 Q1435.37 1531.54 1441.93 1531.54 Q1445.17 1531.54 1448.04 1532.01 Q1450.9 1532.49 1453.32 1533.45 Z\" fill=\"#000000\" fill-rule=\"nonzero\" fill-opacity=\"1\" /><polyline clip-path=\"url(#clip632)\" style=\"stroke:#000000; stroke-linecap:round; stroke-linejoin:round; stroke-width:2; stroke-opacity:0.1; fill:none\" points=\"257.69,1254.44 2352.76,1254.44 \"/>\n",
       "<polyline clip-path=\"url(#clip632)\" style=\"stroke:#000000; stroke-linecap:round; stroke-linejoin:round; stroke-width:2; stroke-opacity:0.1; fill:none\" points=\"257.69,1070.98 2352.76,1070.98 \"/>\n",
       "<polyline clip-path=\"url(#clip632)\" style=\"stroke:#000000; stroke-linecap:round; stroke-linejoin:round; stroke-width:2; stroke-opacity:0.1; fill:none\" points=\"257.69,887.517 2352.76,887.517 \"/>\n",
       "<polyline clip-path=\"url(#clip632)\" style=\"stroke:#000000; stroke-linecap:round; stroke-linejoin:round; stroke-width:2; stroke-opacity:0.1; fill:none\" points=\"257.69,704.054 2352.76,704.054 \"/>\n",
       "<polyline clip-path=\"url(#clip632)\" style=\"stroke:#000000; stroke-linecap:round; stroke-linejoin:round; stroke-width:2; stroke-opacity:0.1; fill:none\" points=\"257.69,520.59 2352.76,520.59 \"/>\n",
       "<polyline clip-path=\"url(#clip632)\" style=\"stroke:#000000; stroke-linecap:round; stroke-linejoin:round; stroke-width:2; stroke-opacity:0.1; fill:none\" points=\"257.69,337.127 2352.76,337.127 \"/>\n",
       "<polyline clip-path=\"url(#clip632)\" style=\"stroke:#000000; stroke-linecap:round; stroke-linejoin:round; stroke-width:2; stroke-opacity:0.1; fill:none\" points=\"257.69,153.664 2352.76,153.664 \"/>\n",
       "<polyline clip-path=\"url(#clip630)\" style=\"stroke:#000000; stroke-linecap:round; stroke-linejoin:round; stroke-width:4; stroke-opacity:1; fill:none\" points=\"257.69,1423.18 257.69,47.2441 \"/>\n",
       "<polyline clip-path=\"url(#clip630)\" style=\"stroke:#000000; stroke-linecap:round; stroke-linejoin:round; stroke-width:4; stroke-opacity:1; fill:none\" points=\"257.69,1254.44 276.588,1254.44 \"/>\n",
       "<polyline clip-path=\"url(#clip630)\" style=\"stroke:#000000; stroke-linecap:round; stroke-linejoin:round; stroke-width:4; stroke-opacity:1; fill:none\" points=\"257.69,1070.98 276.588,1070.98 \"/>\n",
       "<polyline clip-path=\"url(#clip630)\" style=\"stroke:#000000; stroke-linecap:round; stroke-linejoin:round; stroke-width:4; stroke-opacity:1; fill:none\" points=\"257.69,887.517 276.588,887.517 \"/>\n",
       "<polyline clip-path=\"url(#clip630)\" style=\"stroke:#000000; stroke-linecap:round; stroke-linejoin:round; stroke-width:4; stroke-opacity:1; fill:none\" points=\"257.69,704.054 276.588,704.054 \"/>\n",
       "<polyline clip-path=\"url(#clip630)\" style=\"stroke:#000000; stroke-linecap:round; stroke-linejoin:round; stroke-width:4; stroke-opacity:1; fill:none\" points=\"257.69,520.59 276.588,520.59 \"/>\n",
       "<polyline clip-path=\"url(#clip630)\" style=\"stroke:#000000; stroke-linecap:round; stroke-linejoin:round; stroke-width:4; stroke-opacity:1; fill:none\" points=\"257.69,337.127 276.588,337.127 \"/>\n",
       "<polyline clip-path=\"url(#clip630)\" style=\"stroke:#000000; stroke-linecap:round; stroke-linejoin:round; stroke-width:4; stroke-opacity:1; fill:none\" points=\"257.69,153.664 276.588,153.664 \"/>\n",
       "<path clip-path=\"url(#clip630)\" d=\"M114.746 1254.9 L144.422 1254.9 L144.422 1258.83 L114.746 1258.83 L114.746 1254.9 Z\" fill=\"#000000\" fill-rule=\"nonzero\" fill-opacity=\"1\" /><path clip-path=\"url(#clip630)\" d=\"M155.325 1267.79 L162.964 1267.79 L162.964 1241.42 L154.653 1243.09 L154.653 1238.83 L162.917 1237.16 L167.593 1237.16 L167.593 1267.79 L175.232 1267.79 L175.232 1271.72 L155.325 1271.72 L155.325 1267.79 Z\" fill=\"#000000\" fill-rule=\"nonzero\" fill-opacity=\"1\" /><path clip-path=\"url(#clip630)\" d=\"M184.676 1265.84 L189.561 1265.84 L189.561 1271.72 L184.676 1271.72 L184.676 1265.84 Z\" fill=\"#000000\" fill-rule=\"nonzero\" fill-opacity=\"1\" /><path clip-path=\"url(#clip630)\" d=\"M209.746 1240.24 Q206.135 1240.24 204.306 1243.81 Q202.5 1247.35 202.5 1254.48 Q202.5 1261.58 204.306 1265.15 Q206.135 1268.69 209.746 1268.69 Q213.38 1268.69 215.186 1265.15 Q217.014 1261.58 217.014 1254.48 Q217.014 1247.35 215.186 1243.81 Q213.38 1240.24 209.746 1240.24 M209.746 1236.54 Q215.556 1236.54 218.611 1241.15 Q221.69 1245.73 221.69 1254.48 Q221.69 1263.21 218.611 1267.81 Q215.556 1272.39 209.746 1272.39 Q203.936 1272.39 200.857 1267.81 Q197.801 1263.21 197.801 1254.48 Q197.801 1245.73 200.857 1241.15 Q203.936 1236.54 209.746 1236.54 Z\" fill=\"#000000\" fill-rule=\"nonzero\" fill-opacity=\"1\" /><path clip-path=\"url(#clip630)\" d=\"M114.931 1071.43 L144.607 1071.43 L144.607 1075.37 L114.931 1075.37 L114.931 1071.43 Z\" fill=\"#000000\" fill-rule=\"nonzero\" fill-opacity=\"1\" /><path clip-path=\"url(#clip630)\" d=\"M164.7 1056.78 Q161.089 1056.78 159.26 1060.34 Q157.454 1063.89 157.454 1071.02 Q157.454 1078.12 159.26 1081.69 Q161.089 1085.23 164.7 1085.23 Q168.334 1085.23 170.139 1081.69 Q171.968 1078.12 171.968 1071.02 Q171.968 1063.89 170.139 1060.34 Q168.334 1056.78 164.7 1056.78 M164.7 1053.08 Q170.51 1053.08 173.565 1057.68 Q176.644 1062.27 176.644 1071.02 Q176.644 1079.74 173.565 1084.35 Q170.51 1088.93 164.7 1088.93 Q158.89 1088.93 155.811 1084.35 Q152.755 1079.74 152.755 1071.02 Q152.755 1062.27 155.811 1057.68 Q158.89 1053.08 164.7 1053.08 Z\" fill=\"#000000\" fill-rule=\"nonzero\" fill-opacity=\"1\" /><path clip-path=\"url(#clip630)\" d=\"M184.862 1082.38 L189.746 1082.38 L189.746 1088.26 L184.862 1088.26 L184.862 1082.38 Z\" fill=\"#000000\" fill-rule=\"nonzero\" fill-opacity=\"1\" /><path clip-path=\"url(#clip630)\" d=\"M200.07 1087.54 L200.07 1083.28 Q201.829 1084.12 203.635 1084.56 Q205.44 1085 207.176 1085 Q211.806 1085 214.236 1081.89 Q216.69 1078.77 217.037 1072.43 Q215.695 1074.42 213.635 1075.48 Q211.574 1076.55 209.074 1076.55 Q203.889 1076.55 200.857 1073.42 Q197.848 1070.27 197.848 1064.83 Q197.848 1059.51 200.996 1056.29 Q204.144 1053.08 209.375 1053.08 Q215.371 1053.08 218.519 1057.68 Q221.69 1062.27 221.69 1071.02 Q221.69 1079.19 217.801 1084.07 Q213.936 1088.93 207.385 1088.93 Q205.625 1088.93 203.82 1088.58 Q202.014 1088.24 200.07 1087.54 M209.375 1072.89 Q212.524 1072.89 214.352 1070.74 Q216.204 1068.58 216.204 1064.83 Q216.204 1061.11 214.352 1058.95 Q212.524 1056.78 209.375 1056.78 Q206.227 1056.78 204.375 1058.95 Q202.547 1061.11 202.547 1064.83 Q202.547 1068.58 204.375 1070.74 Q206.227 1072.89 209.375 1072.89 Z\" fill=\"#000000\" fill-rule=\"nonzero\" fill-opacity=\"1\" /><path clip-path=\"url(#clip630)\" d=\"M114.839 887.968 L144.515 887.968 L144.515 891.904 L114.839 891.904 L114.839 887.968 Z\" fill=\"#000000\" fill-rule=\"nonzero\" fill-opacity=\"1\" /><path clip-path=\"url(#clip630)\" d=\"M164.607 873.316 Q160.996 873.316 159.167 876.88 Q157.362 880.422 157.362 887.552 Q157.362 894.658 159.167 898.223 Q160.996 901.765 164.607 901.765 Q168.241 901.765 170.047 898.223 Q171.876 894.658 171.876 887.552 Q171.876 880.422 170.047 876.88 Q168.241 873.316 164.607 873.316 M164.607 869.612 Q170.417 869.612 173.473 874.218 Q176.551 878.802 176.551 887.552 Q176.551 896.278 173.473 900.885 Q170.417 905.468 164.607 905.468 Q158.797 905.468 155.718 900.885 Q152.663 896.278 152.663 887.552 Q152.663 878.802 155.718 874.218 Q158.797 869.612 164.607 869.612 Z\" fill=\"#000000\" fill-rule=\"nonzero\" fill-opacity=\"1\" /><path clip-path=\"url(#clip630)\" d=\"M184.769 898.917 L189.653 898.917 L189.653 904.797 L184.769 904.797 L184.769 898.917 Z\" fill=\"#000000\" fill-rule=\"nonzero\" fill-opacity=\"1\" /><path clip-path=\"url(#clip630)\" d=\"M209.838 888.385 Q206.505 888.385 204.584 890.167 Q202.686 891.95 202.686 895.075 Q202.686 898.2 204.584 899.982 Q206.505 901.765 209.838 901.765 Q213.172 901.765 215.093 899.982 Q217.014 898.177 217.014 895.075 Q217.014 891.95 215.093 890.167 Q213.195 888.385 209.838 888.385 M205.162 886.394 Q202.153 885.654 200.463 883.593 Q198.797 881.533 198.797 878.57 Q198.797 874.427 201.737 872.019 Q204.699 869.612 209.838 869.612 Q215 869.612 217.94 872.019 Q220.88 874.427 220.88 878.57 Q220.88 881.533 219.19 883.593 Q217.523 885.654 214.537 886.394 Q217.917 887.181 219.792 889.473 Q221.69 891.765 221.69 895.075 Q221.69 900.098 218.611 902.783 Q215.556 905.468 209.838 905.468 Q204.121 905.468 201.042 902.783 Q197.987 900.098 197.987 895.075 Q197.987 891.765 199.885 889.473 Q201.783 887.181 205.162 886.394 M203.449 879.01 Q203.449 881.695 205.116 883.2 Q206.806 884.704 209.838 884.704 Q212.848 884.704 214.537 883.2 Q216.25 881.695 216.25 879.01 Q216.25 876.325 214.537 874.82 Q212.848 873.316 209.838 873.316 Q206.806 873.316 205.116 874.82 Q203.449 876.325 203.449 879.01 Z\" fill=\"#000000\" fill-rule=\"nonzero\" fill-opacity=\"1\" /><path clip-path=\"url(#clip630)\" d=\"M115.649 704.505 L145.325 704.505 L145.325 708.44 L115.649 708.44 L115.649 704.505 Z\" fill=\"#000000\" fill-rule=\"nonzero\" fill-opacity=\"1\" /><path clip-path=\"url(#clip630)\" d=\"M165.417 689.852 Q161.806 689.852 159.978 693.417 Q158.172 696.959 158.172 704.088 Q158.172 711.195 159.978 714.76 Q161.806 718.301 165.417 718.301 Q169.052 718.301 170.857 714.76 Q172.686 711.195 172.686 704.088 Q172.686 696.959 170.857 693.417 Q169.052 689.852 165.417 689.852 M165.417 686.149 Q171.227 686.149 174.283 690.755 Q177.362 695.338 177.362 704.088 Q177.362 712.815 174.283 717.422 Q171.227 722.005 165.417 722.005 Q159.607 722.005 156.528 717.422 Q153.473 712.815 153.473 704.088 Q153.473 695.338 156.528 690.755 Q159.607 686.149 165.417 686.149 Z\" fill=\"#000000\" fill-rule=\"nonzero\" fill-opacity=\"1\" /><path clip-path=\"url(#clip630)\" d=\"M185.579 715.454 L190.463 715.454 L190.463 721.334 L185.579 721.334 L185.579 715.454 Z\" fill=\"#000000\" fill-rule=\"nonzero\" fill-opacity=\"1\" /><path clip-path=\"url(#clip630)\" d=\"M199.468 686.774 L221.69 686.774 L221.69 688.764 L209.144 721.334 L204.26 721.334 L216.065 690.709 L199.468 690.709 L199.468 686.774 Z\" fill=\"#000000\" fill-rule=\"nonzero\" fill-opacity=\"1\" /><path clip-path=\"url(#clip630)\" d=\"M114.584 521.042 L144.26 521.042 L144.26 524.977 L114.584 524.977 L114.584 521.042 Z\" fill=\"#000000\" fill-rule=\"nonzero\" fill-opacity=\"1\" /><path clip-path=\"url(#clip630)\" d=\"M164.352 506.389 Q160.741 506.389 158.913 509.954 Q157.107 513.495 157.107 520.625 Q157.107 527.731 158.913 531.296 Q160.741 534.838 164.352 534.838 Q167.987 534.838 169.792 531.296 Q171.621 527.731 171.621 520.625 Q171.621 513.495 169.792 509.954 Q167.987 506.389 164.352 506.389 M164.352 502.685 Q170.163 502.685 173.218 507.292 Q176.297 511.875 176.297 520.625 Q176.297 529.352 173.218 533.958 Q170.163 538.542 164.352 538.542 Q158.542 538.542 155.464 533.958 Q152.408 529.352 152.408 520.625 Q152.408 511.875 155.464 507.292 Q158.542 502.685 164.352 502.685 Z\" fill=\"#000000\" fill-rule=\"nonzero\" fill-opacity=\"1\" /><path clip-path=\"url(#clip630)\" d=\"M184.514 531.991 L189.399 531.991 L189.399 537.87 L184.514 537.87 L184.514 531.991 Z\" fill=\"#000000\" fill-rule=\"nonzero\" fill-opacity=\"1\" /><path clip-path=\"url(#clip630)\" d=\"M210.162 518.727 Q207.014 518.727 205.162 520.88 Q203.334 523.032 203.334 526.782 Q203.334 530.509 205.162 532.685 Q207.014 534.838 210.162 534.838 Q213.311 534.838 215.139 532.685 Q216.991 530.509 216.991 526.782 Q216.991 523.032 215.139 520.88 Q213.311 518.727 210.162 518.727 M219.445 504.074 L219.445 508.333 Q217.686 507.5 215.88 507.06 Q214.098 506.62 212.338 506.62 Q207.709 506.62 205.255 509.745 Q202.824 512.87 202.477 519.19 Q203.843 517.176 205.903 516.111 Q207.963 515.023 210.44 515.023 Q215.649 515.023 218.658 518.194 Q221.69 521.343 221.69 526.782 Q221.69 532.106 218.542 535.324 Q215.394 538.542 210.162 538.542 Q204.167 538.542 200.996 533.958 Q197.825 529.352 197.825 520.625 Q197.825 512.431 201.713 507.57 Q205.602 502.685 212.153 502.685 Q213.912 502.685 215.695 503.033 Q217.5 503.38 219.445 504.074 Z\" fill=\"#000000\" fill-rule=\"nonzero\" fill-opacity=\"1\" /><path clip-path=\"url(#clip630)\" d=\"M115.742 337.578 L145.417 337.578 L145.417 341.514 L115.742 341.514 L115.742 337.578 Z\" fill=\"#000000\" fill-rule=\"nonzero\" fill-opacity=\"1\" /><path clip-path=\"url(#clip630)\" d=\"M165.51 322.926 Q161.899 322.926 160.07 326.49 Q158.265 330.032 158.265 337.162 Q158.265 344.268 160.07 347.833 Q161.899 351.375 165.51 351.375 Q169.144 351.375 170.95 347.833 Q172.778 344.268 172.778 337.162 Q172.778 330.032 170.95 326.49 Q169.144 322.926 165.51 322.926 M165.51 319.222 Q171.32 319.222 174.376 323.828 Q177.454 328.412 177.454 337.162 Q177.454 345.889 174.376 350.495 Q171.32 355.078 165.51 355.078 Q159.7 355.078 156.621 350.495 Q153.566 345.889 153.566 337.162 Q153.566 328.412 156.621 323.828 Q159.7 319.222 165.51 319.222 Z\" fill=\"#000000\" fill-rule=\"nonzero\" fill-opacity=\"1\" /><path clip-path=\"url(#clip630)\" d=\"M185.672 348.527 L190.556 348.527 L190.556 354.407 L185.672 354.407 L185.672 348.527 Z\" fill=\"#000000\" fill-rule=\"nonzero\" fill-opacity=\"1\" /><path clip-path=\"url(#clip630)\" d=\"M200.787 319.847 L219.144 319.847 L219.144 323.782 L205.07 323.782 L205.07 332.254 Q206.088 331.907 207.107 331.745 Q208.125 331.56 209.144 331.56 Q214.931 331.56 218.311 334.731 Q221.69 337.902 221.69 343.319 Q221.69 348.898 218.218 352 Q214.746 355.078 208.426 355.078 Q206.25 355.078 203.982 354.708 Q201.737 354.338 199.329 353.597 L199.329 348.898 Q201.412 350.032 203.635 350.588 Q205.857 351.143 208.334 351.143 Q212.338 351.143 214.676 349.037 Q217.014 346.93 217.014 343.319 Q217.014 339.708 214.676 337.602 Q212.338 335.495 208.334 335.495 Q206.459 335.495 204.584 335.912 Q202.732 336.328 200.787 337.208 L200.787 319.847 Z\" fill=\"#000000\" fill-rule=\"nonzero\" fill-opacity=\"1\" /><path clip-path=\"url(#clip630)\" d=\"M114.26 154.115 L143.936 154.115 L143.936 158.05 L114.26 158.05 L114.26 154.115 Z\" fill=\"#000000\" fill-rule=\"nonzero\" fill-opacity=\"1\" /><path clip-path=\"url(#clip630)\" d=\"M164.028 139.462 Q160.417 139.462 158.589 143.027 Q156.783 146.569 156.783 153.698 Q156.783 160.805 158.589 164.37 Q160.417 167.911 164.028 167.911 Q167.663 167.911 169.468 164.37 Q171.297 160.805 171.297 153.698 Q171.297 146.569 169.468 143.027 Q167.663 139.462 164.028 139.462 M164.028 135.759 Q169.839 135.759 172.894 140.365 Q175.973 144.948 175.973 153.698 Q175.973 162.425 172.894 167.032 Q169.839 171.615 164.028 171.615 Q158.218 171.615 155.14 167.032 Q152.084 162.425 152.084 153.698 Q152.084 144.948 155.14 140.365 Q158.218 135.759 164.028 135.759 Z\" fill=\"#000000\" fill-rule=\"nonzero\" fill-opacity=\"1\" /><path clip-path=\"url(#clip630)\" d=\"M184.19 165.064 L189.075 165.064 L189.075 170.944 L184.19 170.944 L184.19 165.064 Z\" fill=\"#000000\" fill-rule=\"nonzero\" fill-opacity=\"1\" /><path clip-path=\"url(#clip630)\" d=\"M212.107 140.458 L200.301 158.907 L212.107 158.907 L212.107 140.458 M210.88 136.384 L216.76 136.384 L216.76 158.907 L221.69 158.907 L221.69 162.796 L216.76 162.796 L216.76 170.944 L212.107 170.944 L212.107 162.796 L196.505 162.796 L196.505 158.282 L210.88 136.384 Z\" fill=\"#000000\" fill-rule=\"nonzero\" fill-opacity=\"1\" /><path clip-path=\"url(#clip630)\" d=\"M43.5702 775.411 L14.5426 766.436 L14.5426 761.025 L43.5702 770.001 L72.5979 761.025 L72.5979 766.436 L43.5702 775.411 Z\" fill=\"#000000\" fill-rule=\"nonzero\" fill-opacity=\"1\" /><path clip-path=\"url(#clip630)\" d=\"M16.4842 749.407 L16.4842 719.361 L21.895 719.361 L21.895 742.978 L35.9632 742.978 L35.9632 720.348 L41.3741 720.348 L41.3741 742.978 L58.5933 742.978 L58.5933 718.788 L64.0042 718.788 L64.0042 749.407 L16.4842 749.407 Z\" fill=\"#000000\" fill-rule=\"nonzero\" fill-opacity=\"1\" /><path clip-path=\"url(#clip630)\" d=\"M43.5702 695.013 L72.5979 703.988 L72.5979 709.399 L43.5702 700.423 L14.5426 709.399 L14.5426 703.988 L43.5702 695.013 Z\" fill=\"#000000\" fill-rule=\"nonzero\" fill-opacity=\"1\" /><polyline clip-path=\"url(#clip632)\" style=\"stroke:#0000ff; stroke-linecap:round; stroke-linejoin:round; stroke-width:4; stroke-opacity:1; fill:none\" points=\"316.984,86.1857 336.749,861.801 356.514,941.016 376.279,1066.55 396.044,1170.16 415.808,1241.17 435.573,1285 455.338,1327.58 475.103,1351.88 494.867,1366.5 514.632,1371.97 534.397,1375.43 554.162,1377.59 573.926,1379.47 593.691,1381.45 613.456,1382.31 633.221,1382.74 652.986,1383.15 672.75,1383.41 692.515,1383.52 712.28,1383.6 732.045,1383.7 751.809,1383.82 771.574,1383.86 791.339,1383.92 811.104,1383.94 830.869,1383.95 850.633,1383.96 870.398,1383.99 890.163,1384.03 909.928,1384.07 929.692,1384.09 949.457,1384.1 969.222,1384.1 988.987,1384.11 1008.75,1384.12 1028.52,1384.13 1048.28,1384.15 1068.05,1384.16 1087.81,1384.16 1107.58,1384.17 1127.34,1384.17 1147.1,1384.17 1166.87,1384.18 1186.63,1384.2 1206.4,1384.21 1226.16,1384.22 1245.93,1384.22 1265.69,1384.22 1285.46,1384.22 1305.22,1384.22 1324.99,1384.23 1344.75,1384.23 1364.52,1384.23 1384.28,1384.23 1404.05,1384.23 1423.81,1384.23 1443.58,1384.23 1463.34,1384.23 1483.11,1384.23 1502.87,1384.23 1522.64,1384.23 1542.4,1384.23 1562.17,1384.23 1581.93,1384.23 1601.69,1384.23 1621.46,1384.23 1641.22,1384.23 1660.99,1384.24 1680.75,1384.24 1700.52,1384.24 1720.28,1384.24 1740.05,1384.24 1759.81,1384.24 1779.58,1384.24 1799.34,1384.24 1819.11,1384.24 1838.87,1384.24 1858.64,1384.24 1878.4,1384.24 1898.17,1384.24 1917.93,1384.24 1937.7,1384.24 1957.46,1384.24 1977.23,1384.24 1996.99,1384.24 2016.75,1384.24 2036.52,1384.24 2056.28,1384.24 2076.05,1384.24 2095.81,1384.24 2115.58,1384.24 2135.34,1384.24 2155.11,1384.24 2174.87,1384.24 2194.64,1384.24 2214.4,1384.24 2234.17,1384.24 2253.93,1384.24 2273.7,1384.24 2293.46,1384.24 \"/>\n",
       "</svg>\n"
      ],
      "text/html": [
       "<?xml version=\"1.0\" encoding=\"utf-8\"?>\n",
       "<svg xmlns=\"http://www.w3.org/2000/svg\" xmlns:xlink=\"http://www.w3.org/1999/xlink\" width=\"600\" height=\"400\" viewBox=\"0 0 2400 1600\">\n",
       "<defs>\n",
       "  <clipPath id=\"clip680\">\n",
       "    <rect x=\"0\" y=\"0\" width=\"2400\" height=\"1600\"/>\n",
       "  </clipPath>\n",
       "</defs>\n",
       "<path clip-path=\"url(#clip680)\" d=\"M0 1600 L2400 1600 L2400 0 L0 0  Z\" fill=\"#ffffff\" fill-rule=\"evenodd\" fill-opacity=\"1\"/>\n",
       "<defs>\n",
       "  <clipPath id=\"clip681\">\n",
       "    <rect x=\"480\" y=\"0\" width=\"1681\" height=\"1600\"/>\n",
       "  </clipPath>\n",
       "</defs>\n",
       "<path clip-path=\"url(#clip680)\" d=\"M257.69 1423.18 L2352.76 1423.18 L2352.76 47.2441 L257.69 47.2441  Z\" fill=\"#ffffff\" fill-rule=\"evenodd\" fill-opacity=\"1\"/>\n",
       "<defs>\n",
       "  <clipPath id=\"clip682\">\n",
       "    <rect x=\"257\" y=\"47\" width=\"2096\" height=\"1377\"/>\n",
       "  </clipPath>\n",
       "</defs>\n",
       "<polyline clip-path=\"url(#clip682)\" style=\"stroke:#000000; stroke-linecap:round; stroke-linejoin:round; stroke-width:2; stroke-opacity:0.1; fill:none\" points=\"297.22,1423.18 297.22,47.2441 \"/>\n",
       "<polyline clip-path=\"url(#clip682)\" style=\"stroke:#000000; stroke-linecap:round; stroke-linejoin:round; stroke-width:2; stroke-opacity:0.1; fill:none\" points=\"791.339,1423.18 791.339,47.2441 \"/>\n",
       "<polyline clip-path=\"url(#clip682)\" style=\"stroke:#000000; stroke-linecap:round; stroke-linejoin:round; stroke-width:2; stroke-opacity:0.1; fill:none\" points=\"1285.46,1423.18 1285.46,47.2441 \"/>\n",
       "<polyline clip-path=\"url(#clip682)\" style=\"stroke:#000000; stroke-linecap:round; stroke-linejoin:round; stroke-width:2; stroke-opacity:0.1; fill:none\" points=\"1779.58,1423.18 1779.58,47.2441 \"/>\n",
       "<polyline clip-path=\"url(#clip682)\" style=\"stroke:#000000; stroke-linecap:round; stroke-linejoin:round; stroke-width:2; stroke-opacity:0.1; fill:none\" points=\"2273.7,1423.18 2273.7,47.2441 \"/>\n",
       "<polyline clip-path=\"url(#clip680)\" style=\"stroke:#000000; stroke-linecap:round; stroke-linejoin:round; stroke-width:4; stroke-opacity:1; fill:none\" points=\"257.69,1423.18 2352.76,1423.18 \"/>\n",
       "<polyline clip-path=\"url(#clip680)\" style=\"stroke:#000000; stroke-linecap:round; stroke-linejoin:round; stroke-width:4; stroke-opacity:1; fill:none\" points=\"297.22,1423.18 297.22,1404.28 \"/>\n",
       "<polyline clip-path=\"url(#clip680)\" style=\"stroke:#000000; stroke-linecap:round; stroke-linejoin:round; stroke-width:4; stroke-opacity:1; fill:none\" points=\"791.339,1423.18 791.339,1404.28 \"/>\n",
       "<polyline clip-path=\"url(#clip680)\" style=\"stroke:#000000; stroke-linecap:round; stroke-linejoin:round; stroke-width:4; stroke-opacity:1; fill:none\" points=\"1285.46,1423.18 1285.46,1404.28 \"/>\n",
       "<polyline clip-path=\"url(#clip680)\" style=\"stroke:#000000; stroke-linecap:round; stroke-linejoin:round; stroke-width:4; stroke-opacity:1; fill:none\" points=\"1779.58,1423.18 1779.58,1404.28 \"/>\n",
       "<polyline clip-path=\"url(#clip680)\" style=\"stroke:#000000; stroke-linecap:round; stroke-linejoin:round; stroke-width:4; stroke-opacity:1; fill:none\" points=\"2273.7,1423.18 2273.7,1404.28 \"/>\n",
       "<path clip-path=\"url(#clip680)\" d=\"M297.22 1454.1 Q293.609 1454.1 291.78 1457.66 Q289.974 1461.2 289.974 1468.33 Q289.974 1475.44 291.78 1479.01 Q293.609 1482.55 297.22 1482.55 Q300.854 1482.55 302.659 1479.01 Q304.488 1475.44 304.488 1468.33 Q304.488 1461.2 302.659 1457.66 Q300.854 1454.1 297.22 1454.1 M297.22 1450.39 Q303.03 1450.39 306.085 1455 Q309.164 1459.58 309.164 1468.33 Q309.164 1477.06 306.085 1481.67 Q303.03 1486.25 297.22 1486.25 Q291.41 1486.25 288.331 1481.67 Q285.275 1477.06 285.275 1468.33 Q285.275 1459.58 288.331 1455 Q291.41 1450.39 297.22 1450.39 Z\" fill=\"#000000\" fill-rule=\"nonzero\" fill-opacity=\"1\" /><path clip-path=\"url(#clip680)\" d=\"M770.61 1481.64 L786.929 1481.64 L786.929 1485.58 L764.985 1485.58 L764.985 1481.64 Q767.647 1478.89 772.23 1474.26 Q776.837 1469.61 778.017 1468.27 Q780.263 1465.74 781.142 1464.01 Q782.045 1462.25 782.045 1460.56 Q782.045 1457.8 780.101 1456.07 Q778.179 1454.33 775.077 1454.33 Q772.878 1454.33 770.425 1455.09 Q767.994 1455.86 765.216 1457.41 L765.216 1452.69 Q768.04 1451.55 770.494 1450.97 Q772.948 1450.39 774.985 1450.39 Q780.355 1450.39 783.55 1453.08 Q786.744 1455.77 786.744 1460.26 Q786.744 1462.39 785.934 1464.31 Q785.147 1466.2 783.04 1468.8 Q782.462 1469.47 779.36 1472.69 Q776.258 1475.88 770.61 1481.64 Z\" fill=\"#000000\" fill-rule=\"nonzero\" fill-opacity=\"1\" /><path clip-path=\"url(#clip680)\" d=\"M796.79 1451.02 L815.147 1451.02 L815.147 1454.96 L801.073 1454.96 L801.073 1463.43 Q802.091 1463.08 803.11 1462.92 Q804.128 1462.73 805.147 1462.73 Q810.934 1462.73 814.313 1465.9 Q817.693 1469.08 817.693 1474.49 Q817.693 1480.07 814.221 1483.17 Q810.749 1486.25 804.429 1486.25 Q802.253 1486.25 799.985 1485.88 Q797.739 1485.51 795.332 1484.77 L795.332 1480.07 Q797.415 1481.2 799.638 1481.76 Q801.86 1482.32 804.337 1482.32 Q808.341 1482.32 810.679 1480.21 Q813.017 1478.1 813.017 1474.49 Q813.017 1470.88 810.679 1468.77 Q808.341 1466.67 804.337 1466.67 Q802.462 1466.67 800.587 1467.08 Q798.735 1467.5 796.79 1468.38 L796.79 1451.02 Z\" fill=\"#000000\" fill-rule=\"nonzero\" fill-opacity=\"1\" /><path clip-path=\"url(#clip680)\" d=\"M1260.16 1451.02 L1278.51 1451.02 L1278.51 1454.96 L1264.44 1454.96 L1264.44 1463.43 Q1265.46 1463.08 1266.48 1462.92 Q1267.5 1462.73 1268.51 1462.73 Q1274.3 1462.73 1277.68 1465.9 Q1281.06 1469.08 1281.06 1474.49 Q1281.06 1480.07 1277.59 1483.17 Q1274.12 1486.25 1267.8 1486.25 Q1265.62 1486.25 1263.35 1485.88 Q1261.11 1485.51 1258.7 1484.77 L1258.7 1480.07 Q1260.78 1481.2 1263 1481.76 Q1265.23 1482.32 1267.7 1482.32 Q1271.71 1482.32 1274.05 1480.21 Q1276.38 1478.1 1276.38 1474.49 Q1276.38 1470.88 1274.05 1468.77 Q1271.71 1466.67 1267.7 1466.67 Q1265.83 1466.67 1263.95 1467.08 Q1262.1 1467.5 1260.16 1468.38 L1260.16 1451.02 Z\" fill=\"#000000\" fill-rule=\"nonzero\" fill-opacity=\"1\" /><path clip-path=\"url(#clip680)\" d=\"M1300.27 1454.1 Q1296.66 1454.1 1294.83 1457.66 Q1293.03 1461.2 1293.03 1468.33 Q1293.03 1475.44 1294.83 1479.01 Q1296.66 1482.55 1300.27 1482.55 Q1303.91 1482.55 1305.71 1479.01 Q1307.54 1475.44 1307.54 1468.33 Q1307.54 1461.2 1305.71 1457.66 Q1303.91 1454.1 1300.27 1454.1 M1300.27 1450.39 Q1306.08 1450.39 1309.14 1455 Q1312.22 1459.58 1312.22 1468.33 Q1312.22 1477.06 1309.14 1481.67 Q1306.08 1486.25 1300.27 1486.25 Q1294.46 1486.25 1291.38 1481.67 Q1288.33 1477.06 1288.33 1468.33 Q1288.33 1459.58 1291.38 1455 Q1294.46 1450.39 1300.27 1450.39 Z\" fill=\"#000000\" fill-rule=\"nonzero\" fill-opacity=\"1\" /><path clip-path=\"url(#clip680)\" d=\"M1753.43 1451.02 L1775.65 1451.02 L1775.65 1453.01 L1763.11 1485.58 L1758.22 1485.58 L1770.03 1454.96 L1753.43 1454.96 L1753.43 1451.02 Z\" fill=\"#000000\" fill-rule=\"nonzero\" fill-opacity=\"1\" /><path clip-path=\"url(#clip680)\" d=\"M1784.82 1451.02 L1803.18 1451.02 L1803.18 1454.96 L1789.1 1454.96 L1789.1 1463.43 Q1790.12 1463.08 1791.14 1462.92 Q1792.16 1462.73 1793.18 1462.73 Q1798.96 1462.73 1802.34 1465.9 Q1805.72 1469.08 1805.72 1474.49 Q1805.72 1480.07 1802.25 1483.17 Q1798.78 1486.25 1792.46 1486.25 Q1790.28 1486.25 1788.01 1485.88 Q1785.77 1485.51 1783.36 1484.77 L1783.36 1480.07 Q1785.45 1481.2 1787.67 1481.76 Q1789.89 1482.32 1792.37 1482.32 Q1796.37 1482.32 1798.71 1480.21 Q1801.05 1478.1 1801.05 1474.49 Q1801.05 1470.88 1798.71 1468.77 Q1796.37 1466.67 1792.37 1466.67 Q1790.49 1466.67 1788.62 1467.08 Q1786.76 1467.5 1784.82 1468.38 L1784.82 1451.02 Z\" fill=\"#000000\" fill-rule=\"nonzero\" fill-opacity=\"1\" /><path clip-path=\"url(#clip680)\" d=\"M2233.3 1481.64 L2240.94 1481.64 L2240.94 1455.28 L2232.63 1456.95 L2232.63 1452.69 L2240.9 1451.02 L2245.57 1451.02 L2245.57 1481.64 L2253.21 1481.64 L2253.21 1485.58 L2233.3 1485.58 L2233.3 1481.64 Z\" fill=\"#000000\" fill-rule=\"nonzero\" fill-opacity=\"1\" /><path clip-path=\"url(#clip680)\" d=\"M2272.66 1454.1 Q2269.04 1454.1 2267.22 1457.66 Q2265.41 1461.2 2265.41 1468.33 Q2265.41 1475.44 2267.22 1479.01 Q2269.04 1482.55 2272.66 1482.55 Q2276.29 1482.55 2278.09 1479.01 Q2279.92 1475.44 2279.92 1468.33 Q2279.92 1461.2 2278.09 1457.66 Q2276.29 1454.1 2272.66 1454.1 M2272.66 1450.39 Q2278.47 1450.39 2281.52 1455 Q2284.6 1459.58 2284.6 1468.33 Q2284.6 1477.06 2281.52 1481.67 Q2278.47 1486.25 2272.66 1486.25 Q2266.85 1486.25 2263.77 1481.67 Q2260.71 1477.06 2260.71 1468.33 Q2260.71 1459.58 2263.77 1455 Q2266.85 1450.39 2272.66 1450.39 Z\" fill=\"#000000\" fill-rule=\"nonzero\" fill-opacity=\"1\" /><path clip-path=\"url(#clip680)\" d=\"M2302.82 1454.1 Q2299.21 1454.1 2297.38 1457.66 Q2295.57 1461.2 2295.57 1468.33 Q2295.57 1475.44 2297.38 1479.01 Q2299.21 1482.55 2302.82 1482.55 Q2306.45 1482.55 2308.26 1479.01 Q2310.09 1475.44 2310.09 1468.33 Q2310.09 1461.2 2308.26 1457.66 Q2306.45 1454.1 2302.82 1454.1 M2302.82 1450.39 Q2308.63 1450.39 2311.68 1455 Q2314.76 1459.58 2314.76 1468.33 Q2314.76 1477.06 2311.68 1481.67 Q2308.63 1486.25 2302.82 1486.25 Q2297.01 1486.25 2293.93 1481.67 Q2290.87 1477.06 2290.87 1468.33 Q2290.87 1459.58 2293.93 1455 Q2297.01 1450.39 2302.82 1450.39 Z\" fill=\"#000000\" fill-rule=\"nonzero\" fill-opacity=\"1\" /><path clip-path=\"url(#clip680)\" d=\"M1155.22 1532.4 L1161.07 1532.4 L1161.07 1568.04 L1155.22 1568.04 L1155.22 1532.4 M1155.22 1518.52 L1161.07 1518.52 L1161.07 1525.93 L1155.22 1525.93 L1155.22 1518.52 Z\" fill=\"#000000\" fill-rule=\"nonzero\" fill-opacity=\"1\" /><path clip-path=\"url(#clip680)\" d=\"M1179.12 1522.27 L1179.12 1532.4 L1191.18 1532.4 L1191.18 1536.95 L1179.12 1536.95 L1179.12 1556.3 Q1179.12 1560.66 1180.3 1561.9 Q1181.51 1563.14 1185.17 1563.14 L1191.18 1563.14 L1191.18 1568.04 L1185.17 1568.04 Q1178.39 1568.04 1175.81 1565.53 Q1173.23 1562.98 1173.23 1556.3 L1173.23 1536.95 L1168.93 1536.95 L1168.93 1532.4 L1173.23 1532.4 L1173.23 1522.27 L1179.12 1522.27 Z\" fill=\"#000000\" fill-rule=\"nonzero\" fill-opacity=\"1\" /><path clip-path=\"url(#clip680)\" d=\"M1229.38 1548.76 L1229.38 1551.62 L1202.45 1551.62 Q1202.83 1557.67 1206.08 1560.85 Q1209.36 1564 1215.18 1564 Q1218.55 1564 1221.7 1563.17 Q1224.89 1562.35 1228.01 1560.69 L1228.01 1566.23 Q1224.86 1567.57 1221.55 1568.27 Q1218.24 1568.97 1214.83 1568.97 Q1206.3 1568.97 1201.3 1564 Q1196.34 1559.04 1196.34 1550.57 Q1196.34 1541.82 1201.05 1536.69 Q1205.79 1531.54 1213.81 1531.54 Q1221 1531.54 1225.17 1536.18 Q1229.38 1540.8 1229.38 1548.76 M1223.52 1547.04 Q1223.46 1542.23 1220.81 1539.37 Q1218.2 1536.5 1213.88 1536.5 Q1208.97 1536.5 1206.01 1539.27 Q1203.09 1542.04 1202.64 1547.07 L1223.52 1547.04 Z\" fill=\"#000000\" fill-rule=\"nonzero\" fill-opacity=\"1\" /><path clip-path=\"url(#clip680)\" d=\"M1259.64 1537.87 Q1258.66 1537.3 1257.48 1537.04 Q1256.33 1536.76 1254.93 1536.76 Q1249.97 1536.76 1247.3 1540 Q1244.65 1543.22 1244.65 1549.27 L1244.65 1568.04 L1238.77 1568.04 L1238.77 1532.4 L1244.65 1532.4 L1244.65 1537.93 Q1246.5 1534.69 1249.46 1533.13 Q1252.42 1531.54 1256.65 1531.54 Q1257.26 1531.54 1257.99 1531.63 Q1258.72 1531.7 1259.61 1531.85 L1259.64 1537.87 Z\" fill=\"#000000\" fill-rule=\"nonzero\" fill-opacity=\"1\" /><path clip-path=\"url(#clip680)\" d=\"M1281.99 1550.12 Q1274.89 1550.12 1272.15 1551.75 Q1269.42 1553.37 1269.42 1557.29 Q1269.42 1560.4 1271.45 1562.25 Q1273.52 1564.07 1277.05 1564.07 Q1281.92 1564.07 1284.85 1560.63 Q1287.81 1557.16 1287.81 1551.43 L1287.81 1550.12 L1281.99 1550.12 M1293.67 1547.71 L1293.67 1568.04 L1287.81 1568.04 L1287.81 1562.63 Q1285.81 1565.88 1282.82 1567.44 Q1279.82 1568.97 1275.5 1568.97 Q1270.02 1568.97 1266.77 1565.91 Q1263.56 1562.82 1263.56 1557.67 Q1263.56 1551.65 1267.57 1548.6 Q1271.61 1545.54 1279.6 1545.54 L1287.81 1545.54 L1287.81 1544.97 Q1287.81 1540.93 1285.14 1538.73 Q1282.5 1536.5 1277.69 1536.5 Q1274.64 1536.5 1271.74 1537.23 Q1268.84 1537.97 1266.17 1539.43 L1266.17 1534.02 Q1269.38 1532.78 1272.41 1532.17 Q1275.43 1531.54 1278.3 1531.54 Q1286.03 1531.54 1289.85 1535.55 Q1293.67 1539.56 1293.67 1547.71 Z\" fill=\"#000000\" fill-rule=\"nonzero\" fill-opacity=\"1\" /><path clip-path=\"url(#clip680)\" d=\"M1311.53 1522.27 L1311.53 1532.4 L1323.59 1532.4 L1323.59 1536.95 L1311.53 1536.95 L1311.53 1556.3 Q1311.53 1560.66 1312.7 1561.9 Q1313.91 1563.14 1317.57 1563.14 L1323.59 1563.14 L1323.59 1568.04 L1317.57 1568.04 Q1310.79 1568.04 1308.21 1565.53 Q1305.64 1562.98 1305.64 1556.3 L1305.64 1536.95 L1301.34 1536.95 L1301.34 1532.4 L1305.64 1532.4 L1305.64 1522.27 L1311.53 1522.27 Z\" fill=\"#000000\" fill-rule=\"nonzero\" fill-opacity=\"1\" /><path clip-path=\"url(#clip680)\" d=\"M1331.29 1532.4 L1337.15 1532.4 L1337.15 1568.04 L1331.29 1568.04 L1331.29 1532.4 M1331.29 1518.52 L1337.15 1518.52 L1337.15 1525.93 L1331.29 1525.93 L1331.29 1518.52 Z\" fill=\"#000000\" fill-rule=\"nonzero\" fill-opacity=\"1\" /><path clip-path=\"url(#clip680)\" d=\"M1363.21 1536.5 Q1358.5 1536.5 1355.77 1540.19 Q1353.03 1543.85 1353.03 1550.25 Q1353.03 1556.65 1355.73 1560.34 Q1358.47 1564 1363.21 1564 Q1367.89 1564 1370.63 1560.31 Q1373.37 1556.62 1373.37 1550.25 Q1373.37 1543.92 1370.63 1540.23 Q1367.89 1536.5 1363.21 1536.5 M1363.21 1531.54 Q1370.85 1531.54 1375.21 1536.5 Q1379.57 1541.47 1379.57 1550.25 Q1379.57 1559 1375.21 1564 Q1370.85 1568.97 1363.21 1568.97 Q1355.54 1568.97 1351.18 1564 Q1346.85 1559 1346.85 1550.25 Q1346.85 1541.47 1351.18 1536.5 Q1355.54 1531.54 1363.21 1531.54 Z\" fill=\"#000000\" fill-rule=\"nonzero\" fill-opacity=\"1\" /><path clip-path=\"url(#clip680)\" d=\"M1418.91 1546.53 L1418.91 1568.04 L1413.06 1568.04 L1413.06 1546.72 Q1413.06 1541.66 1411.08 1539.14 Q1409.11 1536.63 1405.16 1536.63 Q1400.42 1536.63 1397.68 1539.65 Q1394.95 1542.68 1394.95 1547.9 L1394.95 1568.04 L1389.06 1568.04 L1389.06 1532.4 L1394.95 1532.4 L1394.95 1537.93 Q1397.05 1534.72 1399.88 1533.13 Q1402.75 1531.54 1406.47 1531.54 Q1412.61 1531.54 1415.76 1535.36 Q1418.91 1539.14 1418.91 1546.53 Z\" fill=\"#000000\" fill-rule=\"nonzero\" fill-opacity=\"1\" /><path clip-path=\"url(#clip680)\" d=\"M1453.32 1533.45 L1453.32 1538.98 Q1450.84 1537.71 1448.16 1537.07 Q1445.49 1536.44 1442.63 1536.44 Q1438.27 1536.44 1436.07 1537.77 Q1433.91 1539.11 1433.91 1541.79 Q1433.91 1543.82 1435.47 1545 Q1437.02 1546.15 1441.74 1547.2 L1443.74 1547.64 Q1449.98 1548.98 1452.59 1551.43 Q1455.23 1553.85 1455.23 1558.21 Q1455.23 1563.17 1451.28 1566.07 Q1447.37 1568.97 1440.49 1568.97 Q1437.63 1568.97 1434.51 1568.39 Q1431.42 1567.85 1427.99 1566.74 L1427.99 1560.69 Q1431.23 1562.38 1434.38 1563.24 Q1437.53 1564.07 1440.62 1564.07 Q1444.76 1564.07 1446.99 1562.66 Q1449.22 1561.23 1449.22 1558.65 Q1449.22 1556.27 1447.59 1554.99 Q1446 1553.72 1440.56 1552.54 L1438.52 1552.07 Q1433.08 1550.92 1430.66 1548.56 Q1428.24 1546.18 1428.24 1542.04 Q1428.24 1537.01 1431.81 1534.27 Q1435.37 1531.54 1441.93 1531.54 Q1445.17 1531.54 1448.04 1532.01 Q1450.9 1532.49 1453.32 1533.45 Z\" fill=\"#000000\" fill-rule=\"nonzero\" fill-opacity=\"1\" /><polyline clip-path=\"url(#clip682)\" style=\"stroke:#000000; stroke-linecap:round; stroke-linejoin:round; stroke-width:2; stroke-opacity:0.1; fill:none\" points=\"257.69,1254.44 2352.76,1254.44 \"/>\n",
       "<polyline clip-path=\"url(#clip682)\" style=\"stroke:#000000; stroke-linecap:round; stroke-linejoin:round; stroke-width:2; stroke-opacity:0.1; fill:none\" points=\"257.69,1070.98 2352.76,1070.98 \"/>\n",
       "<polyline clip-path=\"url(#clip682)\" style=\"stroke:#000000; stroke-linecap:round; stroke-linejoin:round; stroke-width:2; stroke-opacity:0.1; fill:none\" points=\"257.69,887.517 2352.76,887.517 \"/>\n",
       "<polyline clip-path=\"url(#clip682)\" style=\"stroke:#000000; stroke-linecap:round; stroke-linejoin:round; stroke-width:2; stroke-opacity:0.1; fill:none\" points=\"257.69,704.054 2352.76,704.054 \"/>\n",
       "<polyline clip-path=\"url(#clip682)\" style=\"stroke:#000000; stroke-linecap:round; stroke-linejoin:round; stroke-width:2; stroke-opacity:0.1; fill:none\" points=\"257.69,520.59 2352.76,520.59 \"/>\n",
       "<polyline clip-path=\"url(#clip682)\" style=\"stroke:#000000; stroke-linecap:round; stroke-linejoin:round; stroke-width:2; stroke-opacity:0.1; fill:none\" points=\"257.69,337.127 2352.76,337.127 \"/>\n",
       "<polyline clip-path=\"url(#clip682)\" style=\"stroke:#000000; stroke-linecap:round; stroke-linejoin:round; stroke-width:2; stroke-opacity:0.1; fill:none\" points=\"257.69,153.664 2352.76,153.664 \"/>\n",
       "<polyline clip-path=\"url(#clip680)\" style=\"stroke:#000000; stroke-linecap:round; stroke-linejoin:round; stroke-width:4; stroke-opacity:1; fill:none\" points=\"257.69,1423.18 257.69,47.2441 \"/>\n",
       "<polyline clip-path=\"url(#clip680)\" style=\"stroke:#000000; stroke-linecap:round; stroke-linejoin:round; stroke-width:4; stroke-opacity:1; fill:none\" points=\"257.69,1254.44 276.588,1254.44 \"/>\n",
       "<polyline clip-path=\"url(#clip680)\" style=\"stroke:#000000; stroke-linecap:round; stroke-linejoin:round; stroke-width:4; stroke-opacity:1; fill:none\" points=\"257.69,1070.98 276.588,1070.98 \"/>\n",
       "<polyline clip-path=\"url(#clip680)\" style=\"stroke:#000000; stroke-linecap:round; stroke-linejoin:round; stroke-width:4; stroke-opacity:1; fill:none\" points=\"257.69,887.517 276.588,887.517 \"/>\n",
       "<polyline clip-path=\"url(#clip680)\" style=\"stroke:#000000; stroke-linecap:round; stroke-linejoin:round; stroke-width:4; stroke-opacity:1; fill:none\" points=\"257.69,704.054 276.588,704.054 \"/>\n",
       "<polyline clip-path=\"url(#clip680)\" style=\"stroke:#000000; stroke-linecap:round; stroke-linejoin:round; stroke-width:4; stroke-opacity:1; fill:none\" points=\"257.69,520.59 276.588,520.59 \"/>\n",
       "<polyline clip-path=\"url(#clip680)\" style=\"stroke:#000000; stroke-linecap:round; stroke-linejoin:round; stroke-width:4; stroke-opacity:1; fill:none\" points=\"257.69,337.127 276.588,337.127 \"/>\n",
       "<polyline clip-path=\"url(#clip680)\" style=\"stroke:#000000; stroke-linecap:round; stroke-linejoin:round; stroke-width:4; stroke-opacity:1; fill:none\" points=\"257.69,153.664 276.588,153.664 \"/>\n",
       "<path clip-path=\"url(#clip680)\" d=\"M114.746 1254.9 L144.422 1254.9 L144.422 1258.83 L114.746 1258.83 L114.746 1254.9 Z\" fill=\"#000000\" fill-rule=\"nonzero\" fill-opacity=\"1\" /><path clip-path=\"url(#clip680)\" d=\"M155.325 1267.79 L162.964 1267.79 L162.964 1241.42 L154.653 1243.09 L154.653 1238.83 L162.917 1237.16 L167.593 1237.16 L167.593 1267.79 L175.232 1267.79 L175.232 1271.72 L155.325 1271.72 L155.325 1267.79 Z\" fill=\"#000000\" fill-rule=\"nonzero\" fill-opacity=\"1\" /><path clip-path=\"url(#clip680)\" d=\"M184.676 1265.84 L189.561 1265.84 L189.561 1271.72 L184.676 1271.72 L184.676 1265.84 Z\" fill=\"#000000\" fill-rule=\"nonzero\" fill-opacity=\"1\" /><path clip-path=\"url(#clip680)\" d=\"M209.746 1240.24 Q206.135 1240.24 204.306 1243.81 Q202.5 1247.35 202.5 1254.48 Q202.5 1261.58 204.306 1265.15 Q206.135 1268.69 209.746 1268.69 Q213.38 1268.69 215.186 1265.15 Q217.014 1261.58 217.014 1254.48 Q217.014 1247.35 215.186 1243.81 Q213.38 1240.24 209.746 1240.24 M209.746 1236.54 Q215.556 1236.54 218.611 1241.15 Q221.69 1245.73 221.69 1254.48 Q221.69 1263.21 218.611 1267.81 Q215.556 1272.39 209.746 1272.39 Q203.936 1272.39 200.857 1267.81 Q197.801 1263.21 197.801 1254.48 Q197.801 1245.73 200.857 1241.15 Q203.936 1236.54 209.746 1236.54 Z\" fill=\"#000000\" fill-rule=\"nonzero\" fill-opacity=\"1\" /><path clip-path=\"url(#clip680)\" d=\"M114.931 1071.43 L144.607 1071.43 L144.607 1075.37 L114.931 1075.37 L114.931 1071.43 Z\" fill=\"#000000\" fill-rule=\"nonzero\" fill-opacity=\"1\" /><path clip-path=\"url(#clip680)\" d=\"M164.7 1056.78 Q161.089 1056.78 159.26 1060.34 Q157.454 1063.89 157.454 1071.02 Q157.454 1078.12 159.26 1081.69 Q161.089 1085.23 164.7 1085.23 Q168.334 1085.23 170.139 1081.69 Q171.968 1078.12 171.968 1071.02 Q171.968 1063.89 170.139 1060.34 Q168.334 1056.78 164.7 1056.78 M164.7 1053.08 Q170.51 1053.08 173.565 1057.68 Q176.644 1062.27 176.644 1071.02 Q176.644 1079.74 173.565 1084.35 Q170.51 1088.93 164.7 1088.93 Q158.89 1088.93 155.811 1084.35 Q152.755 1079.74 152.755 1071.02 Q152.755 1062.27 155.811 1057.68 Q158.89 1053.08 164.7 1053.08 Z\" fill=\"#000000\" fill-rule=\"nonzero\" fill-opacity=\"1\" /><path clip-path=\"url(#clip680)\" d=\"M184.862 1082.38 L189.746 1082.38 L189.746 1088.26 L184.862 1088.26 L184.862 1082.38 Z\" fill=\"#000000\" fill-rule=\"nonzero\" fill-opacity=\"1\" /><path clip-path=\"url(#clip680)\" d=\"M200.07 1087.54 L200.07 1083.28 Q201.829 1084.12 203.635 1084.56 Q205.44 1085 207.176 1085 Q211.806 1085 214.236 1081.89 Q216.69 1078.77 217.037 1072.43 Q215.695 1074.42 213.635 1075.48 Q211.574 1076.55 209.074 1076.55 Q203.889 1076.55 200.857 1073.42 Q197.848 1070.27 197.848 1064.83 Q197.848 1059.51 200.996 1056.29 Q204.144 1053.08 209.375 1053.08 Q215.371 1053.08 218.519 1057.68 Q221.69 1062.27 221.69 1071.02 Q221.69 1079.19 217.801 1084.07 Q213.936 1088.93 207.385 1088.93 Q205.625 1088.93 203.82 1088.58 Q202.014 1088.24 200.07 1087.54 M209.375 1072.89 Q212.524 1072.89 214.352 1070.74 Q216.204 1068.58 216.204 1064.83 Q216.204 1061.11 214.352 1058.95 Q212.524 1056.78 209.375 1056.78 Q206.227 1056.78 204.375 1058.95 Q202.547 1061.11 202.547 1064.83 Q202.547 1068.58 204.375 1070.74 Q206.227 1072.89 209.375 1072.89 Z\" fill=\"#000000\" fill-rule=\"nonzero\" fill-opacity=\"1\" /><path clip-path=\"url(#clip680)\" d=\"M114.839 887.968 L144.515 887.968 L144.515 891.904 L114.839 891.904 L114.839 887.968 Z\" fill=\"#000000\" fill-rule=\"nonzero\" fill-opacity=\"1\" /><path clip-path=\"url(#clip680)\" d=\"M164.607 873.316 Q160.996 873.316 159.167 876.88 Q157.362 880.422 157.362 887.552 Q157.362 894.658 159.167 898.223 Q160.996 901.765 164.607 901.765 Q168.241 901.765 170.047 898.223 Q171.876 894.658 171.876 887.552 Q171.876 880.422 170.047 876.88 Q168.241 873.316 164.607 873.316 M164.607 869.612 Q170.417 869.612 173.473 874.218 Q176.551 878.802 176.551 887.552 Q176.551 896.278 173.473 900.885 Q170.417 905.468 164.607 905.468 Q158.797 905.468 155.718 900.885 Q152.663 896.278 152.663 887.552 Q152.663 878.802 155.718 874.218 Q158.797 869.612 164.607 869.612 Z\" fill=\"#000000\" fill-rule=\"nonzero\" fill-opacity=\"1\" /><path clip-path=\"url(#clip680)\" d=\"M184.769 898.917 L189.653 898.917 L189.653 904.797 L184.769 904.797 L184.769 898.917 Z\" fill=\"#000000\" fill-rule=\"nonzero\" fill-opacity=\"1\" /><path clip-path=\"url(#clip680)\" d=\"M209.838 888.385 Q206.505 888.385 204.584 890.167 Q202.686 891.95 202.686 895.075 Q202.686 898.2 204.584 899.982 Q206.505 901.765 209.838 901.765 Q213.172 901.765 215.093 899.982 Q217.014 898.177 217.014 895.075 Q217.014 891.95 215.093 890.167 Q213.195 888.385 209.838 888.385 M205.162 886.394 Q202.153 885.654 200.463 883.593 Q198.797 881.533 198.797 878.57 Q198.797 874.427 201.737 872.019 Q204.699 869.612 209.838 869.612 Q215 869.612 217.94 872.019 Q220.88 874.427 220.88 878.57 Q220.88 881.533 219.19 883.593 Q217.523 885.654 214.537 886.394 Q217.917 887.181 219.792 889.473 Q221.69 891.765 221.69 895.075 Q221.69 900.098 218.611 902.783 Q215.556 905.468 209.838 905.468 Q204.121 905.468 201.042 902.783 Q197.987 900.098 197.987 895.075 Q197.987 891.765 199.885 889.473 Q201.783 887.181 205.162 886.394 M203.449 879.01 Q203.449 881.695 205.116 883.2 Q206.806 884.704 209.838 884.704 Q212.848 884.704 214.537 883.2 Q216.25 881.695 216.25 879.01 Q216.25 876.325 214.537 874.82 Q212.848 873.316 209.838 873.316 Q206.806 873.316 205.116 874.82 Q203.449 876.325 203.449 879.01 Z\" fill=\"#000000\" fill-rule=\"nonzero\" fill-opacity=\"1\" /><path clip-path=\"url(#clip680)\" d=\"M115.649 704.505 L145.325 704.505 L145.325 708.44 L115.649 708.44 L115.649 704.505 Z\" fill=\"#000000\" fill-rule=\"nonzero\" fill-opacity=\"1\" /><path clip-path=\"url(#clip680)\" d=\"M165.417 689.852 Q161.806 689.852 159.978 693.417 Q158.172 696.959 158.172 704.088 Q158.172 711.195 159.978 714.76 Q161.806 718.301 165.417 718.301 Q169.052 718.301 170.857 714.76 Q172.686 711.195 172.686 704.088 Q172.686 696.959 170.857 693.417 Q169.052 689.852 165.417 689.852 M165.417 686.149 Q171.227 686.149 174.283 690.755 Q177.362 695.338 177.362 704.088 Q177.362 712.815 174.283 717.422 Q171.227 722.005 165.417 722.005 Q159.607 722.005 156.528 717.422 Q153.473 712.815 153.473 704.088 Q153.473 695.338 156.528 690.755 Q159.607 686.149 165.417 686.149 Z\" fill=\"#000000\" fill-rule=\"nonzero\" fill-opacity=\"1\" /><path clip-path=\"url(#clip680)\" d=\"M185.579 715.454 L190.463 715.454 L190.463 721.334 L185.579 721.334 L185.579 715.454 Z\" fill=\"#000000\" fill-rule=\"nonzero\" fill-opacity=\"1\" /><path clip-path=\"url(#clip680)\" d=\"M199.468 686.774 L221.69 686.774 L221.69 688.764 L209.144 721.334 L204.26 721.334 L216.065 690.709 L199.468 690.709 L199.468 686.774 Z\" fill=\"#000000\" fill-rule=\"nonzero\" fill-opacity=\"1\" /><path clip-path=\"url(#clip680)\" d=\"M114.584 521.042 L144.26 521.042 L144.26 524.977 L114.584 524.977 L114.584 521.042 Z\" fill=\"#000000\" fill-rule=\"nonzero\" fill-opacity=\"1\" /><path clip-path=\"url(#clip680)\" d=\"M164.352 506.389 Q160.741 506.389 158.913 509.954 Q157.107 513.495 157.107 520.625 Q157.107 527.731 158.913 531.296 Q160.741 534.838 164.352 534.838 Q167.987 534.838 169.792 531.296 Q171.621 527.731 171.621 520.625 Q171.621 513.495 169.792 509.954 Q167.987 506.389 164.352 506.389 M164.352 502.685 Q170.163 502.685 173.218 507.292 Q176.297 511.875 176.297 520.625 Q176.297 529.352 173.218 533.958 Q170.163 538.542 164.352 538.542 Q158.542 538.542 155.464 533.958 Q152.408 529.352 152.408 520.625 Q152.408 511.875 155.464 507.292 Q158.542 502.685 164.352 502.685 Z\" fill=\"#000000\" fill-rule=\"nonzero\" fill-opacity=\"1\" /><path clip-path=\"url(#clip680)\" d=\"M184.514 531.991 L189.399 531.991 L189.399 537.87 L184.514 537.87 L184.514 531.991 Z\" fill=\"#000000\" fill-rule=\"nonzero\" fill-opacity=\"1\" /><path clip-path=\"url(#clip680)\" d=\"M210.162 518.727 Q207.014 518.727 205.162 520.88 Q203.334 523.032 203.334 526.782 Q203.334 530.509 205.162 532.685 Q207.014 534.838 210.162 534.838 Q213.311 534.838 215.139 532.685 Q216.991 530.509 216.991 526.782 Q216.991 523.032 215.139 520.88 Q213.311 518.727 210.162 518.727 M219.445 504.074 L219.445 508.333 Q217.686 507.5 215.88 507.06 Q214.098 506.62 212.338 506.62 Q207.709 506.62 205.255 509.745 Q202.824 512.87 202.477 519.19 Q203.843 517.176 205.903 516.111 Q207.963 515.023 210.44 515.023 Q215.649 515.023 218.658 518.194 Q221.69 521.343 221.69 526.782 Q221.69 532.106 218.542 535.324 Q215.394 538.542 210.162 538.542 Q204.167 538.542 200.996 533.958 Q197.825 529.352 197.825 520.625 Q197.825 512.431 201.713 507.57 Q205.602 502.685 212.153 502.685 Q213.912 502.685 215.695 503.033 Q217.5 503.38 219.445 504.074 Z\" fill=\"#000000\" fill-rule=\"nonzero\" fill-opacity=\"1\" /><path clip-path=\"url(#clip680)\" d=\"M115.742 337.578 L145.417 337.578 L145.417 341.514 L115.742 341.514 L115.742 337.578 Z\" fill=\"#000000\" fill-rule=\"nonzero\" fill-opacity=\"1\" /><path clip-path=\"url(#clip680)\" d=\"M165.51 322.926 Q161.899 322.926 160.07 326.49 Q158.265 330.032 158.265 337.162 Q158.265 344.268 160.07 347.833 Q161.899 351.375 165.51 351.375 Q169.144 351.375 170.95 347.833 Q172.778 344.268 172.778 337.162 Q172.778 330.032 170.95 326.49 Q169.144 322.926 165.51 322.926 M165.51 319.222 Q171.32 319.222 174.376 323.828 Q177.454 328.412 177.454 337.162 Q177.454 345.889 174.376 350.495 Q171.32 355.078 165.51 355.078 Q159.7 355.078 156.621 350.495 Q153.566 345.889 153.566 337.162 Q153.566 328.412 156.621 323.828 Q159.7 319.222 165.51 319.222 Z\" fill=\"#000000\" fill-rule=\"nonzero\" fill-opacity=\"1\" /><path clip-path=\"url(#clip680)\" d=\"M185.672 348.527 L190.556 348.527 L190.556 354.407 L185.672 354.407 L185.672 348.527 Z\" fill=\"#000000\" fill-rule=\"nonzero\" fill-opacity=\"1\" /><path clip-path=\"url(#clip680)\" d=\"M200.787 319.847 L219.144 319.847 L219.144 323.782 L205.07 323.782 L205.07 332.254 Q206.088 331.907 207.107 331.745 Q208.125 331.56 209.144 331.56 Q214.931 331.56 218.311 334.731 Q221.69 337.902 221.69 343.319 Q221.69 348.898 218.218 352 Q214.746 355.078 208.426 355.078 Q206.25 355.078 203.982 354.708 Q201.737 354.338 199.329 353.597 L199.329 348.898 Q201.412 350.032 203.635 350.588 Q205.857 351.143 208.334 351.143 Q212.338 351.143 214.676 349.037 Q217.014 346.93 217.014 343.319 Q217.014 339.708 214.676 337.602 Q212.338 335.495 208.334 335.495 Q206.459 335.495 204.584 335.912 Q202.732 336.328 200.787 337.208 L200.787 319.847 Z\" fill=\"#000000\" fill-rule=\"nonzero\" fill-opacity=\"1\" /><path clip-path=\"url(#clip680)\" d=\"M114.26 154.115 L143.936 154.115 L143.936 158.05 L114.26 158.05 L114.26 154.115 Z\" fill=\"#000000\" fill-rule=\"nonzero\" fill-opacity=\"1\" /><path clip-path=\"url(#clip680)\" d=\"M164.028 139.462 Q160.417 139.462 158.589 143.027 Q156.783 146.569 156.783 153.698 Q156.783 160.805 158.589 164.37 Q160.417 167.911 164.028 167.911 Q167.663 167.911 169.468 164.37 Q171.297 160.805 171.297 153.698 Q171.297 146.569 169.468 143.027 Q167.663 139.462 164.028 139.462 M164.028 135.759 Q169.839 135.759 172.894 140.365 Q175.973 144.948 175.973 153.698 Q175.973 162.425 172.894 167.032 Q169.839 171.615 164.028 171.615 Q158.218 171.615 155.14 167.032 Q152.084 162.425 152.084 153.698 Q152.084 144.948 155.14 140.365 Q158.218 135.759 164.028 135.759 Z\" fill=\"#000000\" fill-rule=\"nonzero\" fill-opacity=\"1\" /><path clip-path=\"url(#clip680)\" d=\"M184.19 165.064 L189.075 165.064 L189.075 170.944 L184.19 170.944 L184.19 165.064 Z\" fill=\"#000000\" fill-rule=\"nonzero\" fill-opacity=\"1\" /><path clip-path=\"url(#clip680)\" d=\"M212.107 140.458 L200.301 158.907 L212.107 158.907 L212.107 140.458 M210.88 136.384 L216.76 136.384 L216.76 158.907 L221.69 158.907 L221.69 162.796 L216.76 162.796 L216.76 170.944 L212.107 170.944 L212.107 162.796 L196.505 162.796 L196.505 158.282 L210.88 136.384 Z\" fill=\"#000000\" fill-rule=\"nonzero\" fill-opacity=\"1\" /><path clip-path=\"url(#clip680)\" d=\"M43.5702 775.411 L14.5426 766.436 L14.5426 761.025 L43.5702 770.001 L72.5979 761.025 L72.5979 766.436 L43.5702 775.411 Z\" fill=\"#000000\" fill-rule=\"nonzero\" fill-opacity=\"1\" /><path clip-path=\"url(#clip680)\" d=\"M16.4842 749.407 L16.4842 719.361 L21.895 719.361 L21.895 742.978 L35.9632 742.978 L35.9632 720.348 L41.3741 720.348 L41.3741 742.978 L58.5933 742.978 L58.5933 718.788 L64.0042 718.788 L64.0042 749.407 L16.4842 749.407 Z\" fill=\"#000000\" fill-rule=\"nonzero\" fill-opacity=\"1\" /><path clip-path=\"url(#clip680)\" d=\"M43.5702 695.013 L72.5979 703.988 L72.5979 709.399 L43.5702 700.423 L14.5426 709.399 L14.5426 703.988 L43.5702 695.013 Z\" fill=\"#000000\" fill-rule=\"nonzero\" fill-opacity=\"1\" /><polyline clip-path=\"url(#clip682)\" style=\"stroke:#0000ff; stroke-linecap:round; stroke-linejoin:round; stroke-width:4; stroke-opacity:1; fill:none\" points=\"316.984,86.1857 336.749,861.801 356.514,941.016 376.279,1066.55 396.044,1170.16 415.808,1241.17 435.573,1285 455.338,1327.58 475.103,1351.88 494.867,1366.5 514.632,1371.97 534.397,1375.43 554.162,1377.59 573.926,1379.47 593.691,1381.45 613.456,1382.31 633.221,1382.74 652.986,1383.15 672.75,1383.41 692.515,1383.52 712.28,1383.6 732.045,1383.7 751.809,1383.82 771.574,1383.86 791.339,1383.92 811.104,1383.94 830.869,1383.95 850.633,1383.96 870.398,1383.99 890.163,1384.03 909.928,1384.07 929.692,1384.09 949.457,1384.1 969.222,1384.1 988.987,1384.11 1008.75,1384.12 1028.52,1384.13 1048.28,1384.15 1068.05,1384.16 1087.81,1384.16 1107.58,1384.17 1127.34,1384.17 1147.1,1384.17 1166.87,1384.18 1186.63,1384.2 1206.4,1384.21 1226.16,1384.22 1245.93,1384.22 1265.69,1384.22 1285.46,1384.22 1305.22,1384.22 1324.99,1384.23 1344.75,1384.23 1364.52,1384.23 1384.28,1384.23 1404.05,1384.23 1423.81,1384.23 1443.58,1384.23 1463.34,1384.23 1483.11,1384.23 1502.87,1384.23 1522.64,1384.23 1542.4,1384.23 1562.17,1384.23 1581.93,1384.23 1601.69,1384.23 1621.46,1384.23 1641.22,1384.23 1660.99,1384.24 1680.75,1384.24 1700.52,1384.24 1720.28,1384.24 1740.05,1384.24 1759.81,1384.24 1779.58,1384.24 1799.34,1384.24 1819.11,1384.24 1838.87,1384.24 1858.64,1384.24 1878.4,1384.24 1898.17,1384.24 1917.93,1384.24 1937.7,1384.24 1957.46,1384.24 1977.23,1384.24 1996.99,1384.24 2016.75,1384.24 2036.52,1384.24 2056.28,1384.24 2076.05,1384.24 2095.81,1384.24 2115.58,1384.24 2135.34,1384.24 2155.11,1384.24 2174.87,1384.24 2194.64,1384.24 2214.4,1384.24 2234.17,1384.24 2253.93,1384.24 2273.7,1384.24 2293.46,1384.24 \"/>\n",
       "</svg>\n"
      ]
     },
     "metadata": {},
     "output_type": "display_data"
    }
   ],
   "source": [
    "pval"
   ]
  },
  {
   "cell_type": "code",
   "execution_count": 28,
   "metadata": {},
   "outputs": [
    {
     "data": {
      "image/png": "[encoded data removed]",
      "image/svg+xml": [
       "<?xml version=\"1.0\" encoding=\"utf-8\"?>\n",
       "<svg xmlns=\"http://www.w3.org/2000/svg\" xmlns:xlink=\"http://www.w3.org/1999/xlink\" width=\"600\" height=\"400\" viewBox=\"0 0 2400 1600\">\n",
       "<defs>\n",
       "  <clipPath id=\"clip720\">\n",
       "    <rect x=\"0\" y=\"0\" width=\"2400\" height=\"1600\"/>\n",
       "  </clipPath>\n",
       "</defs>\n",
       "<path clip-path=\"url(#clip720)\" d=\"M0 1600 L2400 1600 L2400 0 L0 0  Z\" fill=\"#ffffff\" fill-rule=\"evenodd\" fill-opacity=\"1\"/>\n",
       "<defs>\n",
       "  <clipPath id=\"clip721\">\n",
       "    <rect x=\"480\" y=\"0\" width=\"1681\" height=\"1600\"/>\n",
       "  </clipPath>\n",
       "</defs>\n",
       "<path clip-path=\"url(#clip720)\" d=\"M212.459 1486.45 L2352.76 1486.45 L2352.76 47.2441 L212.459 47.2441  Z\" fill=\"#ffffff\" fill-rule=\"evenodd\" fill-opacity=\"1\"/>\n",
       "<defs>\n",
       "  <clipPath id=\"clip722\">\n",
       "    <rect x=\"212\" y=\"47\" width=\"2141\" height=\"1440\"/>\n",
       "  </clipPath>\n",
       "</defs>\n",
       "<polyline clip-path=\"url(#clip722)\" style=\"stroke:#000000; stroke-linecap:round; stroke-linejoin:round; stroke-width:2; stroke-opacity:0.1; fill:none\" points=\"252.842,1486.45 252.842,47.2441 \"/>\n",
       "<polyline clip-path=\"url(#clip722)\" style=\"stroke:#000000; stroke-linecap:round; stroke-linejoin:round; stroke-width:2; stroke-opacity:0.1; fill:none\" points=\"757.629,1486.45 757.629,47.2441 \"/>\n",
       "<polyline clip-path=\"url(#clip722)\" style=\"stroke:#000000; stroke-linecap:round; stroke-linejoin:round; stroke-width:2; stroke-opacity:0.1; fill:none\" points=\"1262.42,1486.45 1262.42,47.2441 \"/>\n",
       "<polyline clip-path=\"url(#clip722)\" style=\"stroke:#000000; stroke-linecap:round; stroke-linejoin:round; stroke-width:2; stroke-opacity:0.1; fill:none\" points=\"1767.2,1486.45 1767.2,47.2441 \"/>\n",
       "<polyline clip-path=\"url(#clip722)\" style=\"stroke:#000000; stroke-linecap:round; stroke-linejoin:round; stroke-width:2; stroke-opacity:0.1; fill:none\" points=\"2271.99,1486.45 2271.99,47.2441 \"/>\n",
       "<polyline clip-path=\"url(#clip720)\" style=\"stroke:#000000; stroke-linecap:round; stroke-linejoin:round; stroke-width:4; stroke-opacity:1; fill:none\" points=\"212.459,1486.45 2352.76,1486.45 \"/>\n",
       "<polyline clip-path=\"url(#clip720)\" style=\"stroke:#000000; stroke-linecap:round; stroke-linejoin:round; stroke-width:4; stroke-opacity:1; fill:none\" points=\"252.842,1486.45 252.842,1467.55 \"/>\n",
       "<polyline clip-path=\"url(#clip720)\" style=\"stroke:#000000; stroke-linecap:round; stroke-linejoin:round; stroke-width:4; stroke-opacity:1; fill:none\" points=\"757.629,1486.45 757.629,1467.55 \"/>\n",
       "<polyline clip-path=\"url(#clip720)\" style=\"stroke:#000000; stroke-linecap:round; stroke-linejoin:round; stroke-width:4; stroke-opacity:1; fill:none\" points=\"1262.42,1486.45 1262.42,1467.55 \"/>\n",
       "<polyline clip-path=\"url(#clip720)\" style=\"stroke:#000000; stroke-linecap:round; stroke-linejoin:round; stroke-width:4; stroke-opacity:1; fill:none\" points=\"1767.2,1486.45 1767.2,1467.55 \"/>\n",
       "<polyline clip-path=\"url(#clip720)\" style=\"stroke:#000000; stroke-linecap:round; stroke-linejoin:round; stroke-width:4; stroke-opacity:1; fill:none\" points=\"2271.99,1486.45 2271.99,1467.55 \"/>\n",
       "<path clip-path=\"url(#clip720)\" d=\"M252.842 1517.37 Q249.231 1517.37 247.402 1520.93 Q245.597 1524.47 245.597 1531.6 Q245.597 1538.71 247.402 1542.27 Q249.231 1545.82 252.842 1545.82 Q256.476 1545.82 258.282 1542.27 Q260.11 1538.71 260.11 1531.6 Q260.11 1524.47 258.282 1520.93 Q256.476 1517.37 252.842 1517.37 M252.842 1513.66 Q258.652 1513.66 261.708 1518.27 Q264.786 1522.85 264.786 1531.6 Q264.786 1540.33 261.708 1544.94 Q258.652 1549.52 252.842 1549.52 Q247.032 1549.52 243.953 1544.94 Q240.897 1540.33 240.897 1531.6 Q240.897 1522.85 243.953 1518.27 Q247.032 1513.66 252.842 1513.66 Z\" fill=\"#000000\" fill-rule=\"nonzero\" fill-opacity=\"1\" /><path clip-path=\"url(#clip720)\" d=\"M736.9 1544.91 L753.219 1544.91 L753.219 1548.85 L731.275 1548.85 L731.275 1544.91 Q733.937 1542.16 738.52 1537.53 Q743.127 1532.88 744.307 1531.53 Q746.553 1529.01 747.432 1527.27 Q748.335 1525.51 748.335 1523.82 Q748.335 1521.07 746.391 1519.33 Q744.469 1517.6 741.367 1517.6 Q739.168 1517.6 736.715 1518.36 Q734.284 1519.13 731.506 1520.68 L731.506 1515.95 Q734.33 1514.82 736.784 1514.24 Q739.238 1513.66 741.275 1513.66 Q746.645 1513.66 749.84 1516.35 Q753.034 1519.03 753.034 1523.52 Q753.034 1525.65 752.224 1527.57 Q751.437 1529.47 749.33 1532.07 Q748.752 1532.74 745.65 1535.95 Q742.548 1539.15 736.9 1544.91 Z\" fill=\"#000000\" fill-rule=\"nonzero\" fill-opacity=\"1\" /><path clip-path=\"url(#clip720)\" d=\"M763.08 1514.29 L781.437 1514.29 L781.437 1518.22 L767.363 1518.22 L767.363 1526.7 Q768.381 1526.35 769.4 1526.19 Q770.418 1526 771.437 1526 Q777.224 1526 780.603 1529.17 Q783.983 1532.34 783.983 1537.76 Q783.983 1543.34 780.511 1546.44 Q777.039 1549.52 770.719 1549.52 Q768.543 1549.52 766.275 1549.15 Q764.029 1548.78 761.622 1548.04 L761.622 1543.34 Q763.705 1544.47 765.927 1545.03 Q768.15 1545.58 770.627 1545.58 Q774.631 1545.58 776.969 1543.48 Q779.307 1541.37 779.307 1537.76 Q779.307 1534.15 776.969 1532.04 Q774.631 1529.94 770.627 1529.94 Q768.752 1529.94 766.877 1530.35 Q765.025 1530.77 763.08 1531.65 L763.08 1514.29 Z\" fill=\"#000000\" fill-rule=\"nonzero\" fill-opacity=\"1\" /><path clip-path=\"url(#clip720)\" d=\"M1237.12 1514.29 L1255.47 1514.29 L1255.47 1518.22 L1241.4 1518.22 L1241.4 1526.7 Q1242.42 1526.35 1243.43 1526.19 Q1244.45 1526 1245.47 1526 Q1251.26 1526 1254.64 1529.17 Q1258.02 1532.34 1258.02 1537.76 Q1258.02 1543.34 1254.55 1546.44 Q1251.07 1549.52 1244.75 1549.52 Q1242.58 1549.52 1240.31 1549.15 Q1238.06 1548.78 1235.66 1548.04 L1235.66 1543.34 Q1237.74 1544.47 1239.96 1545.03 Q1242.18 1545.58 1244.66 1545.58 Q1248.67 1545.58 1251 1543.48 Q1253.34 1541.37 1253.34 1537.76 Q1253.34 1534.15 1251 1532.04 Q1248.67 1529.94 1244.66 1529.94 Q1242.79 1529.94 1240.91 1530.35 Q1239.06 1530.77 1237.12 1531.65 L1237.12 1514.29 Z\" fill=\"#000000\" fill-rule=\"nonzero\" fill-opacity=\"1\" /><path clip-path=\"url(#clip720)\" d=\"M1277.23 1517.37 Q1273.62 1517.37 1271.79 1520.93 Q1269.99 1524.47 1269.99 1531.6 Q1269.99 1538.71 1271.79 1542.27 Q1273.62 1545.82 1277.23 1545.82 Q1280.86 1545.82 1282.67 1542.27 Q1284.5 1538.71 1284.5 1531.6 Q1284.5 1524.47 1282.67 1520.93 Q1280.86 1517.37 1277.23 1517.37 M1277.23 1513.66 Q1283.04 1513.66 1286.1 1518.27 Q1289.18 1522.85 1289.18 1531.6 Q1289.18 1540.33 1286.1 1544.94 Q1283.04 1549.52 1277.23 1549.52 Q1271.42 1549.52 1268.34 1544.94 Q1265.29 1540.33 1265.29 1531.6 Q1265.29 1522.85 1268.34 1518.27 Q1271.42 1513.66 1277.23 1513.66 Z\" fill=\"#000000\" fill-rule=\"nonzero\" fill-opacity=\"1\" /><path clip-path=\"url(#clip720)\" d=\"M1741.06 1514.29 L1763.28 1514.29 L1763.28 1516.28 L1750.73 1548.85 L1745.85 1548.85 L1757.65 1518.22 L1741.06 1518.22 L1741.06 1514.29 Z\" fill=\"#000000\" fill-rule=\"nonzero\" fill-opacity=\"1\" /><path clip-path=\"url(#clip720)\" d=\"M1772.45 1514.29 L1790.8 1514.29 L1790.8 1518.22 L1776.73 1518.22 L1776.73 1526.7 Q1777.75 1526.35 1778.77 1526.19 Q1779.78 1526 1780.8 1526 Q1786.59 1526 1789.97 1529.17 Q1793.35 1532.34 1793.35 1537.76 Q1793.35 1543.34 1789.88 1546.44 Q1786.4 1549.52 1780.08 1549.52 Q1777.91 1549.52 1775.64 1549.15 Q1773.4 1548.78 1770.99 1548.04 L1770.99 1543.34 Q1773.07 1544.47 1775.29 1545.03 Q1777.52 1545.58 1779.99 1545.58 Q1784 1545.58 1786.33 1543.48 Q1788.67 1541.37 1788.67 1537.76 Q1788.67 1534.15 1786.33 1532.04 Q1784 1529.94 1779.99 1529.94 Q1778.12 1529.94 1776.24 1530.35 Q1774.39 1530.77 1772.45 1531.65 L1772.45 1514.29 Z\" fill=\"#000000\" fill-rule=\"nonzero\" fill-opacity=\"1\" /><path clip-path=\"url(#clip720)\" d=\"M2231.6 1544.91 L2239.24 1544.91 L2239.24 1518.55 L2230.93 1520.21 L2230.93 1515.95 L2239.19 1514.29 L2243.87 1514.29 L2243.87 1544.91 L2251.5 1544.91 L2251.5 1548.85 L2231.6 1548.85 L2231.6 1544.91 Z\" fill=\"#000000\" fill-rule=\"nonzero\" fill-opacity=\"1\" /><path clip-path=\"url(#clip720)\" d=\"M2270.95 1517.37 Q2267.34 1517.37 2265.51 1520.93 Q2263.7 1524.47 2263.7 1531.6 Q2263.7 1538.71 2265.51 1542.27 Q2267.34 1545.82 2270.95 1545.82 Q2274.58 1545.82 2276.39 1542.27 Q2278.22 1538.71 2278.22 1531.6 Q2278.22 1524.47 2276.39 1520.93 Q2274.58 1517.37 2270.95 1517.37 M2270.95 1513.66 Q2276.76 1513.66 2279.81 1518.27 Q2282.89 1522.85 2282.89 1531.6 Q2282.89 1540.33 2279.81 1544.94 Q2276.76 1549.52 2270.95 1549.52 Q2265.14 1549.52 2262.06 1544.94 Q2259 1540.33 2259 1531.6 Q2259 1522.85 2262.06 1518.27 Q2265.14 1513.66 2270.95 1513.66 Z\" fill=\"#000000\" fill-rule=\"nonzero\" fill-opacity=\"1\" /><path clip-path=\"url(#clip720)\" d=\"M2301.11 1517.37 Q2297.5 1517.37 2295.67 1520.93 Q2293.86 1524.47 2293.86 1531.6 Q2293.86 1538.71 2295.67 1542.27 Q2297.5 1545.82 2301.11 1545.82 Q2304.74 1545.82 2306.55 1542.27 Q2308.38 1538.71 2308.38 1531.6 Q2308.38 1524.47 2306.55 1520.93 Q2304.74 1517.37 2301.11 1517.37 M2301.11 1513.66 Q2306.92 1513.66 2309.98 1518.27 Q2313.05 1522.85 2313.05 1531.6 Q2313.05 1540.33 2309.98 1544.94 Q2306.92 1549.52 2301.11 1549.52 Q2295.3 1549.52 2292.22 1544.94 Q2289.17 1540.33 2289.17 1531.6 Q2289.17 1522.85 2292.22 1518.27 Q2295.3 1513.66 2301.11 1513.66 Z\" fill=\"#000000\" fill-rule=\"nonzero\" fill-opacity=\"1\" /><polyline clip-path=\"url(#clip722)\" style=\"stroke:#000000; stroke-linecap:round; stroke-linejoin:round; stroke-width:2; stroke-opacity:0.1; fill:none\" points=\"212.459,1261.15 2352.76,1261.15 \"/>\n",
       "<polyline clip-path=\"url(#clip722)\" style=\"stroke:#000000; stroke-linecap:round; stroke-linejoin:round; stroke-width:2; stroke-opacity:0.1; fill:none\" points=\"212.459,983.317 2352.76,983.317 \"/>\n",
       "<polyline clip-path=\"url(#clip722)\" style=\"stroke:#000000; stroke-linecap:round; stroke-linejoin:round; stroke-width:2; stroke-opacity:0.1; fill:none\" points=\"212.459,705.487 2352.76,705.487 \"/>\n",
       "<polyline clip-path=\"url(#clip722)\" style=\"stroke:#000000; stroke-linecap:round; stroke-linejoin:round; stroke-width:2; stroke-opacity:0.1; fill:none\" points=\"212.459,427.658 2352.76,427.658 \"/>\n",
       "<polyline clip-path=\"url(#clip722)\" style=\"stroke:#000000; stroke-linecap:round; stroke-linejoin:round; stroke-width:2; stroke-opacity:0.1; fill:none\" points=\"212.459,149.828 2352.76,149.828 \"/>\n",
       "<polyline clip-path=\"url(#clip720)\" style=\"stroke:#000000; stroke-linecap:round; stroke-linejoin:round; stroke-width:4; stroke-opacity:1; fill:none\" points=\"212.459,1486.45 212.459,47.2441 \"/>\n",
       "<polyline clip-path=\"url(#clip720)\" style=\"stroke:#000000; stroke-linecap:round; stroke-linejoin:round; stroke-width:4; stroke-opacity:1; fill:none\" points=\"212.459,1261.15 231.357,1261.15 \"/>\n",
       "<polyline clip-path=\"url(#clip720)\" style=\"stroke:#000000; stroke-linecap:round; stroke-linejoin:round; stroke-width:4; stroke-opacity:1; fill:none\" points=\"212.459,983.317 231.357,983.317 \"/>\n",
       "<polyline clip-path=\"url(#clip720)\" style=\"stroke:#000000; stroke-linecap:round; stroke-linejoin:round; stroke-width:4; stroke-opacity:1; fill:none\" points=\"212.459,705.487 231.357,705.487 \"/>\n",
       "<polyline clip-path=\"url(#clip720)\" style=\"stroke:#000000; stroke-linecap:round; stroke-linejoin:round; stroke-width:4; stroke-opacity:1; fill:none\" points=\"212.459,427.658 231.357,427.658 \"/>\n",
       "<polyline clip-path=\"url(#clip720)\" style=\"stroke:#000000; stroke-linecap:round; stroke-linejoin:round; stroke-width:4; stroke-opacity:1; fill:none\" points=\"212.459,149.828 231.357,149.828 \"/>\n",
       "<path clip-path=\"url(#clip720)\" d=\"M114.26 1261.6 L143.936 1261.6 L143.936 1265.53 L114.26 1265.53 L114.26 1261.6 Z\" fill=\"#000000\" fill-rule=\"nonzero\" fill-opacity=\"1\" /><path clip-path=\"url(#clip720)\" d=\"M166.876 1247.94 L155.07 1266.39 L166.876 1266.39 L166.876 1247.94 M165.649 1243.87 L171.528 1243.87 L171.528 1266.39 L176.459 1266.39 L176.459 1270.28 L171.528 1270.28 L171.528 1278.43 L166.876 1278.43 L166.876 1270.28 L151.274 1270.28 L151.274 1265.76 L165.649 1243.87 Z\" fill=\"#000000\" fill-rule=\"nonzero\" fill-opacity=\"1\" /><path clip-path=\"url(#clip720)\" d=\"M115.394 983.768 L145.07 983.768 L145.07 987.704 L115.394 987.704 L115.394 983.768 Z\" fill=\"#000000\" fill-rule=\"nonzero\" fill-opacity=\"1\" /><path clip-path=\"url(#clip720)\" d=\"M169.329 981.963 Q172.686 982.68 174.561 984.949 Q176.459 987.217 176.459 990.551 Q176.459 995.666 172.94 998.467 Q169.422 1001.27 162.94 1001.27 Q160.765 1001.27 158.45 1000.83 Q156.158 1000.41 153.704 999.555 L153.704 995.041 Q155.649 996.176 157.964 996.754 Q160.278 997.333 162.802 997.333 Q167.2 997.333 169.491 995.597 Q171.806 993.861 171.806 990.551 Q171.806 987.495 169.653 985.782 Q167.524 984.046 163.704 984.046 L159.677 984.046 L159.677 980.204 L163.89 980.204 Q167.339 980.204 169.167 978.838 Q170.996 977.449 170.996 974.856 Q170.996 972.194 169.098 970.782 Q167.223 969.347 163.704 969.347 Q161.783 969.347 159.584 969.764 Q157.385 970.18 154.746 971.06 L154.746 966.893 Q157.408 966.153 159.723 965.782 Q162.061 965.412 164.121 965.412 Q169.445 965.412 172.547 967.843 Q175.649 970.25 175.649 974.37 Q175.649 977.241 174.005 979.231 Q172.362 981.199 169.329 981.963 Z\" fill=\"#000000\" fill-rule=\"nonzero\" fill-opacity=\"1\" /><path clip-path=\"url(#clip720)\" d=\"M116.343 705.939 L146.019 705.939 L146.019 709.874 L116.343 709.874 L116.343 705.939 Z\" fill=\"#000000\" fill-rule=\"nonzero\" fill-opacity=\"1\" /><path clip-path=\"url(#clip720)\" d=\"M160.14 718.832 L176.459 718.832 L176.459 722.767 L154.515 722.767 L154.515 718.832 Q157.177 716.078 161.76 711.448 Q166.366 706.795 167.547 705.453 Q169.792 702.93 170.672 701.193 Q171.575 699.434 171.575 697.744 Q171.575 694.99 169.63 693.254 Q167.709 691.518 164.607 691.518 Q162.408 691.518 159.954 692.281 Q157.524 693.045 154.746 694.596 L154.746 689.874 Q157.57 688.74 160.024 688.161 Q162.477 687.582 164.515 687.582 Q169.885 687.582 173.079 690.268 Q176.274 692.953 176.274 697.443 Q176.274 699.573 175.464 701.494 Q174.677 703.392 172.57 705.985 Q171.991 706.656 168.889 709.874 Q165.788 713.068 160.14 718.832 Z\" fill=\"#000000\" fill-rule=\"nonzero\" fill-opacity=\"1\" /><path clip-path=\"url(#clip720)\" d=\"M115.973 428.109 L145.649 428.109 L145.649 432.044 L115.973 432.044 L115.973 428.109 Z\" fill=\"#000000\" fill-rule=\"nonzero\" fill-opacity=\"1\" /><path clip-path=\"url(#clip720)\" d=\"M156.552 441.003 L164.19 441.003 L164.19 414.637 L155.88 416.304 L155.88 412.044 L164.144 410.378 L168.82 410.378 L168.82 441.003 L176.459 441.003 L176.459 444.938 L156.552 444.938 L156.552 441.003 Z\" fill=\"#000000\" fill-rule=\"nonzero\" fill-opacity=\"1\" /><path clip-path=\"url(#clip720)\" d=\"M164.515 135.627 Q160.903 135.627 159.075 139.192 Q157.269 142.733 157.269 149.863 Q157.269 156.969 159.075 160.534 Q160.903 164.076 164.515 164.076 Q168.149 164.076 169.954 160.534 Q171.783 156.969 171.783 149.863 Q171.783 142.733 169.954 139.192 Q168.149 135.627 164.515 135.627 M164.515 131.923 Q170.325 131.923 173.38 136.53 Q176.459 141.113 176.459 149.863 Q176.459 158.59 173.38 163.196 Q170.325 167.779 164.515 167.779 Q158.704 167.779 155.626 163.196 Q152.57 158.59 152.57 149.863 Q152.57 141.113 155.626 136.53 Q158.704 131.923 164.515 131.923 Z\" fill=\"#000000\" fill-rule=\"nonzero\" fill-opacity=\"1\" /><path clip-path=\"url(#clip720)\" d=\"M14.1925 813.586 L79.3773 813.586 L79.3773 818.997 L14.1925 818.997 L14.1925 813.586 M14.1925 803.083 L79.3773 803.083 L79.3773 808.494 L14.1925 808.494 L14.1925 803.083 Z\" fill=\"#000000\" fill-rule=\"nonzero\" fill-opacity=\"1\" /><path clip-path=\"url(#clip720)\" d=\"M57.2883 772.909 L22.7862 759.605 L22.7862 786.214 L57.2883 772.909 M64.0042 776.442 L17.1207 794.871 L17.1207 750.884 L64.0042 769.313 L64.0042 776.442 Z\" fill=\"#000000\" fill-rule=\"nonzero\" fill-opacity=\"1\" /><path clip-path=\"url(#clip720)\" d=\"M16.4842 744.677 L16.4842 714.631 L21.895 714.631 L21.895 738.248 L35.9632 738.248 L35.9632 715.618 L41.3741 715.618 L41.3741 738.248 L58.5933 738.248 L58.5933 714.058 L64.0042 714.058 L64.0042 744.677 L16.4842 744.677 Z\" fill=\"#000000\" fill-rule=\"nonzero\" fill-opacity=\"1\" /><path clip-path=\"url(#clip720)\" d=\"M14.1925 696.203 L79.3773 696.203 L79.3773 701.613 L14.1925 701.613 L14.1925 696.203 M14.1925 685.699 L79.3773 685.699 L79.3773 691.11 L14.1925 691.11 L14.1925 685.699 Z\" fill=\"#000000\" fill-rule=\"nonzero\" fill-opacity=\"1\" /><polyline clip-path=\"url(#clip722)\" style=\"stroke:#ff0000; stroke-linecap:round; stroke-linejoin:round; stroke-width:4; stroke-opacity:1; fill:none\" points=\"273.033,87.9763 293.225,334.116 313.416,382.756 333.608,371.176 353.799,338.554 373.991,399.63 394.182,453.529 414.374,476.069 434.565,506.501 454.757,566.004 474.948,575.584 495.14,665.411 515.331,678.487 535.523,669.566 555.714,700.262 575.906,738.725 596.097,787.258 616.289,806.089 636.48,834.086 656.671,826.078 676.863,888.483 697.054,888.976 717.246,867.183 737.437,833.341 757.629,938.518 777.82,1026.2 798.012,1018.82 818.203,958.648 838.395,888.181 858.586,903.582 878.778,946.304 898.969,927.192 919.161,1050 939.352,1066.09 959.544,1032.26 979.735,954.673 999.927,984.168 1020.12,983.731 1040.31,908.9 1060.5,1055.25 1080.69,1082.17 1100.88,1047.88 1121.08,987.978 1141.27,987.226 1161.46,910.754 1181.65,976.773 1201.84,1069.74 1222.03,1062.53 1242.22,1081.37 1262.42,1074.52 1282.61,1027.25 1302.8,1054.67 1322.99,1126.82 1343.18,1139.63 1363.37,1095.99 1383.56,1054.39 1403.76,962.68 1423.95,1093.34 1444.14,1145.19 1464.33,1132.98 1484.52,1089.26 1504.71,1049.73 1524.91,1078.74 1545.1,1176.31 1565.29,1216.11 1585.48,1217.59 1605.67,1202.35 1625.86,1095.36 1646.05,1157.25 1666.25,1215.02 1686.44,1170.56 1706.63,1115.07 1726.82,1189.73 1747.01,1278.87 1767.2,1282.61 1787.39,1217.13 1807.59,1238.2 1827.78,1271.95 1847.97,1189.16 1868.16,1198.55 1888.35,1158.77 1908.54,1060.74 1928.73,1164.74 1948.93,1241.88 1969.12,1247.41 1989.31,1261.91 2009.5,1235.61 2029.69,1377.86 2049.88,1445.72 2070.08,1414.14 2090.27,1367.13 2110.46,1303.57 2130.65,1261.3 2150.84,1256.58 2171.03,1290.22 2191.22,1258.13 2211.42,1278.16 2231.61,1260.66 2251.8,1251.28 2271.99,1226.42 2292.18,1348.43 \"/>\n",
       "</svg>\n"
      ],
      "text/html": [
       "<?xml version=\"1.0\" encoding=\"utf-8\"?>\n",
       "<svg xmlns=\"http://www.w3.org/2000/svg\" xmlns:xlink=\"http://www.w3.org/1999/xlink\" width=\"600\" height=\"400\" viewBox=\"0 0 2400 1600\">\n",
       "<defs>\n",
       "  <clipPath id=\"clip770\">\n",
       "    <rect x=\"0\" y=\"0\" width=\"2400\" height=\"1600\"/>\n",
       "  </clipPath>\n",
       "</defs>\n",
       "<path clip-path=\"url(#clip770)\" d=\"M0 1600 L2400 1600 L2400 0 L0 0  Z\" fill=\"#ffffff\" fill-rule=\"evenodd\" fill-opacity=\"1\"/>\n",
       "<defs>\n",
       "  <clipPath id=\"clip771\">\n",
       "    <rect x=\"480\" y=\"0\" width=\"1681\" height=\"1600\"/>\n",
       "  </clipPath>\n",
       "</defs>\n",
       "<path clip-path=\"url(#clip770)\" d=\"M212.459 1486.45 L2352.76 1486.45 L2352.76 47.2441 L212.459 47.2441  Z\" fill=\"#ffffff\" fill-rule=\"evenodd\" fill-opacity=\"1\"/>\n",
       "<defs>\n",
       "  <clipPath id=\"clip772\">\n",
       "    <rect x=\"212\" y=\"47\" width=\"2141\" height=\"1440\"/>\n",
       "  </clipPath>\n",
       "</defs>\n",
       "<polyline clip-path=\"url(#clip772)\" style=\"stroke:#000000; stroke-linecap:round; stroke-linejoin:round; stroke-width:2; stroke-opacity:0.1; fill:none\" points=\"252.842,1486.45 252.842,47.2441 \"/>\n",
       "<polyline clip-path=\"url(#clip772)\" style=\"stroke:#000000; stroke-linecap:round; stroke-linejoin:round; stroke-width:2; stroke-opacity:0.1; fill:none\" points=\"757.629,1486.45 757.629,47.2441 \"/>\n",
       "<polyline clip-path=\"url(#clip772)\" style=\"stroke:#000000; stroke-linecap:round; stroke-linejoin:round; stroke-width:2; stroke-opacity:0.1; fill:none\" points=\"1262.42,1486.45 1262.42,47.2441 \"/>\n",
       "<polyline clip-path=\"url(#clip772)\" style=\"stroke:#000000; stroke-linecap:round; stroke-linejoin:round; stroke-width:2; stroke-opacity:0.1; fill:none\" points=\"1767.2,1486.45 1767.2,47.2441 \"/>\n",
       "<polyline clip-path=\"url(#clip772)\" style=\"stroke:#000000; stroke-linecap:round; stroke-linejoin:round; stroke-width:2; stroke-opacity:0.1; fill:none\" points=\"2271.99,1486.45 2271.99,47.2441 \"/>\n",
       "<polyline clip-path=\"url(#clip770)\" style=\"stroke:#000000; stroke-linecap:round; stroke-linejoin:round; stroke-width:4; stroke-opacity:1; fill:none\" points=\"212.459,1486.45 2352.76,1486.45 \"/>\n",
       "<polyline clip-path=\"url(#clip770)\" style=\"stroke:#000000; stroke-linecap:round; stroke-linejoin:round; stroke-width:4; stroke-opacity:1; fill:none\" points=\"252.842,1486.45 252.842,1467.55 \"/>\n",
       "<polyline clip-path=\"url(#clip770)\" style=\"stroke:#000000; stroke-linecap:round; stroke-linejoin:round; stroke-width:4; stroke-opacity:1; fill:none\" points=\"757.629,1486.45 757.629,1467.55 \"/>\n",
       "<polyline clip-path=\"url(#clip770)\" style=\"stroke:#000000; stroke-linecap:round; stroke-linejoin:round; stroke-width:4; stroke-opacity:1; fill:none\" points=\"1262.42,1486.45 1262.42,1467.55 \"/>\n",
       "<polyline clip-path=\"url(#clip770)\" style=\"stroke:#000000; stroke-linecap:round; stroke-linejoin:round; stroke-width:4; stroke-opacity:1; fill:none\" points=\"1767.2,1486.45 1767.2,1467.55 \"/>\n",
       "<polyline clip-path=\"url(#clip770)\" style=\"stroke:#000000; stroke-linecap:round; stroke-linejoin:round; stroke-width:4; stroke-opacity:1; fill:none\" points=\"2271.99,1486.45 2271.99,1467.55 \"/>\n",
       "<path clip-path=\"url(#clip770)\" d=\"M252.842 1517.37 Q249.231 1517.37 247.402 1520.93 Q245.597 1524.47 245.597 1531.6 Q245.597 1538.71 247.402 1542.27 Q249.231 1545.82 252.842 1545.82 Q256.476 1545.82 258.282 1542.27 Q260.11 1538.71 260.11 1531.6 Q260.11 1524.47 258.282 1520.93 Q256.476 1517.37 252.842 1517.37 M252.842 1513.66 Q258.652 1513.66 261.708 1518.27 Q264.786 1522.85 264.786 1531.6 Q264.786 1540.33 261.708 1544.94 Q258.652 1549.52 252.842 1549.52 Q247.032 1549.52 243.953 1544.94 Q240.897 1540.33 240.897 1531.6 Q240.897 1522.85 243.953 1518.27 Q247.032 1513.66 252.842 1513.66 Z\" fill=\"#000000\" fill-rule=\"nonzero\" fill-opacity=\"1\" /><path clip-path=\"url(#clip770)\" d=\"M736.9 1544.91 L753.219 1544.91 L753.219 1548.85 L731.275 1548.85 L731.275 1544.91 Q733.937 1542.16 738.52 1537.53 Q743.127 1532.88 744.307 1531.53 Q746.553 1529.01 747.432 1527.27 Q748.335 1525.51 748.335 1523.82 Q748.335 1521.07 746.391 1519.33 Q744.469 1517.6 741.367 1517.6 Q739.168 1517.6 736.715 1518.36 Q734.284 1519.13 731.506 1520.68 L731.506 1515.95 Q734.33 1514.82 736.784 1514.24 Q739.238 1513.66 741.275 1513.66 Q746.645 1513.66 749.84 1516.35 Q753.034 1519.03 753.034 1523.52 Q753.034 1525.65 752.224 1527.57 Q751.437 1529.47 749.33 1532.07 Q748.752 1532.74 745.65 1535.95 Q742.548 1539.15 736.9 1544.91 Z\" fill=\"#000000\" fill-rule=\"nonzero\" fill-opacity=\"1\" /><path clip-path=\"url(#clip770)\" d=\"M763.08 1514.29 L781.437 1514.29 L781.437 1518.22 L767.363 1518.22 L767.363 1526.7 Q768.381 1526.35 769.4 1526.19 Q770.418 1526 771.437 1526 Q777.224 1526 780.603 1529.17 Q783.983 1532.34 783.983 1537.76 Q783.983 1543.34 780.511 1546.44 Q777.039 1549.52 770.719 1549.52 Q768.543 1549.52 766.275 1549.15 Q764.029 1548.78 761.622 1548.04 L761.622 1543.34 Q763.705 1544.47 765.927 1545.03 Q768.15 1545.58 770.627 1545.58 Q774.631 1545.58 776.969 1543.48 Q779.307 1541.37 779.307 1537.76 Q779.307 1534.15 776.969 1532.04 Q774.631 1529.94 770.627 1529.94 Q768.752 1529.94 766.877 1530.35 Q765.025 1530.77 763.08 1531.65 L763.08 1514.29 Z\" fill=\"#000000\" fill-rule=\"nonzero\" fill-opacity=\"1\" /><path clip-path=\"url(#clip770)\" d=\"M1237.12 1514.29 L1255.47 1514.29 L1255.47 1518.22 L1241.4 1518.22 L1241.4 1526.7 Q1242.42 1526.35 1243.43 1526.19 Q1244.45 1526 1245.47 1526 Q1251.26 1526 1254.64 1529.17 Q1258.02 1532.34 1258.02 1537.76 Q1258.02 1543.34 1254.55 1546.44 Q1251.07 1549.52 1244.75 1549.52 Q1242.58 1549.52 1240.31 1549.15 Q1238.06 1548.78 1235.66 1548.04 L1235.66 1543.34 Q1237.74 1544.47 1239.96 1545.03 Q1242.18 1545.58 1244.66 1545.58 Q1248.67 1545.58 1251 1543.48 Q1253.34 1541.37 1253.34 1537.76 Q1253.34 1534.15 1251 1532.04 Q1248.67 1529.94 1244.66 1529.94 Q1242.79 1529.94 1240.91 1530.35 Q1239.06 1530.77 1237.12 1531.65 L1237.12 1514.29 Z\" fill=\"#000000\" fill-rule=\"nonzero\" fill-opacity=\"1\" /><path clip-path=\"url(#clip770)\" d=\"M1277.23 1517.37 Q1273.62 1517.37 1271.79 1520.93 Q1269.99 1524.47 1269.99 1531.6 Q1269.99 1538.71 1271.79 1542.27 Q1273.62 1545.82 1277.23 1545.82 Q1280.86 1545.82 1282.67 1542.27 Q1284.5 1538.71 1284.5 1531.6 Q1284.5 1524.47 1282.67 1520.93 Q1280.86 1517.37 1277.23 1517.37 M1277.23 1513.66 Q1283.04 1513.66 1286.1 1518.27 Q1289.18 1522.85 1289.18 1531.6 Q1289.18 1540.33 1286.1 1544.94 Q1283.04 1549.52 1277.23 1549.52 Q1271.42 1549.52 1268.34 1544.94 Q1265.29 1540.33 1265.29 1531.6 Q1265.29 1522.85 1268.34 1518.27 Q1271.42 1513.66 1277.23 1513.66 Z\" fill=\"#000000\" fill-rule=\"nonzero\" fill-opacity=\"1\" /><path clip-path=\"url(#clip770)\" d=\"M1741.06 1514.29 L1763.28 1514.29 L1763.28 1516.28 L1750.73 1548.85 L1745.85 1548.85 L1757.65 1518.22 L1741.06 1518.22 L1741.06 1514.29 Z\" fill=\"#000000\" fill-rule=\"nonzero\" fill-opacity=\"1\" /><path clip-path=\"url(#clip770)\" d=\"M1772.45 1514.29 L1790.8 1514.29 L1790.8 1518.22 L1776.73 1518.22 L1776.73 1526.7 Q1777.75 1526.35 1778.77 1526.19 Q1779.78 1526 1780.8 1526 Q1786.59 1526 1789.97 1529.17 Q1793.35 1532.34 1793.35 1537.76 Q1793.35 1543.34 1789.88 1546.44 Q1786.4 1549.52 1780.08 1549.52 Q1777.91 1549.52 1775.64 1549.15 Q1773.4 1548.78 1770.99 1548.04 L1770.99 1543.34 Q1773.07 1544.47 1775.29 1545.03 Q1777.52 1545.58 1779.99 1545.58 Q1784 1545.58 1786.33 1543.48 Q1788.67 1541.37 1788.67 1537.76 Q1788.67 1534.15 1786.33 1532.04 Q1784 1529.94 1779.99 1529.94 Q1778.12 1529.94 1776.24 1530.35 Q1774.39 1530.77 1772.45 1531.65 L1772.45 1514.29 Z\" fill=\"#000000\" fill-rule=\"nonzero\" fill-opacity=\"1\" /><path clip-path=\"url(#clip770)\" d=\"M2231.6 1544.91 L2239.24 1544.91 L2239.24 1518.55 L2230.93 1520.21 L2230.93 1515.95 L2239.19 1514.29 L2243.87 1514.29 L2243.87 1544.91 L2251.5 1544.91 L2251.5 1548.85 L2231.6 1548.85 L2231.6 1544.91 Z\" fill=\"#000000\" fill-rule=\"nonzero\" fill-opacity=\"1\" /><path clip-path=\"url(#clip770)\" d=\"M2270.95 1517.37 Q2267.34 1517.37 2265.51 1520.93 Q2263.7 1524.47 2263.7 1531.6 Q2263.7 1538.71 2265.51 1542.27 Q2267.34 1545.82 2270.95 1545.82 Q2274.58 1545.82 2276.39 1542.27 Q2278.22 1538.71 2278.22 1531.6 Q2278.22 1524.47 2276.39 1520.93 Q2274.58 1517.37 2270.95 1517.37 M2270.95 1513.66 Q2276.76 1513.66 2279.81 1518.27 Q2282.89 1522.85 2282.89 1531.6 Q2282.89 1540.33 2279.81 1544.94 Q2276.76 1549.52 2270.95 1549.52 Q2265.14 1549.52 2262.06 1544.94 Q2259 1540.33 2259 1531.6 Q2259 1522.85 2262.06 1518.27 Q2265.14 1513.66 2270.95 1513.66 Z\" fill=\"#000000\" fill-rule=\"nonzero\" fill-opacity=\"1\" /><path clip-path=\"url(#clip770)\" d=\"M2301.11 1517.37 Q2297.5 1517.37 2295.67 1520.93 Q2293.86 1524.47 2293.86 1531.6 Q2293.86 1538.71 2295.67 1542.27 Q2297.5 1545.82 2301.11 1545.82 Q2304.74 1545.82 2306.55 1542.27 Q2308.38 1538.71 2308.38 1531.6 Q2308.38 1524.47 2306.55 1520.93 Q2304.74 1517.37 2301.11 1517.37 M2301.11 1513.66 Q2306.92 1513.66 2309.98 1518.27 Q2313.05 1522.85 2313.05 1531.6 Q2313.05 1540.33 2309.98 1544.94 Q2306.92 1549.52 2301.11 1549.52 Q2295.3 1549.52 2292.22 1544.94 Q2289.17 1540.33 2289.17 1531.6 Q2289.17 1522.85 2292.22 1518.27 Q2295.3 1513.66 2301.11 1513.66 Z\" fill=\"#000000\" fill-rule=\"nonzero\" fill-opacity=\"1\" /><polyline clip-path=\"url(#clip772)\" style=\"stroke:#000000; stroke-linecap:round; stroke-linejoin:round; stroke-width:2; stroke-opacity:0.1; fill:none\" points=\"212.459,1261.15 2352.76,1261.15 \"/>\n",
       "<polyline clip-path=\"url(#clip772)\" style=\"stroke:#000000; stroke-linecap:round; stroke-linejoin:round; stroke-width:2; stroke-opacity:0.1; fill:none\" points=\"212.459,983.317 2352.76,983.317 \"/>\n",
       "<polyline clip-path=\"url(#clip772)\" style=\"stroke:#000000; stroke-linecap:round; stroke-linejoin:round; stroke-width:2; stroke-opacity:0.1; fill:none\" points=\"212.459,705.487 2352.76,705.487 \"/>\n",
       "<polyline clip-path=\"url(#clip772)\" style=\"stroke:#000000; stroke-linecap:round; stroke-linejoin:round; stroke-width:2; stroke-opacity:0.1; fill:none\" points=\"212.459,427.658 2352.76,427.658 \"/>\n",
       "<polyline clip-path=\"url(#clip772)\" style=\"stroke:#000000; stroke-linecap:round; stroke-linejoin:round; stroke-width:2; stroke-opacity:0.1; fill:none\" points=\"212.459,149.828 2352.76,149.828 \"/>\n",
       "<polyline clip-path=\"url(#clip770)\" style=\"stroke:#000000; stroke-linecap:round; stroke-linejoin:round; stroke-width:4; stroke-opacity:1; fill:none\" points=\"212.459,1486.45 212.459,47.2441 \"/>\n",
       "<polyline clip-path=\"url(#clip770)\" style=\"stroke:#000000; stroke-linecap:round; stroke-linejoin:round; stroke-width:4; stroke-opacity:1; fill:none\" points=\"212.459,1261.15 231.357,1261.15 \"/>\n",
       "<polyline clip-path=\"url(#clip770)\" style=\"stroke:#000000; stroke-linecap:round; stroke-linejoin:round; stroke-width:4; stroke-opacity:1; fill:none\" points=\"212.459,983.317 231.357,983.317 \"/>\n",
       "<polyline clip-path=\"url(#clip770)\" style=\"stroke:#000000; stroke-linecap:round; stroke-linejoin:round; stroke-width:4; stroke-opacity:1; fill:none\" points=\"212.459,705.487 231.357,705.487 \"/>\n",
       "<polyline clip-path=\"url(#clip770)\" style=\"stroke:#000000; stroke-linecap:round; stroke-linejoin:round; stroke-width:4; stroke-opacity:1; fill:none\" points=\"212.459,427.658 231.357,427.658 \"/>\n",
       "<polyline clip-path=\"url(#clip770)\" style=\"stroke:#000000; stroke-linecap:round; stroke-linejoin:round; stroke-width:4; stroke-opacity:1; fill:none\" points=\"212.459,149.828 231.357,149.828 \"/>\n",
       "<path clip-path=\"url(#clip770)\" d=\"M114.26 1261.6 L143.936 1261.6 L143.936 1265.53 L114.26 1265.53 L114.26 1261.6 Z\" fill=\"#000000\" fill-rule=\"nonzero\" fill-opacity=\"1\" /><path clip-path=\"url(#clip770)\" d=\"M166.876 1247.94 L155.07 1266.39 L166.876 1266.39 L166.876 1247.94 M165.649 1243.87 L171.528 1243.87 L171.528 1266.39 L176.459 1266.39 L176.459 1270.28 L171.528 1270.28 L171.528 1278.43 L166.876 1278.43 L166.876 1270.28 L151.274 1270.28 L151.274 1265.76 L165.649 1243.87 Z\" fill=\"#000000\" fill-rule=\"nonzero\" fill-opacity=\"1\" /><path clip-path=\"url(#clip770)\" d=\"M115.394 983.768 L145.07 983.768 L145.07 987.704 L115.394 987.704 L115.394 983.768 Z\" fill=\"#000000\" fill-rule=\"nonzero\" fill-opacity=\"1\" /><path clip-path=\"url(#clip770)\" d=\"M169.329 981.963 Q172.686 982.68 174.561 984.949 Q176.459 987.217 176.459 990.551 Q176.459 995.666 172.94 998.467 Q169.422 1001.27 162.94 1001.27 Q160.765 1001.27 158.45 1000.83 Q156.158 1000.41 153.704 999.555 L153.704 995.041 Q155.649 996.176 157.964 996.754 Q160.278 997.333 162.802 997.333 Q167.2 997.333 169.491 995.597 Q171.806 993.861 171.806 990.551 Q171.806 987.495 169.653 985.782 Q167.524 984.046 163.704 984.046 L159.677 984.046 L159.677 980.204 L163.89 980.204 Q167.339 980.204 169.167 978.838 Q170.996 977.449 170.996 974.856 Q170.996 972.194 169.098 970.782 Q167.223 969.347 163.704 969.347 Q161.783 969.347 159.584 969.764 Q157.385 970.18 154.746 971.06 L154.746 966.893 Q157.408 966.153 159.723 965.782 Q162.061 965.412 164.121 965.412 Q169.445 965.412 172.547 967.843 Q175.649 970.25 175.649 974.37 Q175.649 977.241 174.005 979.231 Q172.362 981.199 169.329 981.963 Z\" fill=\"#000000\" fill-rule=\"nonzero\" fill-opacity=\"1\" /><path clip-path=\"url(#clip770)\" d=\"M116.343 705.939 L146.019 705.939 L146.019 709.874 L116.343 709.874 L116.343 705.939 Z\" fill=\"#000000\" fill-rule=\"nonzero\" fill-opacity=\"1\" /><path clip-path=\"url(#clip770)\" d=\"M160.14 718.832 L176.459 718.832 L176.459 722.767 L154.515 722.767 L154.515 718.832 Q157.177 716.078 161.76 711.448 Q166.366 706.795 167.547 705.453 Q169.792 702.93 170.672 701.193 Q171.575 699.434 171.575 697.744 Q171.575 694.99 169.63 693.254 Q167.709 691.518 164.607 691.518 Q162.408 691.518 159.954 692.281 Q157.524 693.045 154.746 694.596 L154.746 689.874 Q157.57 688.74 160.024 688.161 Q162.477 687.582 164.515 687.582 Q169.885 687.582 173.079 690.268 Q176.274 692.953 176.274 697.443 Q176.274 699.573 175.464 701.494 Q174.677 703.392 172.57 705.985 Q171.991 706.656 168.889 709.874 Q165.788 713.068 160.14 718.832 Z\" fill=\"#000000\" fill-rule=\"nonzero\" fill-opacity=\"1\" /><path clip-path=\"url(#clip770)\" d=\"M115.973 428.109 L145.649 428.109 L145.649 432.044 L115.973 432.044 L115.973 428.109 Z\" fill=\"#000000\" fill-rule=\"nonzero\" fill-opacity=\"1\" /><path clip-path=\"url(#clip770)\" d=\"M156.552 441.003 L164.19 441.003 L164.19 414.637 L155.88 416.304 L155.88 412.044 L164.144 410.378 L168.82 410.378 L168.82 441.003 L176.459 441.003 L176.459 444.938 L156.552 444.938 L156.552 441.003 Z\" fill=\"#000000\" fill-rule=\"nonzero\" fill-opacity=\"1\" /><path clip-path=\"url(#clip770)\" d=\"M164.515 135.627 Q160.903 135.627 159.075 139.192 Q157.269 142.733 157.269 149.863 Q157.269 156.969 159.075 160.534 Q160.903 164.076 164.515 164.076 Q168.149 164.076 169.954 160.534 Q171.783 156.969 171.783 149.863 Q171.783 142.733 169.954 139.192 Q168.149 135.627 164.515 135.627 M164.515 131.923 Q170.325 131.923 173.38 136.53 Q176.459 141.113 176.459 149.863 Q176.459 158.59 173.38 163.196 Q170.325 167.779 164.515 167.779 Q158.704 167.779 155.626 163.196 Q152.57 158.59 152.57 149.863 Q152.57 141.113 155.626 136.53 Q158.704 131.923 164.515 131.923 Z\" fill=\"#000000\" fill-rule=\"nonzero\" fill-opacity=\"1\" /><path clip-path=\"url(#clip770)\" d=\"M14.1925 813.586 L79.3773 813.586 L79.3773 818.997 L14.1925 818.997 L14.1925 813.586 M14.1925 803.083 L79.3773 803.083 L79.3773 808.494 L14.1925 808.494 L14.1925 803.083 Z\" fill=\"#000000\" fill-rule=\"nonzero\" fill-opacity=\"1\" /><path clip-path=\"url(#clip770)\" d=\"M57.2883 772.909 L22.7862 759.605 L22.7862 786.214 L57.2883 772.909 M64.0042 776.442 L17.1207 794.871 L17.1207 750.884 L64.0042 769.313 L64.0042 776.442 Z\" fill=\"#000000\" fill-rule=\"nonzero\" fill-opacity=\"1\" /><path clip-path=\"url(#clip770)\" d=\"M16.4842 744.677 L16.4842 714.631 L21.895 714.631 L21.895 738.248 L35.9632 738.248 L35.9632 715.618 L41.3741 715.618 L41.3741 738.248 L58.5933 738.248 L58.5933 714.058 L64.0042 714.058 L64.0042 744.677 L16.4842 744.677 Z\" fill=\"#000000\" fill-rule=\"nonzero\" fill-opacity=\"1\" /><path clip-path=\"url(#clip770)\" d=\"M14.1925 696.203 L79.3773 696.203 L79.3773 701.613 L14.1925 701.613 L14.1925 696.203 M14.1925 685.699 L79.3773 685.699 L79.3773 691.11 L14.1925 691.11 L14.1925 685.699 Z\" fill=\"#000000\" fill-rule=\"nonzero\" fill-opacity=\"1\" /><polyline clip-path=\"url(#clip772)\" style=\"stroke:#ff0000; stroke-linecap:round; stroke-linejoin:round; stroke-width:4; stroke-opacity:1; fill:none\" points=\"273.033,87.9763 293.225,334.116 313.416,382.756 333.608,371.176 353.799,338.554 373.991,399.63 394.182,453.529 414.374,476.069 434.565,506.501 454.757,566.004 474.948,575.584 495.14,665.411 515.331,678.487 535.523,669.566 555.714,700.262 575.906,738.725 596.097,787.258 616.289,806.089 636.48,834.086 656.671,826.078 676.863,888.483 697.054,888.976 717.246,867.183 737.437,833.341 757.629,938.518 777.82,1026.2 798.012,1018.82 818.203,958.648 838.395,888.181 858.586,903.582 878.778,946.304 898.969,927.192 919.161,1050 939.352,1066.09 959.544,1032.26 979.735,954.673 999.927,984.168 1020.12,983.731 1040.31,908.9 1060.5,1055.25 1080.69,1082.17 1100.88,1047.88 1121.08,987.978 1141.27,987.226 1161.46,910.754 1181.65,976.773 1201.84,1069.74 1222.03,1062.53 1242.22,1081.37 1262.42,1074.52 1282.61,1027.25 1302.8,1054.67 1322.99,1126.82 1343.18,1139.63 1363.37,1095.99 1383.56,1054.39 1403.76,962.68 1423.95,1093.34 1444.14,1145.19 1464.33,1132.98 1484.52,1089.26 1504.71,1049.73 1524.91,1078.74 1545.1,1176.31 1565.29,1216.11 1585.48,1217.59 1605.67,1202.35 1625.86,1095.36 1646.05,1157.25 1666.25,1215.02 1686.44,1170.56 1706.63,1115.07 1726.82,1189.73 1747.01,1278.87 1767.2,1282.61 1787.39,1217.13 1807.59,1238.2 1827.78,1271.95 1847.97,1189.16 1868.16,1198.55 1888.35,1158.77 1908.54,1060.74 1928.73,1164.74 1948.93,1241.88 1969.12,1247.41 1989.31,1261.91 2009.5,1235.61 2029.69,1377.86 2049.88,1445.72 2070.08,1414.14 2090.27,1367.13 2110.46,1303.57 2130.65,1261.3 2150.84,1256.58 2171.03,1290.22 2191.22,1258.13 2211.42,1278.16 2231.61,1260.66 2251.8,1251.28 2271.99,1226.42 2292.18,1348.43 \"/>\n",
       "</svg>\n"
      ]
     },
     "metadata": {},
     "output_type": "display_data"
    }
   ],
   "source": [
    "pgrad"
   ]
  },
  {
   "cell_type": "code",
   "execution_count": null,
   "metadata": {},
   "outputs": [],
   "source": []
  }
 ],
 "metadata": {
  "kernelspec": {
   "display_name": "Julia 1.10.2",
   "language": "julia",
   "name": "julia-1.10"
  },
  "language_info": {
   "file_extension": ".jl",
   "mimetype": "application/julia",
   "name": "julia",
   "version": "1.10.2"
  }
 },
 "nbformat": 4,
 "nbformat_minor": 4
}
