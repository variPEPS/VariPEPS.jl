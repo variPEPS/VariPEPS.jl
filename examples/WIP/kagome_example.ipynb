{
 "cells": [
  {
   "cell_type": "code",
   "execution_count": 1,
   "metadata": {},
   "outputs": [],
   "source": [
    "using Revise\n",
    "using VariPEPS\n",
    "using TensorKit\n",
    "using OptimKit\n",
    "#using JLD2 #needed?"
   ]
  },
  {
   "cell_type": "markdown",
   "metadata": {},
   "source": [
    "In this notebook we show the very basic functionality of the workhorse funtions of the `VariPEPS.jl` code"
   ]
  },
  {
   "cell_type": "markdown",
   "metadata": {},
   "source": [
    "Specify the Bond-dimension `d`, the environment-bond-dimension `χ`. "
   ]
  },
  {
   "cell_type": "code",
   "execution_count": 2,
   "metadata": {},
   "outputs": [
    {
     "data": {
      "text/plain": [
       "2"
      ]
     },
     "metadata": {},
     "output_type": "display_data"
    }
   ],
   "source": [
    "χ = 8\n",
    "d = 2"
   ]
  },
  {
   "cell_type": "markdown",
   "metadata": {},
   "source": [
    "**Here will follow some info on coarse graining and so forth...**"
   ]
  },
  {
   "cell_type": "markdown",
   "metadata": {},
   "source": [
    "Here specify the unit cell. For this we define an array \"Pattern_arr\" that represents the unit cell structure.\\\n",
    "The structure is [x-coodinate, y-coordinate].\\\n",
    "If two positions within the Pattern_arr are filled with the same number, we assume the tensors at these positions to be identical.\\\n",
    "The choice below corresponds to a unit cell like:   \n",
    "A   B \\\n",
    "B   A"
   ]
  },
  {
   "cell_type": "code",
   "execution_count": 3,
   "metadata": {},
   "outputs": [],
   "source": [
    "Pattern_arr = Array{Any}(undef,1,1)\n",
    "\n",
    "Pattern_arr[1,1] = 1;"
   ]
  },
  {
   "cell_type": "markdown",
   "metadata": {},
   "source": [
    "For our first example we are going to look at the Heisenberg-antiferromagnet on the square lattice.\\\n",
    "Here we specify the keywords corresponding to this choice of model and lattice on in a tuple.\n",
    "\n",
    "Regarding the keywords:\\\n",
    "**lattice**: tells us which lattice we use.\\\n",
    "**model**: which Hamiltonian are we using.\\\n",
    "**Ham_parameters**: Give values for the parameters in the Hamiltonian. Here we choose an anti-ferromagnetic model (J=1) with no magnetic field term (h = 0) which points in no direction (dir = [0,0,0])\\\n",
    "**Projector_type**: During the CTMRG algorithm we need projectors. These can be choosen in different ways. Here we choose the :half option. An other more expensive choice would be :fullfishman.\\\n",
    "**Space_type**: This tells us what the basic vector space is that we want to work with. As we have a TRS model here we can choose a real wavefunction so we choose ℝ. Otherwise choose ℂ.\\"
   ]
  },
  {
   "cell_type": "code",
   "execution_count": 4,
   "metadata": {},
   "outputs": [
    {
     "data": {
      "text/plain": [
       "(lattice = :kagome, model = :Heisenberg_kagome, Ham_parameters = (J = 1, h = 0, dir = [0, 0, 0]), Projector_type = :half, Space_type = ℂ)"
      ]
     },
     "metadata": {},
     "output_type": "display_data"
    }
   ],
   "source": [
    "keywords = (lattice = :kagome, model = :Heisenberg_kagome, Ham_parameters = (J = 1, h = 0 , dir = [0,0,0]), Projector_type = :half, Space_type = ℂ)"
   ]
  },
  {
   "cell_type": "markdown",
   "metadata": {},
   "source": [
    "The functiion \n",
    "```\n",
    "initialize_PEPS()\n",
    "```\n",
    "initializes the PEPS-tensors. It takes 3 basic inputs:\n",
    "1. The first input is the Bond dimension, \n",
    "2. the second input is the dimension of the local Hilbert space, --> This is 8 in the current example, as we will be coarse graining 3 spin 1/2 sites.\n",
    "3. the third one specified how many tensors need to be generated. --> In this example 2 since we have two inequivalent tensors in the unit cell.\n",
    "The additional keywords can be used to specify some addtional options.\n",
    "\n",
    "What is created here is just an array of TensorMaps with the right number of legs with the desired dimensionality.\n",
    "\n",
    "Note that we can also enforce local symmetries and only optimize on the parametes for the local tensors that have this symmetry. --> Add mini example later."
   ]
  },
  {
   "cell_type": "code",
   "execution_count": 5,
   "metadata": {},
   "outputs": [],
   "source": [
    "loc_in = initialize_PEPS(d, 8, 1; seed = 1235, lattice = :kagome, Number_type = ComplexF64, Space_type = ℂ); "
   ]
  },
  {
   "cell_type": "markdown",
   "metadata": {},
   "source": [
    "The ctmrg function performs a CTM-RG algorithm. This means it calculates environment tensors and that uses those to calculate the energy density.\n",
    "If we put the option \n",
    "```\n",
    "conv_info = true\n",
    "```\n",
    "The function shows some output that idicates the status of the algorithm. \n",
    "\n",
    "The function takes as input the objects we created above: A set of local PEPS tensors (loc_in) as well as some information on the unit cell (Pattern_arr).\n",
    "It can also be used to evaluate some list of observables. For the Heisenberg model these are by default the spin matrices. However the user can also specify a list of alternative observables to calculate. *this works analogously to specifying your own model and is explained in a seperate notebook*. Note that if we want to get the expectation values of the spin matrices we need to choose Space_type = ℂ above as they are complex matrices.\n"
   ]
  },
  {
   "cell_type": "code",
   "execution_count": 6,
   "metadata": {},
   "outputs": [
    {
     "data": {
      "text/plain": [
       "(0.05834679475447388, Any[-0.025558645107357676 - 2.6631701280130283e-17im, -0.025558645107357676 - 2.6631701280130283e-17im, -0.025558645107357676 - 2.6631701280130283e-17im, 0.0029560718762820333 - 5.1422803494370277e-17im, -0.0452451732549729 - 2.968822307985751e-17im, 0.017616656843871207 + 3.972505566638601e-17im, -0.03679391519317054 + 5.317184308108422e-18im, -0.01313419180070575 + 5.063917073667882e-17im, -0.08234560956260958 + 1.52016254219393e-17im])"
      ]
     },
     "metadata": {},
     "output_type": "display_data"
    }
   ],
   "source": [
    "ctmrg_res = ctmrg(loc_in, χ, Pattern_arr; keywords..., observ = true, conv_info = false)"
   ]
  },
  {
   "cell_type": "markdown",
   "metadata": {},
   "source": [
    "Some comments on additional options (skip on first reading): \n",
    "\n",
    "1. With the option svd_type = :GKL one can enable the iterative calculation of the singular values in the CTMRG algorithm.\n",
    "This can be substantially faster for larger bond dimensions.\n",
    "Note that in some cases, the GKL algorithm, that can be used for the SVD in the calculation of the projectors finds invariant subspaces and fails. \n",
    "In these cases the code will fall back to conventional SVD algorithms.\n",
    "\n",
    "2. In the \"energy_and_gradient\" function as well as in the \"ctmrg\" function we have a keyword \"adjust_χ\" which is by default set to false. In that case the \n",
    "function works normally. However if we do not set the keyword to false but give instead a tuple, during the CTMRG routine the algorithm automatically increases the bond dimension\n",
    "up to a maximal value \"χ_max\". This happens whenever the truncation error \"err_trunc\" that we obtain in the creation of the projectors is larger than a choosen tolerance err_tol.\n",
    "Thus we set the keyword to \"adjust_χ = (err_tol, χ_max)\" in case we want the bond dimension to be increased during the optimization.\n",
    "\n",
    "3. You can also return the environment tensors, if you want to use them further. For this just pass the keyword `return_envs = true`. This will return an array of environments, one for every distinct tensor in your unit cell. The environments themselves are `named tuples` and the enviornments are named after their direction (l - left, d- down, r- right, u- up).\n",
    "\n",
    "For a state, obtained after a few optimization steps of the Heisenberg model we look at the truncation errors as \n",
    "a function of the bond dimension - with the corresponding energy. The upper block is for the \"fullfishman\"-projectors\n",
    "while the lower block is for the \"half\"-projectors. We conclude from the convergence of the energy-expectation values\n",
    "that a maximal trunctation error of ~10^-3 is a reasonable starting point. It can always be chosen more stricly.\n",
    "\n",
    "```E = -0.6603737287187401 @ χ = 80, maximum(trunc_sv_arr) = 5.975686042268443e-5 \n",
    "E = -0.6603737358938596 @ χ = 60, maximum(trunc_sv_arr) = 0.00012481759922763688\n",
    "E = -0.6603737799922393 @ χ = 40, maximum(trunc_sv_arr) = 0.00031194042937930866\n",
    "E = -0.6603736187795066 @ χ = 30, maximum(trunc_sv_arr) = 0.0006405720791402293\n",
    "E = -0.6603724597506875 @ χ = 26, maximum(trunc_sv_arr) = 0.0009362616891090525\n",
    "E = -0.6603639207050201 @ χ = 20, maximum(trunc_sv_arr) = 0.0020002907780533145\n",
    "E = -0.6603793732337668 @ χ = 16, maximum(trunc_sv_arr) = 0.003927764975811235\n",
    "\n",
    "\n",
    "E = -0.6603737141782002 @ χ = 80, maximum(trunc_sv_arr) = 8.859010589321488e-5\n",
    "E = -0.6603736039935315 @ χ = 60, maximum(trunc_sv_arr) = 0.00018689030517925998\n",
    "E = -0.6603739415374238 @ χ = 40, maximum(trunc_sv_arr) = 0.0004921465970557896\n",
    "E = -0.6603749442733124 @ χ = 30, maximum(trunc_sv_arr) = 0.0011953646129798726\n",
    "E = -0.6603675868543281 @ χ = 26, maximum(trunc_sv_arr) = 0.00172234383475717\n",
    "E = -0.6603589442727148 @ χ = 20, maximum(trunc_sv_arr) = 0.003446092986088426\n",
    "E = -0.6603566068572576 @ χ = 16, maximum(trunc_sv_arr) = 0.005807880961672133\n"
   ]
  },
  {
   "cell_type": "markdown",
   "metadata": {},
   "source": [
    "the function energy_and_gradient is needed for the variational optimization. It calculates the gradient at the fixed point of the CTM-RG iteration.\\\n",
    "It takes the same basic arguments as the function `ctmrg()`.\\\n",
    "It returns the the energy of the state as well as the gradient."
   ]
  },
  {
   "cell_type": "code",
   "execution_count": 7,
   "metadata": {},
   "outputs": [
    {
     "name": "stdout",
     "output_type": "stream",
     "text": [
      "Info: it took 7 CTMRG steps to converge the SV to 1.0e-6\n",
      "Info: it took 9 CTMRG steps to converge the environments element wise to 1e-6\n"
     ]
    },
    {
     "data": {
      "text/plain": [
       "(0.05835949725883433, TrivialTensorMap{ComplexSpace, 2, 3, Matrix{ComplexF64}}[TensorMap((ℂ^2 ⊗ ℂ^2) ← (ℂ^2 ⊗ ℂ^2 ⊗ (ℂ^8)')):\n",
       "[:, :, 1, 1, 1] =\n",
       "  0.005567336781907214 - 0.005928765469616716im  …  -0.011149634650720865 + 0.0008064632806587432im\n",
       " -0.009253694487588986 + 0.005699052994547947im      0.000884248082163431 - 0.005658914024379508im\n",
       "\n",
       "[:, :, 2, 1, 1] =\n",
       "    0.005345280354359748 + 0.004893615837566665im  …  0.0032025433049552104 + 0.019478296965699804im\n",
       " -0.00012230788185149379 - 0.011215039221434029im     -0.003279985624458958 - 0.019177259950587985im\n",
       "\n",
       "[:, :, 1, 2, 1] =\n",
       " -0.004488824711170353 - 0.04542528779528124im   …   -0.01654444849230413 + 0.007929681895767971im\n",
       "   0.02376771964358964 + 0.002597945232798498im     -0.018211870337401483 + 0.006592175110660186im\n",
       "\n",
       "[:, :, 2, 2, 1] =\n",
       " -0.0022524938588201443 + 0.025286454838490048im  …   0.024012675041133535 + 0.0005035327813669156im\n",
       "   0.023100150207924986 - 0.017252341543150307im     -0.004726127525362619 - 0.019485953029543493im\n",
       "\n",
       "[:, :, 1, 1, 2] =\n",
       " 0.005133872409238273 - 0.0007437122671239162im  …  -0.0057684996497240895 - 0.00021333426740711604im\n",
       "  0.03791719491306478 + 0.019222230850930676im        0.009602188557730727 + 0.010918012470401896im\n",
       "\n",
       "[:, :, 2, 1, 2] =\n",
       " -0.0006372657478312786 - 0.024251152016517914im  …  -0.04782350677553524 - 0.019064056052303952im\n",
       "  0.0029334598038408335 + 0.012824384823264201im     0.023873321042371696 - 0.015413123121935431im\n",
       "\n",
       "[:, :, 1, 2, 2] =\n",
       " -0.015936390220935383 - 0.030563040559074665im  …  -0.017488067218796317 + 0.0093097995343917im\n",
       "   0.02077110468431607 - 0.012876392784394867im        0.0074121014914495 - 0.03244341103262052im\n",
       "\n",
       "[:, :, 2, 2, 2] =\n",
       " 0.012727502298272934 + 0.011234856178726469im  …     0.0863626139863017 + 0.02873592357073582im\n",
       " 0.023336235397257366 + 0.016736668776950174im     -0.027620330632963794 - 0.05977502880591757im\n",
       "\n",
       "[:, :, 1, 1, 3] =\n",
       " 0.024533031296030443 - 0.007693214697354739im  …  -0.029339520134782058 + 0.00301675425847211im\n",
       " -0.04295985896335718 - 0.005425421975350769im      0.026972036085545787 + 0.01683387265793655im\n",
       "\n",
       "[:, :, 2, 1, 3] =\n",
       " -0.004315909785919571 - 0.006915221877501855im  …  -0.000878839536720377 + 0.011631657527848666im\n",
       "  -0.00320501867857127 - 0.04753419968059525im        -0.0490271247272316 - 0.025990118442919045im\n",
       "\n",
       "[:, :, 1, 2, 3] =\n",
       " 0.009948425603312699 + 0.01738354484827257im   …    0.07134790380990944 + 0.02746291302298566im\n",
       " 0.053684646986412676 + 0.015457369071411434im     -0.012355261257066671 - 0.006778137300990317im\n",
       "\n",
       "[:, :, 2, 2, 3] =\n",
       "  0.01494492609190376 - 0.015547297524333962im  …  -0.004828316691954389 + 0.03424566276734754im\n",
       " 0.023042156959789797 + 0.008115987658358664im      0.013364810707510525 - 0.009700704480119822im\n",
       "\n",
       "[:, :, 1, 1, 4] =\n",
       " -0.01009032418690481 - 0.019366339478275405im  …   0.023257375330790392 - 0.02660938195814487im\n",
       "  0.02382348483042499 + 0.003539749383400491im     -0.021389016702504673 + 0.033260205672874445im\n",
       "\n",
       "[:, :, 2, 1, 4] =\n",
       " -0.009199890480564172 + 0.0013223307252807032im  …  0.0021060130440088637 - 0.009721256917087669im\n",
       "  0.009364648606715535 - 0.010967372147019056im       0.028337015812322213 + 0.022449389754806426im\n",
       "\n",
       "[:, :, 1, 2, 4] =\n",
       "  0.03868909642779252 + 0.0048598412451993775im  …  -0.037171404081268136 - 0.023205319761121838im\n",
       " 0.012321956817852274 + 0.0023040955594369208im      -0.04890941022692969 + 0.02634724951005799im\n",
       "\n",
       "[:, :, 2, 2, 4] =\n",
       " 0.0014123959977253627 - 0.019962954734974933im   …    0.0845707734660765 - 0.04022586011472382im\n",
       " -0.014892542164459005 + 0.0026234315058853703im     -0.08193466882940947 - 0.00602099828736405im\n",
       "\n",
       "[:, :, 1, 1, 5] =\n",
       " -0.015457327309512409 + 0.020218607746438792im  …     0.03422421320217913 - 0.014209597275678445im\n",
       " 0.0039015680322387687 + 0.014547628079073139im     -0.0029612154090175435 + 0.022218534831527168im\n",
       "\n",
       "[:, :, 2, 1, 5] =\n",
       " -0.009743639150067068 + 0.022010719641404646im  …  0.019289389285009183 + 0.05194993257113064im\n",
       "   0.01666234780163381 + 0.016454740914875386im      0.03541425259909231 - 0.02652487536506986im\n",
       "\n",
       "[:, :, 1, 2, 5] =\n",
       "    0.02307963233099526 + 0.013548105583673186im  …    -0.0567138285750747 - 0.029054223460835683im\n",
       " -0.0024808585081969193 + 0.027452786893129962im     -0.006655833690335049 + 0.08899314840610832im\n",
       "\n",
       "[:, :, 2, 2, 5] =\n",
       " -0.009011033348751247 - 0.005932725008310679im   …  -0.0036074690283574356 + 0.04155265295978724im\n",
       "  0.012828449516382238 - 0.0031259790372305763im        -0.0503517540898544 - 0.004331385644673778im\n",
       "\n",
       "[:, :, 1, 1, 6] =\n",
       " -0.017601058178084838 + 0.0037967660595831653im  …  -0.021744421684394527 + 0.009814473729615511im\n",
       " -0.004213476798280439 + 0.012248438332215951im       0.013548860630356927 - 0.01172082048092452im\n",
       "\n",
       "[:, :, 2, 1, 6] =\n",
       "  0.007861093094938836 - 0.010359925153661327im  …  0.0014137316876913135 - 0.009075317626522725im\n",
       " -0.030063898468412304 + 0.01014198484051098im        0.01818000448759493 + 0.012528463867043925im\n",
       "\n",
       "[:, :, 1, 2, 6] =\n",
       " -0.04559328172920793 - 0.043602136365510115im  …  -0.011074253197832137 - 0.02454633711313085im\n",
       "  0.03590098909379981 + 0.07057571834108946im      0.0049477097990377914 + 0.0038539265354583887im\n",
       "\n",
       "[:, :, 2, 2, 6] =\n",
       " 0.0005986956603038474 - 0.001727893376874957im  …    0.07609705099676801 + 0.029415283726827317im\n",
       "  -0.01990609318894752 - 0.03192484651475387im      -0.019962771380650408 + 0.007699687144026146im\n",
       "\n",
       "[:, :, 1, 1, 7] =\n",
       " -0.0012524497349591644 - 9.808183485971368e-5im  …   0.01800145917385963 + 0.025390210347432496im\n",
       "  -0.005663257991183362 - 0.026720726949081im        -0.00848565124574526 - 0.031719286892361434im\n",
       "\n",
       "[:, :, 2, 1, 7] =\n",
       " -0.005565354178432144 + 0.01806467686261953im   …   0.019839928114543506 - 0.011227397056643055im\n",
       "  0.013630170856787588 - 0.012070633599068232im     -0.049027323799061405 + 0.0038330846145260395im\n",
       "\n",
       "[:, :, 1, 2, 7] =\n",
       " -0.0033018048284811784 + 0.012893017048554186im  …  -0.025909424363645534 + 0.024129281257569454im\n",
       "   0.015542166957912124 + 0.011850301638405952im      0.024254478761256963 + 0.008250051793264355im\n",
       "\n",
       "[:, :, 2, 2, 7] =\n",
       " -0.023154540999934452 + 0.037449323399889024im  …  0.028274202425706715 - 0.024458270324047373im\n",
       " -0.010236228450849937 - 0.018061993033292267im      -0.0452182729070875 + 0.015820615479698614im\n",
       "\n",
       "[:, :, 1, 1, 8] =\n",
       " -0.014053401582888241 - 0.01957784478219839im  …  0.026407835319327493 + 0.02006392208224583im\n",
       " -0.019293041466944737 + 0.01956833814391834im     -0.03769014990363242 - 0.019493084212751942im\n",
       "\n",
       "[:, :, 2, 1, 8] =\n",
       " -0.01678550299946465 + 0.026151545820555566im  …  -0.007057028304999041 - 0.029979446043845902im\n",
       " 0.026008259937589227 - 0.016571037283351433im      0.043614020527314404 + 0.03409210746141585im\n",
       "\n",
       "[:, :, 1, 2, 8] =\n",
       " -0.009588016949732775 + 0.0042420087209898176im  …    0.03271407638722139 - 0.03979644503575725im\n",
       "  0.025462395444177863 + 0.0009664611139770805im     -0.009870436045037219 + 0.1013762581073567im\n",
       "\n",
       "[:, :, 2, 2, 8] =\n",
       "  0.025784742771498437 + 0.0349267177924735im     …  -0.043662197975734826 + 0.02735608303910655im\n",
       " -0.017416364933568726 + 0.0030026153906542955im       0.06357998767231589 - 0.06375833399306827im\n",
       "], nothing, 9.0)"
      ]
     },
     "metadata": {},
     "output_type": "display_data"
    }
   ],
   "source": [
    "e, gr = energy_and_gradient(loc_in, χ, Pattern_arr; keywords...)"
   ]
  },
  {
   "cell_type": "markdown",
   "metadata": {},
   "source": [
    "Some additional notes (skip on first reading):\n",
    "\n",
    "1. With the option svd_type = :GKL one can enable the iterative calculation of the singular values during the CTMRG algorithm.\n",
    "This can be substantially faster for larger bond dimensions.\n",
    "Note that in some cases, the GKL algorithm, that can be used for the SVD in the calculation of the projectors finds invariant subspaces and fails. \n",
    "In these cases the code will fall back to conventional SVD algorithms.\n",
    "\n",
    "In the \"energy_and_gradient\" function as well as in the \"ctmrg\" function we have a keyword \"adjust_χ\" which is by default set to false. In that case the \n",
    "function works normally. However if we do not set the keyword to false but give instead a tuple, during the CTMRG routine the algorithm automatically increases the bond dimension\n",
    "up to a maximal value \"χ_max\". This happens whenever the truncation error \"err_trunc\" that we obtain in the creation of the projectors is larger than a choosen tolerance err_tol.\n",
    "Thus we set the keyword to \"adjust_χ = (err_tol, χ_max)\" in case we want the bond dimension to be increased during the optimization.\n",
    "\n",
    "Now there are two ways to call the \"energy_and_gradient\" function.\\\n",
    "you can use:\\\n",
    "1. e, gr = energy_and_gradient(loc_in, χ, Pattern_arr; keywords...)\\\n",
    "This version is the standart version. It takes a (local PEPS, environment bond dimension, a pattern array for the unit cell; a bunch of keywords)\n",
    "\n",
    "2. e, gr = energy_and_gradient(loc_in, χ, Pattern_arr, keywords; adjust_χ = false)\\\n",
    "In this version the only thing to be specified by keyword is \"adjust_χ\" which is either false of (max_χ, tol)\\\n",
    "TWO IMPORTANT CAVEATS:\\\n",
    "a) in this case χ needs to be an array as [χ]. This is needed for dynamical increase of χ (it needs to be a mutable type e.g. array)\\\n",
    "b) We can still specify the options that were previously specified by keywords. We just pass a tuple (named tuple actually) that contains the keywords we want\\\n",
    "to specify.\\\n",
    "THE SECOND OPTION IS JUST A WRAPPER AROUND THE FIRST VERSION WHICH RETURNS THE ADJUSTED χ VALUE IF IT IS INCREASED. THIS IS NEEDED FOR DYNAMICAL χ INCREASE.\\\n"
   ]
  },
  {
   "cell_type": "markdown",
   "metadata": {},
   "source": [
    "Now we should the above functions to variationally find the best d=2 approximation to the ground state of the Heisenberg antiferromagnet.\n",
    "\n",
    "For this we can use gradient based optimizers like L-BFGS. They are implemented in different packages, here we use OptimKit.jl. (an alternative would be Optim.jl)\\\n",
    "for the optimization we need the following two functions:"
   ]
  },
  {
   "cell_type": "code",
   "execution_count": 8,
   "metadata": {},
   "outputs": [
    {
     "data": {
      "text/plain": [
       "_inner (generic function with 1 method)"
      ]
     },
     "metadata": {},
     "output_type": "display_data"
    }
   ],
   "source": [
    "function _finalize!(x,f,g, numiter)\n",
    "    \n",
    "    \n",
    "    flush(stdout) #this just makes it so the output does not appear all at once.\n",
    "    flush(stderr)\n",
    "\n",
    "    \n",
    "    #here we could save e.g. intermediate output.\n",
    "    \n",
    "    return x, f, g\n",
    "end\n",
    "\n",
    "function _inner(x, ξ_1, ξ_2)\n",
    "    return dot(real(ξ_1), real(ξ_2)) + dot(imag(ξ_1), imag(ξ_2))\n",
    "end"
   ]
  },
  {
   "cell_type": "markdown",
   "metadata": {},
   "source": [
    "we specify the parameters that are used in the optimization. "
   ]
  },
  {
   "cell_type": "code",
   "execution_count": 9,
   "metadata": {},
   "outputs": [
    {
     "data": {
      "text/plain": [
       "(finalize! = _finalize!, inner = _inner)"
      ]
     },
     "metadata": {},
     "output_type": "display_data"
    }
   ],
   "source": [
    "optimparas1 = (gradtol = 1e-5, verbosity = 2, maxiter = 100, linesearch = HagerZhangLineSearch(; c₁ = 1e-4, c₂ = 0.9, maxiter = 40))\n",
    "kwargs = (finalize! = _finalize!, inner = _inner)"
   ]
  },
  {
   "cell_type": "markdown",
   "metadata": {},
   "source": [
    "Here we call the function that optimizes based on our gradient function.\\\n",
    "This function returns the approximation to the ground state `x` found in this procedure, the ground state energy `e` as well as information on the convergence.\\\n",
    "Below we plot some of the results."
   ]
  },
  {
   "cell_type": "code",
   "execution_count": 10,
   "metadata": {},
   "outputs": [
    {
     "name": "stdout",
     "output_type": "stream",
     "text": [
      "Info: it took 7 CTMRG steps to converge the SV to 1.0e-6\n",
      "Info: it took 9 CTMRG steps to converge the environments element wise to 1e-6\n"
     ]
    },
    {
     "name": "stderr",
     "output_type": "stream",
     "text": [
      "┌ Info: LBFGS: initializing with f = 0.058346794754, ‖∇f‖ = 4.3473e-01\n",
      "└ @ OptimKit /Users/weerde/.julia/packages/OptimKit/xpmbV/src/lbfgs.jl:35\n"
     ]
    },
    {
     "name": "stdout",
     "output_type": "stream",
     "text": [
      "Info: it took 8 CTMRG steps to converge the SV to 1.0e-6\n",
      "Info: it took 11 CTMRG steps to converge the environments element wise to 1e-6\n"
     ]
    },
    {
     "name": "stderr",
     "output_type": "stream",
     "text": [
      "┌ Info: LBFGS: iter    1: f = -0.554419760558, ‖∇f‖ = 2.8144e-01, α = 1.00e+00, m = 0, nfg = 1\n",
      "└ @ OptimKit /Users/weerde/.julia/packages/OptimKit/xpmbV/src/lbfgs.jl:76\n"
     ]
    },
    {
     "name": "stdout",
     "output_type": "stream",
     "text": [
      "Info: it took 10 CTMRG steps to converge the SV to 1.0e-6\n",
      "Info: it took 12 CTMRG steps to converge the environments element wise to 1e-6\n",
      "Info: it took 9 CTMRG steps to converge the SV to 1.0e-6\n"
     ]
    },
    {
     "name": "stderr",
     "output_type": "stream",
     "text": [
      "┌ Info: LBFGS: iter    2: f = -0.843632920567, ‖∇f‖ = 2.0910e-01, α = 1.00e+00, m = 1, nfg = 1\n",
      "└ @ OptimKit /Users/weerde/.julia/packages/OptimKit/xpmbV/src/lbfgs.jl:76\n"
     ]
    },
    {
     "name": "stdout",
     "output_type": "stream",
     "text": [
      "Info: it took 12 CTMRG steps to converge the environments element wise to 1e-6\n",
      "Info: it took 9 CTMRG steps to converge the SV to 1.0e-6\n",
      "Info: it took 12 CTMRG steps to converge the environments element wise to 1e-6\n"
     ]
    },
    {
     "name": "stderr",
     "output_type": "stream",
     "text": [
      "┌ Info: LBFGS: iter    3: f = -0.983997283803, ‖∇f‖ = 6.8995e-02, α = 1.00e+00, m = 2, nfg = 1\n",
      "└ @ OptimKit /Users/weerde/.julia/packages/OptimKit/xpmbV/src/lbfgs.jl:76\n"
     ]
    },
    {
     "name": "stdout",
     "output_type": "stream",
     "text": [
      "Info: it took 8 CTMRG steps to converge the SV to 1.0e-6\n",
      "Info: it took 10 CTMRG steps to converge the environments element wise to 1e-6\n"
     ]
    },
    {
     "name": "stderr",
     "output_type": "stream",
     "text": [
      "┌ Info: LBFGS: iter    4: f = -1.012402545025, ‖∇f‖ = 5.0095e-02, α = 1.00e+00, m = 3, nfg = 1\n",
      "└ @ OptimKit /Users/weerde/.julia/packages/OptimKit/xpmbV/src/lbfgs.jl:76\n"
     ]
    },
    {
     "name": "stdout",
     "output_type": "stream",
     "text": [
      "Info: it took 7 CTMRG steps to converge the SV to 1.0e-6\n",
      "Info: it took 9 CTMRG steps to converge the environments element wise to 1e-6\n"
     ]
    },
    {
     "name": "stderr",
     "output_type": "stream",
     "text": [
      "┌ Info: LBFGS: iter    5: f = -1.055459108491, ‖∇f‖ = 5.1164e-02, α = 1.00e+00, m = 4, nfg = 1\n",
      "└ @ OptimKit /Users/weerde/.julia/packages/OptimKit/xpmbV/src/lbfgs.jl:76\n"
     ]
    },
    {
     "name": "stdout",
     "output_type": "stream",
     "text": [
      "Info: it took 6 CTMRG steps to converge the SV to 1.0e-6\n",
      "Info: it took 9 CTMRG steps to converge the environments element wise to 1e-6\n"
     ]
    },
    {
     "name": "stderr",
     "output_type": "stream",
     "text": [
      "┌ Info: LBFGS: iter    6: f = -1.085314581258, ‖∇f‖ = 6.9696e-02, α = 1.00e+00, m = 5, nfg = 1\n",
      "└ @ OptimKit /Users/weerde/.julia/packages/OptimKit/xpmbV/src/lbfgs.jl:76\n"
     ]
    },
    {
     "name": "stdout",
     "output_type": "stream",
     "text": [
      "Info: it took 6 CTMRG steps to converge the SV to 1.0e-6\n",
      "Info: it took 9 CTMRG steps to converge the environments element wise to 1e-6\n"
     ]
    },
    {
     "name": "stderr",
     "output_type": "stream",
     "text": [
      "┌ Info: LBFGS: iter    7: f = -1.112968539254, ‖∇f‖ = 3.0973e-02, α = 1.00e+00, m = 6, nfg = 1\n",
      "└ @ OptimKit /Users/weerde/.julia/packages/OptimKit/xpmbV/src/lbfgs.jl:76\n"
     ]
    },
    {
     "name": "stdout",
     "output_type": "stream",
     "text": [
      "Info: it took 6 CTMRG steps to converge the SV to 1.0e-6\n",
      "Info: it took 7 CTMRG steps to converge the environments element wise to 1e-6\n"
     ]
    },
    {
     "name": "stderr",
     "output_type": "stream",
     "text": [
      "┌ Info: LBFGS: iter    8: f = -1.127867626480, ‖∇f‖ = 2.3100e-02, α = 1.00e+00, m = 7, nfg = 1\n",
      "└ @ OptimKit /Users/weerde/.julia/packages/OptimKit/xpmbV/src/lbfgs.jl:76\n"
     ]
    },
    {
     "name": "stdout",
     "output_type": "stream",
     "text": [
      "Info: it took 7 CTMRG steps to converge the SV to 1.0e-6\n",
      "Info: it took 8 CTMRG steps to converge the environments element wise to 1e-6\n"
     ]
    },
    {
     "name": "stderr",
     "output_type": "stream",
     "text": [
      "┌ Info: LBFGS: iter    9: f = -1.150278988187, ‖∇f‖ = 2.5003e-02, α = 1.00e+00, m = 8, nfg = 1\n",
      "└ @ OptimKit /Users/weerde/.julia/packages/OptimKit/xpmbV/src/lbfgs.jl:76\n"
     ]
    },
    {
     "name": "stdout",
     "output_type": "stream",
     "text": [
      "Info: it took 8 CTMRG steps to converge the SV to 1.0e-6\n",
      "Info: it took 9 CTMRG steps to converge the environments element wise to 1e-6\n"
     ]
    },
    {
     "name": "stderr",
     "output_type": "stream",
     "text": [
      "┌ Info: LBFGS: iter   10: f = -1.168542575759, ‖∇f‖ = 3.4496e-02, α = 1.00e+00, m = 9, nfg = 1\n",
      "└ @ OptimKit /Users/weerde/.julia/packages/OptimKit/xpmbV/src/lbfgs.jl:76\n"
     ]
    },
    {
     "name": "stdout",
     "output_type": "stream",
     "text": [
      "Info: it took 8 CTMRG steps to converge the SV to 1.0e-6\n",
      "Info: it took 9 CTMRG steps to converge the environments element wise to 1e-6\n"
     ]
    },
    {
     "name": "stderr",
     "output_type": "stream",
     "text": [
      "┌ Info: LBFGS: iter   11: f = -1.180900666288, ‖∇f‖ = 1.9429e-02, α = 1.00e+00, m = 10, nfg = 1\n",
      "└ @ OptimKit /Users/weerde/.julia/packages/OptimKit/xpmbV/src/lbfgs.jl:76\n"
     ]
    },
    {
     "name": "stdout",
     "output_type": "stream",
     "text": [
      "Info: it took 7 CTMRG steps to converge the SV to 1.0e-6\n",
      "Info: it took 9 CTMRG steps to converge the environments element wise to 1e-6\n"
     ]
    },
    {
     "name": "stderr",
     "output_type": "stream",
     "text": [
      "┌ Info: LBFGS: iter   12: f = -1.187270366120, ‖∇f‖ = 1.2623e-02, α = 1.00e+00, m = 11, nfg = 1\n",
      "└ @ OptimKit /Users/weerde/.julia/packages/OptimKit/xpmbV/src/lbfgs.jl:76\n"
     ]
    },
    {
     "name": "stdout",
     "output_type": "stream",
     "text": [
      "Info: it took 7 CTMRG steps to converge the SV to 1.0e-6\n",
      "Info: it took 9 CTMRG steps to converge the environments element wise to 1e-6\n"
     ]
    },
    {
     "name": "stderr",
     "output_type": "stream",
     "text": [
      "┌ Info: LBFGS: iter   13: f = -1.194503952123, ‖∇f‖ = 9.6806e-03, α = 1.00e+00, m = 12, nfg = 1\n",
      "└ @ OptimKit /Users/weerde/.julia/packages/OptimKit/xpmbV/src/lbfgs.jl:76\n"
     ]
    },
    {
     "name": "stdout",
     "output_type": "stream",
     "text": [
      "Info: it took 6 CTMRG steps to converge the SV to 1.0e-6\n",
      "Info: it took 8 CTMRG steps to converge the environments element wise to 1e-6\n"
     ]
    },
    {
     "name": "stderr",
     "output_type": "stream",
     "text": [
      "┌ Info: LBFGS: iter   14: f = -1.199411518944, ‖∇f‖ = 1.1125e-02, α = 1.00e+00, m = 13, nfg = 1\n",
      "└ @ OptimKit /Users/weerde/.julia/packages/OptimKit/xpmbV/src/lbfgs.jl:76\n"
     ]
    },
    {
     "name": "stdout",
     "output_type": "stream",
     "text": [
      "Info: it took 6 CTMRG steps to converge the SV to 1.0e-6\n",
      "Info: it took 8 CTMRG steps to converge the environments element wise to 1e-6\n"
     ]
    },
    {
     "name": "stderr",
     "output_type": "stream",
     "text": [
      "┌ Info: LBFGS: iter   15: f = -1.203403201178, ‖∇f‖ = 1.0419e-02, α = 1.00e+00, m = 14, nfg = 1\n",
      "└ @ OptimKit /Users/weerde/.julia/packages/OptimKit/xpmbV/src/lbfgs.jl:76\n"
     ]
    },
    {
     "name": "stdout",
     "output_type": "stream",
     "text": [
      "Info: it took 6 CTMRG steps to converge the SV to 1.0e-6\n",
      "Info: it took 8 CTMRG steps to converge the environments element wise to 1e-6\n"
     ]
    },
    {
     "name": "stderr",
     "output_type": "stream",
     "text": [
      "┌ Info: LBFGS: iter   16: f = -1.206420492568, ‖∇f‖ = 6.6492e-03, α = 1.00e+00, m = 15, nfg = 1\n",
      "└ @ OptimKit /Users/weerde/.julia/packages/OptimKit/xpmbV/src/lbfgs.jl:76\n"
     ]
    },
    {
     "name": "stdout",
     "output_type": "stream",
     "text": [
      "Info: it took 7 CTMRG steps to converge the SV to 1.0e-6\n",
      "Info: it took 9 CTMRG steps to converge the environments element wise to 1e-6\n"
     ]
    },
    {
     "name": "stderr",
     "output_type": "stream",
     "text": [
      "┌ Info: LBFGS: iter   17: f = -1.209550535418, ‖∇f‖ = 5.3061e-03, α = 1.00e+00, m = 15, nfg = 1\n",
      "└ @ OptimKit /Users/weerde/.julia/packages/OptimKit/xpmbV/src/lbfgs.jl:76\n"
     ]
    },
    {
     "name": "stdout",
     "output_type": "stream",
     "text": [
      "Info: it took 7 CTMRG steps to converge the SV to 1.0e-6\n",
      "Info: it took 8 CTMRG steps to converge the environments element wise to 1e-6\n"
     ]
    },
    {
     "name": "stderr",
     "output_type": "stream",
     "text": [
      "┌ Info: LBFGS: iter   18: f = -1.210694018895, ‖∇f‖ = 6.9837e-03, α = 1.00e+00, m = 15, nfg = 1\n",
      "└ @ OptimKit /Users/weerde/.julia/packages/OptimKit/xpmbV/src/lbfgs.jl:76\n"
     ]
    },
    {
     "name": "stdout",
     "output_type": "stream",
     "text": [
      "Info: it took 7 CTMRG steps to converge the SV to 1.0e-6\n",
      "Info: it took 8 CTMRG steps to converge the environments element wise to 1e-6\n"
     ]
    },
    {
     "name": "stderr",
     "output_type": "stream",
     "text": [
      "┌ Info: LBFGS: iter   19: f = -1.211762957562, ‖∇f‖ = 3.6642e-03, α = 1.00e+00, m = 15, nfg = 1\n",
      "└ @ OptimKit /Users/weerde/.julia/packages/OptimKit/xpmbV/src/lbfgs.jl:76\n"
     ]
    },
    {
     "name": "stdout",
     "output_type": "stream",
     "text": [
      "Info: it took 6 CTMRG steps to converge the SV to 1.0e-6\n",
      "Info: it took 8 CTMRG steps to converge the environments element wise to 1e-6\n"
     ]
    },
    {
     "name": "stderr",
     "output_type": "stream",
     "text": [
      "┌ Info: LBFGS: iter   20: f = -1.212450642663, ‖∇f‖ = 2.2386e-03, α = 1.00e+00, m = 15, nfg = 1\n",
      "└ @ OptimKit /Users/weerde/.julia/packages/OptimKit/xpmbV/src/lbfgs.jl:76\n"
     ]
    },
    {
     "name": "stdout",
     "output_type": "stream",
     "text": [
      "Info: it took 7 CTMRG steps to converge the SV to 1.0e-6\n",
      "Info: it took 8 CTMRG steps to converge the environments element wise to 1e-6\n"
     ]
    },
    {
     "name": "stderr",
     "output_type": "stream",
     "text": [
      "┌ Info: LBFGS: iter   21: f = -1.212774739569, ‖∇f‖ = 2.2285e-03, α = 1.00e+00, m = 15, nfg = 1\n",
      "└ @ OptimKit /Users/weerde/.julia/packages/OptimKit/xpmbV/src/lbfgs.jl:76\n"
     ]
    },
    {
     "name": "stdout",
     "output_type": "stream",
     "text": [
      "Info: it took 7 CTMRG steps to converge the SV to 1.0e-6\n",
      "Info: it took 8 CTMRG steps to converge the environments element wise to 1e-6\n"
     ]
    },
    {
     "name": "stderr",
     "output_type": "stream",
     "text": [
      "┌ Info: LBFGS: iter   22: f = -1.212983874347, ‖∇f‖ = 3.4754e-03, α = 1.00e+00, m = 15, nfg = 1\n",
      "└ @ OptimKit /Users/weerde/.julia/packages/OptimKit/xpmbV/src/lbfgs.jl:76\n"
     ]
    },
    {
     "name": "stdout",
     "output_type": "stream",
     "text": [
      "Info: it took 7 CTMRG steps to converge the SV to 1.0e-6\n",
      "Info: it took 9 CTMRG steps to converge the environments element wise to 1e-6\n"
     ]
    },
    {
     "name": "stderr",
     "output_type": "stream",
     "text": [
      "┌ Info: LBFGS: iter   23: f = -1.213203181153, ‖∇f‖ = 1.2713e-03, α = 1.00e+00, m = 15, nfg = 1\n",
      "└ @ OptimKit /Users/weerde/.julia/packages/OptimKit/xpmbV/src/lbfgs.jl:76\n"
     ]
    },
    {
     "name": "stdout",
     "output_type": "stream",
     "text": [
      "Info: it took 7 CTMRG steps to converge the SV to 1.0e-6\n",
      "Info: it took 9 CTMRG steps to converge the environments element wise to 1e-6\n"
     ]
    },
    {
     "name": "stderr",
     "output_type": "stream",
     "text": [
      "┌ Info: LBFGS: iter   24: f = -1.213272996816, ‖∇f‖ = 1.0360e-03, α = 1.00e+00, m = 15, nfg = 1\n",
      "└ @ OptimKit /Users/weerde/.julia/packages/OptimKit/xpmbV/src/lbfgs.jl:76\n"
     ]
    },
    {
     "name": "stdout",
     "output_type": "stream",
     "text": [
      "Info: it took 7 CTMRG steps to converge the SV to 1.0e-6\n",
      "Info: it took 9 CTMRG steps to converge the environments element wise to 1e-6\n"
     ]
    },
    {
     "name": "stderr",
     "output_type": "stream",
     "text": [
      "┌ Info: LBFGS: iter   25: f = -1.213357641410, ‖∇f‖ = 1.0787e-03, α = 1.00e+00, m = 15, nfg = 1\n",
      "└ @ OptimKit /Users/weerde/.julia/packages/OptimKit/xpmbV/src/lbfgs.jl:76\n"
     ]
    },
    {
     "name": "stdout",
     "output_type": "stream",
     "text": [
      "Info: it took 7 CTMRG steps to converge the SV to 1.0e-6\n",
      "Info: it took 9 CTMRG steps to converge the environments element wise to 1e-6\n"
     ]
    },
    {
     "name": "stderr",
     "output_type": "stream",
     "text": [
      "┌ Info: LBFGS: iter   26: f = -1.213434100494, ‖∇f‖ = 1.7366e-03, α = 1.00e+00, m = 15, nfg = 1\n",
      "└ @ OptimKit /Users/weerde/.julia/packages/OptimKit/xpmbV/src/lbfgs.jl:76\n"
     ]
    },
    {
     "name": "stdout",
     "output_type": "stream",
     "text": [
      "Info: it took 7 CTMRG steps to converge the SV to 1.0e-6\n",
      "Info: it took 9 CTMRG steps to converge the environments element wise to 1e-6\n"
     ]
    },
    {
     "name": "stderr",
     "output_type": "stream",
     "text": [
      "┌ Info: LBFGS: iter   27: f = -1.213502461506, ‖∇f‖ = 7.8693e-04, α = 1.00e+00, m = 15, nfg = 1\n",
      "└ @ OptimKit /Users/weerde/.julia/packages/OptimKit/xpmbV/src/lbfgs.jl:76\n"
     ]
    },
    {
     "name": "stdout",
     "output_type": "stream",
     "text": [
      "Info: it took 7 CTMRG steps to converge the SV to 1.0e-6\n",
      "Info: it took 9 CTMRG steps to converge the environments element wise to 1e-6\n"
     ]
    },
    {
     "name": "stderr",
     "output_type": "stream",
     "text": [
      "┌ Info: LBFGS: iter   28: f = -1.213531021400, ‖∇f‖ = 5.4917e-04, α = 1.00e+00, m = 15, nfg = 1\n",
      "└ @ OptimKit /Users/weerde/.julia/packages/OptimKit/xpmbV/src/lbfgs.jl:76\n"
     ]
    },
    {
     "name": "stdout",
     "output_type": "stream",
     "text": [
      "Info: it took 6 CTMRG steps to converge the SV to 1.0e-6\n",
      "Info: it took 9 CTMRG steps to converge the environments element wise to 1e-6\n"
     ]
    },
    {
     "name": "stderr",
     "output_type": "stream",
     "text": [
      "┌ Info: LBFGS: iter   29: f = -1.213558242913, ‖∇f‖ = 6.0258e-04, α = 1.00e+00, m = 15, nfg = 1\n",
      "└ @ OptimKit /Users/weerde/.julia/packages/OptimKit/xpmbV/src/lbfgs.jl:76\n"
     ]
    },
    {
     "name": "stdout",
     "output_type": "stream",
     "text": [
      "Info: it took 6 CTMRG steps to converge the SV to 1.0e-6\n",
      "Info: it took 9 CTMRG steps to converge the environments element wise to 1e-6\n"
     ]
    },
    {
     "name": "stderr",
     "output_type": "stream",
     "text": [
      "┌ Info: LBFGS: iter   30: f = -1.213572522044, ‖∇f‖ = 8.0327e-04, α = 1.00e+00, m = 15, nfg = 1\n",
      "└ @ OptimKit /Users/weerde/.julia/packages/OptimKit/xpmbV/src/lbfgs.jl:76\n"
     ]
    },
    {
     "name": "stdout",
     "output_type": "stream",
     "text": [
      "Info: it took 6 CTMRG steps to converge the SV to 1.0e-6\n",
      "Info: it took 9 CTMRG steps to converge the environments element wise to 1e-6\n"
     ]
    },
    {
     "name": "stderr",
     "output_type": "stream",
     "text": [
      "┌ Info: LBFGS: iter   31: f = -1.213585323841, ‖∇f‖ = 3.4683e-04, α = 1.00e+00, m = 15, nfg = 1\n",
      "└ @ OptimKit /Users/weerde/.julia/packages/OptimKit/xpmbV/src/lbfgs.jl:76\n"
     ]
    },
    {
     "name": "stdout",
     "output_type": "stream",
     "text": [
      "Info: it took 6 CTMRG steps to converge the SV to 1.0e-6\n",
      "Info: it took 9 CTMRG steps to converge the environments element wise to 1e-6\n"
     ]
    },
    {
     "name": "stderr",
     "output_type": "stream",
     "text": [
      "┌ Info: LBFGS: iter   32: f = -1.213591544639, ‖∇f‖ = 2.4419e-04, α = 1.00e+00, m = 15, nfg = 1\n",
      "└ @ OptimKit /Users/weerde/.julia/packages/OptimKit/xpmbV/src/lbfgs.jl:76\n"
     ]
    },
    {
     "name": "stdout",
     "output_type": "stream",
     "text": [
      "Info: it took 6 CTMRG steps to converge the SV to 1.0e-6\n",
      "Info: it took 9 CTMRG steps to converge the environments element wise to 1e-6\n"
     ]
    },
    {
     "name": "stderr",
     "output_type": "stream",
     "text": [
      "┌ Info: LBFGS: iter   33: f = -1.213595281160, ‖∇f‖ = 2.2828e-04, α = 1.00e+00, m = 15, nfg = 1\n",
      "└ @ OptimKit /Users/weerde/.julia/packages/OptimKit/xpmbV/src/lbfgs.jl:76\n"
     ]
    },
    {
     "name": "stdout",
     "output_type": "stream",
     "text": [
      "Info: it took 6 CTMRG steps to converge the SV to 1.0e-6\n",
      "Info: it took 9 CTMRG steps to converge the environments element wise to 1e-6\n"
     ]
    },
    {
     "name": "stderr",
     "output_type": "stream",
     "text": [
      "┌ Info: LBFGS: iter   34: f = -1.213598645059, ‖∇f‖ = 4.9491e-04, α = 1.00e+00, m = 15, nfg = 1\n",
      "└ @ OptimKit /Users/weerde/.julia/packages/OptimKit/xpmbV/src/lbfgs.jl:76\n"
     ]
    },
    {
     "name": "stdout",
     "output_type": "stream",
     "text": [
      "Info: it took 6 CTMRG steps to converge the SV to 1.0e-6\n",
      "Info: it took 9 CTMRG steps to converge the environments element wise to 1e-6\n"
     ]
    },
    {
     "name": "stderr",
     "output_type": "stream",
     "text": [
      "┌ Info: LBFGS: iter   35: f = -1.213602039232, ‖∇f‖ = 1.7858e-04, α = 1.00e+00, m = 15, nfg = 1\n",
      "└ @ OptimKit /Users/weerde/.julia/packages/OptimKit/xpmbV/src/lbfgs.jl:76\n"
     ]
    },
    {
     "name": "stdout",
     "output_type": "stream",
     "text": [
      "Info: it took 6 CTMRG steps to converge the SV to 1.0e-6\n",
      "Info: it took 9 CTMRG steps to converge the environments element wise to 1e-6\n"
     ]
    },
    {
     "name": "stderr",
     "output_type": "stream",
     "text": [
      "┌ Info: LBFGS: iter   36: f = -1.213602864261, ‖∇f‖ = 8.5081e-05, α = 1.00e+00, m = 15, nfg = 1\n",
      "└ @ OptimKit /Users/weerde/.julia/packages/OptimKit/xpmbV/src/lbfgs.jl:76\n"
     ]
    },
    {
     "name": "stdout",
     "output_type": "stream",
     "text": [
      "Info: it took 6 CTMRG steps to converge the SV to 1.0e-6\n",
      "Info: it took 9 CTMRG steps to converge the environments element wise to 1e-6\n"
     ]
    },
    {
     "name": "stderr",
     "output_type": "stream",
     "text": [
      "┌ Info: LBFGS: iter   37: f = -1.213603371491, ‖∇f‖ = 6.3321e-05, α = 1.00e+00, m = 15, nfg = 1\n",
      "└ @ OptimKit /Users/weerde/.julia/packages/OptimKit/xpmbV/src/lbfgs.jl:76\n"
     ]
    },
    {
     "name": "stdout",
     "output_type": "stream",
     "text": [
      "Info: it took 6 CTMRG steps to converge the SV to 1.0e-6\n",
      "Info: it took 9 CTMRG steps to converge the environments element wise to 1e-6\n"
     ]
    },
    {
     "name": "stderr",
     "output_type": "stream",
     "text": [
      "┌ Info: LBFGS: iter   38: f = -1.213603898841, ‖∇f‖ = 1.1268e-04, α = 1.00e+00, m = 15, nfg = 1\n",
      "└ @ OptimKit /Users/weerde/.julia/packages/OptimKit/xpmbV/src/lbfgs.jl:76\n"
     ]
    },
    {
     "name": "stdout",
     "output_type": "stream",
     "text": [
      "Info: it took 6 CTMRG steps to converge the SV to 1.0e-6\n",
      "Info: it took 9 CTMRG steps to converge the environments element wise to 1e-6\n"
     ]
    },
    {
     "name": "stderr",
     "output_type": "stream",
     "text": [
      "┌ Info: LBFGS: iter   39: f = -1.213604146580, ‖∇f‖ = 8.4628e-05, α = 1.00e+00, m = 15, nfg = 1\n",
      "└ @ OptimKit /Users/weerde/.julia/packages/OptimKit/xpmbV/src/lbfgs.jl:76\n"
     ]
    },
    {
     "name": "stdout",
     "output_type": "stream",
     "text": [
      "Info: it took 6 CTMRG steps to converge the SV to 1.0e-6\n",
      "Info: it took 9 CTMRG steps to converge the environments element wise to 1e-6\n"
     ]
    },
    {
     "name": "stderr",
     "output_type": "stream",
     "text": [
      "┌ Info: LBFGS: iter   40: f = -1.213604296487, ‖∇f‖ = 3.9466e-05, α = 1.00e+00, m = 15, nfg = 1\n",
      "└ @ OptimKit /Users/weerde/.julia/packages/OptimKit/xpmbV/src/lbfgs.jl:76\n"
     ]
    },
    {
     "name": "stdout",
     "output_type": "stream",
     "text": [
      "Info: it took 6 CTMRG steps to converge the SV to 1.0e-6\n",
      "Info: it took 9 CTMRG steps to converge the environments element wise to 1e-6\n"
     ]
    },
    {
     "name": "stderr",
     "output_type": "stream",
     "text": [
      "┌ Info: LBFGS: iter   41: f = -1.213604395608, ‖∇f‖ = 2.9255e-05, α = 1.00e+00, m = 15, nfg = 1\n",
      "└ @ OptimKit /Users/weerde/.julia/packages/OptimKit/xpmbV/src/lbfgs.jl:76\n"
     ]
    },
    {
     "name": "stdout",
     "output_type": "stream",
     "text": [
      "Info: it took 6 CTMRG steps to converge the SV to 1.0e-6\n",
      "Info: it took 9 CTMRG steps to converge the environments element wise to 1e-6\n"
     ]
    },
    {
     "name": "stderr",
     "output_type": "stream",
     "text": [
      "┌ Info: LBFGS: iter   42: f = -1.213604480352, ‖∇f‖ = 3.3696e-05, α = 1.00e+00, m = 15, nfg = 1\n",
      "└ @ OptimKit /Users/weerde/.julia/packages/OptimKit/xpmbV/src/lbfgs.jl:76\n"
     ]
    },
    {
     "name": "stdout",
     "output_type": "stream",
     "text": [
      "Info: it took 6 CTMRG steps to converge the SV to 1.0e-6\n",
      "Info: it took 9 CTMRG steps to converge the environments element wise to 1e-6\n"
     ]
    },
    {
     "name": "stderr",
     "output_type": "stream",
     "text": [
      "┌ Info: LBFGS: iter   43: f = -1.213604488031, ‖∇f‖ = 7.6049e-05, α = 1.00e+00, m = 15, nfg = 1\n",
      "└ @ OptimKit /Users/weerde/.julia/packages/OptimKit/xpmbV/src/lbfgs.jl:76\n"
     ]
    },
    {
     "name": "stdout",
     "output_type": "stream",
     "text": [
      "Info: it took 6 CTMRG steps to converge the SV to 1.0e-6\n",
      "Info: it took 9 CTMRG steps to converge the environments element wise to 1e-6\n"
     ]
    },
    {
     "name": "stderr",
     "output_type": "stream",
     "text": [
      "┌ Info: LBFGS: iter   44: f = -1.213604572716, ‖∇f‖ = 1.8002e-05, α = 1.00e+00, m = 15, nfg = 1\n",
      "└ @ OptimKit /Users/weerde/.julia/packages/OptimKit/xpmbV/src/lbfgs.jl:76\n"
     ]
    },
    {
     "name": "stdout",
     "output_type": "stream",
     "text": [
      "Info: it took 6 CTMRG steps to converge the SV to 1.0e-6\n",
      "Info: it took 9 CTMRG steps to converge the environments element wise to 1e-6\n"
     ]
    },
    {
     "name": "stderr",
     "output_type": "stream",
     "text": [
      "┌ Info: LBFGS: iter   45: f = -1.213604585878, ‖∇f‖ = 1.3437e-05, α = 1.00e+00, m = 15, nfg = 1\n",
      "└ @ OptimKit /Users/weerde/.julia/packages/OptimKit/xpmbV/src/lbfgs.jl:76\n"
     ]
    },
    {
     "name": "stdout",
     "output_type": "stream",
     "text": [
      "Info: it took 6 CTMRG steps to converge the SV to 1.0e-6\n",
      "Info: it took 9 CTMRG steps to converge the environments element wise to 1e-6\n"
     ]
    },
    {
     "name": "stderr",
     "output_type": "stream",
     "text": [
      "┌ Info: LBFGS: iter   46: f = -1.213604608413, ‖∇f‖ = 1.4450e-05, α = 1.00e+00, m = 15, nfg = 1\n",
      "└ @ OptimKit /Users/weerde/.julia/packages/OptimKit/xpmbV/src/lbfgs.jl:76\n"
     ]
    },
    {
     "name": "stdout",
     "output_type": "stream",
     "text": [
      "Info: it took 6 CTMRG steps to converge the SV to 1.0e-6\n",
      "Info: it took 9 CTMRG steps to converge the environments element wise to 1e-6\n"
     ]
    },
    {
     "name": "stderr",
     "output_type": "stream",
     "text": [
      "┌ Info: LBFGS: iter   47: f = -1.213604621465, ‖∇f‖ = 2.5421e-05, α = 1.00e+00, m = 15, nfg = 1\n",
      "└ @ OptimKit /Users/weerde/.julia/packages/OptimKit/xpmbV/src/lbfgs.jl:76\n",
      "┌ Info: LBFGS: converged after 48 iterations: f = -1.213604634197, ‖∇f‖ = 8.9146e-06\n",
      "└ @ OptimKit /Users/weerde/.julia/packages/OptimKit/xpmbV/src/lbfgs.jl:138\n"
     ]
    },
    {
     "data": {
      "text/plain": [
       "(TrivialTensorMap{ComplexSpace, 2, 3, Matrix{ComplexF64}}[TensorMap((ℂ^2 ⊗ ℂ^2) ← (ℂ^2 ⊗ ℂ^2 ⊗ (ℂ^8)')):\n",
       "[:, :, 1, 1, 1] =\n",
       " -0.05585303318770048 + 0.13957333869161617im  …  -0.2651692562428464 + 0.46839666257335627im\n",
       " -0.11521761747369787 + 0.2955159604795633im       0.3276449887578741 + 0.0024389096932519692im\n",
       "\n",
       "[:, :, 2, 1, 1] =\n",
       " 0.0005609171437982964 + 0.06891447530044326im  …  -0.36060080334039785 + 0.5296002231440862im\n",
       "  -0.17004041416914298 + 0.3910046218562532im       0.40024127983872876 - 0.049570988730022594im\n",
       "\n",
       "[:, :, 1, 2, 1] =\n",
       " 0.13086348196974226 + 0.01992839054047904im  …    0.5226392997456976 - 0.1159045377546089im\n",
       "  0.2701253797040119 - 0.11320695358571657im     -0.22366695905682576 - 0.18198525877824684im\n",
       "\n",
       "[:, :, 2, 2, 1] =\n",
       " 0.07439148676875874 + 0.030177120868851416im  …   0.6042221153461318 - 0.1816614075922198im\n",
       " 0.33670316944167844 - 0.18173397712557002im      -0.3144296420125185 - 0.14850929622017847im\n",
       "\n",
       "[:, :, 1, 1, 2] =\n",
       " -0.10141130410278776 + 0.02212764104420604im  …  -0.5139160928768882 + 0.38446915511823937im\n",
       " -0.24021723887159716 + 0.4334236185808397im       0.5771249853816893 - 0.01995811090037154im\n",
       "\n",
       "[:, :, 2, 1, 2] =\n",
       " 0.056277479972246865 - 0.12226281943767157im  …  -0.22577042685999835 + 0.3044573256085303im\n",
       "  -0.1305466183425604 + 0.41864981052842576im       0.4778095070487502 - 0.2532753700726411im\n",
       "\n",
       "[:, :, 1, 2, 2] =\n",
       " -0.5896960838427462 + 0.5853496984079316im   …  -1.0484417972540077 + 0.4769235524438056im\n",
       " -0.3752381085036866 + 0.20295355318755076im      0.3449539179419996 + 0.6992267190732628im\n",
       "\n",
       "[:, :, 2, 2, 2] =\n",
       " -0.5490430567656257 + 0.5816739417065276im   …  -1.7969854112106611 + 0.21737624113169984im\n",
       " -0.8294758608948483 + 0.20600224481077137im      0.6140218457343586 + 1.1535148091003997im\n",
       "\n",
       "[:, :, 1, 1, 3] =\n",
       " 0.11907143378347332 - 0.6197799963445758im   …   1.1284304953104372 - 0.4100385521335672im\n",
       "  0.6650737385518517 - 0.21473941098370014im     -0.7510322295337761 - 0.8847621482153741im\n",
       "\n",
       "[:, :, 2, 1, 3] =\n",
       "  0.1312882508385336 + 0.022319241469555683im  …  -0.552586511675596 + 0.385983435554491im\n",
       " -0.3384010001428747 + 0.5459661655443455im       0.8461553031375232 - 0.08638843120535566im\n",
       "\n",
       "[:, :, 1, 2, 3] =\n",
       " -0.3057341405226323 + 0.19895612130199666im  …   -0.8039035656215812 - 0.6391827095344587im\n",
       " -0.4663430272694743 - 0.37055164872436497im     -0.18347544796309267 + 0.9189743075039166im\n",
       "\n",
       "[:, :, 2, 2, 3] =\n",
       " -0.025995366104618056 + 0.049373227534564246im  …   1.1821363730148522 + 0.03594589676145247im\n",
       "    0.8108157565272318 - 0.31795670264389947im      -0.9332223855392016 - 0.5916331227766942im\n",
       "\n",
       "[:, :, 1, 1, 4] =\n",
       " 0.049256143085943886 - 0.31331181298906385im  …   0.5871278527584297 - 0.060578586243786633im\n",
       "   0.4657607561025762 - 0.10612031100740171im     -0.5153020318027184 - 0.6311333360437347im\n",
       "\n",
       "[:, :, 2, 1, 4] =\n",
       "  0.21542631324246014 - 0.06399140968695026im  …  -0.3250675816811366 + 0.21985537478823686im\n",
       " -0.29695283035732417 + 0.5026456428132433im       0.8764112879043227 - 0.10812533885900232im\n",
       "\n",
       "[:, :, 1, 2, 4] =\n",
       " 1.1102174696516294 - 0.5825393420118589im   …  1.2308256667008377 + 0.6079168782674959im\n",
       " 0.4499247616728409 + 0.41374275389482323im     0.5274569645306839 - 1.4018074554193805im\n",
       "\n",
       "[:, :, 2, 2, 4] =\n",
       "  -0.422670947606154 + 0.44548747085429036im  …   -0.994441926597344 - 0.2442622635567309im\n",
       " -0.6407064008574684 + 0.03662454085843304im     0.41777364662177785 + 1.044344057893707im\n",
       "\n",
       "[:, :, 1, 1, 5] =\n",
       "  0.19077348083023632 + 0.8498868972108923im  …   -0.6023566476401203 + 0.5095434389817555im\n",
       " -0.15540594720471215 - 0.5081172010742526im     -0.10288868061186211 + 1.1699887288776285im\n",
       "\n",
       "[:, :, 2, 1, 5] =\n",
       " -0.010444161182986437 + 0.6296798174067638im  …  -0.5187113285587087 + 0.3750515731580394im\n",
       "   0.21396222030601886 - 0.7760600655519078im     -0.7647714297691942 + 1.101030138840778im\n",
       "\n",
       "[:, :, 1, 2, 5] =\n",
       "   0.6026110515035134 - 1.0905576784258182im  …  1.0923491505940925 + 0.013771108049524042im\n",
       " -0.03820113722576576 + 0.4227685259073949im     0.7444915048145181 - 1.0637901072248523im\n",
       "\n",
       "[:, :, 2, 2, 5] =\n",
       "  0.5247400540600652 - 0.928225188812615im    …   0.994289160997518 - 0.06561189227657728im\n",
       " -0.3610217755561974 + 0.43361246546543486im     1.0558150563679731 - 0.7968933803792564im\n",
       "\n",
       "[:, :, 1, 1, 6] =\n",
       "   0.047607090753935655 + 0.7545728987099763im  …   -0.7320130550023369 + 0.28802843814267576im\n",
       " 0.00035610863294646835 - 0.4270944739310673im     -0.33982599178154105 + 0.8502434615260793im\n",
       "\n",
       "[:, :, 2, 1, 6] =\n",
       " -0.07234205894325782 + 0.3646430685282204im  …  -0.33914847461767383 + 0.20135680376377796im\n",
       "  0.12210825117920271 - 0.4195832256870825im      -0.4916747713337641 + 0.5557333723642596im\n",
       "\n",
       "[:, :, 1, 2, 6] =\n",
       " -0.16970297089075187 + 0.6412534894665356im  …  -0.9435510288183103 + 0.10933213736546978im\n",
       "  0.14545669130367303 - 0.5688275204031233im      -0.750936631910536 + 0.8275551663977759im\n",
       "\n",
       "[:, :, 2, 2, 6] =\n",
       " -0.11690536859728892 + 0.6170796248330691im  …  -1.1515332594099024 - 0.21689696828474656im\n",
       "   0.8562617754925398 - 0.4725770263257492im     -1.4750321950139353 + 0.08612200653174625im\n",
       "\n",
       "[:, :, 1, 1, 7] =\n",
       " 0.021668727827082675 - 0.7045285751657452im   …  0.8240594426817763 - 0.013293975534281322im\n",
       " -0.43200695764110225 + 0.42804316915056545im     0.8510511598006275 - 0.43125672834205825im\n",
       "\n",
       "[:, :, 2, 1, 7] =\n",
       " -0.0004260953897453172 + 0.3733972180531149im  …  -0.6076216795414624 + 0.1539265230408709im\n",
       "     0.2769040850501783 - 0.4542808791338132im     -0.7023409205285276 + 0.4509922492869956im\n",
       "\n",
       "[:, :, 1, 2, 7] =\n",
       " -0.906882719555167 + 0.6115773676269801im    …  -0.6398653119393951 - 0.7595717177717319im\n",
       "  0.314199706850348 - 0.013192419218276743im     -0.8119749524489406 + 0.029577391272222125im\n",
       "\n",
       "[:, :, 2, 2, 7] =\n",
       " 0.47114059017562493 - 0.8848110278409345im   …  1.3053941759442567 + 0.3975791445193333im\n",
       " -0.5133592446337555 + 0.35204044871697315im     1.1751404453509693 - 0.40296420762938545im\n",
       "\n",
       "[:, :, 1, 1, 8] =\n",
       "  0.06740685616186816 - 0.28756128996095354im  …  0.35746880303393547 + 0.09989591277498523im\n",
       " -0.17042317406698934 + 0.13918744542478387im      0.3145983168547118 - 0.09381811998102038im\n",
       "\n",
       "[:, :, 2, 1, 8] =\n",
       " 0.005405004747622436 + 0.19588837724186603im  …  -0.36670222767466426 + 0.06740777768126449im\n",
       "   0.1202172756815267 - 0.21549931089387747im      -0.3151369719839946 + 0.18437168396877096im\n",
       "\n",
       "[:, :, 1, 2, 8] =\n",
       "  0.16902318488143675 - 0.3374251670528905im  …  0.37028311894451016 + 0.39018629062906796im\n",
       " -0.31212896980267835 + 0.0375212883856819im     0.38988186186817814 + 0.15440795193307308im\n",
       "\n",
       "[:, :, 2, 2, 8] =\n",
       " -0.07385218351907116 + 0.26581422710364194im  …  -0.450374575017858 - 0.2842577155676019im\n",
       "   0.3196007658641864 - 0.10126968095592119im     -0.434954069686763 - 0.12735825621173258im\n",
       "], -1.2136046341969537, TrivialTensorMap{ComplexSpace, 2, 3, Matrix{ComplexF64}}[TensorMap((ℂ^2 ⊗ ℂ^2) ← (ℂ^2 ⊗ ℂ^2 ⊗ (ℂ^8)')):\n",
       "[:, :, 1, 1, 1] =\n",
       " -3.866014222976685e-7 + 5.17291139271316e-7im   …   3.062056902689908e-7 + 3.518465388676258e-7im\n",
       " -6.346622835119784e-7 + 2.693361685874747e-7im     -6.711588941743366e-7 + 3.467692012913575e-7im\n",
       "\n",
       "[:, :, 2, 1, 1] =\n",
       " -2.872402671158675e-7 - 4.5200722861299275e-7im  …  -3.2248676167024523e-7 + 2.695060635814018e-7im\n",
       " 2.6018933699739167e-8 - 9.256698559329046e-7im        1.775875730032943e-7 + 7.10879025155279e-8im\n",
       "\n",
       "[:, :, 1, 2, 1] =\n",
       "  4.349750002279408e-7 - 8.977647368189729e-7im   …  1.3167086866210318e-8 - 2.162059217447009e-7im\n",
       " 1.9624391445661357e-7 + 1.1744983972151135e-7im     -3.687262754395024e-7 - 4.044485509552035e-7im\n",
       "\n",
       "[:, :, 2, 2, 1] =\n",
       " 2.9009647941979733e-7 - 3.578221533971905e-7im  …   4.399116057882763e-7 + 2.6349896209892555e-7im\n",
       " 1.0586607114466017e-6 + 8.33855802919241e-8im      -8.915537564341058e-8 - 1.6901341585972026e-7im\n",
       "\n",
       "[:, :, 1, 1, 2] =\n",
       " 2.127227943337287e-7 - 3.4465144582558084e-7im  …   1.779028118490885e-7 + 2.2146063216098657e-7im\n",
       " -4.87029363508594e-7 - 1.887628475160336e-6im      1.8564245746916234e-7 - 4.991339023298817e-7im\n",
       "\n",
       "[:, :, 2, 1, 2] =\n",
       " 2.8831360759055066e-7 - 1.7362147639532306e-7im  …   7.867869385306383e-7 + 3.111212675832536e-7im\n",
       " -5.788650672847834e-7 - 6.470750356835639e-7im      -3.472326060904392e-8 + 8.212555310435586e-7im\n",
       "\n",
       "[:, :, 1, 2, 2] =\n",
       " -3.503014470770927e-7 - 8.105524208814786e-7im  …  7.424775934972133e-7 + 2.809705034076612e-7im\n",
       "  2.559078762718806e-7 + 6.037975320184964e-7im     9.966746656370251e-7 + 6.833057355318436e-7im\n",
       "\n",
       "[:, :, 2, 2, 2] =\n",
       " 3.1832600519416524e-7 + 6.356227507335123e-9im  …  -7.715164533462177e-7 + 1.3300145126988437e-7im\n",
       " 1.0229647109891105e-6 - 6.779536252893008e-7im      8.163152474109609e-7 + 8.166382967738898e-7im\n",
       "\n",
       "[:, :, 1, 1, 3] =\n",
       " -4.0274064446292974e-7 + 3.2215386398959626e-7im  …  -4.922989741210366e-7 + 8.334307090858936e-8im\n",
       "   -6.62256650386628e-7 + 3.55235360906853e-7im       -2.531132033201859e-8 - 9.709726207213885e-8im\n",
       "\n",
       "[:, :, 2, 1, 3] =\n",
       " -3.087196683577643e-7 - 2.648829016335099e-7im  …  -2.4622415873616876e-7 - 1.8718032896013796e-7im\n",
       " 5.2277901677756104e-8 + 5.374606687887778e-8im        6.56135102259688e-8 + 8.719584616299815e-7im\n",
       "\n",
       "[:, :, 1, 2, 3] =\n",
       " -1.3795237466849875e-7 - 6.747906405075787e-7im  …  -4.2177519386963696e-7 + 3.842231543166619e-7im\n",
       "  3.9753459533995414e-8 - 3.3490998672274e-7im        2.0885552117971214e-8 + 8.474592849855905e-7im\n",
       "\n",
       "[:, :, 2, 2, 3] =\n",
       " -4.1920752987073456e-7 - 5.746639473357667e-7im  …   1.087848814611125e-7 - 3.028484871870075e-7im\n",
       "   4.947766731215302e-7 - 9.844734467572414e-7im     -4.605625353612088e-7 - 2.444902186236374e-7im\n",
       "\n",
       "[:, :, 1, 1, 4] =\n",
       " -2.6005074210293863e-8 - 1.6932291962335522e-7im  …  -9.260319370501635e-7 - 6.754177214405249e-8im\n",
       "   9.959075940520515e-7 - 3.998819740595569e-7im       5.270177630712555e-7 + 1.6712729957477238e-7im\n",
       "\n",
       "[:, :, 2, 1, 4] =\n",
       " -4.568073954134956e-7 + 7.863122927497009e-7im  …  4.3843784298071196e-7 - 5.118421883792778e-7im\n",
       " -5.016093265351479e-7 - 7.160723081586353e-7im      -7.46534892321785e-9 + 9.659354771878813e-8im\n",
       "\n",
       "[:, :, 1, 2, 4] =\n",
       " -1.1285151029922142e-8 - 1.3762105874944447e-7im  …  -1.1273295690241629e-6 + 3.291250772516078e-8im\n",
       " -2.8649348433468813e-7 - 5.62821267364534e-7im         4.938181879658841e-7 + 1.5078854115074713e-6im\n",
       "\n",
       "[:, :, 2, 2, 4] =\n",
       "  -8.127590598697105e-7 - 1.3278865417328616e-7im  …  -9.247266097757349e-7 + 1.3662911794733115e-7im\n",
       " -1.2418603986939835e-6 + 3.1454558074306455e-7im     -9.267131339011074e-7 - 2.7107781000871545e-7im\n",
       "\n",
       "[:, :, 1, 1, 5] =\n",
       "  4.0563355021457804e-7 + 3.1434104379254323e-7im  …  1.8581896357246253e-7 - 8.548309623413344e-7im\n",
       " -1.6042576678206386e-7 + 1.1830254354536075e-8im      7.451840354032311e-8 + 2.0621025365804667e-9im\n",
       "\n",
       "[:, :, 2, 1, 5] =\n",
       " -3.729506577403436e-7 + 4.4599515055233894e-7im  …   5.888613447353575e-7 + 2.7375481040019803e-7im\n",
       " -6.622551028286953e-8 - 3.8119195601347406e-7im     -5.190250177857894e-7 - 6.489420735838617e-8im\n",
       "\n",
       "[:, :, 1, 2, 5] =\n",
       " -5.3062976596186624e-8 + 6.733442924867028e-7im  …  -2.264490213538713e-7 - 5.299673870833195e-7im\n",
       " -2.0378911667214772e-7 + 6.644488138257028e-8im     -4.821332941667512e-7 - 1.1120340006178961e-6im\n",
       "\n",
       "[:, :, 2, 2, 5] =\n",
       " -1.4090135477735166e-7 - 1.3773928043170508e-7im  …     8.70679010079635e-7 + 5.6256227805067e-7im\n",
       "  -1.899871995181034e-7 - 2.945170436469678e-7im      -1.2249461791334444e-6 + 4.4151940092319137e-7im\n",
       "\n",
       "[:, :, 1, 1, 6] =\n",
       " -1.737407660641897e-7 + 6.989443688141312e-7im  …  -8.454326998101968e-8 - 7.753021421302591e-7im\n",
       "  -5.23898797449668e-7 + 5.454430224929499e-7im     3.4123870618958463e-7 + 5.933462894678455e-7im\n",
       "\n",
       "[:, :, 2, 1, 6] =\n",
       " 9.806082988351243e-7 + 6.19861478284832e-7im   …  -1.2265991608427298e-7 + 3.433694221053049e-7im\n",
       " 6.138198887009852e-7 + 3.138272775876021e-7im      1.0527323302680066e-6 + 3.624366574112694e-7im\n",
       "\n",
       "[:, :, 1, 2, 6] =\n",
       "  2.834398455349988e-7 + 2.877053104121588e-7im   …  -5.674764007122883e-7 + 8.505001245012764e-7im\n",
       " 3.6029875317846714e-7 - 3.7670798758519767e-8im     2.1871232414691894e-7 + 9.147832976278911e-7im\n",
       "\n",
       "[:, :, 2, 2, 6] =\n",
       " -1.524572729175552e-7 + 1.8387116606925626e-7im  …  1.9438646256459464e-7 - 1.0486226421517764e-6im\n",
       "  7.517518613611952e-7 + 8.316419744628994e-7im      -2.859993058846184e-7 + 1.4014717664762852e-7im\n",
       "\n",
       "[:, :, 1, 1, 7] =\n",
       " -1.4752001282655283e-7 + 6.048275041662166e-7im   …  -7.398103408378578e-8 + 6.428633340478935e-7im\n",
       "   9.000386463458825e-7 + 2.2626594227420775e-7im     1.4845958718847417e-6 - 3.8517125619434584e-7im\n",
       "\n",
       "[:, :, 2, 1, 7] =\n",
       " -1.0452218086522635e-6 - 1.2335105232942617e-6im  …  4.894445951132924e-7 + 4.1599896849947043e-7im\n",
       "  -9.139853815744517e-7 - 3.813794713714326e-7im      3.423340220344451e-7 + 2.9941212937530627e-7im\n",
       "\n",
       "[:, :, 1, 2, 7] =\n",
       "   8.751877104765575e-7 + 7.085602711009593e-7im  …  -2.1369572179800274e-8 - 6.449408483466298e-7im\n",
       " -3.4232598510490187e-7 + 7.409476844413607e-7im      -4.826571178931159e-7 - 7.827780510439246e-7im\n",
       "\n",
       "[:, :, 2, 2, 7] =\n",
       "  -4.113724666271528e-7 + 3.4057149963855153e-7im  …   1.455228982759442e-7 - 7.89009577039557e-7im\n",
       " -4.5076474049142293e-7 - 1.317861449768105e-7im      -6.825136205619512e-7 + 8.667947554230253e-7im\n",
       "\n",
       "[:, :, 1, 1, 8] =\n",
       " -4.776373118829881e-8 + 8.737271464682421e-8im  …  -1.1145836927846144e-7 - 2.1545394958612088e-7im\n",
       "  6.312136572532334e-8 + 5.458920039025357e-8im       1.238034088792463e-6 - 1.2393840683334026e-7im\n",
       "\n",
       "[:, :, 2, 1, 8] =\n",
       "  8.016208308850167e-7 + 4.5297471549709755e-7im  …  -2.8798067187031165e-7 - 9.203258629809659e-7im\n",
       " -5.623166398803038e-7 + 9.590574276110162e-7im       -5.528255043030236e-7 + 4.853102109420841e-7im\n",
       "\n",
       "[:, :, 1, 2, 8] =\n",
       " 4.3138856124526847e-7 - 4.2772663076595584e-7im  …   7.714370847585693e-7 + 4.687378046217246e-8im\n",
       "  1.848098261384668e-7 - 9.853902293124576e-8im      1.0710803629108461e-7 - 8.728556790495097e-7im\n",
       "\n",
       "[:, :, 2, 2, 8] =\n",
       " 3.1110875303802353e-7 - 4.0400376056135684e-7im  …  1.5609295339885956e-7 + 1.4800120364879855e-6im\n",
       " -3.048795644793246e-8 - 1.975204020005174e-9im       6.264833606369038e-7 - 3.5705383312403396e-7im\n",
       "], 49, [0.05834679475447388 0.4347336417150592; -0.5544197605578782 0.2814385651454899; … ; -1.2136046214650078 2.542061317013418e-5; -1.2136046341969537 8.914586679957019e-6])"
      ]
     },
     "metadata": {},
     "output_type": "display_data"
    }
   ],
   "source": [
    "x, e, gr, numfg, info = optimize(x -> energy_and_gradient(x, χ, Pattern_arr, keywords; adjust_χ = false), loc_in, LBFGS(15; optimparas1... ); kwargs... )"
   ]
  },
  {
   "cell_type": "code",
   "execution_count": 11,
   "metadata": {},
   "outputs": [
    {
     "name": "stderr",
     "output_type": "stream",
     "text": [
      "WARNING: using Plots.gr in module Main conflicts with an existing identifier.\n"
     ]
    }
   ],
   "source": [
    "using Plots"
   ]
  },
  {
   "cell_type": "code",
   "execution_count": 12,
   "metadata": {},
   "outputs": [
    {
     "name": "stdout",
     "output_type": "stream",
     "text": []
    }
   ],
   "source": [
    "pval = plot(1:1:101, info[:,1], color = :blue, legend = false, ylabel = \"⟨E⟩\", xlabel = \"iterations\");\n",
    "\n",
    "pgrad = plot(1:1:101, log10.(info[:,2]), color = :red, ylabel = \" ‖∇E‖\", legend = false)\n"
   ]
  },
  {
   "cell_type": "code",
   "execution_count": 15,
   "metadata": {},
   "outputs": [
    {
     "name": "stdout",
     "output_type": "stream",
     "text": []
    }
   ],
   "source": [
    "pval"
   ]
  },
  {
   "cell_type": "code",
   "execution_count": 14,
   "metadata": {},
   "outputs": [
    {
     "name": "stdout",
     "output_type": "stream",
     "text": []
    }
   ],
   "source": [
    "pgrad"
   ]
  },
  {
   "cell_type": "code",
   "execution_count": null,
   "metadata": {},
   "outputs": [],
   "source": []
  }
 ],
 "metadata": {
  "kernelspec": {
   "display_name": "Julia 1.10.2",
   "language": "julia",
   "name": "julia-1.10"
  },
  "language_info": {
   "file_extension": ".jl",
   "mimetype": "application/julia",
   "name": "julia",
   "version": "1.10.2"
  }
 },
 "nbformat": 4,
 "nbformat_minor": 4
}
